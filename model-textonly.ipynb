{
 "cells": [
  {
   "cell_type": "markdown",
   "id": "8ac4c873-60d2-4cd6-8f5b-a614afe64e96",
   "metadata": {},
   "source": [
    "# Modeling"
   ]
  },
  {
   "cell_type": "code",
   "execution_count": 1,
   "id": "398c4789-5a28-4d63-8e30-0d0db7e5d626",
   "metadata": {},
   "outputs": [],
   "source": [
    "import pandas as pd\n",
    "import numpy as np\n",
    "import json\n",
    "\n",
    "from sklearn.feature_extraction.text import TfidfVectorizer\n",
    "from sklearn.model_selection import train_test_split\n",
    "from sklearn.linear_model import LogisticRegression\n",
    "from sklearn.neighbors import KNeighborsClassifier\n",
    "from sklearn.ensemble import RandomForestClassifier\n",
    "from xgboost import XGBClassifier\n",
    "from sklearn.metrics import accuracy_score\n",
    "from sklearn.preprocessing import LabelEncoder\n",
    "from scipy.sparse import hstack\n",
    "\n",
    "\n",
    "\n",
    "\n",
    "from sklearn.metrics import classification_report as class_rep\n",
    "from prepare import clean, lemmatize"
   ]
  },
  {
   "cell_type": "code",
   "execution_count": 2,
   "id": "d288b266-ec1e-4889-8a4b-eb5eacbea584",
   "metadata": {},
   "outputs": [],
   "source": [
    "# reading in file to generate dataframe"
   ]
  },
  {
   "cell_type": "code",
   "execution_count": 3,
   "id": "60dfc201-d5bf-423b-a247-d4cd2908fb81",
   "metadata": {},
   "outputs": [
    {
     "data": {
      "text/html": [
       "<div>\n",
       "<style scoped>\n",
       "    .dataframe tbody tr th:only-of-type {\n",
       "        vertical-align: middle;\n",
       "    }\n",
       "\n",
       "    .dataframe tbody tr th {\n",
       "        vertical-align: top;\n",
       "    }\n",
       "\n",
       "    .dataframe thead th {\n",
       "        text-align: right;\n",
       "    }\n",
       "</style>\n",
       "<table border=\"1\" class=\"dataframe\">\n",
       "  <thead>\n",
       "    <tr style=\"text-align: right;\">\n",
       "      <th></th>\n",
       "      <th>language</th>\n",
       "      <th>text</th>\n",
       "      <th>bigrams</th>\n",
       "      <th>trigrams</th>\n",
       "    </tr>\n",
       "  </thead>\n",
       "  <tbody>\n",
       "    <tr>\n",
       "      <th>0</th>\n",
       "      <td>Python</td>\n",
       "      <td>pythonrobotics githubactionlinuxci githubactio...</td>\n",
       "      <td>path_planning grid_based path_tracking steerin...</td>\n",
       "      <td>pythonroboticsfigure1png_master_atsushisakaipy...</td>\n",
       "    </tr>\n",
       "    <tr>\n",
       "      <th>2</th>\n",
       "      <td>Python</td>\n",
       "      <td>modern robotics mechanic planning control code...</td>\n",
       "      <td>modern_robotics robotics_mechanic mechanic_pla...</td>\n",
       "      <td>modern_robotics_mechanic robotics_mechanic_pla...</td>\n",
       "    </tr>\n",
       "    <tr>\n",
       "      <th>4</th>\n",
       "      <td>C++</td>\n",
       "      <td>cpprobotics cpp implementation pythonrobotics ...</td>\n",
       "      <td>red_circle black_line steering_control point_r...</td>\n",
       "      <td>speed_steering_control black_line_planned line...</td>\n",
       "    </tr>\n",
       "    <tr>\n",
       "      <th>5</th>\n",
       "      <td>Other</td>\n",
       "      <td>roboticsacademy learn robotics artificial inte...</td>\n",
       "      <td>learn_robotics mini_radi roboticsacademy_learn...</td>\n",
       "      <td>roboticsacademy_learn_robotics learn_robotics_...</td>\n",
       "    </tr>\n",
       "    <tr>\n",
       "      <th>6</th>\n",
       "      <td>C++</td>\n",
       "      <td>probabilisticrobotics working detailed solutio...</td>\n",
       "      <td>probabilistic_robotics victoria_park park_data...</td>\n",
       "      <td>victoria_park_dataset probabilisticrobotics_wo...</td>\n",
       "    </tr>\n",
       "    <tr>\n",
       "      <th>...</th>\n",
       "      <td>...</td>\n",
       "      <td>...</td>\n",
       "      <td>...</td>\n",
       "      <td>...</td>\n",
       "    </tr>\n",
       "    <tr>\n",
       "      <th>665</th>\n",
       "      <td>Other</td>\n",
       "      <td>foc english solidworks matlab simulink simscap...</td>\n",
       "      <td>2000_2000 solidworks_matlab 15000_2000 foc_eng...</td>\n",
       "      <td>15000_2000_2000 foc_english_solidworks english...</td>\n",
       "    </tr>\n",
       "    <tr>\n",
       "      <th>667</th>\n",
       "      <td>Other</td>\n",
       "      <td>bonsai rust implementation behavior tree build...</td>\n",
       "      <td>behavior_tree mut_bt bonsaibtsuccess_dt dt_els...</td>\n",
       "      <td>bonsaibtsuccess_dt_else b_run_b run_b_parallel...</td>\n",
       "    </tr>\n",
       "    <tr>\n",
       "      <th>669</th>\n",
       "      <td>Python</td>\n",
       "      <td>easytouse instruction generation framework lar...</td>\n",
       "      <td>easyinstruct_import example_python python_easy...</td>\n",
       "      <td>example_python_easyinstruct python_easyinstruc...</td>\n",
       "    </tr>\n",
       "    <tr>\n",
       "      <th>670</th>\n",
       "      <td>Other</td>\n",
       "      <td>compose actor dancer roadmap v030 x let user s...</td>\n",
       "      <td>x_add detail_screen tmdb_api ui_state screen_x...</td>\n",
       "      <td>ha_viewmodel_manage viewmodel_manage_ui manage...</td>\n",
       "    </tr>\n",
       "    <tr>\n",
       "      <th>674</th>\n",
       "      <td>Python</td>\n",
       "      <td>pkg update pkg upgrade pkg install bash pkg in...</td>\n",
       "      <td>pkg_install onex_chmod chmod_x pkg_update upda...</td>\n",
       "      <td>onex_chmod_x pkg_update_pkg update_pkg_upgrade...</td>\n",
       "    </tr>\n",
       "  </tbody>\n",
       "</table>\n",
       "<p>541 rows × 4 columns</p>\n",
       "</div>"
      ],
      "text/plain": [
       "    language                                               text  \\\n",
       "0     Python  pythonrobotics githubactionlinuxci githubactio...   \n",
       "2     Python  modern robotics mechanic planning control code...   \n",
       "4        C++  cpprobotics cpp implementation pythonrobotics ...   \n",
       "5      Other  roboticsacademy learn robotics artificial inte...   \n",
       "6        C++  probabilisticrobotics working detailed solutio...   \n",
       "..       ...                                                ...   \n",
       "665    Other  foc english solidworks matlab simulink simscap...   \n",
       "667    Other  bonsai rust implementation behavior tree build...   \n",
       "669   Python  easytouse instruction generation framework lar...   \n",
       "670    Other  compose actor dancer roadmap v030 x let user s...   \n",
       "674   Python  pkg update pkg upgrade pkg install bash pkg in...   \n",
       "\n",
       "                                               bigrams  \\\n",
       "0    path_planning grid_based path_tracking steerin...   \n",
       "2    modern_robotics robotics_mechanic mechanic_pla...   \n",
       "4    red_circle black_line steering_control point_r...   \n",
       "5    learn_robotics mini_radi roboticsacademy_learn...   \n",
       "6    probabilistic_robotics victoria_park park_data...   \n",
       "..                                                 ...   \n",
       "665  2000_2000 solidworks_matlab 15000_2000 foc_eng...   \n",
       "667  behavior_tree mut_bt bonsaibtsuccess_dt dt_els...   \n",
       "669  easyinstruct_import example_python python_easy...   \n",
       "670  x_add detail_screen tmdb_api ui_state screen_x...   \n",
       "674  pkg_install onex_chmod chmod_x pkg_update upda...   \n",
       "\n",
       "                                              trigrams  \n",
       "0    pythonroboticsfigure1png_master_atsushisakaipy...  \n",
       "2    modern_robotics_mechanic robotics_mechanic_pla...  \n",
       "4    speed_steering_control black_line_planned line...  \n",
       "5    roboticsacademy_learn_robotics learn_robotics_...  \n",
       "6    victoria_park_dataset probabilisticrobotics_wo...  \n",
       "..                                                 ...  \n",
       "665  15000_2000_2000 foc_english_solidworks english...  \n",
       "667  bonsaibtsuccess_dt_else b_run_b run_b_parallel...  \n",
       "669  example_python_easyinstruct python_easyinstruc...  \n",
       "670  ha_viewmodel_manage viewmodel_manage_ui manage...  \n",
       "674  onex_chmod_x pkg_update_pkg update_pkg_upgrade...  \n",
       "\n",
       "[541 rows x 4 columns]"
      ]
     },
     "execution_count": 3,
     "metadata": {},
     "output_type": "execute_result"
    }
   ],
   "source": [
    "repos_df = pd.read_csv('processed_repos.csv', index_col=0)\n",
    "repos_df.drop(columns=('repo'))"
   ]
  },
  {
   "cell_type": "code",
   "execution_count": 4,
   "id": "dc52fae6-23f7-4e0e-bf0e-8570c188d89c",
   "metadata": {},
   "outputs": [
    {
     "name": "stdout",
     "output_type": "stream",
     "text": [
      "<class 'pandas.core.frame.DataFrame'>\n",
      "Index: 541 entries, 0 to 674\n",
      "Data columns (total 2 columns):\n",
      " #   Column    Non-Null Count  Dtype \n",
      "---  ------    --------------  ----- \n",
      " 0   language  541 non-null    object\n",
      " 1   text      541 non-null    object\n",
      "dtypes: object(2)\n",
      "memory usage: 12.7+ KB\n"
     ]
    }
   ],
   "source": [
    "repos_df = pd.DataFrame(repos_df)\n",
    "repos_df = repos_df.drop(columns=['repo', 'bigrams', 'trigrams'])\n",
    "repos_df = repos_df.dropna()\n",
    "repos_df.info()"
   ]
  },
  {
   "cell_type": "code",
   "execution_count": 5,
   "id": "8456e0eb-ba6d-4522-a826-716dd48c070d",
   "metadata": {},
   "outputs": [
    {
     "data": {
      "text/html": [
       "<div>\n",
       "<style scoped>\n",
       "    .dataframe tbody tr th:only-of-type {\n",
       "        vertical-align: middle;\n",
       "    }\n",
       "\n",
       "    .dataframe tbody tr th {\n",
       "        vertical-align: top;\n",
       "    }\n",
       "\n",
       "    .dataframe thead th {\n",
       "        text-align: right;\n",
       "    }\n",
       "</style>\n",
       "<table border=\"1\" class=\"dataframe\">\n",
       "  <thead>\n",
       "    <tr style=\"text-align: right;\">\n",
       "      <th></th>\n",
       "      <th>language</th>\n",
       "      <th>text</th>\n",
       "    </tr>\n",
       "  </thead>\n",
       "  <tbody>\n",
       "    <tr>\n",
       "      <th>0</th>\n",
       "      <td>Python</td>\n",
       "      <td>pythonrobotics githubactionlinuxci githubactio...</td>\n",
       "    </tr>\n",
       "    <tr>\n",
       "      <th>2</th>\n",
       "      <td>Python</td>\n",
       "      <td>modern robotics mechanic planning control code...</td>\n",
       "    </tr>\n",
       "    <tr>\n",
       "      <th>4</th>\n",
       "      <td>C++</td>\n",
       "      <td>cpprobotics cpp implementation pythonrobotics ...</td>\n",
       "    </tr>\n",
       "    <tr>\n",
       "      <th>5</th>\n",
       "      <td>Other</td>\n",
       "      <td>roboticsacademy learn robotics artificial inte...</td>\n",
       "    </tr>\n",
       "    <tr>\n",
       "      <th>6</th>\n",
       "      <td>C++</td>\n",
       "      <td>probabilisticrobotics working detailed solutio...</td>\n",
       "    </tr>\n",
       "    <tr>\n",
       "      <th>...</th>\n",
       "      <td>...</td>\n",
       "      <td>...</td>\n",
       "    </tr>\n",
       "    <tr>\n",
       "      <th>665</th>\n",
       "      <td>Other</td>\n",
       "      <td>foc english solidworks matlab simulink simscap...</td>\n",
       "    </tr>\n",
       "    <tr>\n",
       "      <th>667</th>\n",
       "      <td>Other</td>\n",
       "      <td>bonsai rust implementation behavior tree build...</td>\n",
       "    </tr>\n",
       "    <tr>\n",
       "      <th>669</th>\n",
       "      <td>Python</td>\n",
       "      <td>easytouse instruction generation framework lar...</td>\n",
       "    </tr>\n",
       "    <tr>\n",
       "      <th>670</th>\n",
       "      <td>Other</td>\n",
       "      <td>compose actor dancer roadmap v030 x let user s...</td>\n",
       "    </tr>\n",
       "    <tr>\n",
       "      <th>674</th>\n",
       "      <td>Python</td>\n",
       "      <td>pkg update pkg upgrade pkg install bash pkg in...</td>\n",
       "    </tr>\n",
       "  </tbody>\n",
       "</table>\n",
       "<p>541 rows × 2 columns</p>\n",
       "</div>"
      ],
      "text/plain": [
       "    language                                               text\n",
       "0     Python  pythonrobotics githubactionlinuxci githubactio...\n",
       "2     Python  modern robotics mechanic planning control code...\n",
       "4        C++  cpprobotics cpp implementation pythonrobotics ...\n",
       "5      Other  roboticsacademy learn robotics artificial inte...\n",
       "6        C++  probabilisticrobotics working detailed solutio...\n",
       "..       ...                                                ...\n",
       "665    Other  foc english solidworks matlab simulink simscap...\n",
       "667    Other  bonsai rust implementation behavior tree build...\n",
       "669   Python  easytouse instruction generation framework lar...\n",
       "670    Other  compose actor dancer roadmap v030 x let user s...\n",
       "674   Python  pkg update pkg upgrade pkg install bash pkg in...\n",
       "\n",
       "[541 rows x 2 columns]"
      ]
     },
     "execution_count": 5,
     "metadata": {},
     "output_type": "execute_result"
    }
   ],
   "source": [
    "repos_df"
   ]
  },
  {
   "cell_type": "code",
   "execution_count": 6,
   "id": "6f1b023c-55a4-4058-94cf-7bec9a6017c2",
   "metadata": {},
   "outputs": [
    {
     "data": {
      "text/plain": [
       "<10x28955 sparse matrix of type '<class 'numpy.float64'>'\n",
       "\twith 2121 stored elements in Compressed Sparse Row format>"
      ]
     },
     "execution_count": 6,
     "metadata": {},
     "output_type": "execute_result"
    }
   ],
   "source": [
    "from sklearn.model_selection import train_test_split\n",
    "\n",
    "X = repos_df.text\n",
    "y = repos_df.language\n",
    "\n",
    "# Split the data into training, validation, and test sets\n",
    "X_train, X_temp, y_train, y_temp = train_test_split(X, y, train_size=0.7, random_state=42)\n",
    "X_val, X_test, y_val, y_test = train_test_split(X_temp, y_temp, test_size=0.5, random_state=42)\n",
    "\n",
    "tfidf = TfidfVectorizer()\n",
    "X_train_tfidf = tfidf.fit_transform(X_train)\n",
    "X_val_tfidf = tfidf.transform(X_val)\n",
    "X_test_tfidf = tfidf.transform(X_test)\n",
    "X_train_tfidf[:10]"
   ]
  },
  {
   "cell_type": "code",
   "execution_count": 7,
   "id": "c5f36f63-ecab-4fe4-b3be-e910bb66cde8",
   "metadata": {},
   "outputs": [
    {
     "name": "stdout",
     "output_type": "stream",
     "text": [
      "baseline: 38.89.\n"
     ]
    }
   ],
   "source": [
    "train_baseline_acc = y_train.value_counts().max() / y_train.shape[0] * 100\n",
    "\n",
    "print(f'baseline: {round(train_baseline_acc, 2)}.')"
   ]
  },
  {
   "cell_type": "code",
   "execution_count": 8,
   "id": "be9ab281-ff04-4671-8001-d5cb79e59e72",
   "metadata": {},
   "outputs": [
    {
     "name": "stdout",
     "output_type": "stream",
     "text": [
      "baseline: 37.04.\n"
     ]
    }
   ],
   "source": [
    "val_baseline_acc = y_val.value_counts().max() / y_val.shape[0] * 100\n",
    "\n",
    "print(f'baseline: {round(val_baseline_acc, 2)}.')"
   ]
  },
  {
   "cell_type": "code",
   "execution_count": 9,
   "id": "88070afb-1b97-4215-bd67-171163e3804d",
   "metadata": {},
   "outputs": [],
   "source": [
    "# pd.DataFrame(X_train_tfidf.todense(), columns=tfidf.get_feature_names_out())"
   ]
  },
  {
   "cell_type": "markdown",
   "id": "d8968420-e235-47e7-91a4-7a2efa038193",
   "metadata": {},
   "source": [
    "  "
   ]
  },
  {
   "cell_type": "markdown",
   "id": "f113dd80-66ce-4406-8c57-c7658107e5b0",
   "metadata": {},
   "source": [
    "  "
   ]
  },
  {
   "cell_type": "markdown",
   "id": "3b4997d0-af3e-443d-aa4a-fb253c238136",
   "metadata": {},
   "source": [
    "  "
   ]
  },
  {
   "cell_type": "markdown",
   "id": "ee6ce174-43ac-464a-a937-35e9cd29c7d1",
   "metadata": {},
   "source": [
    "  "
   ]
  },
  {
   "cell_type": "markdown",
   "id": "0e529719-cd42-4913-bdf9-94d1e183514a",
   "metadata": {},
   "source": [
    "  "
   ]
  },
  {
   "cell_type": "markdown",
   "id": "e7d42e3b-c337-4803-82cf-ee6c57b891b4",
   "metadata": {},
   "source": [
    "  "
   ]
  },
  {
   "cell_type": "markdown",
   "id": "08a1b170-8773-4ed2-9289-af1ee72e6f13",
   "metadata": {},
   "source": [
    "# Logistic regression model"
   ]
  },
  {
   "cell_type": "code",
   "execution_count": 10,
   "id": "474fe11c-3535-47c1-9abd-2b3ba4256d40",
   "metadata": {},
   "outputs": [
    {
     "data": {
      "text/html": [
       "<style>#sk-container-id-1 {color: black;}#sk-container-id-1 pre{padding: 0;}#sk-container-id-1 div.sk-toggleable {background-color: white;}#sk-container-id-1 label.sk-toggleable__label {cursor: pointer;display: block;width: 100%;margin-bottom: 0;padding: 0.3em;box-sizing: border-box;text-align: center;}#sk-container-id-1 label.sk-toggleable__label-arrow:before {content: \"▸\";float: left;margin-right: 0.25em;color: #696969;}#sk-container-id-1 label.sk-toggleable__label-arrow:hover:before {color: black;}#sk-container-id-1 div.sk-estimator:hover label.sk-toggleable__label-arrow:before {color: black;}#sk-container-id-1 div.sk-toggleable__content {max-height: 0;max-width: 0;overflow: hidden;text-align: left;background-color: #f0f8ff;}#sk-container-id-1 div.sk-toggleable__content pre {margin: 0.2em;color: black;border-radius: 0.25em;background-color: #f0f8ff;}#sk-container-id-1 input.sk-toggleable__control:checked~div.sk-toggleable__content {max-height: 200px;max-width: 100%;overflow: auto;}#sk-container-id-1 input.sk-toggleable__control:checked~label.sk-toggleable__label-arrow:before {content: \"▾\";}#sk-container-id-1 div.sk-estimator input.sk-toggleable__control:checked~label.sk-toggleable__label {background-color: #d4ebff;}#sk-container-id-1 div.sk-label input.sk-toggleable__control:checked~label.sk-toggleable__label {background-color: #d4ebff;}#sk-container-id-1 input.sk-hidden--visually {border: 0;clip: rect(1px 1px 1px 1px);clip: rect(1px, 1px, 1px, 1px);height: 1px;margin: -1px;overflow: hidden;padding: 0;position: absolute;width: 1px;}#sk-container-id-1 div.sk-estimator {font-family: monospace;background-color: #f0f8ff;border: 1px dotted black;border-radius: 0.25em;box-sizing: border-box;margin-bottom: 0.5em;}#sk-container-id-1 div.sk-estimator:hover {background-color: #d4ebff;}#sk-container-id-1 div.sk-parallel-item::after {content: \"\";width: 100%;border-bottom: 1px solid gray;flex-grow: 1;}#sk-container-id-1 div.sk-label:hover label.sk-toggleable__label {background-color: #d4ebff;}#sk-container-id-1 div.sk-serial::before {content: \"\";position: absolute;border-left: 1px solid gray;box-sizing: border-box;top: 0;bottom: 0;left: 50%;z-index: 0;}#sk-container-id-1 div.sk-serial {display: flex;flex-direction: column;align-items: center;background-color: white;padding-right: 0.2em;padding-left: 0.2em;position: relative;}#sk-container-id-1 div.sk-item {position: relative;z-index: 1;}#sk-container-id-1 div.sk-parallel {display: flex;align-items: stretch;justify-content: center;background-color: white;position: relative;}#sk-container-id-1 div.sk-item::before, #sk-container-id-1 div.sk-parallel-item::before {content: \"\";position: absolute;border-left: 1px solid gray;box-sizing: border-box;top: 0;bottom: 0;left: 50%;z-index: -1;}#sk-container-id-1 div.sk-parallel-item {display: flex;flex-direction: column;z-index: 1;position: relative;background-color: white;}#sk-container-id-1 div.sk-parallel-item:first-child::after {align-self: flex-end;width: 50%;}#sk-container-id-1 div.sk-parallel-item:last-child::after {align-self: flex-start;width: 50%;}#sk-container-id-1 div.sk-parallel-item:only-child::after {width: 0;}#sk-container-id-1 div.sk-dashed-wrapped {border: 1px dashed gray;margin: 0 0.4em 0.5em 0.4em;box-sizing: border-box;padding-bottom: 0.4em;background-color: white;}#sk-container-id-1 div.sk-label label {font-family: monospace;font-weight: bold;display: inline-block;line-height: 1.2em;}#sk-container-id-1 div.sk-label-container {text-align: center;}#sk-container-id-1 div.sk-container {/* jupyter's `normalize.less` sets `[hidden] { display: none; }` but bootstrap.min.css set `[hidden] { display: none !important; }` so we also need the `!important` here to be able to override the default hidden behavior on the sphinx rendered scikit-learn.org. See: https://github.com/scikit-learn/scikit-learn/issues/21755 */display: inline-block !important;position: relative;}#sk-container-id-1 div.sk-text-repr-fallback {display: none;}</style><div id=\"sk-container-id-1\" class=\"sk-top-container\"><div class=\"sk-text-repr-fallback\"><pre>LogisticRegression(class_weight=&#x27;balanced&#x27;, fit_intercept=False,\n",
       "                   random_state=42, solver=&#x27;liblinear&#x27;)</pre><b>In a Jupyter environment, please rerun this cell to show the HTML representation or trust the notebook. <br />On GitHub, the HTML representation is unable to render, please try loading this page with nbviewer.org.</b></div><div class=\"sk-container\" hidden><div class=\"sk-item\"><div class=\"sk-estimator sk-toggleable\"><input class=\"sk-toggleable__control sk-hidden--visually\" id=\"sk-estimator-id-1\" type=\"checkbox\" checked><label for=\"sk-estimator-id-1\" class=\"sk-toggleable__label sk-toggleable__label-arrow\">LogisticRegression</label><div class=\"sk-toggleable__content\"><pre>LogisticRegression(class_weight=&#x27;balanced&#x27;, fit_intercept=False,\n",
       "                   random_state=42, solver=&#x27;liblinear&#x27;)</pre></div></div></div></div></div>"
      ],
      "text/plain": [
       "LogisticRegression(class_weight='balanced', fit_intercept=False,\n",
       "                   random_state=42, solver='liblinear')"
      ]
     },
     "execution_count": 10,
     "metadata": {},
     "output_type": "execute_result"
    }
   ],
   "source": [
    "lm = LogisticRegression(\n",
    "    penalty='l2',  # L2 regularization (Ridge)\n",
    "    C=1.0,  # Inverse of regularization strength\n",
    "    fit_intercept=False,  # Include an intercept\n",
    "    class_weight='balanced',  # You can set class weights if needed\n",
    "    solver='liblinear',  # Choose a solver appropriate for your data\n",
    "    max_iter=100,  # You may need to increase this if the model doesn't converge\n",
    "    random_state=42  # For reproducibility\n",
    ")\n",
    "\n",
    "lm.fit(X_train_tfidf, y_train)"
   ]
  },
  {
   "cell_type": "code",
   "execution_count": 11,
   "id": "bb92ad6f-beaa-473f-a1ea-bbf85220787d",
   "metadata": {},
   "outputs": [
    {
     "data": {
      "text/html": [
       "<div>\n",
       "<style scoped>\n",
       "    .dataframe tbody tr th:only-of-type {\n",
       "        vertical-align: middle;\n",
       "    }\n",
       "\n",
       "    .dataframe tbody tr th {\n",
       "        vertical-align: top;\n",
       "    }\n",
       "\n",
       "    .dataframe thead th {\n",
       "        text-align: right;\n",
       "    }\n",
       "</style>\n",
       "<table border=\"1\" class=\"dataframe\">\n",
       "  <thead>\n",
       "    <tr style=\"text-align: right;\">\n",
       "      <th></th>\n",
       "      <th>actual</th>\n",
       "      <th>preds</th>\n",
       "    </tr>\n",
       "  </thead>\n",
       "  <tbody>\n",
       "    <tr>\n",
       "      <th>537</th>\n",
       "      <td>Other</td>\n",
       "      <td>Other</td>\n",
       "    </tr>\n",
       "    <tr>\n",
       "      <th>466</th>\n",
       "      <td>C++</td>\n",
       "      <td>C++</td>\n",
       "    </tr>\n",
       "    <tr>\n",
       "      <th>79</th>\n",
       "      <td>Python</td>\n",
       "      <td>Python</td>\n",
       "    </tr>\n",
       "    <tr>\n",
       "      <th>426</th>\n",
       "      <td>Python</td>\n",
       "      <td>Python</td>\n",
       "    </tr>\n",
       "    <tr>\n",
       "      <th>36</th>\n",
       "      <td>C++</td>\n",
       "      <td>C++</td>\n",
       "    </tr>\n",
       "  </tbody>\n",
       "</table>\n",
       "</div>"
      ],
      "text/plain": [
       "     actual   preds\n",
       "537   Other   Other\n",
       "466     C++     C++\n",
       "79   Python  Python\n",
       "426  Python  Python\n",
       "36      C++     C++"
      ]
     },
     "execution_count": 11,
     "metadata": {},
     "output_type": "execute_result"
    }
   ],
   "source": [
    "y_train_res = pd.DataFrame({'actual': y_train,\n",
    "                            'preds': lm.predict(X_train_tfidf)})\n",
    "y_train_res.head()"
   ]
  },
  {
   "cell_type": "code",
   "execution_count": 12,
   "id": "fafd874e-4c30-49d7-b19a-acee272a5184",
   "metadata": {},
   "outputs": [
    {
     "name": "stdout",
     "output_type": "stream",
     "text": [
      "              precision    recall  f1-score   support\n",
      "\n",
      "         C++       0.97      0.98      0.97       147\n",
      "       Other       0.99      0.95      0.97        91\n",
      "      Python       0.96      0.98      0.97       140\n",
      "\n",
      "    accuracy                           0.97       378\n",
      "   macro avg       0.97      0.97      0.97       378\n",
      "weighted avg       0.97      0.97      0.97       378\n",
      "\n"
     ]
    }
   ],
   "source": [
    "print(class_rep(y_train_res.actual, y_train_res.preds))"
   ]
  },
  {
   "cell_type": "code",
   "execution_count": 13,
   "id": "aa61d869-212f-41e1-b53e-21f702c939aa",
   "metadata": {},
   "outputs": [
    {
     "name": "stdout",
     "output_type": "stream",
     "text": [
      "Train Accuracy: 0.97\n"
     ]
    }
   ],
   "source": [
    "train_accuracy = accuracy_score(y_train_res['actual'], y_train_res['preds'])\n",
    "print(f'Train Accuracy: {train_accuracy:.2f}')"
   ]
  },
  {
   "cell_type": "markdown",
   "id": "47e20d3c-cfdf-4ba1-9d50-a2f9dd055bf2",
   "metadata": {},
   "source": [
    "# Logistic Regression Validate"
   ]
  },
  {
   "cell_type": "code",
   "execution_count": 14,
   "id": "3a667cc5-f877-4633-9f1c-7da0243d768d",
   "metadata": {},
   "outputs": [
    {
     "data": {
      "text/html": [
       "<div>\n",
       "<style scoped>\n",
       "    .dataframe tbody tr th:only-of-type {\n",
       "        vertical-align: middle;\n",
       "    }\n",
       "\n",
       "    .dataframe tbody tr th {\n",
       "        vertical-align: top;\n",
       "    }\n",
       "\n",
       "    .dataframe thead th {\n",
       "        text-align: right;\n",
       "    }\n",
       "</style>\n",
       "<table border=\"1\" class=\"dataframe\">\n",
       "  <thead>\n",
       "    <tr style=\"text-align: right;\">\n",
       "      <th></th>\n",
       "      <th>actual</th>\n",
       "      <th>preds</th>\n",
       "    </tr>\n",
       "  </thead>\n",
       "  <tbody>\n",
       "    <tr>\n",
       "      <th>110</th>\n",
       "      <td>Other</td>\n",
       "      <td>C++</td>\n",
       "    </tr>\n",
       "    <tr>\n",
       "      <th>341</th>\n",
       "      <td>C++</td>\n",
       "      <td>C++</td>\n",
       "    </tr>\n",
       "    <tr>\n",
       "      <th>120</th>\n",
       "      <td>Python</td>\n",
       "      <td>Python</td>\n",
       "    </tr>\n",
       "    <tr>\n",
       "      <th>236</th>\n",
       "      <td>C++</td>\n",
       "      <td>C++</td>\n",
       "    </tr>\n",
       "    <tr>\n",
       "      <th>351</th>\n",
       "      <td>Other</td>\n",
       "      <td>Other</td>\n",
       "    </tr>\n",
       "  </tbody>\n",
       "</table>\n",
       "</div>"
      ],
      "text/plain": [
       "     actual   preds\n",
       "110   Other     C++\n",
       "341     C++     C++\n",
       "120  Python  Python\n",
       "236     C++     C++\n",
       "351   Other   Other"
      ]
     },
     "execution_count": 14,
     "metadata": {},
     "output_type": "execute_result"
    }
   ],
   "source": [
    "y_val_res = pd.DataFrame({'actual': y_val,\n",
    "                           'preds': lm.predict(X_val_tfidf)})\n",
    "y_val_res.head()"
   ]
  },
  {
   "cell_type": "code",
   "execution_count": 15,
   "id": "8b098ee4-ab15-4e3a-9dd8-7883c510667c",
   "metadata": {},
   "outputs": [
    {
     "name": "stdout",
     "output_type": "stream",
     "text": [
      "              precision    recall  f1-score   support\n",
      "\n",
      "         C++       0.72      0.87      0.79        30\n",
      "       Other       0.80      0.67      0.73        24\n",
      "      Python       0.84      0.78      0.81        27\n",
      "\n",
      "    accuracy                           0.78        81\n",
      "   macro avg       0.79      0.77      0.77        81\n",
      "weighted avg       0.78      0.78      0.78        81\n",
      "\n"
     ]
    }
   ],
   "source": [
    "print(class_rep(y_val_res.actual, y_val_res.preds))"
   ]
  },
  {
   "cell_type": "code",
   "execution_count": 16,
   "id": "86a18dda-1833-4905-8696-9b8ffc2b48fc",
   "metadata": {},
   "outputs": [
    {
     "name": "stdout",
     "output_type": "stream",
     "text": [
      "Validation Accuracy: 0.78\n"
     ]
    }
   ],
   "source": [
    "val_accuracy = accuracy_score(y_val_res['actual'], y_val_res['preds'])\n",
    "print(f'Validation Accuracy: {val_accuracy:.2f}')"
   ]
  },
  {
   "cell_type": "markdown",
   "id": "5653692d-2932-415d-aeed-5653561d51b7",
   "metadata": {},
   "source": [
    "  "
   ]
  },
  {
   "cell_type": "markdown",
   "id": "fe0e7236-82dd-45e9-b4a0-43922706cbe6",
   "metadata": {},
   "source": [
    "  "
   ]
  },
  {
   "cell_type": "markdown",
   "id": "b8d85cef-e663-4f51-a754-2e416a6656ce",
   "metadata": {},
   "source": [
    "  "
   ]
  },
  {
   "cell_type": "markdown",
   "id": "0505eb53-df5f-4051-8220-78bd7d606626",
   "metadata": {},
   "source": [
    "  "
   ]
  },
  {
   "cell_type": "markdown",
   "id": "f524af9b-eb57-43b0-9769-e5b575688e77",
   "metadata": {},
   "source": [
    "  "
   ]
  },
  {
   "cell_type": "markdown",
   "id": "ac120a70-6ddd-4831-821d-acc280edce6c",
   "metadata": {},
   "source": [
    "  "
   ]
  },
  {
   "cell_type": "markdown",
   "id": "8d9b1adc-88c1-43a1-8b10-92154a736b7b",
   "metadata": {},
   "source": [
    "# KNN Classifier Model"
   ]
  },
  {
   "cell_type": "code",
   "execution_count": 17,
   "id": "116e9aad-37ee-43bd-885e-0ef6ac9ffef7",
   "metadata": {},
   "outputs": [
    {
     "data": {
      "text/html": [
       "<style>#sk-container-id-2 {color: black;}#sk-container-id-2 pre{padding: 0;}#sk-container-id-2 div.sk-toggleable {background-color: white;}#sk-container-id-2 label.sk-toggleable__label {cursor: pointer;display: block;width: 100%;margin-bottom: 0;padding: 0.3em;box-sizing: border-box;text-align: center;}#sk-container-id-2 label.sk-toggleable__label-arrow:before {content: \"▸\";float: left;margin-right: 0.25em;color: #696969;}#sk-container-id-2 label.sk-toggleable__label-arrow:hover:before {color: black;}#sk-container-id-2 div.sk-estimator:hover label.sk-toggleable__label-arrow:before {color: black;}#sk-container-id-2 div.sk-toggleable__content {max-height: 0;max-width: 0;overflow: hidden;text-align: left;background-color: #f0f8ff;}#sk-container-id-2 div.sk-toggleable__content pre {margin: 0.2em;color: black;border-radius: 0.25em;background-color: #f0f8ff;}#sk-container-id-2 input.sk-toggleable__control:checked~div.sk-toggleable__content {max-height: 200px;max-width: 100%;overflow: auto;}#sk-container-id-2 input.sk-toggleable__control:checked~label.sk-toggleable__label-arrow:before {content: \"▾\";}#sk-container-id-2 div.sk-estimator input.sk-toggleable__control:checked~label.sk-toggleable__label {background-color: #d4ebff;}#sk-container-id-2 div.sk-label input.sk-toggleable__control:checked~label.sk-toggleable__label {background-color: #d4ebff;}#sk-container-id-2 input.sk-hidden--visually {border: 0;clip: rect(1px 1px 1px 1px);clip: rect(1px, 1px, 1px, 1px);height: 1px;margin: -1px;overflow: hidden;padding: 0;position: absolute;width: 1px;}#sk-container-id-2 div.sk-estimator {font-family: monospace;background-color: #f0f8ff;border: 1px dotted black;border-radius: 0.25em;box-sizing: border-box;margin-bottom: 0.5em;}#sk-container-id-2 div.sk-estimator:hover {background-color: #d4ebff;}#sk-container-id-2 div.sk-parallel-item::after {content: \"\";width: 100%;border-bottom: 1px solid gray;flex-grow: 1;}#sk-container-id-2 div.sk-label:hover label.sk-toggleable__label {background-color: #d4ebff;}#sk-container-id-2 div.sk-serial::before {content: \"\";position: absolute;border-left: 1px solid gray;box-sizing: border-box;top: 0;bottom: 0;left: 50%;z-index: 0;}#sk-container-id-2 div.sk-serial {display: flex;flex-direction: column;align-items: center;background-color: white;padding-right: 0.2em;padding-left: 0.2em;position: relative;}#sk-container-id-2 div.sk-item {position: relative;z-index: 1;}#sk-container-id-2 div.sk-parallel {display: flex;align-items: stretch;justify-content: center;background-color: white;position: relative;}#sk-container-id-2 div.sk-item::before, #sk-container-id-2 div.sk-parallel-item::before {content: \"\";position: absolute;border-left: 1px solid gray;box-sizing: border-box;top: 0;bottom: 0;left: 50%;z-index: -1;}#sk-container-id-2 div.sk-parallel-item {display: flex;flex-direction: column;z-index: 1;position: relative;background-color: white;}#sk-container-id-2 div.sk-parallel-item:first-child::after {align-self: flex-end;width: 50%;}#sk-container-id-2 div.sk-parallel-item:last-child::after {align-self: flex-start;width: 50%;}#sk-container-id-2 div.sk-parallel-item:only-child::after {width: 0;}#sk-container-id-2 div.sk-dashed-wrapped {border: 1px dashed gray;margin: 0 0.4em 0.5em 0.4em;box-sizing: border-box;padding-bottom: 0.4em;background-color: white;}#sk-container-id-2 div.sk-label label {font-family: monospace;font-weight: bold;display: inline-block;line-height: 1.2em;}#sk-container-id-2 div.sk-label-container {text-align: center;}#sk-container-id-2 div.sk-container {/* jupyter's `normalize.less` sets `[hidden] { display: none; }` but bootstrap.min.css set `[hidden] { display: none !important; }` so we also need the `!important` here to be able to override the default hidden behavior on the sphinx rendered scikit-learn.org. See: https://github.com/scikit-learn/scikit-learn/issues/21755 */display: inline-block !important;position: relative;}#sk-container-id-2 div.sk-text-repr-fallback {display: none;}</style><div id=\"sk-container-id-2\" class=\"sk-top-container\"><div class=\"sk-text-repr-fallback\"><pre>KNeighborsClassifier(metric=&#x27;euclidean&#x27;, n_neighbors=2, weights=&#x27;distance&#x27;)</pre><b>In a Jupyter environment, please rerun this cell to show the HTML representation or trust the notebook. <br />On GitHub, the HTML representation is unable to render, please try loading this page with nbviewer.org.</b></div><div class=\"sk-container\" hidden><div class=\"sk-item\"><div class=\"sk-estimator sk-toggleable\"><input class=\"sk-toggleable__control sk-hidden--visually\" id=\"sk-estimator-id-2\" type=\"checkbox\" checked><label for=\"sk-estimator-id-2\" class=\"sk-toggleable__label sk-toggleable__label-arrow\">KNeighborsClassifier</label><div class=\"sk-toggleable__content\"><pre>KNeighborsClassifier(metric=&#x27;euclidean&#x27;, n_neighbors=2, weights=&#x27;distance&#x27;)</pre></div></div></div></div></div>"
      ],
      "text/plain": [
       "KNeighborsClassifier(metric='euclidean', n_neighbors=2, weights='distance')"
      ]
     },
     "execution_count": 17,
     "metadata": {},
     "output_type": "execute_result"
    }
   ],
   "source": [
    "knn = KNeighborsClassifier(\n",
    "    n_neighbors=2,  \n",
    "    weights='distance',  # distance\n",
    "    p=2,  # Euclidean distance\n",
    "    algorithm='auto',  # 'ball_tree', 'kd_tree', or 'brute'\n",
    "    leaf_size=30,  \n",
    "    metric='euclidean'  # You can choose other metrics or provide custom ones\n",
    ")\n",
    "\n",
    "knn.fit(X_train_tfidf, y_train)"
   ]
  },
  {
   "cell_type": "code",
   "execution_count": 18,
   "id": "ef3066b6-7ea4-40b1-af47-12c4c31d4785",
   "metadata": {},
   "outputs": [
    {
     "data": {
      "text/html": [
       "<div>\n",
       "<style scoped>\n",
       "    .dataframe tbody tr th:only-of-type {\n",
       "        vertical-align: middle;\n",
       "    }\n",
       "\n",
       "    .dataframe tbody tr th {\n",
       "        vertical-align: top;\n",
       "    }\n",
       "\n",
       "    .dataframe thead th {\n",
       "        text-align: right;\n",
       "    }\n",
       "</style>\n",
       "<table border=\"1\" class=\"dataframe\">\n",
       "  <thead>\n",
       "    <tr style=\"text-align: right;\">\n",
       "      <th></th>\n",
       "      <th>actual</th>\n",
       "      <th>preds</th>\n",
       "    </tr>\n",
       "  </thead>\n",
       "  <tbody>\n",
       "    <tr>\n",
       "      <th>537</th>\n",
       "      <td>Other</td>\n",
       "      <td>Other</td>\n",
       "    </tr>\n",
       "    <tr>\n",
       "      <th>466</th>\n",
       "      <td>C++</td>\n",
       "      <td>C++</td>\n",
       "    </tr>\n",
       "    <tr>\n",
       "      <th>79</th>\n",
       "      <td>Python</td>\n",
       "      <td>Python</td>\n",
       "    </tr>\n",
       "    <tr>\n",
       "      <th>426</th>\n",
       "      <td>Python</td>\n",
       "      <td>Python</td>\n",
       "    </tr>\n",
       "    <tr>\n",
       "      <th>36</th>\n",
       "      <td>C++</td>\n",
       "      <td>C++</td>\n",
       "    </tr>\n",
       "  </tbody>\n",
       "</table>\n",
       "</div>"
      ],
      "text/plain": [
       "     actual   preds\n",
       "537   Other   Other\n",
       "466     C++     C++\n",
       "79   Python  Python\n",
       "426  Python  Python\n",
       "36      C++     C++"
      ]
     },
     "execution_count": 18,
     "metadata": {},
     "output_type": "execute_result"
    }
   ],
   "source": [
    "y_train_res = pd.DataFrame({'actual': y_train,\n",
    "                            'preds': knn.predict(X_train_tfidf)})\n",
    "y_train_res.head()"
   ]
  },
  {
   "cell_type": "code",
   "execution_count": 19,
   "id": "dc45a01b-f937-46b1-a0f6-8c7f34aefd63",
   "metadata": {},
   "outputs": [
    {
     "name": "stdout",
     "output_type": "stream",
     "text": [
      "              precision    recall  f1-score   support\n",
      "\n",
      "         C++       1.00      1.00      1.00       147\n",
      "       Other       1.00      1.00      1.00        91\n",
      "      Python       1.00      1.00      1.00       140\n",
      "\n",
      "    accuracy                           1.00       378\n",
      "   macro avg       1.00      1.00      1.00       378\n",
      "weighted avg       1.00      1.00      1.00       378\n",
      "\n"
     ]
    }
   ],
   "source": [
    "print(class_rep(y_train_res.actual, y_train_res.preds))"
   ]
  },
  {
   "cell_type": "code",
   "execution_count": 20,
   "id": "55b46d94-6f1b-420c-9b04-310c81abc72c",
   "metadata": {},
   "outputs": [
    {
     "name": "stdout",
     "output_type": "stream",
     "text": [
      "Train Accuracy: 1.00\n"
     ]
    }
   ],
   "source": [
    "train_accuracy = accuracy_score(y_train_res['actual'], y_train_res['preds'])\n",
    "print(f'Train Accuracy: {train_accuracy:.2f}')"
   ]
  },
  {
   "cell_type": "markdown",
   "id": "9edbbc71-0af6-4f81-97a4-5099fd603086",
   "metadata": {},
   "source": [
    "# KNN Val"
   ]
  },
  {
   "cell_type": "code",
   "execution_count": 21,
   "id": "c6ecaa69-4f32-41c5-8b79-189250b0f624",
   "metadata": {},
   "outputs": [
    {
     "data": {
      "text/html": [
       "<div>\n",
       "<style scoped>\n",
       "    .dataframe tbody tr th:only-of-type {\n",
       "        vertical-align: middle;\n",
       "    }\n",
       "\n",
       "    .dataframe tbody tr th {\n",
       "        vertical-align: top;\n",
       "    }\n",
       "\n",
       "    .dataframe thead th {\n",
       "        text-align: right;\n",
       "    }\n",
       "</style>\n",
       "<table border=\"1\" class=\"dataframe\">\n",
       "  <thead>\n",
       "    <tr style=\"text-align: right;\">\n",
       "      <th></th>\n",
       "      <th>actual</th>\n",
       "      <th>preds</th>\n",
       "    </tr>\n",
       "  </thead>\n",
       "  <tbody>\n",
       "    <tr>\n",
       "      <th>110</th>\n",
       "      <td>Other</td>\n",
       "      <td>C++</td>\n",
       "    </tr>\n",
       "    <tr>\n",
       "      <th>341</th>\n",
       "      <td>C++</td>\n",
       "      <td>C++</td>\n",
       "    </tr>\n",
       "    <tr>\n",
       "      <th>120</th>\n",
       "      <td>Python</td>\n",
       "      <td>Python</td>\n",
       "    </tr>\n",
       "    <tr>\n",
       "      <th>236</th>\n",
       "      <td>C++</td>\n",
       "      <td>C++</td>\n",
       "    </tr>\n",
       "    <tr>\n",
       "      <th>351</th>\n",
       "      <td>Other</td>\n",
       "      <td>Other</td>\n",
       "    </tr>\n",
       "  </tbody>\n",
       "</table>\n",
       "</div>"
      ],
      "text/plain": [
       "     actual   preds\n",
       "110   Other     C++\n",
       "341     C++     C++\n",
       "120  Python  Python\n",
       "236     C++     C++\n",
       "351   Other   Other"
      ]
     },
     "execution_count": 21,
     "metadata": {},
     "output_type": "execute_result"
    }
   ],
   "source": [
    "y_val_res = pd.DataFrame({'actual': y_val,\n",
    "                           'preds': lm.predict(X_val_tfidf)})\n",
    "y_val_res.head()"
   ]
  },
  {
   "cell_type": "code",
   "execution_count": 22,
   "id": "7aee2f15-a645-4ff5-95b6-a91fce264d8c",
   "metadata": {},
   "outputs": [
    {
     "name": "stdout",
     "output_type": "stream",
     "text": [
      "              precision    recall  f1-score   support\n",
      "\n",
      "         C++       0.72      0.87      0.79        30\n",
      "       Other       0.80      0.67      0.73        24\n",
      "      Python       0.84      0.78      0.81        27\n",
      "\n",
      "    accuracy                           0.78        81\n",
      "   macro avg       0.79      0.77      0.77        81\n",
      "weighted avg       0.78      0.78      0.78        81\n",
      "\n"
     ]
    }
   ],
   "source": [
    "print(class_rep(y_val_res.actual, y_val_res.preds))"
   ]
  },
  {
   "cell_type": "code",
   "execution_count": 23,
   "id": "8c6a040b-78b4-4cef-b017-1daeb260b539",
   "metadata": {},
   "outputs": [
    {
     "name": "stdout",
     "output_type": "stream",
     "text": [
      "Validation Accuracy: 0.78\n"
     ]
    }
   ],
   "source": [
    "val_accuracy = accuracy_score(y_val_res['actual'], y_val_res['preds'])\n",
    "print(f'Validation Accuracy: {val_accuracy:.2f}')"
   ]
  },
  {
   "cell_type": "markdown",
   "id": "19ea220c-464f-414d-8aeb-82a440ea8a72",
   "metadata": {},
   "source": [
    "  "
   ]
  },
  {
   "cell_type": "markdown",
   "id": "95b2cb24-ce90-4943-9501-3e4d93fe49d5",
   "metadata": {},
   "source": [
    "  "
   ]
  },
  {
   "cell_type": "markdown",
   "id": "ed4279e0-7eff-4a3e-b77f-3c6be433af22",
   "metadata": {},
   "source": [
    "  "
   ]
  },
  {
   "cell_type": "markdown",
   "id": "c54fb307-96ec-41b8-916b-93c080dcebe7",
   "metadata": {},
   "source": [
    "  "
   ]
  },
  {
   "cell_type": "markdown",
   "id": "e129dc5c-4d29-4580-a763-5e931b66608c",
   "metadata": {},
   "source": [
    "  "
   ]
  },
  {
   "cell_type": "markdown",
   "id": "702aa898-53eb-41c6-8a2c-2303078c0910",
   "metadata": {},
   "source": [
    "  "
   ]
  },
  {
   "cell_type": "markdown",
   "id": "e9fde3d7-583f-4fba-9f29-dcb7cf858025",
   "metadata": {},
   "source": [
    "  "
   ]
  },
  {
   "cell_type": "markdown",
   "id": "676ebace-ce7b-43f6-a8b2-9aee92260f7a",
   "metadata": {},
   "source": [
    "  "
   ]
  },
  {
   "cell_type": "markdown",
   "id": "f9087a08-c490-4ad5-8324-ca47db673471",
   "metadata": {},
   "source": [
    "# Random Forest Classier Model"
   ]
  },
  {
   "cell_type": "code",
   "execution_count": 24,
   "id": "7755781b-30da-46af-881f-fbc18dae4fcf",
   "metadata": {},
   "outputs": [
    {
     "data": {
      "text/html": [
       "<style>#sk-container-id-3 {color: black;}#sk-container-id-3 pre{padding: 0;}#sk-container-id-3 div.sk-toggleable {background-color: white;}#sk-container-id-3 label.sk-toggleable__label {cursor: pointer;display: block;width: 100%;margin-bottom: 0;padding: 0.3em;box-sizing: border-box;text-align: center;}#sk-container-id-3 label.sk-toggleable__label-arrow:before {content: \"▸\";float: left;margin-right: 0.25em;color: #696969;}#sk-container-id-3 label.sk-toggleable__label-arrow:hover:before {color: black;}#sk-container-id-3 div.sk-estimator:hover label.sk-toggleable__label-arrow:before {color: black;}#sk-container-id-3 div.sk-toggleable__content {max-height: 0;max-width: 0;overflow: hidden;text-align: left;background-color: #f0f8ff;}#sk-container-id-3 div.sk-toggleable__content pre {margin: 0.2em;color: black;border-radius: 0.25em;background-color: #f0f8ff;}#sk-container-id-3 input.sk-toggleable__control:checked~div.sk-toggleable__content {max-height: 200px;max-width: 100%;overflow: auto;}#sk-container-id-3 input.sk-toggleable__control:checked~label.sk-toggleable__label-arrow:before {content: \"▾\";}#sk-container-id-3 div.sk-estimator input.sk-toggleable__control:checked~label.sk-toggleable__label {background-color: #d4ebff;}#sk-container-id-3 div.sk-label input.sk-toggleable__control:checked~label.sk-toggleable__label {background-color: #d4ebff;}#sk-container-id-3 input.sk-hidden--visually {border: 0;clip: rect(1px 1px 1px 1px);clip: rect(1px, 1px, 1px, 1px);height: 1px;margin: -1px;overflow: hidden;padding: 0;position: absolute;width: 1px;}#sk-container-id-3 div.sk-estimator {font-family: monospace;background-color: #f0f8ff;border: 1px dotted black;border-radius: 0.25em;box-sizing: border-box;margin-bottom: 0.5em;}#sk-container-id-3 div.sk-estimator:hover {background-color: #d4ebff;}#sk-container-id-3 div.sk-parallel-item::after {content: \"\";width: 100%;border-bottom: 1px solid gray;flex-grow: 1;}#sk-container-id-3 div.sk-label:hover label.sk-toggleable__label {background-color: #d4ebff;}#sk-container-id-3 div.sk-serial::before {content: \"\";position: absolute;border-left: 1px solid gray;box-sizing: border-box;top: 0;bottom: 0;left: 50%;z-index: 0;}#sk-container-id-3 div.sk-serial {display: flex;flex-direction: column;align-items: center;background-color: white;padding-right: 0.2em;padding-left: 0.2em;position: relative;}#sk-container-id-3 div.sk-item {position: relative;z-index: 1;}#sk-container-id-3 div.sk-parallel {display: flex;align-items: stretch;justify-content: center;background-color: white;position: relative;}#sk-container-id-3 div.sk-item::before, #sk-container-id-3 div.sk-parallel-item::before {content: \"\";position: absolute;border-left: 1px solid gray;box-sizing: border-box;top: 0;bottom: 0;left: 50%;z-index: -1;}#sk-container-id-3 div.sk-parallel-item {display: flex;flex-direction: column;z-index: 1;position: relative;background-color: white;}#sk-container-id-3 div.sk-parallel-item:first-child::after {align-self: flex-end;width: 50%;}#sk-container-id-3 div.sk-parallel-item:last-child::after {align-self: flex-start;width: 50%;}#sk-container-id-3 div.sk-parallel-item:only-child::after {width: 0;}#sk-container-id-3 div.sk-dashed-wrapped {border: 1px dashed gray;margin: 0 0.4em 0.5em 0.4em;box-sizing: border-box;padding-bottom: 0.4em;background-color: white;}#sk-container-id-3 div.sk-label label {font-family: monospace;font-weight: bold;display: inline-block;line-height: 1.2em;}#sk-container-id-3 div.sk-label-container {text-align: center;}#sk-container-id-3 div.sk-container {/* jupyter's `normalize.less` sets `[hidden] { display: none; }` but bootstrap.min.css set `[hidden] { display: none !important; }` so we also need the `!important` here to be able to override the default hidden behavior on the sphinx rendered scikit-learn.org. See: https://github.com/scikit-learn/scikit-learn/issues/21755 */display: inline-block !important;position: relative;}#sk-container-id-3 div.sk-text-repr-fallback {display: none;}</style><div id=\"sk-container-id-3\" class=\"sk-top-container\"><div class=\"sk-text-repr-fallback\"><pre>RandomForestClassifier(class_weight=&#x27;balanced&#x27;, criterion=&#x27;entropy&#x27;,\n",
       "                       max_features=None, n_estimators=50, random_state=42)</pre><b>In a Jupyter environment, please rerun this cell to show the HTML representation or trust the notebook. <br />On GitHub, the HTML representation is unable to render, please try loading this page with nbviewer.org.</b></div><div class=\"sk-container\" hidden><div class=\"sk-item\"><div class=\"sk-estimator sk-toggleable\"><input class=\"sk-toggleable__control sk-hidden--visually\" id=\"sk-estimator-id-3\" type=\"checkbox\" checked><label for=\"sk-estimator-id-3\" class=\"sk-toggleable__label sk-toggleable__label-arrow\">RandomForestClassifier</label><div class=\"sk-toggleable__content\"><pre>RandomForestClassifier(class_weight=&#x27;balanced&#x27;, criterion=&#x27;entropy&#x27;,\n",
       "                       max_features=None, n_estimators=50, random_state=42)</pre></div></div></div></div></div>"
      ],
      "text/plain": [
       "RandomForestClassifier(class_weight='balanced', criterion='entropy',\n",
       "                       max_features=None, n_estimators=50, random_state=42)"
      ]
     },
     "execution_count": 24,
     "metadata": {},
     "output_type": "execute_result"
    }
   ],
   "source": [
    "from sklearn.ensemble import RandomForestClassifier\n",
    "\n",
    "rf = RandomForestClassifier(\n",
    "    n_estimators=50,\n",
    "    max_depth=None, #increasing caused scores to decrease\n",
    "    min_samples_split=2,\n",
    "    min_samples_leaf=1,\n",
    "    max_features=None,\n",
    "    bootstrap=True,\n",
    "    random_state=42,  # For reproducibility\n",
    "    class_weight='balanced',  # Handle class imbalance\n",
    "    criterion='entropy'  # Or 'entropy'\n",
    ")\n",
    "\n",
    "rf.fit(X_train_tfidf, y_train)"
   ]
  },
  {
   "cell_type": "code",
   "execution_count": 25,
   "id": "45bfa97b-cd6d-46ad-ac36-053e62f49b71",
   "metadata": {},
   "outputs": [
    {
     "data": {
      "text/html": [
       "<div>\n",
       "<style scoped>\n",
       "    .dataframe tbody tr th:only-of-type {\n",
       "        vertical-align: middle;\n",
       "    }\n",
       "\n",
       "    .dataframe tbody tr th {\n",
       "        vertical-align: top;\n",
       "    }\n",
       "\n",
       "    .dataframe thead th {\n",
       "        text-align: right;\n",
       "    }\n",
       "</style>\n",
       "<table border=\"1\" class=\"dataframe\">\n",
       "  <thead>\n",
       "    <tr style=\"text-align: right;\">\n",
       "      <th></th>\n",
       "      <th>actual</th>\n",
       "      <th>preds</th>\n",
       "    </tr>\n",
       "  </thead>\n",
       "  <tbody>\n",
       "    <tr>\n",
       "      <th>537</th>\n",
       "      <td>Other</td>\n",
       "      <td>Other</td>\n",
       "    </tr>\n",
       "    <tr>\n",
       "      <th>466</th>\n",
       "      <td>C++</td>\n",
       "      <td>C++</td>\n",
       "    </tr>\n",
       "    <tr>\n",
       "      <th>79</th>\n",
       "      <td>Python</td>\n",
       "      <td>Python</td>\n",
       "    </tr>\n",
       "    <tr>\n",
       "      <th>426</th>\n",
       "      <td>Python</td>\n",
       "      <td>Python</td>\n",
       "    </tr>\n",
       "    <tr>\n",
       "      <th>36</th>\n",
       "      <td>C++</td>\n",
       "      <td>C++</td>\n",
       "    </tr>\n",
       "  </tbody>\n",
       "</table>\n",
       "</div>"
      ],
      "text/plain": [
       "     actual   preds\n",
       "537   Other   Other\n",
       "466     C++     C++\n",
       "79   Python  Python\n",
       "426  Python  Python\n",
       "36      C++     C++"
      ]
     },
     "execution_count": 25,
     "metadata": {},
     "output_type": "execute_result"
    }
   ],
   "source": [
    "y_train_res = pd.DataFrame({'actual': y_train,\n",
    "                            'preds': rf.predict(X_train_tfidf)})\n",
    "y_train_res.head()"
   ]
  },
  {
   "cell_type": "code",
   "execution_count": 26,
   "id": "f007fa70-dcdd-4719-97da-92075d903ead",
   "metadata": {},
   "outputs": [
    {
     "name": "stdout",
     "output_type": "stream",
     "text": [
      "              precision    recall  f1-score   support\n",
      "\n",
      "         C++       1.00      1.00      1.00       147\n",
      "       Other       1.00      1.00      1.00        91\n",
      "      Python       1.00      1.00      1.00       140\n",
      "\n",
      "    accuracy                           1.00       378\n",
      "   macro avg       1.00      1.00      1.00       378\n",
      "weighted avg       1.00      1.00      1.00       378\n",
      "\n"
     ]
    }
   ],
   "source": [
    "print(class_rep(y_train_res.actual, y_train_res.preds))"
   ]
  },
  {
   "cell_type": "code",
   "execution_count": 27,
   "id": "187fa72a-f9a5-49f9-a9f4-9d8aaf46f00d",
   "metadata": {},
   "outputs": [
    {
     "name": "stdout",
     "output_type": "stream",
     "text": [
      "Train Accuracy: 1.00\n"
     ]
    }
   ],
   "source": [
    "train_accuracy = accuracy_score(y_train_res['actual'], y_train_res['preds'])\n",
    "print(f'Train Accuracy: {train_accuracy:.2f}')"
   ]
  },
  {
   "cell_type": "markdown",
   "id": "011bc21b-e095-4a82-a9fd-786bb4689bcd",
   "metadata": {},
   "source": [
    "# RandomForestClassifier Val"
   ]
  },
  {
   "cell_type": "code",
   "execution_count": 28,
   "id": "d5f4d9b5-5274-4d0d-93a6-cc8806fc76ea",
   "metadata": {},
   "outputs": [
    {
     "data": {
      "text/html": [
       "<div>\n",
       "<style scoped>\n",
       "    .dataframe tbody tr th:only-of-type {\n",
       "        vertical-align: middle;\n",
       "    }\n",
       "\n",
       "    .dataframe tbody tr th {\n",
       "        vertical-align: top;\n",
       "    }\n",
       "\n",
       "    .dataframe thead th {\n",
       "        text-align: right;\n",
       "    }\n",
       "</style>\n",
       "<table border=\"1\" class=\"dataframe\">\n",
       "  <thead>\n",
       "    <tr style=\"text-align: right;\">\n",
       "      <th></th>\n",
       "      <th>actual</th>\n",
       "      <th>preds</th>\n",
       "    </tr>\n",
       "  </thead>\n",
       "  <tbody>\n",
       "    <tr>\n",
       "      <th>110</th>\n",
       "      <td>Other</td>\n",
       "      <td>C++</td>\n",
       "    </tr>\n",
       "    <tr>\n",
       "      <th>341</th>\n",
       "      <td>C++</td>\n",
       "      <td>C++</td>\n",
       "    </tr>\n",
       "    <tr>\n",
       "      <th>120</th>\n",
       "      <td>Python</td>\n",
       "      <td>Python</td>\n",
       "    </tr>\n",
       "    <tr>\n",
       "      <th>236</th>\n",
       "      <td>C++</td>\n",
       "      <td>C++</td>\n",
       "    </tr>\n",
       "    <tr>\n",
       "      <th>351</th>\n",
       "      <td>Other</td>\n",
       "      <td>Other</td>\n",
       "    </tr>\n",
       "  </tbody>\n",
       "</table>\n",
       "</div>"
      ],
      "text/plain": [
       "     actual   preds\n",
       "110   Other     C++\n",
       "341     C++     C++\n",
       "120  Python  Python\n",
       "236     C++     C++\n",
       "351   Other   Other"
      ]
     },
     "execution_count": 28,
     "metadata": {},
     "output_type": "execute_result"
    }
   ],
   "source": [
    "y_val_res = pd.DataFrame({'actual': y_val,\n",
    "                           'preds': lm.predict(X_val_tfidf)})\n",
    "y_val_res.head()"
   ]
  },
  {
   "cell_type": "code",
   "execution_count": 29,
   "id": "b4057e1a-3762-4f55-967b-9ccacf2e29ee",
   "metadata": {},
   "outputs": [
    {
     "name": "stdout",
     "output_type": "stream",
     "text": [
      "              precision    recall  f1-score   support\n",
      "\n",
      "         C++       0.72      0.87      0.79        30\n",
      "       Other       0.80      0.67      0.73        24\n",
      "      Python       0.84      0.78      0.81        27\n",
      "\n",
      "    accuracy                           0.78        81\n",
      "   macro avg       0.79      0.77      0.77        81\n",
      "weighted avg       0.78      0.78      0.78        81\n",
      "\n"
     ]
    }
   ],
   "source": [
    "print(class_rep(y_val_res.actual, y_val_res.preds))"
   ]
  },
  {
   "cell_type": "code",
   "execution_count": 30,
   "id": "be09c9ab-2ab9-413e-a831-4d9f0f2f180e",
   "metadata": {},
   "outputs": [
    {
     "name": "stdout",
     "output_type": "stream",
     "text": [
      "Validation Accuracy: 0.78\n"
     ]
    }
   ],
   "source": [
    "val_accuracy = accuracy_score(y_val_res['actual'], y_val_res['preds'])\n",
    "print(f'Validation Accuracy: {val_accuracy:.2f}')"
   ]
  },
  {
   "cell_type": "markdown",
   "id": "fd5edb26-53bb-4523-8ed7-0688aa97288c",
   "metadata": {},
   "source": [
    "  "
   ]
  },
  {
   "cell_type": "markdown",
   "id": "df652e1d-d25c-429a-9ae3-9f26d1ba73f8",
   "metadata": {},
   "source": [
    "  "
   ]
  },
  {
   "cell_type": "markdown",
   "id": "5a415212-9d79-45e9-970e-0d9b7601df7d",
   "metadata": {},
   "source": [
    "  "
   ]
  },
  {
   "cell_type": "markdown",
   "id": "094f18e1-e8a8-476d-af37-bcbed8ce35c2",
   "metadata": {},
   "source": [
    "  "
   ]
  },
  {
   "cell_type": "markdown",
   "id": "f47c11dd-ff3c-45ba-97da-8271b4485fa3",
   "metadata": {},
   "source": [
    "  "
   ]
  },
  {
   "cell_type": "markdown",
   "id": "7b33857d-4766-4b18-97a6-0b284bbaadfe",
   "metadata": {},
   "source": [
    "  "
   ]
  },
  {
   "cell_type": "markdown",
   "id": "01cfb9c0-52ca-411b-81f6-b36f42c53d75",
   "metadata": {},
   "source": [
    "  "
   ]
  },
  {
   "cell_type": "markdown",
   "id": "f5ec6903-f5e0-49e9-8937-30cfce67f8f6",
   "metadata": {},
   "source": [
    "  "
   ]
  },
  {
   "cell_type": "markdown",
   "id": "f4154bd3-efee-431a-a4d5-1f70425aa962",
   "metadata": {},
   "source": [
    "  "
   ]
  },
  {
   "cell_type": "markdown",
   "id": "d984fea3-5e40-44df-af3d-0f05258babf5",
   "metadata": {},
   "source": [
    "# XGBClassifier Model"
   ]
  },
  {
   "cell_type": "code",
   "execution_count": 31,
   "id": "488c9bb1-6dd5-42e7-9b1c-4a319c5cffa1",
   "metadata": {},
   "outputs": [],
   "source": [
    "# Initialize the label encoder\n",
    "label_encoder = LabelEncoder()\n",
    "\n",
    "# Encode the target labels\n",
    "y_encoded = label_encoder.fit_transform(repos_df.language)\n",
    "\n",
    "# Split the data into training, validation, and test sets\n",
    "X_train, X_temp, y_train, y_temp = train_test_split(repos_df.text, y_encoded, train_size=0.7, random_state=42)\n",
    "X_val, X_test, y_val, y_test = train_test_split(X_temp, y_temp, test_size=0.5, random_state=42)\n",
    "\n",
    "# Initialize and fit the TfidfVectorizer on the training data\n",
    "tfidf = TfidfVectorizer()\n",
    "X_train_tfidf = tfidf.fit_transform(X_train)\n",
    "X_val_tfidf = tfidf.transform(X_val)\n",
    "X_test_tfidf = tfidf.transform(X_test)\n",
    "\n",
    "# Create the XGBoost classifier instance\n",
    "bst = XGBClassifier(n_estimators=100, max_depth=2, learning_rate=0.25, objective='multi:softprob', num_class=len(label_encoder.classes_))\n",
    "\n",
    "# Fit the XGBoost model on the training data\n",
    "bst.fit(X_train_tfidf, y_train)\n",
    "\n",
    "# Predict the classes on the validation data\n",
    "preds = bst.predict(X_val_tfidf)\n",
    "\n",
    "# If you want to decode the predicted labels back to their original class names:\n",
    "preds_decoded = label_encoder.inverse_transform(preds)"
   ]
  },
  {
   "cell_type": "code",
   "execution_count": 32,
   "id": "d2c3d775-c6fd-453d-adb4-09372c02b072",
   "metadata": {},
   "outputs": [
    {
     "data": {
      "text/html": [
       "<div>\n",
       "<style scoped>\n",
       "    .dataframe tbody tr th:only-of-type {\n",
       "        vertical-align: middle;\n",
       "    }\n",
       "\n",
       "    .dataframe tbody tr th {\n",
       "        vertical-align: top;\n",
       "    }\n",
       "\n",
       "    .dataframe thead th {\n",
       "        text-align: right;\n",
       "    }\n",
       "</style>\n",
       "<table border=\"1\" class=\"dataframe\">\n",
       "  <thead>\n",
       "    <tr style=\"text-align: right;\">\n",
       "      <th></th>\n",
       "      <th>actual</th>\n",
       "      <th>preds</th>\n",
       "    </tr>\n",
       "  </thead>\n",
       "  <tbody>\n",
       "    <tr>\n",
       "      <th>0</th>\n",
       "      <td>1</td>\n",
       "      <td>1</td>\n",
       "    </tr>\n",
       "    <tr>\n",
       "      <th>1</th>\n",
       "      <td>0</td>\n",
       "      <td>0</td>\n",
       "    </tr>\n",
       "    <tr>\n",
       "      <th>2</th>\n",
       "      <td>2</td>\n",
       "      <td>2</td>\n",
       "    </tr>\n",
       "    <tr>\n",
       "      <th>3</th>\n",
       "      <td>2</td>\n",
       "      <td>2</td>\n",
       "    </tr>\n",
       "    <tr>\n",
       "      <th>4</th>\n",
       "      <td>0</td>\n",
       "      <td>0</td>\n",
       "    </tr>\n",
       "  </tbody>\n",
       "</table>\n",
       "</div>"
      ],
      "text/plain": [
       "   actual  preds\n",
       "0       1      1\n",
       "1       0      0\n",
       "2       2      2\n",
       "3       2      2\n",
       "4       0      0"
      ]
     },
     "execution_count": 32,
     "metadata": {},
     "output_type": "execute_result"
    }
   ],
   "source": [
    "y_train_res = pd.DataFrame({'actual': y_train,\n",
    "                            'preds': bst.predict(X_train_tfidf)})\n",
    "y_train_res.head()"
   ]
  },
  {
   "cell_type": "code",
   "execution_count": 33,
   "id": "0d3a913b-5de4-4c2e-8037-0292f3fb1d20",
   "metadata": {},
   "outputs": [
    {
     "name": "stdout",
     "output_type": "stream",
     "text": [
      "              precision    recall  f1-score   support\n",
      "\n",
      "           0       1.00      1.00      1.00       147\n",
      "           1       1.00      1.00      1.00        91\n",
      "           2       1.00      1.00      1.00       140\n",
      "\n",
      "    accuracy                           1.00       378\n",
      "   macro avg       1.00      1.00      1.00       378\n",
      "weighted avg       1.00      1.00      1.00       378\n",
      "\n"
     ]
    }
   ],
   "source": [
    "print(class_rep(y_train_res.actual, y_train_res.preds))"
   ]
  },
  {
   "cell_type": "code",
   "execution_count": 34,
   "id": "e988adf6-6df4-4e15-86f4-5c2c9eec6140",
   "metadata": {},
   "outputs": [
    {
     "name": "stdout",
     "output_type": "stream",
     "text": [
      "Train Accuracy: 1.00\n"
     ]
    }
   ],
   "source": [
    "train_accuracy = accuracy_score(y_train_res['actual'], y_train_res['preds'])\n",
    "print(f'Train Accuracy: {train_accuracy:.2f}')"
   ]
  },
  {
   "cell_type": "markdown",
   "id": "3c6b6d04-52d0-4ac8-a243-867613e93b48",
   "metadata": {},
   "source": [
    "  "
   ]
  },
  {
   "cell_type": "markdown",
   "id": "a7d791f5-e7e5-4a83-ba99-10927ace1aad",
   "metadata": {},
   "source": [
    "\n",
    "  "
   ]
  },
  {
   "cell_type": "markdown",
   "id": "1054c710-86cf-4512-89d8-390c638fd772",
   "metadata": {},
   "source": [
    "  "
   ]
  },
  {
   "cell_type": "code",
   "execution_count": 35,
   "id": "aeec6c2e-d296-44b8-845e-6fe1bb9c3a75",
   "metadata": {},
   "outputs": [
    {
     "data": {
      "text/html": [
       "<div>\n",
       "<style scoped>\n",
       "    .dataframe tbody tr th:only-of-type {\n",
       "        vertical-align: middle;\n",
       "    }\n",
       "\n",
       "    .dataframe tbody tr th {\n",
       "        vertical-align: top;\n",
       "    }\n",
       "\n",
       "    .dataframe thead th {\n",
       "        text-align: right;\n",
       "    }\n",
       "</style>\n",
       "<table border=\"1\" class=\"dataframe\">\n",
       "  <thead>\n",
       "    <tr style=\"text-align: right;\">\n",
       "      <th></th>\n",
       "      <th>actual</th>\n",
       "      <th>preds</th>\n",
       "    </tr>\n",
       "  </thead>\n",
       "  <tbody>\n",
       "    <tr>\n",
       "      <th>0</th>\n",
       "      <td>1</td>\n",
       "      <td>0</td>\n",
       "    </tr>\n",
       "    <tr>\n",
       "      <th>1</th>\n",
       "      <td>0</td>\n",
       "      <td>0</td>\n",
       "    </tr>\n",
       "    <tr>\n",
       "      <th>2</th>\n",
       "      <td>2</td>\n",
       "      <td>2</td>\n",
       "    </tr>\n",
       "    <tr>\n",
       "      <th>3</th>\n",
       "      <td>0</td>\n",
       "      <td>1</td>\n",
       "    </tr>\n",
       "    <tr>\n",
       "      <th>4</th>\n",
       "      <td>1</td>\n",
       "      <td>0</td>\n",
       "    </tr>\n",
       "  </tbody>\n",
       "</table>\n",
       "</div>"
      ],
      "text/plain": [
       "   actual  preds\n",
       "0       1      0\n",
       "1       0      0\n",
       "2       2      2\n",
       "3       0      1\n",
       "4       1      0"
      ]
     },
     "execution_count": 35,
     "metadata": {},
     "output_type": "execute_result"
    }
   ],
   "source": [
    "y_val_res = pd.DataFrame({'actual': y_val,\n",
    "                           'preds': bst.predict(X_val_tfidf)})\n",
    "y_val_res.head()"
   ]
  },
  {
   "cell_type": "code",
   "execution_count": 36,
   "id": "32269014-7d9b-4bd5-aae4-ffd92276167a",
   "metadata": {
    "scrolled": true
   },
   "outputs": [
    {
     "name": "stdout",
     "output_type": "stream",
     "text": [
      "              precision    recall  f1-score   support\n",
      "\n",
      "           0       0.70      0.87      0.78        30\n",
      "           1       0.74      0.58      0.65        24\n",
      "           2       0.84      0.78      0.81        27\n",
      "\n",
      "    accuracy                           0.75        81\n",
      "   macro avg       0.76      0.74      0.74        81\n",
      "weighted avg       0.76      0.75      0.75        81\n",
      "\n"
     ]
    }
   ],
   "source": [
    "print(class_rep(y_val_res.actual, y_val_res.preds))"
   ]
  },
  {
   "cell_type": "code",
   "execution_count": 37,
   "id": "0d5a8795-b2a2-4dc4-8cfd-0699d70295e1",
   "metadata": {},
   "outputs": [
    {
     "name": "stdout",
     "output_type": "stream",
     "text": [
      "Validation Accuracy: 0.75\n"
     ]
    }
   ],
   "source": [
    "val_accuracy = accuracy_score(y_val_res['actual'], y_val_res['preds'])\n",
    "print(f'Validation Accuracy: {val_accuracy:.2f}')"
   ]
  },
  {
   "cell_type": "markdown",
   "id": "5c4fc201-25c1-4e18-a70a-976ec0f8758f",
   "metadata": {},
   "source": [
    "   "
   ]
  },
  {
   "cell_type": "markdown",
   "id": "b4241b07-8b1c-44dd-900a-9b4a10099871",
   "metadata": {},
   "source": [
    "   "
   ]
  },
  {
   "cell_type": "markdown",
   "id": "b43eee7b-242f-4f72-90d7-8f3cc3cca781",
   "metadata": {},
   "source": [
    "   "
   ]
  },
  {
   "cell_type": "markdown",
   "id": "a1f10205-89cc-4bb0-85c4-8ecd430940fb",
   "metadata": {},
   "source": [
    "   "
   ]
  },
  {
   "cell_type": "markdown",
   "id": "9d6c6f8c-c6b2-4459-a47c-7fe688e4c1b9",
   "metadata": {},
   "source": [
    "   "
   ]
  },
  {
   "cell_type": "markdown",
   "id": "e7abed0f-9278-4343-b4fd-d03adc99acf4",
   "metadata": {},
   "source": [
    "# Final Model Logisitic Regression with Hyperparameter tuning   "
   ]
  },
  {
   "cell_type": "markdown",
   "id": "6100a5ee-6779-4c30-ba77-e2043e2a8be3",
   "metadata": {},
   "source": [
    "-----"
   ]
  },
  {
   "cell_type": "markdown",
   "id": "115b5eaf-5705-40db-b82a-6c3ef8a23f3e",
   "metadata": {},
   "source": [
    "# Logistic Regression Validate"
   ]
  },
  {
   "cell_type": "code",
   "execution_count": 31,
   "id": "b8b85c18-a3f0-4466-a7be-168ff1438791",
   "metadata": {},
   "outputs": [
    {
     "data": {
      "text/html": [
       "<div>\n",
       "<style scoped>\n",
       "    .dataframe tbody tr th:only-of-type {\n",
       "        vertical-align: middle;\n",
       "    }\n",
       "\n",
       "    .dataframe tbody tr th {\n",
       "        vertical-align: top;\n",
       "    }\n",
       "\n",
       "    .dataframe thead th {\n",
       "        text-align: right;\n",
       "    }\n",
       "</style>\n",
       "<table border=\"1\" class=\"dataframe\">\n",
       "  <thead>\n",
       "    <tr style=\"text-align: right;\">\n",
       "      <th></th>\n",
       "      <th>actual</th>\n",
       "      <th>preds</th>\n",
       "    </tr>\n",
       "  </thead>\n",
       "  <tbody>\n",
       "    <tr>\n",
       "      <th>456</th>\n",
       "      <td>Python</td>\n",
       "      <td>Python</td>\n",
       "    </tr>\n",
       "    <tr>\n",
       "      <th>392</th>\n",
       "      <td>C++</td>\n",
       "      <td>C++</td>\n",
       "    </tr>\n",
       "    <tr>\n",
       "      <th>478</th>\n",
       "      <td>C++</td>\n",
       "      <td>C++</td>\n",
       "    </tr>\n",
       "    <tr>\n",
       "      <th>416</th>\n",
       "      <td>Python</td>\n",
       "      <td>C++</td>\n",
       "    </tr>\n",
       "    <tr>\n",
       "      <th>173</th>\n",
       "      <td>C++</td>\n",
       "      <td>C++</td>\n",
       "    </tr>\n",
       "  </tbody>\n",
       "</table>\n",
       "</div>"
      ],
      "text/plain": [
       "     actual   preds\n",
       "456  Python  Python\n",
       "392     C++     C++\n",
       "478     C++     C++\n",
       "416  Python     C++\n",
       "173     C++     C++"
      ]
     },
     "execution_count": 31,
     "metadata": {},
     "output_type": "execute_result"
    }
   ],
   "source": [
    "y_test_res = pd.DataFrame({'actual': y_test,\n",
    "                           'preds': lm.predict(X_test_tfidf)})\n",
    "y_test_res.head()"
   ]
  },
  {
   "cell_type": "code",
   "execution_count": 32,
   "id": "3e5dfe69-48d2-4a0b-a2c8-7feb77d96c82",
   "metadata": {},
   "outputs": [
    {
     "name": "stdout",
     "output_type": "stream",
     "text": [
      "              precision    recall  f1-score   support\n",
      "\n",
      "         C++       0.69      0.83      0.76        30\n",
      "       Other       0.65      0.58      0.61        19\n",
      "      Python       0.86      0.76      0.81        33\n",
      "\n",
      "    accuracy                           0.74        82\n",
      "   macro avg       0.73      0.72      0.73        82\n",
      "weighted avg       0.75      0.74      0.74        82\n",
      "\n"
     ]
    }
   ],
   "source": [
    "print(class_rep(y_test_res.actual, y_test_res.preds))"
   ]
  },
  {
   "cell_type": "code",
   "execution_count": 33,
   "id": "d1473cf9-2034-49fa-8b64-76bc0e4b3ef7",
   "metadata": {
    "scrolled": true
   },
   "outputs": [
    {
     "name": "stdout",
     "output_type": "stream",
     "text": [
      "Test Accuracy: 0.74\n"
     ]
    }
   ],
   "source": [
    "test_accuracy = accuracy_score(y_test_res['actual'], y_test_res['preds'])\n",
    "print(f'Test Accuracy: {test_accuracy:.2f}')"
   ]
  },
  {
   "cell_type": "markdown",
   "id": "01e9060a-8d9c-4e21-8359-a43ca30b71e0",
   "metadata": {},
   "source": [
    "  "
   ]
  },
  {
   "cell_type": "markdown",
   "id": "f6364a29-98e1-4855-a933-1197702b466f",
   "metadata": {},
   "source": [
    "  "
   ]
  },
  {
   "cell_type": "markdown",
   "id": "d9c88901-8091-43c5-b734-ce154dba15dc",
   "metadata": {},
   "source": [
    "  "
   ]
  },
  {
   "cell_type": "markdown",
   "id": "5804b4d6-1a07-4548-bfb5-8c08bd12e542",
   "metadata": {},
   "source": [
    "  "
   ]
  },
  {
   "cell_type": "code",
   "execution_count": 1,
   "id": "8a1871a9-7ffc-41ec-9b68-0c94eee48a08",
   "metadata": {},
   "outputs": [],
   "source": [
    "import model as m"
   ]
  },
  {
   "cell_type": "code",
   "execution_count": 2,
   "id": "de77fc8c-3174-4979-8f90-2a9dbdddd04b",
   "metadata": {},
   "outputs": [
    {
     "name": "stdout",
     "output_type": "stream",
     "text": [
      "\n",
      "\n",
      "Logisitic Regression Model (Hyperparameters Used)\n",
      "==================================================\n",
      "\n",
      "Train Accuracy: 0.97\n",
      "\n",
      "\n",
      "Validation Accuracy: 0.78\n",
      "\n"
     ]
    }
   ],
   "source": [
    "m.model_1()"
   ]
  },
  {
   "cell_type": "code",
   "execution_count": 3,
   "id": "837a2921-b32a-4e9f-8a2f-9dcff0a278f7",
   "metadata": {},
   "outputs": [
    {
     "name": "stdout",
     "output_type": "stream",
     "text": [
      "\n",
      "\n",
      "KNearest Neighbors (Hyperparameters Used)\n",
      "==================================================\n",
      "\n",
      "Train Accuracy: 1.00\n",
      "\n",
      "\n",
      "Validation Accuracy: 0.63\n",
      "\n"
     ]
    }
   ],
   "source": [
    "m.model_2()"
   ]
  },
  {
   "cell_type": "code",
   "execution_count": 4,
   "id": "0f5f9341-8b89-448f-ace3-1c32c91838d6",
   "metadata": {},
   "outputs": [
    {
     "name": "stdout",
     "output_type": "stream",
     "text": [
      "\n",
      "\n",
      "XGBClassifier Model (Hyperparameters Used)\n",
      "==================================================\n",
      "\n",
      "Train Accuracy: 1.00\n",
      "\n",
      "\n",
      "Validation Accuracy: 0.75\n",
      "\n"
     ]
    }
   ],
   "source": [
    "m.model_3()"
   ]
  },
  {
   "cell_type": "code",
   "execution_count": 5,
   "id": "3d7245df-df4f-494a-8e12-6cf448a20c4c",
   "metadata": {},
   "outputs": [
    {
     "ename": "NameError",
     "evalue": "name 'lm' is not defined",
     "output_type": "error",
     "traceback": [
      "\u001b[0;31m---------------------------------------------------------------------------\u001b[0m",
      "\u001b[0;31mNameError\u001b[0m                                 Traceback (most recent call last)",
      "Cell \u001b[0;32mIn[5], line 1\u001b[0m\n\u001b[0;32m----> 1\u001b[0m \u001b[43mm\u001b[49m\u001b[38;5;241;43m.\u001b[39;49m\u001b[43mmodel_4\u001b[49m\u001b[43m(\u001b[49m\u001b[43m)\u001b[49m\n",
      "File \u001b[0;32m~/codeup-data-science/github_nlp_project/model.py:188\u001b[0m, in \u001b[0;36mmodel_4\u001b[0;34m()\u001b[0m\n\u001b[1;32m    185\u001b[0m rf\u001b[38;5;241m.\u001b[39mfit(X_train_tfidf, y_train)\n\u001b[1;32m    187\u001b[0m \u001b[38;5;66;03m# Calculate accuracy scores\u001b[39;00m\n\u001b[0;32m--> 188\u001b[0m y_train_res \u001b[38;5;241m=\u001b[39m pd\u001b[38;5;241m.\u001b[39mDataFrame({\u001b[38;5;124m'\u001b[39m\u001b[38;5;124mactual\u001b[39m\u001b[38;5;124m'\u001b[39m: y_train, \u001b[38;5;124m'\u001b[39m\u001b[38;5;124mpreds\u001b[39m\u001b[38;5;124m'\u001b[39m: \u001b[43mlm\u001b[49m\u001b[38;5;241m.\u001b[39mpredict(X_train_tfidf)})\n\u001b[1;32m    189\u001b[0m y_test_res \u001b[38;5;241m=\u001b[39m pd\u001b[38;5;241m.\u001b[39mDataFrame({\u001b[38;5;124m'\u001b[39m\u001b[38;5;124mactual\u001b[39m\u001b[38;5;124m'\u001b[39m: y_tes, \u001b[38;5;124m'\u001b[39m\u001b[38;5;124mpreds\u001b[39m\u001b[38;5;124m'\u001b[39m: lm\u001b[38;5;241m.\u001b[39mpredict(X_test_tfidf)})\n\u001b[1;32m    190\u001b[0m train_accuracy \u001b[38;5;241m=\u001b[39m accuracy_score(y_train_res[\u001b[38;5;124m'\u001b[39m\u001b[38;5;124mactual\u001b[39m\u001b[38;5;124m'\u001b[39m], y_train_res[\u001b[38;5;124m'\u001b[39m\u001b[38;5;124mpreds\u001b[39m\u001b[38;5;124m'\u001b[39m])\n",
      "\u001b[0;31mNameError\u001b[0m: name 'lm' is not defined"
     ]
    }
   ],
   "source": [
    "m.model_4()"
   ]
  }
 ],
 "metadata": {
  "kernelspec": {
   "display_name": "Python 3 (ipykernel)",
   "language": "python",
   "name": "python3"
  },
  "language_info": {
   "codemirror_mode": {
    "name": "ipython",
    "version": 3
   },
   "file_extension": ".py",
   "mimetype": "text/x-python",
   "name": "python",
   "nbconvert_exporter": "python",
   "pygments_lexer": "ipython3",
   "version": "3.10.9"
  }
 },
 "nbformat": 4,
 "nbformat_minor": 5
}
