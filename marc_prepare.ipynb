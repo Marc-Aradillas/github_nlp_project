{
 "cells": [
  {
   "cell_type": "markdown",
   "id": "858f842a-834d-4050-81aa-43f66d775c23",
   "metadata": {},
   "source": [
    "# **Prepare**"
   ]
  },
  {
   "cell_type": "code",
   "execution_count": 1,
   "id": "ae10875b-f37e-42b1-95fe-2a343aea9add",
   "metadata": {},
   "outputs": [],
   "source": [
    "# work used for cleansing the acquire text data and preping it for exploration."
   ]
  },
  {
   "cell_type": "markdown",
   "id": "38899f37-edfb-42a6-b826-7aff5a1302e4",
   "metadata": {},
   "source": [
    "  "
   ]
  },
  {
   "cell_type": "markdown",
   "id": "b228248f-c3eb-44bf-8efc-2872a44863c4",
   "metadata": {},
   "source": [
    "  "
   ]
  },
  {
   "cell_type": "markdown",
   "id": "5221abcd-f20e-448f-984a-e49803fd458d",
   "metadata": {},
   "source": [
    "  "
   ]
  },
  {
   "cell_type": "markdown",
   "id": "3eaa04db-d8d0-4e3d-8114-02f1a26a76b5",
   "metadata": {},
   "source": [
    "  "
   ]
  },
  {
   "cell_type": "markdown",
   "id": "61dae29a-7501-4097-9ac1-c95676e54c3b",
   "metadata": {},
   "source": [
    "  "
   ]
  },
  {
   "cell_type": "markdown",
   "id": "6e258fd6-fbfd-4663-9def-9824618d663e",
   "metadata": {},
   "source": [
    "  "
   ]
  },
  {
   "cell_type": "code",
   "execution_count": 2,
   "id": "3311297b-d287-486f-ad76-87e57032b72d",
   "metadata": {},
   "outputs": [],
   "source": [
    "# imports\n",
    "import json\n",
    "import pandas as pd\n",
    "import prepare as p"
   ]
  },
  {
   "cell_type": "code",
   "execution_count": 3,
   "id": "57b3a0be-f520-4d9e-a841-ead7cf28ce54",
   "metadata": {},
   "outputs": [],
   "source": [
    "# Load the REPOS list from the JSON file\n",
    "file_name = 'repo_processed.json'\n",
    "\n",
    "with open(file_name, 'r') as file:\n",
    "    repos = json.load(file)"
   ]
  },
  {
   "cell_type": "code",
   "execution_count": 4,
   "id": "90669308-383a-47e2-ae28-852992e65608",
   "metadata": {},
   "outputs": [
    {
     "data": {
      "text/html": [
       "<div>\n",
       "<style scoped>\n",
       "    .dataframe tbody tr th:only-of-type {\n",
       "        vertical-align: middle;\n",
       "    }\n",
       "\n",
       "    .dataframe tbody tr th {\n",
       "        vertical-align: top;\n",
       "    }\n",
       "\n",
       "    .dataframe thead th {\n",
       "        text-align: right;\n",
       "    }\n",
       "</style>\n",
       "<table border=\"1\" class=\"dataframe\">\n",
       "  <thead>\n",
       "    <tr style=\"text-align: right;\">\n",
       "      <th></th>\n",
       "      <th>repo</th>\n",
       "      <th>language</th>\n",
       "      <th>readme_contents</th>\n",
       "    </tr>\n",
       "  </thead>\n",
       "  <tbody>\n",
       "    <tr>\n",
       "      <th>0</th>\n",
       "      <td>AtsushiSakai/PythonRobotics</td>\n",
       "      <td>Python</td>\n",
       "      <td>&lt;img src=\"https://github.com/AtsushiSakai/Pyth...</td>\n",
       "    </tr>\n",
       "    <tr>\n",
       "      <th>1</th>\n",
       "      <td>kiloreux/awesome-robotics</td>\n",
       "      <td>None</td>\n",
       "      <td>Awesome Robotics\\n================\\n\\n[![Aweso...</td>\n",
       "    </tr>\n",
       "    <tr>\n",
       "      <th>2</th>\n",
       "      <td>NxRLab/ModernRobotics</td>\n",
       "      <td>Python</td>\n",
       "      <td># Modern Robotics:  Mechanics, Planning, and C...</td>\n",
       "    </tr>\n",
       "    <tr>\n",
       "      <th>3</th>\n",
       "      <td>mithi/robotics-coursework</td>\n",
       "      <td>None</td>\n",
       "      <td># [🐳](https://mithi.github.io/deep-blueberry) ...</td>\n",
       "    </tr>\n",
       "    <tr>\n",
       "      <th>4</th>\n",
       "      <td>onlytailei/CppRobotics</td>\n",
       "      <td>C++</td>\n",
       "      <td># CppRobotics\\n\\nThis is the cpp implementatio...</td>\n",
       "    </tr>\n",
       "    <tr>\n",
       "      <th>...</th>\n",
       "      <td>...</td>\n",
       "      <td>...</td>\n",
       "      <td>...</td>\n",
       "    </tr>\n",
       "    <tr>\n",
       "      <th>672</th>\n",
       "      <td>CatchZeng/dingtalk</td>\n",
       "      <td>Go</td>\n",
       "      <td># dingtalk\\n\\n![Go](https://github.com/CatchZe...</td>\n",
       "    </tr>\n",
       "    <tr>\n",
       "      <th>673</th>\n",
       "      <td>1c7/Translate-Subtitle-File</td>\n",
       "      <td>None</td>\n",
       "      <td>## 字幕组机翻小助手 - [视频演示](https://www.bilibili.com/...</td>\n",
       "    </tr>\n",
       "    <tr>\n",
       "      <th>674</th>\n",
       "      <td>landy22granatt/Kumpulan-Script-Termux</td>\n",
       "      <td>Python</td>\n",
       "      <td>pkg update &amp;&amp; pkg upgrade\\npkg install bash\\np...</td>\n",
       "    </tr>\n",
       "    <tr>\n",
       "      <th>675</th>\n",
       "      <td>cirosantilli/china-dictatorship</td>\n",
       "      <td>HTML</td>\n",
       "      <td>&lt;style&gt;\\npre{ white-space:pre }\\n#header,#cont...</td>\n",
       "    </tr>\n",
       "    <tr>\n",
       "      <th>676</th>\n",
       "      <td>gege-circle/home</td>\n",
       "      <td>None</td>\n",
       "      <td>_Language:_ **中文** | [English](./README_EN.md)...</td>\n",
       "    </tr>\n",
       "  </tbody>\n",
       "</table>\n",
       "<p>677 rows × 3 columns</p>\n",
       "</div>"
      ],
      "text/plain": [
       "                                      repo language  \\\n",
       "0              AtsushiSakai/PythonRobotics   Python   \n",
       "1                kiloreux/awesome-robotics     None   \n",
       "2                    NxRLab/ModernRobotics   Python   \n",
       "3                mithi/robotics-coursework     None   \n",
       "4                   onlytailei/CppRobotics      C++   \n",
       "..                                     ...      ...   \n",
       "672                     CatchZeng/dingtalk       Go   \n",
       "673            1c7/Translate-Subtitle-File     None   \n",
       "674  landy22granatt/Kumpulan-Script-Termux   Python   \n",
       "675        cirosantilli/china-dictatorship     HTML   \n",
       "676                       gege-circle/home     None   \n",
       "\n",
       "                                       readme_contents  \n",
       "0    <img src=\"https://github.com/AtsushiSakai/Pyth...  \n",
       "1    Awesome Robotics\\n================\\n\\n[![Aweso...  \n",
       "2    # Modern Robotics:  Mechanics, Planning, and C...  \n",
       "3    # [🐳](https://mithi.github.io/deep-blueberry) ...  \n",
       "4    # CppRobotics\\n\\nThis is the cpp implementatio...  \n",
       "..                                                 ...  \n",
       "672  # dingtalk\\n\\n![Go](https://github.com/CatchZe...  \n",
       "673  ## 字幕组机翻小助手 - [视频演示](https://www.bilibili.com/...  \n",
       "674  pkg update && pkg upgrade\\npkg install bash\\np...  \n",
       "675  <style>\\npre{ white-space:pre }\\n#header,#cont...  \n",
       "676  _Language:_ **中文** | [English](./README_EN.md)...  \n",
       "\n",
       "[677 rows x 3 columns]"
      ]
     },
     "execution_count": 4,
     "metadata": {},
     "output_type": "execute_result"
    }
   ],
   "source": [
    "# Here we're using pandas to produce datframe\n",
    "repos_df = pd.DataFrame(repos)\n",
    "repos_df"
   ]
  },
  {
   "cell_type": "markdown",
   "id": "30891f51-b49d-478b-8f3e-d1d0289d5bcf",
   "metadata": {},
   "source": [
    "  "
   ]
  },
  {
   "cell_type": "markdown",
   "id": "b19c4914-08a0-4873-a726-4b4768a3d12b",
   "metadata": {},
   "source": [
    "  # Investigation"
   ]
  },
  {
   "cell_type": "code",
   "execution_count": 5,
   "id": "0deea9e5-8fc1-40da-bdc9-9951d7214486",
   "metadata": {},
   "outputs": [
    {
     "data": {
      "text/html": [
       "<div>\n",
       "<style scoped>\n",
       "    .dataframe tbody tr th:only-of-type {\n",
       "        vertical-align: middle;\n",
       "    }\n",
       "\n",
       "    .dataframe tbody tr th {\n",
       "        vertical-align: top;\n",
       "    }\n",
       "\n",
       "    .dataframe thead th {\n",
       "        text-align: right;\n",
       "    }\n",
       "</style>\n",
       "<table border=\"1\" class=\"dataframe\">\n",
       "  <thead>\n",
       "    <tr style=\"text-align: right;\">\n",
       "      <th></th>\n",
       "      <th>repo</th>\n",
       "      <th>language</th>\n",
       "      <th>clean_readme</th>\n",
       "      <th>stemmed</th>\n",
       "      <th>lemmatized</th>\n",
       "    </tr>\n",
       "  </thead>\n",
       "  <tbody>\n",
       "    <tr>\n",
       "      <th>0</th>\n",
       "      <td>AtsushiSakai/PythonRobotics</td>\n",
       "      <td>Python</td>\n",
       "      <td>ython</td>\n",
       "      <td>ython</td>\n",
       "      <td>ython</td>\n",
       "    </tr>\n",
       "    <tr>\n",
       "      <th>1</th>\n",
       "      <td>kiloreux/awesome-robotics</td>\n",
       "      <td>None</td>\n",
       "      <td></td>\n",
       "      <td></td>\n",
       "      <td></td>\n",
       "    </tr>\n",
       "    <tr>\n",
       "      <th>2</th>\n",
       "      <td>NxRLab/ModernRobotics</td>\n",
       "      <td>Python</td>\n",
       "      <td>ython</td>\n",
       "      <td>ython</td>\n",
       "      <td>ython</td>\n",
       "    </tr>\n",
       "    <tr>\n",
       "      <th>3</th>\n",
       "      <td>mithi/robotics-coursework</td>\n",
       "      <td>None</td>\n",
       "      <td></td>\n",
       "      <td></td>\n",
       "      <td></td>\n",
       "    </tr>\n",
       "    <tr>\n",
       "      <th>4</th>\n",
       "      <td>onlytailei/CppRobotics</td>\n",
       "      <td>C++</td>\n",
       "      <td></td>\n",
       "      <td></td>\n",
       "      <td></td>\n",
       "    </tr>\n",
       "  </tbody>\n",
       "</table>\n",
       "</div>"
      ],
      "text/plain": [
       "                          repo language clean_readme stemmed lemmatized\n",
       "0  AtsushiSakai/PythonRobotics   Python        ython   ython      ython\n",
       "1    kiloreux/awesome-robotics     None                                \n",
       "2        NxRLab/ModernRobotics   Python        ython   ython      ython\n",
       "3    mithi/robotics-coursework     None                                \n",
       "4       onlytailei/CppRobotics      C++                                "
      ]
     },
     "execution_count": 5,
     "metadata": {},
     "output_type": "execute_result"
    }
   ],
   "source": [
    "language_df = p.prep_text_data(repos_df,\n",
    "                               'language', \n",
    "                               extra_words = [\n",
    "                                    'C++',\n",
    "                                    'Python',\n",
    "                                    'JavaScript',\n",
    "                                    'C',\n",
    "                                    'Java',\n",
    "                                    'TypeScript',\n",
    "                                    'C#',\n",
    "                                    'Rust',\n",
    "                                    'Ruby',\n",
    "                                    'Kotlin',\n",
    "                                    'Julia',\n",
    "                                    'PHP',\n",
    "                                    'Swift',\n",
    "                                    'Common Lisp',\n",
    "                                    'Scheme',\n",
    "                                    'Dart',\n",
    "                                    'Scala',\n",
    "                                    'Objective-C',\n",
    "                                    'Lua',\n",
    "                                    'Prolog'\n",
    "                               ], \n",
    "                               exclude_words = [\n",
    "                                    \"Jupyter Notebook\",\n",
    "                                    \"HTML\",\n",
    "                                    \"Go\",\n",
    "                                    \"Shell\",\n",
    "                                    \"TeX\",\n",
    "                                    \"CMake\",\n",
    "                                    \"Dockerfile\",\n",
    "                                    \"OpenSCAD\",\n",
    "                                    \"MQL5\",\n",
    "                                    \"Vue\",\n",
    "                                    \"Smali\",\n",
    "                                    \"Matlab\",\n",
    "                                    \"RobotFramework\",\n",
    "                                    \"Cuda\",\n",
    "                                    \"SCSS\"\n",
    "                                ])\n",
    "                                                                                                 \n",
    "language_df.head()"
   ]
  },
  {
   "cell_type": "code",
   "execution_count": 6,
   "id": "fe9faa71-ae43-4c89-856a-3648b201ae5f",
   "metadata": {},
   "outputs": [
    {
     "data": {
      "text/plain": [
       "language\n",
       "C++                 208\n",
       "Python              201\n",
       "JavaScript           35\n",
       "C                    19\n",
       "Jupyter Notebook     19\n",
       "Java                 14\n",
       "TypeScript           14\n",
       "C#                   13\n",
       "HTML                 12\n",
       "Go                   12\n",
       "Rust                 10\n",
       "MATLAB                9\n",
       "Shell                 6\n",
       "TeX                   4\n",
       "Ruby                  4\n",
       "CMake                 4\n",
       "Kotlin                4\n",
       "Julia                 3\n",
       "PHP                   3\n",
       "Dockerfile            3\n",
       "Swift                 2\n",
       "OpenSCAD              2\n",
       "MQL5                  1\n",
       "Common Lisp           1\n",
       "Scheme                1\n",
       "Vue                   1\n",
       "Smali                 1\n",
       "Dart                  1\n",
       "Matlab                1\n",
       "Scala                 1\n",
       "RobotFramework        1\n",
       "Objective-C           1\n",
       "Lua                   1\n",
       "Prolog                1\n",
       "Cuda                  1\n",
       "SCSS                  1\n",
       "Name: count, dtype: int64"
      ]
     },
     "execution_count": 6,
     "metadata": {},
     "output_type": "execute_result"
    }
   ],
   "source": [
    "language_df.language.value_counts()"
   ]
  },
  {
   "cell_type": "markdown",
   "id": "17ba29c9-f31c-4f13-b72c-d1c13e450273",
   "metadata": {},
   "source": [
    "  "
   ]
  },
  {
   "cell_type": "markdown",
   "id": "124c575f-f7d8-4b54-bbff-01fda25d1962",
   "metadata": {},
   "source": [
    "  "
   ]
  },
  {
   "cell_type": "markdown",
   "id": "cbf64b3c-48af-44fa-97f0-b1baa3b2798b",
   "metadata": {},
   "source": [
    "  "
   ]
  },
  {
   "cell_type": "markdown",
   "id": "8dbe68b2-f407-42ec-b967-6c13ab83862b",
   "metadata": {},
   "source": [
    "  "
   ]
  },
  {
   "cell_type": "code",
   "execution_count": 7,
   "id": "2f8ea2ac-8955-4cfa-905b-7bdcba71a07d",
   "metadata": {},
   "outputs": [],
   "source": [
    "# lem and unlem check for ou and html tags"
   ]
  },
  {
   "cell_type": "code",
   "execution_count": 8,
   "id": "a0409c6c-0750-42d2-98ca-42864a582910",
   "metadata": {},
   "outputs": [
    {
     "data": {
      "text/html": [
       "<div>\n",
       "<style scoped>\n",
       "    .dataframe tbody tr th:only-of-type {\n",
       "        vertical-align: middle;\n",
       "    }\n",
       "\n",
       "    .dataframe tbody tr th {\n",
       "        vertical-align: top;\n",
       "    }\n",
       "\n",
       "    .dataframe thead th {\n",
       "        text-align: right;\n",
       "    }\n",
       "</style>\n",
       "<table border=\"1\" class=\"dataframe\">\n",
       "  <thead>\n",
       "    <tr style=\"text-align: right;\">\n",
       "      <th></th>\n",
       "      <th>repo</th>\n",
       "      <th>language</th>\n",
       "      <th>readme_contents</th>\n",
       "    </tr>\n",
       "  </thead>\n",
       "  <tbody>\n",
       "    <tr>\n",
       "      <th>0</th>\n",
       "      <td>AtsushiSakai/PythonRobotics</td>\n",
       "      <td>Python</td>\n",
       "      <td>&lt;img src=\"https://github.com/AtsushiSakai/Pyth...</td>\n",
       "    </tr>\n",
       "    <tr>\n",
       "      <th>1</th>\n",
       "      <td>kiloreux/awesome-robotics</td>\n",
       "      <td>None</td>\n",
       "      <td>Awesome Robotics\\n================\\n\\n[![Aweso...</td>\n",
       "    </tr>\n",
       "    <tr>\n",
       "      <th>2</th>\n",
       "      <td>NxRLab/ModernRobotics</td>\n",
       "      <td>Python</td>\n",
       "      <td># Modern Robotics:  Mechanics, Planning, and C...</td>\n",
       "    </tr>\n",
       "    <tr>\n",
       "      <th>3</th>\n",
       "      <td>mithi/robotics-coursework</td>\n",
       "      <td>None</td>\n",
       "      <td># [🐳](https://mithi.github.io/deep-blueberry) ...</td>\n",
       "    </tr>\n",
       "    <tr>\n",
       "      <th>4</th>\n",
       "      <td>onlytailei/CppRobotics</td>\n",
       "      <td>C++</td>\n",
       "      <td># CppRobotics\\n\\nThis is the cpp implementatio...</td>\n",
       "    </tr>\n",
       "    <tr>\n",
       "      <th>...</th>\n",
       "      <td>...</td>\n",
       "      <td>...</td>\n",
       "      <td>...</td>\n",
       "    </tr>\n",
       "    <tr>\n",
       "      <th>672</th>\n",
       "      <td>CatchZeng/dingtalk</td>\n",
       "      <td>Go</td>\n",
       "      <td># dingtalk\\n\\n![Go](https://github.com/CatchZe...</td>\n",
       "    </tr>\n",
       "    <tr>\n",
       "      <th>673</th>\n",
       "      <td>1c7/Translate-Subtitle-File</td>\n",
       "      <td>None</td>\n",
       "      <td>## 字幕组机翻小助手 - [视频演示](https://www.bilibili.com/...</td>\n",
       "    </tr>\n",
       "    <tr>\n",
       "      <th>674</th>\n",
       "      <td>landy22granatt/Kumpulan-Script-Termux</td>\n",
       "      <td>Python</td>\n",
       "      <td>pkg update &amp;&amp; pkg upgrade\\npkg install bash\\np...</td>\n",
       "    </tr>\n",
       "    <tr>\n",
       "      <th>675</th>\n",
       "      <td>cirosantilli/china-dictatorship</td>\n",
       "      <td>HTML</td>\n",
       "      <td>&lt;style&gt;\\npre{ white-space:pre }\\n#header,#cont...</td>\n",
       "    </tr>\n",
       "    <tr>\n",
       "      <th>676</th>\n",
       "      <td>gege-circle/home</td>\n",
       "      <td>None</td>\n",
       "      <td>_Language:_ **中文** | [English](./README_EN.md)...</td>\n",
       "    </tr>\n",
       "  </tbody>\n",
       "</table>\n",
       "<p>677 rows × 3 columns</p>\n",
       "</div>"
      ],
      "text/plain": [
       "                                      repo language  \\\n",
       "0              AtsushiSakai/PythonRobotics   Python   \n",
       "1                kiloreux/awesome-robotics     None   \n",
       "2                    NxRLab/ModernRobotics   Python   \n",
       "3                mithi/robotics-coursework     None   \n",
       "4                   onlytailei/CppRobotics      C++   \n",
       "..                                     ...      ...   \n",
       "672                     CatchZeng/dingtalk       Go   \n",
       "673            1c7/Translate-Subtitle-File     None   \n",
       "674  landy22granatt/Kumpulan-Script-Termux   Python   \n",
       "675        cirosantilli/china-dictatorship     HTML   \n",
       "676                       gege-circle/home     None   \n",
       "\n",
       "                                       readme_contents  \n",
       "0    <img src=\"https://github.com/AtsushiSakai/Pyth...  \n",
       "1    Awesome Robotics\\n================\\n\\n[![Aweso...  \n",
       "2    # Modern Robotics:  Mechanics, Planning, and C...  \n",
       "3    # [🐳](https://mithi.github.io/deep-blueberry) ...  \n",
       "4    # CppRobotics\\n\\nThis is the cpp implementatio...  \n",
       "..                                                 ...  \n",
       "672  # dingtalk\\n\\n![Go](https://github.com/CatchZe...  \n",
       "673  ## 字幕组机翻小助手 - [视频演示](https://www.bilibili.com/...  \n",
       "674  pkg update && pkg upgrade\\npkg install bash\\np...  \n",
       "675  <style>\\npre{ white-space:pre }\\n#header,#cont...  \n",
       "676  _Language:_ **中文** | [English](./README_EN.md)...  \n",
       "\n",
       "[677 rows x 3 columns]"
      ]
     },
     "execution_count": 8,
     "metadata": {},
     "output_type": "execute_result"
    }
   ],
   "source": [
    "# Load the REPOS list from the JSON file\n",
    "with open(file_name, 'r') as file:\n",
    "    repo_loaded = json.load(file)\n",
    "    \n",
    "repos_df = pd.DataFrame(repo_loaded)\n",
    "\n",
    "repos_df"
   ]
  },
  {
   "cell_type": "markdown",
   "id": "68738e83-6dab-4c0c-8dc0-d0ad37f9678a",
   "metadata": {},
   "source": [
    "  "
   ]
  },
  {
   "cell_type": "markdown",
   "id": "68e2fc8a-8279-4a28-8602-362baf8c68a9",
   "metadata": {},
   "source": [
    "  "
   ]
  },
  {
   "cell_type": "markdown",
   "id": "4b981e23-dc11-4e91-b571-38385eaa874a",
   "metadata": {},
   "source": [
    "  "
   ]
  },
  {
   "cell_type": "markdown",
   "id": "edc8eb15-14f4-48d6-8453-e844068be1c6",
   "metadata": {},
   "source": [
    "  "
   ]
  },
  {
   "cell_type": "markdown",
   "id": "8ea9b703-4b01-40f7-9948-50b682be4376",
   "metadata": {},
   "source": [
    "  "
   ]
  },
  {
   "cell_type": "markdown",
   "id": "7467b331-d9d6-4989-9e5c-86545a11b0ab",
   "metadata": {},
   "source": [
    "  "
   ]
  },
  {
   "cell_type": "markdown",
   "id": "8b15587d-bc8a-45aa-8c6e-2a0609a13f79",
   "metadata": {},
   "source": [
    "# Johns Process Dataframe function (edited) check for odd words in result"
   ]
  },
  {
   "cell_type": "code",
   "execution_count": 9,
   "id": "638cb766-92c8-4b4c-92e0-07c8dd0c08c2",
   "metadata": {},
   "outputs": [],
   "source": [
    "import prepare as p\n",
    "# Function to apply cleaning and processing functions from prepare.py\n",
    "def process_dataframe(df, extra_words= [], exclude_words= []):\n",
    "    # Create a new column 'original' and assign the values from 'content'\n",
    "    df['original'] = df['readme_contents']\n",
    "    \n",
    "    # Apply the basic_clean function to 'original', then tokenize the result, and remove stopwords\n",
    "    df['clean'] = df['original'].apply(p.basic_clean).apply(p.tokenize)\n",
    "    \n",
    "    df['remove_stopwords'] = df['clean'].apply(lambda x: p.remove_stopwords(x, extra_words, exclude_words))\n",
    "    \n",
    "    # Apply the stem function to 'clean' column\n",
    "    df['stemmed'] = df['remove_stopwords'].apply(p.stem)\n",
    "    \n",
    "    # Apply the lemmatize function to 'clean' column\n",
    "    df['lemmatized'] = df['remove_stopwords'].apply(p.lemmatize)\n",
    "    \n",
    "    # Drop the 'content' column from the dataframe\n",
    "    df = df.drop(columns='readme_contents', axis=1)\n",
    "    \n",
    "    # Return the modified dataframe\n",
    "    return df"
   ]
  },
  {
   "cell_type": "markdown",
   "id": "2fed6562-f05f-4f80-9243-7af5bcba0030",
   "metadata": {},
   "source": [
    "  "
   ]
  },
  {
   "cell_type": "code",
   "execution_count": 10,
   "id": "aecf385e-f415-46df-890f-e9ce8c44bc89",
   "metadata": {},
   "outputs": [
    {
     "data": {
      "text/html": [
       "<div>\n",
       "<style scoped>\n",
       "    .dataframe tbody tr th:only-of-type {\n",
       "        vertical-align: middle;\n",
       "    }\n",
       "\n",
       "    .dataframe tbody tr th {\n",
       "        vertical-align: top;\n",
       "    }\n",
       "\n",
       "    .dataframe thead th {\n",
       "        text-align: right;\n",
       "    }\n",
       "</style>\n",
       "<table border=\"1\" class=\"dataframe\">\n",
       "  <thead>\n",
       "    <tr style=\"text-align: right;\">\n",
       "      <th></th>\n",
       "      <th></th>\n",
       "      <th>lemmatized</th>\n",
       "      <th>un_lemmatized</th>\n",
       "    </tr>\n",
       "  </thead>\n",
       "  <tbody>\n",
       "    <tr>\n",
       "      <th rowspan=\"3\" valign=\"top\">0</th>\n",
       "      <th>238</th>\n",
       "      <td>ou</td>\n",
       "      <td>ou</td>\n",
       "    </tr>\n",
       "    <tr>\n",
       "      <th>1040</th>\n",
       "      <td>ou</td>\n",
       "      <td>ou</td>\n",
       "    </tr>\n",
       "    <tr>\n",
       "      <th>1101</th>\n",
       "      <td>ou</td>\n",
       "      <td>ou</td>\n",
       "    </tr>\n",
       "    <tr>\n",
       "      <th>8</th>\n",
       "      <th>459</th>\n",
       "      <td>ou</td>\n",
       "      <td>ou</td>\n",
       "    </tr>\n",
       "    <tr>\n",
       "      <th>9</th>\n",
       "      <th>244</th>\n",
       "      <td>ou</td>\n",
       "      <td>ou</td>\n",
       "    </tr>\n",
       "    <tr>\n",
       "      <th>...</th>\n",
       "      <th>...</th>\n",
       "      <td>...</td>\n",
       "      <td>...</td>\n",
       "    </tr>\n",
       "    <tr>\n",
       "      <th>663</th>\n",
       "      <th>972</th>\n",
       "      <td>ou</td>\n",
       "      <td>ou</td>\n",
       "    </tr>\n",
       "    <tr>\n",
       "      <th rowspan=\"2\" valign=\"top\">669</th>\n",
       "      <th>193</th>\n",
       "      <td>ou</td>\n",
       "      <td>ou</td>\n",
       "    </tr>\n",
       "    <tr>\n",
       "      <th>244</th>\n",
       "      <td>ou</td>\n",
       "      <td>ou</td>\n",
       "    </tr>\n",
       "    <tr>\n",
       "      <th rowspan=\"2\" valign=\"top\">670</th>\n",
       "      <th>307</th>\n",
       "      <td>ou</td>\n",
       "      <td>ou</td>\n",
       "    </tr>\n",
       "    <tr>\n",
       "      <th>1279</th>\n",
       "      <td>ou</td>\n",
       "      <td>ou</td>\n",
       "    </tr>\n",
       "  </tbody>\n",
       "</table>\n",
       "<p>865 rows × 2 columns</p>\n",
       "</div>"
      ],
      "text/plain": [
       "         lemmatized un_lemmatized\n",
       "0   238          ou            ou\n",
       "    1040         ou            ou\n",
       "    1101         ou            ou\n",
       "8   459          ou            ou\n",
       "9   244          ou            ou\n",
       "...             ...           ...\n",
       "663 972          ou            ou\n",
       "669 193          ou            ou\n",
       "    244          ou            ou\n",
       "670 307          ou            ou\n",
       "    1279         ou            ou\n",
       "\n",
       "[865 rows x 2 columns]"
      ]
     },
     "execution_count": 10,
     "metadata": {},
     "output_type": "execute_result"
    }
   ],
   "source": [
    "# Run the cleaning script\n",
    "extra_words = []\n",
    "exclude_words = []\n",
    "repos_df = process_dataframe(repos_df, extra_words, exclude_words)\n",
    "# rename to un_lemmatized\n",
    "repos_df['un_lemmatized'] = repos_df['remove_stopwords']\n",
    "# get rid of the unnecessary processed columns \n",
    "repos_df = repos_df.drop(columns=['original', 'clean', 'remove_stopwords', 'stemmed'])#, 'lemmatized'])\n",
    "# Remove repos without a readme\n",
    "repos_df = repos_df[repos_df['un_lemmatized'] != 'failtoloadreadme']\n",
    "# Split lemmatized text and stack it into a DataFrame\n",
    "all_words_lemmatized = repos_df.lemmatized.str.split(expand=True).stack()\n",
    "all_words_un_lemmatized = repos_df.un_lemmatized.str.split(expand=True).stack()\n",
    "# combine the two pd series we created in the step before into a single df\n",
    "all_words_df = pd.DataFrame({\n",
    "    'lemmatized': all_words_lemmatized,\n",
    "    'un_lemmatized': all_words_un_lemmatized\n",
    "})\n",
    "\n",
    "# filter the df by lemmatized\n",
    "filtered_rows = all_words_df[all_words_df.lemmatized == 'ou']\n",
    "filtered_rows"
   ]
  },
  {
   "cell_type": "code",
   "execution_count": 11,
   "id": "dae50f42-d876-4593-ad33-ef067bf906a5",
   "metadata": {},
   "outputs": [
    {
     "data": {
      "text/plain": [
       "865"
      ]
     },
     "execution_count": 11,
     "metadata": {},
     "output_type": "execute_result"
    }
   ],
   "source": [
    "len(filtered_rows)"
   ]
  },
  {
   "cell_type": "markdown",
   "id": "9af624ed-b355-400d-8be6-be2fca5487af",
   "metadata": {},
   "source": [
    "  "
   ]
  },
  {
   "cell_type": "markdown",
   "id": "ab2c6e7f-e6c7-4762-82ff-aef9894af8d3",
   "metadata": {},
   "source": [
    "  "
   ]
  },
  {
   "cell_type": "markdown",
   "id": "2268f12a-02b9-440d-a6c3-9e3f122a57a0",
   "metadata": {},
   "source": [
    "  "
   ]
  },
  {
   "cell_type": "markdown",
   "id": "74863b66-8869-421d-a773-4fa96f433040",
   "metadata": {},
   "source": [
    "  "
   ]
  },
  {
   "cell_type": "markdown",
   "id": "39e0df5c-ec29-493d-9c70-83b145ca202d",
   "metadata": {},
   "source": [
    "  "
   ]
  },
  {
   "cell_type": "markdown",
   "id": "6516cfa9-6442-4235-8cad-771c32175204",
   "metadata": {},
   "source": [
    "  "
   ]
  },
  {
   "cell_type": "markdown",
   "id": "abdac686-d6f2-4033-a139-045a783e6dc8",
   "metadata": {},
   "source": [
    "  "
   ]
  },
  {
   "cell_type": "markdown",
   "id": "2ebfde4a-1a95-4ccc-a8a3-1acf659b915f",
   "metadata": {},
   "source": [
    "  # Cleaning"
   ]
  },
  {
   "cell_type": "code",
   "execution_count": 12,
   "id": "6489ac0e-a130-4287-8285-b59013679389",
   "metadata": {},
   "outputs": [],
   "source": [
    "file_name = 'repo_processed.json'\n",
    "\n",
    "with open(file_name, 'r') as file:\n",
    "    repos = json.load(file)"
   ]
  },
  {
   "cell_type": "code",
   "execution_count": 17,
   "id": "7a905f33-5ccb-4090-8038-abff08835b05",
   "metadata": {},
   "outputs": [],
   "source": [
    "import prepare as p\n",
    "\n",
    "repos_df = pd.DataFrame(repos)\n",
    "\n",
    "# Apply the clean function element-wise to the 'readme_contents' column\n",
    "repos_df['clean_readme'] = repos_df['readme_contents'].apply(lambda x: p.clean(x, extra_stopwords=[]))\n",
    "# Filter rows with 'readme_contents' not equal to 'FailToLoadReadME'\n",
    "repos_df = repos_df[repos_df['readme_contents'] != 'FailToLoadReadME']\n",
    "\n",
    "# Drop the 'readme_contents' column\n",
    "repos_df.drop(columns='readme_contents', inplace=True)\n",
    "\n",
    "# Filter rows where 'language' is not NaN and reset the index\n",
    "repos_df = repos_df[repos_df.language.notna()].reset_index(drop=True)"
   ]
  },
  {
   "cell_type": "code",
   "execution_count": 18,
   "id": "dab338c3-f465-4b26-a1fe-063d44a9d058",
   "metadata": {},
   "outputs": [
    {
     "name": "stdout",
     "output_type": "stream",
     "text": [
      "<class 'pandas.core.frame.DataFrame'>\n",
      "RangeIndex: 611 entries, 0 to 610\n",
      "Data columns (total 3 columns):\n",
      " #   Column        Non-Null Count  Dtype \n",
      "---  ------        --------------  ----- \n",
      " 0   repo          611 non-null    object\n",
      " 1   language      611 non-null    object\n",
      " 2   clean_readme  611 non-null    object\n",
      "dtypes: object(3)\n",
      "memory usage: 14.4+ KB\n"
     ]
    }
   ],
   "source": [
    "repos_df.info()"
   ]
  },
  {
   "cell_type": "code",
   "execution_count": 19,
   "id": "5488601d-0814-43a8-ba66-28460c70b951",
   "metadata": {},
   "outputs": [
    {
     "data": {
      "text/html": [
       "<div>\n",
       "<style scoped>\n",
       "    .dataframe tbody tr th:only-of-type {\n",
       "        vertical-align: middle;\n",
       "    }\n",
       "\n",
       "    .dataframe tbody tr th {\n",
       "        vertical-align: top;\n",
       "    }\n",
       "\n",
       "    .dataframe thead th {\n",
       "        text-align: right;\n",
       "    }\n",
       "</style>\n",
       "<table border=\"1\" class=\"dataframe\">\n",
       "  <thead>\n",
       "    <tr style=\"text-align: right;\">\n",
       "      <th></th>\n",
       "      <th>repo</th>\n",
       "      <th>language</th>\n",
       "      <th>clean_readme</th>\n",
       "    </tr>\n",
       "  </thead>\n",
       "  <tbody>\n",
       "    <tr>\n",
       "      <th>0</th>\n",
       "      <td>AtsushiSakai/PythonRobotics</td>\n",
       "      <td>Python</td>\n",
       "      <td>img srchttpsgithubcomtsushiakaiythonoboticsraw...</td>\n",
       "    </tr>\n",
       "    <tr>\n",
       "      <th>1</th>\n",
       "      <td>NxRLab/ModernRobotics</td>\n",
       "      <td>Python</td>\n",
       "      <td>odern obotics echanics lanning ontrol ode ibra...</td>\n",
       "    </tr>\n",
       "    <tr>\n",
       "      <th>2</th>\n",
       "      <td>onlytailei/CppRobotics</td>\n",
       "      <td>C++</td>\n",
       "      <td>ppobotics cpp implementation ythonoboticshttps...</td>\n",
       "    </tr>\n",
       "    <tr>\n",
       "      <th>3</th>\n",
       "      <td>JdeRobot/RoboticsAcademy</td>\n",
       "      <td>JavaScript</td>\n",
       "      <td>hrefhttpsjderobotgithubioimg srcimglogogif wid...</td>\n",
       "    </tr>\n",
       "    <tr>\n",
       "      <th>4</th>\n",
       "      <td>pptacher/probabilistic_robotics</td>\n",
       "      <td>C++</td>\n",
       "      <td>probabilisticrobotics working detailed solutio...</td>\n",
       "    </tr>\n",
       "  </tbody>\n",
       "</table>\n",
       "</div>"
      ],
      "text/plain": [
       "                              repo    language  \\\n",
       "0      AtsushiSakai/PythonRobotics      Python   \n",
       "1            NxRLab/ModernRobotics      Python   \n",
       "2           onlytailei/CppRobotics         C++   \n",
       "3         JdeRobot/RoboticsAcademy  JavaScript   \n",
       "4  pptacher/probabilistic_robotics         C++   \n",
       "\n",
       "                                        clean_readme  \n",
       "0  img srchttpsgithubcomtsushiakaiythonoboticsraw...  \n",
       "1  odern obotics echanics lanning ontrol ode ibra...  \n",
       "2  ppobotics cpp implementation ythonoboticshttps...  \n",
       "3  hrefhttpsjderobotgithubioimg srcimglogogif wid...  \n",
       "4  probabilisticrobotics working detailed solutio...  "
      ]
     },
     "execution_count": 19,
     "metadata": {},
     "output_type": "execute_result"
    }
   ],
   "source": [
    "repos_df.head()"
   ]
  },
  {
   "cell_type": "code",
   "execution_count": null,
   "id": "fe8e6e28-df8c-43c8-b1fa-ba7927c2562b",
   "metadata": {
    "scrolled": true
   },
   "outputs": [],
   "source": [
    "# repos_dfiloc[10.clean_readme]."
   ]
  },
  {
   "cell_type": "code",
   "execution_count": null,
   "id": "b92190bc-ba5e-4b3d-8c40-2015e88e4ca1",
   "metadata": {},
   "outputs": [],
   "source": [
    "from collections import Counter\n",
    "\n",
    "# Analyze the 'clean_readme' column to identify common words\n",
    "common_words = ' '.join(repos_df['clean_readme']).split()\n",
    "word_counts = Counter(common_words)"
   ]
  },
  {
   "cell_type": "code",
   "execution_count": null,
   "id": "ca675db8-3946-48e1-bd81-443a48dbb69f",
   "metadata": {
    "scrolled": true
   },
   "outputs": [],
   "source": [
    "word_counts"
   ]
  },
  {
   "cell_type": "code",
   "execution_count": null,
   "id": "8adc32af-1fca-4377-89c3-1b2a9479933d",
   "metadata": {
    "scrolled": true
   },
   "outputs": [],
   "source": [
    "common_words"
   ]
  },
  {
   "cell_type": "code",
   "execution_count": null,
   "id": "235c0460-60e3-4eb6-8599-912af1bc3693",
   "metadata": {
    "scrolled": true
   },
   "outputs": [],
   "source": [
    "\n",
    "# Filter for words with lengths between 4 and 10 characters\n",
    "common_words_3_to_10 = [word for word, count in word_counts.items() if 3 <= len(word) <= 10]\n",
    "\n",
    "# Create a list of the most common words with lengths between 4 and 10 characters\n",
    "most_common_words_3_to_10 = [(word, count) for word, count in word_counts.items() if 3 <= len(word) <= 10]\n",
    "\n",
    "# Sort the list by count in descending order\n",
    "most_common_words_3_to_10.sort(key=lambda x: x[1], reverse=True)\n",
    "\n",
    "# Return the most common words with lengths between 4 and 10 characters\n",
    "most_common_words_3_to_10\n"
   ]
  },
  {
   "cell_type": "markdown",
   "id": "39e26b0d-cc85-4e96-b226-33e6b3528885",
   "metadata": {},
   "source": [
    "  "
   ]
  },
  {
   "cell_type": "markdown",
   "id": "9d1c24c3-7482-471c-a45a-46113fddaf45",
   "metadata": {},
   "source": [
    "  "
   ]
  },
  {
   "cell_type": "markdown",
   "id": "f7c4667a-aa7e-498f-8ac6-2baee529ba9b",
   "metadata": {},
   "source": [
    "  "
   ]
  },
  {
   "cell_type": "markdown",
   "id": "895cc7ef-bb56-4521-999a-d2060aeb47e5",
   "metadata": {},
   "source": [
    "  "
   ]
  },
  {
   "cell_type": "markdown",
   "id": "45130b4e-0d93-48bb-a053-99e612b5829d",
   "metadata": {},
   "source": [
    "  "
   ]
  },
  {
   "cell_type": "markdown",
   "id": "847d67bb-b87f-4d3d-85b0-e5cc4c6840d6",
   "metadata": {},
   "source": [
    "  "
   ]
  },
  {
   "cell_type": "markdown",
   "id": "9931fdd9-6423-4eac-ab2d-877b1c6e4df1",
   "metadata": {},
   "source": [
    "  "
   ]
  },
  {
   "cell_type": "markdown",
   "id": "b088a16e-e49c-4392-bd96-729e22a79a0b",
   "metadata": {},
   "source": [
    "  "
   ]
  },
  {
   "cell_type": "markdown",
   "id": "5741d993-cbee-4a50-95a8-faa546ee4401",
   "metadata": {},
   "source": [
    "  "
   ]
  },
  {
   "cell_type": "markdown",
   "id": "8ecb0336-b391-4dc0-b4d6-dc460cdc84cd",
   "metadata": {},
   "source": [
    "  "
   ]
  },
  {
   "cell_type": "code",
   "execution_count": null,
   "id": "52b7aa47-1996-4239-af8f-ac2ca2d76928",
   "metadata": {},
   "outputs": [],
   "source": [
    "# Load the REPOS list from the JSON file\n",
    "with open(file_name, 'r') as file:\n",
    "    repo_loaded = json.load(file)\n",
    "    \n",
    "repos_df = pd.DataFrame(repo_loaded)\n",
    "\n",
    "# Run the cleaning script\n",
    "extra_words = []\n",
    "exclude_words = []\n",
    "repos_df = process_dataframe(repos_df, extra_words, exclude_words)\n",
    "# rename to un_lemmatized\n",
    "repos_df['un_lemmatized'] = repos_df['remove_stopwords']\n",
    "# get rid of the unnecessary processed columns \n",
    "repos_df = repos_df.drop(columns=['original', 'clean', 'remove_stopwords', 'stemmed'])#, 'lemmatized'])\n",
    "# Remove repos without a readme\n",
    "repos_df = repos_df[repos_df['un_lemmatized'] != 'failtoloadreadme']\n",
    "# Split lemmatized text and stack it into a DataFrame\n",
    "all_words_lemmatized = repos_df.lemmatized.str.split(expand=True).stack()\n",
    "all_words_un_lemmatized = repos_df.un_lemmatized.str.split(expand=True).stack()\n",
    "# combine the two pd series we created in the step before into a single df\n",
    "all_words_df = pd.DataFrame({\n",
    "    'lemmatized': all_words_lemmatized,\n",
    "    'un_lemmatized': all_words_un_lemmatized\n",
    "})\n",
    "\n",
    "# filter the df by lemmatized\n",
    "filtered_rows = all_words_df[all_words_df.lemmatized == 'ou']\n",
    "filtered_rows"
   ]
  },
  {
   "cell_type": "code",
   "execution_count": null,
   "id": "aef5361d-5db9-46ac-989c-3fc34318a3b5",
   "metadata": {},
   "outputs": [],
   "source": [
    "len(filtered_rows)"
   ]
  },
  {
   "cell_type": "code",
   "execution_count": null,
   "id": "2a958acd-cd7f-49a6-a547-a83a77ece91a",
   "metadata": {},
   "outputs": [],
   "source": []
  },
  {
   "cell_type": "markdown",
   "id": "21a29014-a53c-465c-99fb-eeea4577e915",
   "metadata": {},
   "source": [
    "  "
   ]
  },
  {
   "cell_type": "markdown",
   "id": "0bdb6d49-e82e-44ea-a044-15d933c9e496",
   "metadata": {},
   "source": [
    "  "
   ]
  },
  {
   "cell_type": "markdown",
   "id": "9c4b8f60-bbcd-45c5-81d2-b3fb9a78f2ce",
   "metadata": {},
   "source": [
    "  "
   ]
  },
  {
   "cell_type": "markdown",
   "id": "995f5e28-8147-45a6-af69-3394cab684df",
   "metadata": {},
   "source": [
    "  "
   ]
  },
  {
   "cell_type": "markdown",
   "id": "e7762f71-9715-49b9-a57c-a548a3007e94",
   "metadata": {},
   "source": [
    "  "
   ]
  },
  {
   "cell_type": "markdown",
   "id": "dd75d723-ac00-46e5-96e7-a53f88ad1d11",
   "metadata": {},
   "source": [
    "  "
   ]
  },
  {
   "cell_type": "markdown",
   "id": "6357cade-e471-4cef-b97b-b6aa8ac7c3f7",
   "metadata": {},
   "source": [
    "  "
   ]
  },
  {
   "cell_type": "markdown",
   "id": "e37641be-01d1-4934-b6c8-7263e6160b7f",
   "metadata": {},
   "source": [
    "  "
   ]
  },
  {
   "cell_type": "code",
   "execution_count": null,
   "id": "df1df281-5d5b-4ef0-a8be-d35196eb8414",
   "metadata": {},
   "outputs": [],
   "source": [
    "repos_df.head()  "
   ]
  },
  {
   "cell_type": "code",
   "execution_count": null,
   "id": "1c8321c3-2e24-4b69-8727-0ac4b91d3ef1",
   "metadata": {},
   "outputs": [],
   "source": [
    "ham_words = clean(' '.join(df[df.label == 'ham'].text))\n",
    "spam_words = clean(' '.join(df[df.label == 'spam'].text))\n",
    "all_words = clean(' '.join(df.text)) "
   ]
  }
 ],
 "metadata": {
  "kernelspec": {
   "display_name": "Python 3 (ipykernel)",
   "language": "python",
   "name": "python3"
  },
  "language_info": {
   "codemirror_mode": {
    "name": "ipython",
    "version": 3
   },
   "file_extension": ".py",
   "mimetype": "text/x-python",
   "name": "python",
   "nbconvert_exporter": "python",
   "pygments_lexer": "ipython3",
   "version": "3.10.9"
  }
 },
 "nbformat": 4,
 "nbformat_minor": 5
}
