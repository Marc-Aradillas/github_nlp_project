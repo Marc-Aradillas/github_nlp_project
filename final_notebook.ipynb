{
 "cells": [
  {
   "cell_type": "markdown",
   "id": "24cecc0a-1755-4e3c-883e-e5cbc5b29f79",
   "metadata": {},
   "source": [
    "# NLP-Based GitHub Language Predictor Project"
   ]
  },
  {
   "cell_type": "markdown",
   "id": "e0a1d7e8-714b-4259-b1b3-3fcb0ce6fc08",
   "metadata": {},
   "source": [
    "- Predict the tax assessed property value of Zillow Single Family Residential properties with transaction dates in 2017.\n"
   ]
  },
  {
   "cell_type": "markdown",
   "id": "f0fb2cf7-4836-4fe9-ad28-e0eb2573ce69",
   "metadata": {},
   "source": [
    "# Goal"
   ]
  },
  {
   "cell_type": "markdown",
   "id": "f9baa552-c300-4d47-bff3-e87ee6c6b44c",
   "metadata": {},
   "source": [
    "- Identify drivers of property value.\n",
    "- Use drivers to develop a machine learning model to predict Single Family Residential property value."
   ]
  },
  {
   "cell_type": "markdown",
   "id": "44d6b0e9-aa33-416e-ab2e-6834ce1fa1c9",
   "metadata": {},
   "source": [
    "# Imports"
   ]
  },
  {
   "cell_type": "code",
   "execution_count": 1,
   "id": "6200bae8-2fc8-475e-b70e-4f19580b1464",
   "metadata": {},
   "outputs": [
    {
     "name": "stderr",
     "output_type": "stream",
     "text": [
      "[nltk_data] Downloading package wordnet to\n",
      "[nltk_data]     /Users/jongarcia/nltk_data...\n",
      "[nltk_data]   Package wordnet is already up-to-date!\n"
     ]
    }
   ],
   "source": [
    "# local imports\n",
    "import acquire as aqr\n",
    "import prepare as prep\n",
    "import explore as exp\n",
    "import visual as vis\n",
    "# import model as m\n",
    "\n",
    "import pandas as pd\n",
    "import numpy as np\n",
    "import os\n",
    "import json"
   ]
  },
  {
   "cell_type": "markdown",
   "id": "cfde8ce8-3602-442a-be6e-41346fad5fea",
   "metadata": {},
   "source": [
    "# Acquire"
   ]
  },
  {
   "cell_type": "markdown",
   "id": "7ea76931-2e38-45ec-afdc-1f0d33fd054d",
   "metadata": {},
   "source": [
    "- Data acquired from GitHub's API \n",
    "- Data initially acquired on 19 Oct, 2023.\n",
    "- It contained 677 rows and 3 columns before cleaning.\n",
    "- Each row represents a unique repository for repositories starred more than 200 times and based on robotics projects.\n",
    "- The columns (repos, readme) represented the label and text associated for each repo."
   ]
  },
  {
   "cell_type": "markdown",
   "id": "facf86ba-c479-47a8-9250-c5a8be697165",
   "metadata": {},
   "source": [
    "# Prepare"
   ]
  },
  {
   "cell_type": "markdown",
   "id": "74fba5cb-ed89-438d-9234-727f4a2fff75",
   "metadata": {},
   "source": [
    "## Data Preprocessing Steps\n",
    "\n",
    "### **Replacing Null/NaN Values:**\n",
    "   - no null values were replaced.\n",
    "\n",
    "###  **Column Renaming:**\n",
    "   - renamed reame_contents column to shorten.\n",
    "\n",
    "###  **Column Removal:**\n",
    "   - Removed columns that did not contain useful information:\n",
    "     - Columns with repo names\n",
    "         - Repo names were used to retrieve text language and text data so it was no longer needed after retrieval.\n",
    "\n",
    "### **Row Handling:**\n",
    "   - All rows were revised and html tags, links, and other characters that were not useful were dropped.\n",
    "   - Decreased feature space from 677 to 609 observation.\n",
    "\n",
    "### **Data Type Validation:**\n",
    "   - Checked and ensured that column data types were appropriate.\n",
    "\n",
    "### **Feature Engineering:**\n",
    "   - Bigrams, Trigrams as new features\n",
    "\n",
    "### **Data Splitting:**\n",
    "   - Split the data into three sets for modeling: training, validation, and test, with an approximate split of 70/15/15."
   ]
  },
  {
   "cell_type": "markdown",
   "id": "27a37e4a-a4f1-48e2-bf23-1fc9b42bd74a",
   "metadata": {},
   "source": []
  },
  {
   "cell_type": "markdown",
   "id": "5a813ce4-0ace-44f6-84da-8e3116a4d9f1",
   "metadata": {},
   "source": [
    "  "
   ]
  },
  {
   "cell_type": "markdown",
   "id": "6df5a297-0714-4da6-a421-66662cffb062",
   "metadata": {},
   "source": [
    "  "
   ]
  },
  {
   "cell_type": "markdown",
   "id": "78d6ca84-405e-44d0-a978-1f1ecd482b4a",
   "metadata": {},
   "source": [
    "  "
   ]
  },
  {
   "cell_type": "code",
   "execution_count": 2,
   "id": "4c52decc",
   "metadata": {},
   "outputs": [],
   "source": [
    "# Load the prepared DataFrame\n",
    "repos_df =  pd.read_csv('processed_repos.csv', index_col= 0)"
   ]
  },
  {
   "cell_type": "markdown",
   "id": "1738b60c-eeea-4dd3-89b4-e87eded2ea8f",
   "metadata": {},
   "source": [
    "  "
   ]
  },
  {
   "cell_type": "markdown",
   "id": "b1e58fe3-defa-4691-a67d-e615651f8800",
   "metadata": {},
   "source": [
    "  "
   ]
  },
  {
   "cell_type": "markdown",
   "id": "3f1b0179-85e4-44a8-85ee-c537c299beb1",
   "metadata": {},
   "source": [
    "### Quick view of data,"
   ]
  },
  {
   "cell_type": "code",
   "execution_count": 3,
   "id": "775212ee-d158-4177-a7ec-860cb78784e8",
   "metadata": {
    "scrolled": true
   },
   "outputs": [
    {
     "data": {
      "text/html": [
       "<div>\n",
       "<style scoped>\n",
       "    .dataframe tbody tr th:only-of-type {\n",
       "        vertical-align: middle;\n",
       "    }\n",
       "\n",
       "    .dataframe tbody tr th {\n",
       "        vertical-align: top;\n",
       "    }\n",
       "\n",
       "    .dataframe thead th {\n",
       "        text-align: right;\n",
       "    }\n",
       "</style>\n",
       "<table border=\"1\" class=\"dataframe\">\n",
       "  <thead>\n",
       "    <tr style=\"text-align: right;\">\n",
       "      <th></th>\n",
       "      <th>repo</th>\n",
       "      <th>language</th>\n",
       "      <th>readme</th>\n",
       "      <th>bigrams</th>\n",
       "      <th>trigrams</th>\n",
       "    </tr>\n",
       "  </thead>\n",
       "  <tbody>\n",
       "    <tr>\n",
       "      <th>0</th>\n",
       "      <td>AtsushiSakai/PythonRobotics</td>\n",
       "      <td>Python</td>\n",
       "      <td>pythonrobotics githubactionlinuxci githubactio...</td>\n",
       "      <td>path_planning grid_based path_tracking steerin...</td>\n",
       "      <td>pythonroboticsfigure1png_master_atsushisakaipy...</td>\n",
       "    </tr>\n",
       "    <tr>\n",
       "      <th>2</th>\n",
       "      <td>NxRLab/ModernRobotics</td>\n",
       "      <td>Python</td>\n",
       "      <td>modern robotics mechanic planning control code...</td>\n",
       "      <td>modern_robotics robotics_mechanic mechanic_pla...</td>\n",
       "      <td>modern_robotics_mechanic robotics_mechanic_pla...</td>\n",
       "    </tr>\n",
       "    <tr>\n",
       "      <th>4</th>\n",
       "      <td>onlytailei/CppRobotics</td>\n",
       "      <td>C++</td>\n",
       "      <td>cpprobotics cpp implementation pythonrobotics ...</td>\n",
       "      <td>red_circle black_line steering_control point_r...</td>\n",
       "      <td>speed_steering_control black_line_planned line...</td>\n",
       "    </tr>\n",
       "    <tr>\n",
       "      <th>5</th>\n",
       "      <td>JdeRobot/RoboticsAcademy</td>\n",
       "      <td>Other</td>\n",
       "      <td>roboticsacademy learn robotics artificial inte...</td>\n",
       "      <td>learn_robotics mini_radi roboticsacademy_learn...</td>\n",
       "      <td>roboticsacademy_learn_robotics learn_robotics_...</td>\n",
       "    </tr>\n",
       "    <tr>\n",
       "      <th>6</th>\n",
       "      <td>pptacher/probabilistic_robotics</td>\n",
       "      <td>C++</td>\n",
       "      <td>probabilisticrobotics working detailed solutio...</td>\n",
       "      <td>probabilistic_robotics victoria_park park_data...</td>\n",
       "      <td>victoria_park_dataset probabilisticrobotics_wo...</td>\n",
       "    </tr>\n",
       "  </tbody>\n",
       "</table>\n",
       "</div>"
      ],
      "text/plain": [
       "                              repo language  \\\n",
       "0      AtsushiSakai/PythonRobotics   Python   \n",
       "2            NxRLab/ModernRobotics   Python   \n",
       "4           onlytailei/CppRobotics      C++   \n",
       "5         JdeRobot/RoboticsAcademy    Other   \n",
       "6  pptacher/probabilistic_robotics      C++   \n",
       "\n",
       "                                              readme  \\\n",
       "0  pythonrobotics githubactionlinuxci githubactio...   \n",
       "2  modern robotics mechanic planning control code...   \n",
       "4  cpprobotics cpp implementation pythonrobotics ...   \n",
       "5  roboticsacademy learn robotics artificial inte...   \n",
       "6  probabilisticrobotics working detailed solutio...   \n",
       "\n",
       "                                             bigrams  \\\n",
       "0  path_planning grid_based path_tracking steerin...   \n",
       "2  modern_robotics robotics_mechanic mechanic_pla...   \n",
       "4  red_circle black_line steering_control point_r...   \n",
       "5  learn_robotics mini_radi roboticsacademy_learn...   \n",
       "6  probabilistic_robotics victoria_park park_data...   \n",
       "\n",
       "                                            trigrams  \n",
       "0  pythonroboticsfigure1png_master_atsushisakaipy...  \n",
       "2  modern_robotics_mechanic robotics_mechanic_pla...  \n",
       "4  speed_steering_control black_line_planned line...  \n",
       "5  roboticsacademy_learn_robotics learn_robotics_...  \n",
       "6  victoria_park_dataset probabilisticrobotics_wo...  "
      ]
     },
     "execution_count": 3,
     "metadata": {},
     "output_type": "execute_result"
    }
   ],
   "source": [
    "# First 5 rows of data\n",
    "repos_df.head()"
   ]
  },
  {
   "cell_type": "markdown",
   "id": "81b35df6-4f63-4dba-b712-917851cc10fd",
   "metadata": {},
   "source": [
    "  "
   ]
  },
  {
   "cell_type": "markdown",
   "id": "3d0aed94-52b5-4fd0-a908-c9d72b87b364",
   "metadata": {},
   "source": [
    "  "
   ]
  },
  {
   "cell_type": "markdown",
   "id": "27dbac23-dc4c-467f-a0f3-a4a1058fd9ca",
   "metadata": {},
   "source": [
    "  "
   ]
  },
  {
   "cell_type": "markdown",
   "id": "75c8f645-3219-45d6-9fdc-b6fd2b422fd7",
   "metadata": {},
   "source": [
    "### Distribution of Repo Data"
   ]
  },
  {
   "cell_type": "code",
   "execution_count": 4,
   "id": "1243176a-1aee-4006-99e4-85764fcf2411",
   "metadata": {},
   "outputs": [],
   "source": [
    "# function for data distribution based on target\n",
    "# dist_of_data(df, 'home_value')"
   ]
  },
  {
   "cell_type": "code",
   "execution_count": 5,
   "id": "ec12e88d",
   "metadata": {},
   "outputs": [
    {
     "data": {
      "text/html": [
       "<div>\n",
       "<style scoped>\n",
       "    .dataframe tbody tr th:only-of-type {\n",
       "        vertical-align: middle;\n",
       "    }\n",
       "\n",
       "    .dataframe tbody tr th {\n",
       "        vertical-align: top;\n",
       "    }\n",
       "\n",
       "    .dataframe thead th {\n",
       "        text-align: right;\n",
       "    }\n",
       "</style>\n",
       "<table border=\"1\" class=\"dataframe\">\n",
       "  <thead>\n",
       "    <tr style=\"text-align: right;\">\n",
       "      <th></th>\n",
       "      <th>n</th>\n",
       "      <th>percent</th>\n",
       "    </tr>\n",
       "    <tr>\n",
       "      <th>language</th>\n",
       "      <th></th>\n",
       "      <th></th>\n",
       "    </tr>\n",
       "  </thead>\n",
       "  <tbody>\n",
       "    <tr>\n",
       "      <th>C++</th>\n",
       "      <td>207</td>\n",
       "      <td>0.382625</td>\n",
       "    </tr>\n",
       "    <tr>\n",
       "      <th>Python</th>\n",
       "      <td>200</td>\n",
       "      <td>0.369686</td>\n",
       "    </tr>\n",
       "    <tr>\n",
       "      <th>Other</th>\n",
       "      <td>134</td>\n",
       "      <td>0.247689</td>\n",
       "    </tr>\n",
       "  </tbody>\n",
       "</table>\n",
       "</div>"
      ],
      "text/plain": [
       "            n   percent\n",
       "language               \n",
       "C++       207  0.382625\n",
       "Python    200  0.369686\n",
       "Other     134  0.247689"
      ]
     },
     "execution_count": 5,
     "metadata": {},
     "output_type": "execute_result"
    }
   ],
   "source": [
    "# Counts and ratios of language labels in a DataFrame\n",
    "counts = exp.counts_and_ratios(repos_df, \"language\")\n",
    "counts"
   ]
  },
  {
   "cell_type": "code",
   "execution_count": 6,
   "id": "3fd1e923",
   "metadata": {},
   "outputs": [
    {
     "data": {
      "image/png": "[encoded data removed]",
      "text/plain": [
       "<Figure size 1000x600 with 1 Axes>"
      ]
     },
     "metadata": {},
     "output_type": "display_data"
    }
   ],
   "source": [
    "vis.plot_language_distribution(counts)"
   ]
  },
  {
   "cell_type": "markdown",
   "id": "f5ddcfdd-da7f-4d8d-ab6e-38c424d868bc",
   "metadata": {},
   "source": [
    "  "
   ]
  },
  {
   "cell_type": "markdown",
   "id": "810a7d46-8b33-4fa1-90f5-67f14b905f4b",
   "metadata": {},
   "source": [
    "  "
   ]
  },
  {
   "cell_type": "markdown",
   "id": "19ba1b22-61e6-42ba-89e3-b01d9d44f3d7",
   "metadata": {},
   "source": [
    "  "
   ]
  },
  {
   "cell_type": "markdown",
   "id": "5f5f8603-f11a-479a-8da1-a6bd93ebbc53",
   "metadata": {},
   "source": [
    "# Explore"
   ]
  },
  {
   "cell_type": "markdown",
   "id": "40d9d748-5463-4b2e-8a13-1c39689fa9b5",
   "metadata": {},
   "source": [
    "* ?\n",
    "* ?\n",
    "* ?  \n",
    "* ?  "
   ]
  },
  {
   "cell_type": "markdown",
   "id": "40294061-f5d8-482e-a94a-3aa55134ae82",
   "metadata": {},
   "source": [
    "  "
   ]
  },
  {
   "cell_type": "markdown",
   "id": "5df1c7eb-d935-4261-a0df-c4bd5af1a549",
   "metadata": {},
   "source": [
    "  "
   ]
  },
  {
   "cell_type": "markdown",
   "id": "57f6c037-ed19-4c42-9c7a-b2ef2f849e54",
   "metadata": {},
   "source": [
    "## Question 1. - **?**"
   ]
  },
  {
   "cell_type": "markdown",
   "id": "b3e6a6d7-2318-44e0-95b3-9e76d2cc711e",
   "metadata": {},
   "source": [
    "  "
   ]
  },
  {
   "cell_type": "markdown",
   "id": "6e19e41b-b31c-405c-ae23-fa4aab6257ad",
   "metadata": {},
   "source": [
    "  "
   ]
  },
  {
   "cell_type": "code",
   "execution_count": 5,
   "id": "eedd18c5-b962-4f42-af20-ce62ad7cb866",
   "metadata": {},
   "outputs": [],
   "source": [
    "# analysis 1 visualization\n",
    "# analysis_1(train)"
   ]
  },
  {
   "cell_type": "markdown",
   "id": "d36bb49e-4df2-4284-9ef7-91d602fef0ac",
   "metadata": {},
   "source": [
    "### **Takeaway:**  \n",
    "### bedrooms clearly have a relationship that appears linear. This will be a good feature to use to predict single family residential properties in the modeling phase."
   ]
  },
  {
   "cell_type": "markdown",
   "id": "5c72c199-320f-4bec-b827-2ee65ea4487e",
   "metadata": {},
   "source": [
    "  "
   ]
  },
  {
   "cell_type": "markdown",
   "id": "ce1a7fd1-158a-42e8-b7a7-a1c40cacaecb",
   "metadata": {},
   "source": [
    "  "
   ]
  },
  {
   "cell_type": "markdown",
   "id": "e0ea5d24-d14d-422f-8cba-244612bd888b",
   "metadata": {},
   "source": [
    "  "
   ]
  },
  {
   "cell_type": "markdown",
   "id": "6c887dce-1f0d-421d-abda-b984279b4637",
   "metadata": {},
   "source": [
    "  "
   ]
  },
  {
   "cell_type": "markdown",
   "id": "7609be2a-f794-40cf-b67a-05ba1f9e1513",
   "metadata": {},
   "source": [
    "  "
   ]
  },
  {
   "cell_type": "markdown",
   "id": "6664ee45-4953-4b96-a9bd-af71fd6281f5",
   "metadata": {},
   "source": [
    "## Question 2. - **?**"
   ]
  },
  {
   "cell_type": "markdown",
   "id": "8ac9b638-6bb9-4a1c-a0b4-c1514667b91a",
   "metadata": {},
   "source": [
    "  "
   ]
  },
  {
   "cell_type": "code",
   "execution_count": 6,
   "id": "8ae58225-44f6-48db-9e11-8c927607feb7",
   "metadata": {},
   "outputs": [],
   "source": [
    "# analysis 2 visualization\n",
    "# analysis_2(train)"
   ]
  },
  {
   "cell_type": "markdown",
   "id": "bfeeaa00-e514-45fb-8c5a-71508f4318f3",
   "metadata": {},
   "source": [
    "### **Takeaway:**  \n",
    "### Home value and year built by decade show a linear relationship. This will be a good feature to use to predict single family residential properties in the modeling phase."
   ]
  },
  {
   "cell_type": "markdown",
   "id": "a4623a9f-2955-4bc0-91bf-90cd74a1df36",
   "metadata": {},
   "source": [
    "  "
   ]
  },
  {
   "cell_type": "markdown",
   "id": "e9e574a6-db17-4cbc-860f-0978210f3d4c",
   "metadata": {},
   "source": [
    "  "
   ]
  },
  {
   "cell_type": "markdown",
   "id": "2a701538-55df-47fd-b7f2-81fdb192eb26",
   "metadata": {},
   "source": [
    "  "
   ]
  },
  {
   "cell_type": "markdown",
   "id": "20096638-4fad-451e-aca6-47be5fae2966",
   "metadata": {},
   "source": [
    "  "
   ]
  },
  {
   "cell_type": "markdown",
   "id": "14a67207-ea5f-4a38-b949-2611329b4c11",
   "metadata": {},
   "source": [
    "  "
   ]
  },
  {
   "cell_type": "markdown",
   "id": "85c0d6e0-849f-4815-9b3e-34e17c33b2d3",
   "metadata": {},
   "source": [
    "# Question 3. - **?**  \n",
    "\n",
    "- **Null Hypothesis($H0$):** There is **a significant correlation** between \n",
    "\n",
    "- **Alternative Hypothesis($Ha$):** There **is no significant correlation** between "
   ]
  },
  {
   "cell_type": "markdown",
   "id": "260d780b-b06a-4e3e-aa95-b94326c324eb",
   "metadata": {},
   "source": [
    "  "
   ]
  },
  {
   "cell_type": "code",
   "execution_count": 7,
   "id": "b15abf56-c4d4-451f-88ae-012efd5faf5b",
   "metadata": {},
   "outputs": [],
   "source": [
    "# Analysis 3 visualization\n",
    "# analysis_3(train)"
   ]
  },
  {
   "cell_type": "markdown",
   "id": "f5648544-f0d9-4b48-9913-b4f4ddc91c03",
   "metadata": {},
   "source": [
    "### **Takeaway:** \n",
    "### The stats test Rejected the Null Hypothesis and we can draw our conclusions that there is a strong linear correlation between property area and home value"
   ]
  },
  {
   "cell_type": "markdown",
   "id": "65a3f12f-05df-44df-9b0d-15eefdd00106",
   "metadata": {},
   "source": [
    "  "
   ]
  },
  {
   "cell_type": "markdown",
   "id": "f4e345c8-359a-4d28-a2c1-c3c2b3c87441",
   "metadata": {},
   "source": [
    "  "
   ]
  },
  {
   "cell_type": "markdown",
   "id": "168342ee-190e-4cf0-943e-74b500fa20b6",
   "metadata": {},
   "source": [
    "  "
   ]
  },
  {
   "cell_type": "markdown",
   "id": "0eb4ed8e-fa49-420d-b79a-960f389a4cab",
   "metadata": {},
   "source": [
    "  "
   ]
  },
  {
   "cell_type": "markdown",
   "id": "44413c86-189a-4366-b07f-abf354511b44",
   "metadata": {},
   "source": [
    "# Question 4 - **?**\n",
    "\n",
    "- **Null Hypothesis($H0$):** There is **a significant correlation** between the \n",
    "\n",
    "- **Alternative Hypothesis($Ha$):** There **is no significant correlation** between "
   ]
  },
  {
   "cell_type": "markdown",
   "id": "0627f062-ae63-4f5d-9dd4-5b83350023e6",
   "metadata": {},
   "source": [
    "  "
   ]
  },
  {
   "cell_type": "markdown",
   "id": "8203556a-b19a-40f0-a711-1b15a9a230e2",
   "metadata": {},
   "source": [
    "  "
   ]
  },
  {
   "cell_type": "code",
   "execution_count": 8,
   "id": "c2f51cf6-40f0-49e8-acbb-e869a17752a7",
   "metadata": {},
   "outputs": [],
   "source": [
    "# analysis 4 visualization\n",
    "# analysis_4(train)"
   ]
  },
  {
   "cell_type": "markdown",
   "id": "58664a6e-7e2f-4d86-a528-0cda8a587312",
   "metadata": {},
   "source": [
    "### **Takeaway:** \n",
    "### The stats test Failed to Rejected the Null Hypothesis and we can draw our conclusions that there is a positive correlation between lot area and home value. it may need to be feature engineered to use as a feature."
   ]
  },
  {
   "cell_type": "markdown",
   "id": "ec27aa2d-1e45-4bb3-9c14-a6bd0ddcf504",
   "metadata": {},
   "source": [
    "  "
   ]
  },
  {
   "cell_type": "markdown",
   "id": "09944371-8420-4b10-8583-6884642dba24",
   "metadata": {},
   "source": [
    "  "
   ]
  },
  {
   "cell_type": "markdown",
   "id": "c4e31c7b-62d4-410e-8d35-46c621477f46",
   "metadata": {},
   "source": [
    "  "
   ]
  },
  {
   "cell_type": "markdown",
   "id": "bca0b509-8d8f-4037-8e55-8e5d6babb083",
   "metadata": {},
   "source": [
    "# Explore Summary"
   ]
  },
  {
   "cell_type": "markdown",
   "id": "2aa74eda-a0ce-4744-9a65-2923e2ee37a7",
   "metadata": {},
   "source": [
    "- "
   ]
  },
  {
   "cell_type": "markdown",
   "id": "ea64934b-8806-4480-9261-5dd4ccd1f8d0",
   "metadata": {},
   "source": [
    "  "
   ]
  },
  {
   "cell_type": "markdown",
   "id": "f89db106-87d6-40c7-a8c3-cfe0437b9b67",
   "metadata": {},
   "source": [
    "  "
   ]
  },
  {
   "cell_type": "markdown",
   "id": "59c70728-4414-4553-b5da-defbd6f75235",
   "metadata": {},
   "source": [
    "  "
   ]
  },
  {
   "cell_type": "markdown",
   "id": "eacb53ec-7239-42d4-9a19-f89bbe27c6e6",
   "metadata": {},
   "source": [
    "# Features for modeling"
   ]
  },
  {
   "cell_type": "markdown",
   "id": "7edeaf75-7d35-4c3a-8051-c1161a6a92c2",
   "metadata": {},
   "source": [
    "### **Features that will be used:**\n",
    "* *Language*(target)  \n",
    "\n",
    "### **Some features that may be useful:**  \n",
    "* *text*\n",
    "* *top_bigrams*\n",
    "* *top_trigrams*\n"
   ]
  },
  {
   "cell_type": "markdown",
   "id": "de5e6295-6152-4560-9a16-fa2c2f3771d7",
   "metadata": {},
   "source": [
    "  "
   ]
  },
  {
   "cell_type": "markdown",
   "id": "952755f3-749b-4b50-b9a6-f0f4dc242d15",
   "metadata": {},
   "source": [
    "  "
   ]
  },
  {
   "cell_type": "markdown",
   "id": "e6116f99-9973-466d-83c0-0c62eaecdf4a",
   "metadata": {},
   "source": [
    "  "
   ]
  },
  {
   "cell_type": "markdown",
   "id": "a14cae46-1b17-429e-8c90-df7a2c39348a",
   "metadata": {},
   "source": [
    "# Modeling\n",
    "\n",
    "### Evaluation Metric\n",
    "- The primary evaluation metrics for the models are:\n",
    "  - Accuracy, Precision, Recall Metric\n",
    "\n",
    "### Data Expansion\n",
    "- Given more time, additional data could be gathered to improve model performance.\n",
    "- Experimentation with hyperparameter configurations can lead to better significance and lower RMSE.\n",
    "\n",
    "### Target Feature\n",
    "- The target feature for the models is `Language`.\n",
    "\n",
    "### Baseline accuracy\n",
    "- The baseline accuracy and f1 score.\n",
    "\n",
    "### Models and Hyperparameters\n",
    "- Two different sets of hyperparameters will be used for model development, each optimized for different features:\n",
    "  1. Logistic Regression (default)\n",
    "  2. RandomForestClassifier (default)\n",
    "  3. XGBoostClassifier ()\n",
    "\n",
    "### Model Evaluation\n",
    "- Models will be developed and evaluated on the training and validation datasets.\n",
    "\n",
    "### Final Model Selection\n",
    "- The best-performing model, as determined by RMSE and Model Significance on the validation set, will be selected.\n",
    "\n",
    "### Test Dataset\n",
    "- The selected best model will be evaluated on the test dataset for final performance assessment.ized and easier to understand.\n"
   ]
  },
  {
   "cell_type": "markdown",
   "id": "815acb5b-e6f1-4981-ab89-6baac8e5114e",
   "metadata": {},
   "source": [
    "  "
   ]
  },
  {
   "cell_type": "markdown",
   "id": "0a6d1140-2f21-409e-9e1b-1003c0ae455b",
   "metadata": {},
   "source": [
    "  "
   ]
  },
  {
   "cell_type": "markdown",
   "id": "8738e2c5-75ea-4c2a-a3cb-af967e738a58",
   "metadata": {},
   "source": [
    "  "
   ]
  },
  {
   "cell_type": "markdown",
   "id": "158ed667-1620-45e2-ab67-85862b4c9c27",
   "metadata": {},
   "source": [
    "## Baseline Model Root Mean Squared Error"
   ]
  },
  {
   "cell_type": "code",
   "execution_count": 9,
   "id": "4680fcd4-a6fd-4aef-a269-bf890c3efc6e",
   "metadata": {},
   "outputs": [],
   "source": [
    "# baseline and model rmse and residual plot visual\n",
    "# wrangle_zillow_and_train_model()"
   ]
  },
  {
   "cell_type": "markdown",
   "id": "bf048477-5627-4900-9950-c849ee0b831f",
   "metadata": {},
   "source": [
    "\n"
   ]
  },
  {
   "cell_type": "markdown",
   "id": "3b01ef8e-9295-4842-988d-2d65429900a7",
   "metadata": {},
   "source": [
    "  "
   ]
  },
  {
   "cell_type": "markdown",
   "id": "d370db29-df75-40cc-8d0f-c0a47b3bb228",
   "metadata": {},
   "source": [
    "## Best of 3 model configurations"
   ]
  },
  {
   "cell_type": "markdown",
   "id": "a8cc0ae8-b845-45f7-9f05-5af236805415",
   "metadata": {},
   "source": [
    "###  selectkbest used for feature importance selection"
   ]
  },
  {
   "cell_type": "markdown",
   "id": "cbfa2843-04e5-43be-b80c-06ca50daaabb",
   "metadata": {},
   "source": [
    "  "
   ]
  },
  {
   "cell_type": "code",
   "execution_count": 10,
   "id": "02130619-6e8b-4ead-889e-e98f8cda09d5",
   "metadata": {},
   "outputs": [],
   "source": [
    "# selected_features = select_k_features(train)\n",
    "# selected_features.to_list()"
   ]
  },
  {
   "cell_type": "markdown",
   "id": "6fddfaca-c806-4910-82a6-1a39c73a73e4",
   "metadata": {},
   "source": [
    "### Used in model Evaluation and they did not offer promising results."
   ]
  },
  {
   "cell_type": "code",
   "execution_count": 11,
   "id": "a9a02551-6f21-4151-966a-b8130f18c789",
   "metadata": {},
   "outputs": [],
   "source": [
    "# X_train, y_train, X_val, y_val, X_test, y_test = model_xy()"
   ]
  },
  {
   "cell_type": "markdown",
   "id": "76d86199-00b4-4557-8164-beb1fe4a89c8",
   "metadata": {},
   "source": [
    "## Model 1"
   ]
  },
  {
   "cell_type": "code",
   "execution_count": 12,
   "id": "f57292f4-b397-4a76-a7ab-1583869e6fa2",
   "metadata": {
    "scrolled": true
   },
   "outputs": [],
   "source": [
    "### RandomForestRegression Model - The RandomForestRegression model showed signs of overfitting, as it performed well on the training data but had a large margin of error.\n",
    "# model1_results = model_1(X_train, y_train, X_val, y_val)"
   ]
  },
  {
   "cell_type": "markdown",
   "id": "cb2a827c-8ce1-469c-9587-4d113c22c12c",
   "metadata": {},
   "source": [
    "  "
   ]
  },
  {
   "cell_type": "markdown",
   "id": "37341a8d-2a26-451f-9697-7b30262c8839",
   "metadata": {},
   "source": [
    "  "
   ]
  },
  {
   "cell_type": "markdown",
   "id": "da00796e-7e73-4229-a1fc-afbe57a9735b",
   "metadata": {},
   "source": [
    "  "
   ]
  },
  {
   "cell_type": "markdown",
   "id": "cc10ee97-561d-4ecd-b443-f45b16fd31f8",
   "metadata": {},
   "source": [
    "## Model 2"
   ]
  },
  {
   "cell_type": "code",
   "execution_count": 13,
   "id": "fb7bfacf-8431-4a60-a03f-cba94d2e334b",
   "metadata": {
    "scrolled": true
   },
   "outputs": [],
   "source": [
    "### XGBRegressor Model - hyperparameter tuning (combination of early round stopping and eval set)\n",
    "# model2_results = model_2(train, 'home_value', X_val, y_val, params=None)"
   ]
  },
  {
   "cell_type": "markdown",
   "id": "823906c4-5738-44e1-8622-5714671d7ddc",
   "metadata": {},
   "source": [
    "  "
   ]
  },
  {
   "cell_type": "markdown",
   "id": "f47e5f26-103e-4f65-90ee-07a0e6720a33",
   "metadata": {},
   "source": [
    "  "
   ]
  },
  {
   "cell_type": "markdown",
   "id": "2a96243d-f6c4-498c-a82a-d610686aa85a",
   "metadata": {},
   "source": [
    "  "
   ]
  },
  {
   "cell_type": "markdown",
   "id": "4b62aa2a-6228-4275-bced-e4f92f9b3070",
   "metadata": {},
   "source": [
    "## Model 3"
   ]
  },
  {
   "cell_type": "code",
   "execution_count": 14,
   "id": "3c507997-ea63-4f48-a182-07dd20b156f5",
   "metadata": {},
   "outputs": [],
   "source": [
    "### Polynomial Features LinearRegression Model - The Polynomial Features LinearRegression model exhibited better generalization, but it had poor R2 scores.\n",
    "# model_3 = model_3()"
   ]
  },
  {
   "cell_type": "markdown",
   "id": "4e08d468-3727-4c16-8718-da4253ff93f4",
   "metadata": {},
   "source": [
    "  "
   ]
  },
  {
   "cell_type": "markdown",
   "id": "572e2eac-e054-49d8-8431-0c6ca2ad0d51",
   "metadata": {},
   "source": [
    "  "
   ]
  },
  {
   "cell_type": "markdown",
   "id": "09c510df-3a3e-4bfc-8965-912a40ab7ed7",
   "metadata": {},
   "source": [
    "  "
   ]
  },
  {
   "cell_type": "markdown",
   "id": "fcb93c20-35ca-4e5b-90b0-e9e2b44f62a3",
   "metadata": {},
   "source": [
    "## Best on Test"
   ]
  },
  {
   "cell_type": "markdown",
   "id": "90aa898d-9ec0-4723-89bb-28950f586ab2",
   "metadata": {},
   "source": [
    "#### XGboost, XGBRegressor algorithm combination of early stopping rounds and eval set."
   ]
  },
  {
   "cell_type": "markdown",
   "id": "4cd8c240-69f8-4e97-b764-a922149b4c90",
   "metadata": {},
   "source": [
    "  "
   ]
  },
  {
   "cell_type": "markdown",
   "id": "756fd40a-805d-4197-bbe8-9b13d9d8c07e",
   "metadata": {},
   "source": [
    "  "
   ]
  },
  {
   "cell_type": "code",
   "execution_count": 15,
   "id": "da5ee03f-d190-4efe-b45c-5685737e6574",
   "metadata": {},
   "outputs": [],
   "source": [
    "# final assessment on test data using XGBRegressor model\n",
    "# final_results = final_model(train, 'home_value', X_test, y_test, params=None)"
   ]
  },
  {
   "cell_type": "markdown",
   "id": "96345424-666e-4b43-b745-230f45c44fbf",
   "metadata": {},
   "source": [
    "  "
   ]
  },
  {
   "cell_type": "markdown",
   "id": "16bfaac8-0925-43f1-a826-d0d4ab5c4eba",
   "metadata": {},
   "source": [
    "  "
   ]
  },
  {
   "cell_type": "markdown",
   "id": "6972f6ac-885c-4a3f-afef-d6c2dda8d7ca",
   "metadata": {},
   "source": [
    "  "
   ]
  },
  {
   "cell_type": "markdown",
   "id": "15673629-c832-458b-8d53-07224a4fac26",
   "metadata": {},
   "source": [
    "  "
   ]
  },
  {
   "cell_type": "markdown",
   "id": "cd54666a-c3e5-4a82-9e6a-e2f6e129bfa1",
   "metadata": {},
   "source": [
    "# Model Summary\n",
    "\n",
    "### RandomForestRegression Model\n",
    "- The RandomForestRegression model showed signs of overfitting, as it performed well on the training data but had a large margin of error.\n",
    "  \n",
    "### Polynomial Features LinearRegression Model\n",
    "- The Polynomial Features LinearRegression model exhibited better generalization, but it had poor R2 scores.\n",
    "\n",
    "### XGBRegressor Model\n",
    "- The XGBRegressor model, with hyperparameter tuning, performed the best with the following metrics:\n",
    "\n",
    "  - RMSE: $325,000\n",
    "  - R2 Score: 0.81"
   ]
  },
  {
   "cell_type": "markdown",
   "id": "23574ae9-e89a-4720-9852-131f21ccafc5",
   "metadata": {},
   "source": [
    "  "
   ]
  },
  {
   "cell_type": "markdown",
   "id": "c188bc4f-fd91-4aae-8aa0-71a9921129d8",
   "metadata": {},
   "source": [
    "  "
   ]
  },
  {
   "cell_type": "markdown",
   "id": "f0bd7579-00aa-4a32-b3f7-fc8234e6e361",
   "metadata": {
    "jp-MarkdownHeadingCollapsed": true
   },
   "source": [
    "# Conclusion\n",
    "\n",
    "## Takeaways and Key Findings\n",
    "\n",
    "- Home details such as the calculated area of the home, lot area, number of bedrooms, number of bathrooms, and year built are significant drivers of home value.\n",
    "- Calculated area is the most important feature across all factors.\n",
    "- Higher-priced and larger single residential family properties appear to be concentrated in Ventura County, while smaller homes are spread across Orange and Los Angeles counties.\n",
    "- Larger living areas correlate with higher property values.\n",
    "- Location plays a crucial role in property value.\n",
    "\n",
    "\n",
    "## Model Improvement\n",
    "- The model still requires further improvement.\n",
    "\n",
    "# Recommendations and Next Steps\n",
    "\n",
    "- If the data contained detailed of hard appliances attached or amenities homebuyers seek in single family residential properties maybe this could affect property value.\n",
    "\n",
    "- Given more time, the following actions could be considered:\n",
    "  - Gather more data to improve model performance.\n",
    "  - Feature engineer new variables to enhance model understanding.\n",
    "      - trasnaction dates for value over time\n",
    "  - Fine-tune model parameters for better performance."
   ]
  }
 ],
 "metadata": {
  "kernelspec": {
   "display_name": "Python 3 (ipykernel)",
   "language": "python",
   "name": "python3"
  },
  "language_info": {
   "codemirror_mode": {
    "name": "ipython",
    "version": 3
   },
   "file_extension": ".py",
   "mimetype": "text/x-python",
   "name": "python",
   "nbconvert_exporter": "python",
   "pygments_lexer": "ipython3",
   "version": "3.10.12"
  }
 },
 "nbformat": 4,
 "nbformat_minor": 5
}
