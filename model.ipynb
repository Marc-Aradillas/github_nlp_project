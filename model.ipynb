{
 "cells": [
  {
   "cell_type": "markdown",
   "id": "8ac4c873-60d2-4cd6-8f5b-a614afe64e96",
   "metadata": {},
   "source": [
    "# Modeling"
   ]
  },
  {
   "cell_type": "code",
   "execution_count": 1,
   "id": "398c4789-5a28-4d63-8e30-0d0db7e5d626",
   "metadata": {},
   "outputs": [],
   "source": [
    "import pandas as pd\n",
    "import numpy as np\n",
    "\n",
    "from sklearn.feature_extraction.text import TfidfVectorizer\n",
    "from sklearn.model_selection import train_test_split\n",
    "from sklearn.linear_model import LogisticRegression\n",
    "from sklearn.neighbors import KNeighborsClassifier\n",
    "from sklearn.ensemble import RandomForestClassifier\n",
    "from xgboost import XGBClassifier\n",
    "from sklearn.preprocessing import LabelEncoder\n",
    "\n",
    "\n",
    "\n",
    "from sklearn.metrics import classification_report as class_rep\n",
    "from prepare import clean, lemmatize"
   ]
  },
  {
   "cell_type": "code",
   "execution_count": 2,
   "id": "d288b266-ec1e-4889-8a4b-eb5eacbea584",
   "metadata": {},
   "outputs": [],
   "source": [
    "# reading in file to generate dataframe"
   ]
  },
  {
   "cell_type": "code",
   "execution_count": 3,
   "id": "60dfc201-d5bf-423b-a247-d4cd2908fb81",
   "metadata": {},
   "outputs": [
    {
     "data": {
      "text/html": [
       "<div>\n",
       "<style scoped>\n",
       "    .dataframe tbody tr th:only-of-type {\n",
       "        vertical-align: middle;\n",
       "    }\n",
       "\n",
       "    .dataframe tbody tr th {\n",
       "        vertical-align: top;\n",
       "    }\n",
       "\n",
       "    .dataframe thead th {\n",
       "        text-align: right;\n",
       "    }\n",
       "</style>\n",
       "<table border=\"1\" class=\"dataframe\">\n",
       "  <thead>\n",
       "    <tr style=\"text-align: right;\">\n",
       "      <th></th>\n",
       "      <th>language</th>\n",
       "      <th>text</th>\n",
       "    </tr>\n",
       "  </thead>\n",
       "  <tbody>\n",
       "    <tr>\n",
       "      <th>0</th>\n",
       "      <td>Python</td>\n",
       "      <td>&lt;img src=\"https://github.com/AtsushiSakai/Pyth...</td>\n",
       "    </tr>\n",
       "    <tr>\n",
       "      <th>1</th>\n",
       "      <td>Python</td>\n",
       "      <td># Modern Robotics:  Mechanics, Planning, and C...</td>\n",
       "    </tr>\n",
       "    <tr>\n",
       "      <th>2</th>\n",
       "      <td>C++</td>\n",
       "      <td># CppRobotics\\n\\nThis is the cpp implementatio...</td>\n",
       "    </tr>\n",
       "    <tr>\n",
       "      <th>3</th>\n",
       "      <td>Other</td>\n",
       "      <td>&lt;a href=\"https://jderobot.github.io/\"&gt;&lt;img src...</td>\n",
       "    </tr>\n",
       "    <tr>\n",
       "      <th>4</th>\n",
       "      <td>C++</td>\n",
       "      <td># probabilistic_robotics\\nI am working on deta...</td>\n",
       "    </tr>\n",
       "    <tr>\n",
       "      <th>...</th>\n",
       "      <td>...</td>\n",
       "      <td>...</td>\n",
       "    </tr>\n",
       "    <tr>\n",
       "      <th>536</th>\n",
       "      <td>Other</td>\n",
       "      <td>&lt;div align=center&gt;\\n\\t&lt;img src=\"readme-img/cov...</td>\n",
       "    </tr>\n",
       "    <tr>\n",
       "      <th>537</th>\n",
       "      <td>Other</td>\n",
       "      <td>&lt;h1 align=\"center\" style=\"font-family:Papyrus;...</td>\n",
       "    </tr>\n",
       "    <tr>\n",
       "      <th>538</th>\n",
       "      <td>Python</td>\n",
       "      <td>&lt;div align=\"center\"&gt;\\n\\n&lt;img src=\"figs/logo.pn...</td>\n",
       "    </tr>\n",
       "    <tr>\n",
       "      <th>539</th>\n",
       "      <td>Other</td>\n",
       "      <td># Compose Actors :dancer:\\n\\n## Roadmap v0.3.0...</td>\n",
       "    </tr>\n",
       "    <tr>\n",
       "      <th>540</th>\n",
       "      <td>Python</td>\n",
       "      <td>pkg update &amp;&amp; pkg upgrade\\npkg install bash\\np...</td>\n",
       "    </tr>\n",
       "  </tbody>\n",
       "</table>\n",
       "<p>541 rows × 2 columns</p>\n",
       "</div>"
      ],
      "text/plain": [
       "    language                                               text\n",
       "0     Python  <img src=\"https://github.com/AtsushiSakai/Pyth...\n",
       "1     Python  # Modern Robotics:  Mechanics, Planning, and C...\n",
       "2        C++  # CppRobotics\\n\\nThis is the cpp implementatio...\n",
       "3      Other  <a href=\"https://jderobot.github.io/\"><img src...\n",
       "4        C++  # probabilistic_robotics\\nI am working on deta...\n",
       "..       ...                                                ...\n",
       "536    Other  <div align=center>\\n\\t<img src=\"readme-img/cov...\n",
       "537    Other  <h1 align=\"center\" style=\"font-family:Papyrus;...\n",
       "538   Python  <div align=\"center\">\\n\\n<img src=\"figs/logo.pn...\n",
       "539    Other  # Compose Actors :dancer:\\n\\n## Roadmap v0.3.0...\n",
       "540   Python  pkg update && pkg upgrade\\npkg install bash\\np...\n",
       "\n",
       "[541 rows x 2 columns]"
      ]
     },
     "execution_count": 3,
     "metadata": {},
     "output_type": "execute_result"
    }
   ],
   "source": [
    "repos_df = pd.read_csv('github_repos.csv')\n",
    "repos_df.drop(columns=('repo'))"
   ]
  },
  {
   "cell_type": "code",
   "execution_count": 4,
   "id": "dc52fae6-23f7-4e0e-bf0e-8570c188d89c",
   "metadata": {},
   "outputs": [
    {
     "name": "stdout",
     "output_type": "stream",
     "text": [
      "<class 'pandas.core.frame.DataFrame'>\n",
      "RangeIndex: 541 entries, 0 to 540\n",
      "Data columns (total 3 columns):\n",
      " #   Column    Non-Null Count  Dtype \n",
      "---  ------    --------------  ----- \n",
      " 0   repo      541 non-null    object\n",
      " 1   language  541 non-null    object\n",
      " 2   text      541 non-null    object\n",
      "dtypes: object(3)\n",
      "memory usage: 12.8+ KB\n"
     ]
    }
   ],
   "source": [
    "repos_df.info()"
   ]
  },
  {
   "cell_type": "code",
   "execution_count": 5,
   "id": "73068592-7dcd-4aca-ada2-69924e628c9a",
   "metadata": {},
   "outputs": [
    {
     "data": {
      "text/html": [
       "<div>\n",
       "<style scoped>\n",
       "    .dataframe tbody tr th:only-of-type {\n",
       "        vertical-align: middle;\n",
       "    }\n",
       "\n",
       "    .dataframe tbody tr th {\n",
       "        vertical-align: top;\n",
       "    }\n",
       "\n",
       "    .dataframe thead th {\n",
       "        text-align: right;\n",
       "    }\n",
       "</style>\n",
       "<table border=\"1\" class=\"dataframe\">\n",
       "  <thead>\n",
       "    <tr style=\"text-align: right;\">\n",
       "      <th></th>\n",
       "      <th>repo</th>\n",
       "      <th>language</th>\n",
       "      <th>text</th>\n",
       "      <th>clean_text</th>\n",
       "    </tr>\n",
       "  </thead>\n",
       "  <tbody>\n",
       "    <tr>\n",
       "      <th>0</th>\n",
       "      <td>AtsushiSakai/PythonRobotics</td>\n",
       "      <td>Python</td>\n",
       "      <td>&lt;img src=\"https://github.com/AtsushiSakai/Pyth...</td>\n",
       "      <td>[img, srchttpsgithubcomatsushisakaipythonrobot...</td>\n",
       "    </tr>\n",
       "    <tr>\n",
       "      <th>1</th>\n",
       "      <td>NxRLab/ModernRobotics</td>\n",
       "      <td>Python</td>\n",
       "      <td># Modern Robotics:  Mechanics, Planning, and C...</td>\n",
       "      <td>[modern, robotics, mechanic, planning, control...</td>\n",
       "    </tr>\n",
       "    <tr>\n",
       "      <th>2</th>\n",
       "      <td>onlytailei/CppRobotics</td>\n",
       "      <td>C++</td>\n",
       "      <td># CppRobotics\\n\\nThis is the cpp implementatio...</td>\n",
       "      <td>[cpprobotics, cpp, implementation, pythonrobot...</td>\n",
       "    </tr>\n",
       "    <tr>\n",
       "      <th>3</th>\n",
       "      <td>JdeRobot/RoboticsAcademy</td>\n",
       "      <td>Other</td>\n",
       "      <td>&lt;a href=\"https://jderobot.github.io/\"&gt;&lt;img src...</td>\n",
       "      <td>[hrefhttpsjderobotgithubioimg, srcimglogogif, ...</td>\n",
       "    </tr>\n",
       "    <tr>\n",
       "      <th>4</th>\n",
       "      <td>pptacher/probabilistic_robotics</td>\n",
       "      <td>C++</td>\n",
       "      <td># probabilistic_robotics\\nI am working on deta...</td>\n",
       "      <td>[probabilistic_robotics, working, detailed, so...</td>\n",
       "    </tr>\n",
       "  </tbody>\n",
       "</table>\n",
       "</div>"
      ],
      "text/plain": [
       "                              repo language  \\\n",
       "0      AtsushiSakai/PythonRobotics   Python   \n",
       "1            NxRLab/ModernRobotics   Python   \n",
       "2           onlytailei/CppRobotics      C++   \n",
       "3         JdeRobot/RoboticsAcademy    Other   \n",
       "4  pptacher/probabilistic_robotics      C++   \n",
       "\n",
       "                                                text  \\\n",
       "0  <img src=\"https://github.com/AtsushiSakai/Pyth...   \n",
       "1  # Modern Robotics:  Mechanics, Planning, and C...   \n",
       "2  # CppRobotics\\n\\nThis is the cpp implementatio...   \n",
       "3  <a href=\"https://jderobot.github.io/\"><img src...   \n",
       "4  # probabilistic_robotics\\nI am working on deta...   \n",
       "\n",
       "                                          clean_text  \n",
       "0  [img, srchttpsgithubcomatsushisakaipythonrobot...  \n",
       "1  [modern, robotics, mechanic, planning, control...  \n",
       "2  [cpprobotics, cpp, implementation, pythonrobot...  \n",
       "3  [hrefhttpsjderobotgithubioimg, srcimglogogif, ...  \n",
       "4  [probabilistic_robotics, working, detailed, so...  "
      ]
     },
     "execution_count": 5,
     "metadata": {},
     "output_type": "execute_result"
    }
   ],
   "source": [
    "repos_df['clean_text'] = repos_df.text.apply(clean)\n",
    "repos_df.head()"
   ]
  },
  {
   "cell_type": "code",
   "execution_count": 6,
   "id": "6583c158-2e6a-4413-9b89-0efa8be3ad87",
   "metadata": {},
   "outputs": [
    {
     "data": {
      "text/html": [
       "<div>\n",
       "<style scoped>\n",
       "    .dataframe tbody tr th:only-of-type {\n",
       "        vertical-align: middle;\n",
       "    }\n",
       "\n",
       "    .dataframe tbody tr th {\n",
       "        vertical-align: top;\n",
       "    }\n",
       "\n",
       "    .dataframe thead th {\n",
       "        text-align: right;\n",
       "    }\n",
       "</style>\n",
       "<table border=\"1\" class=\"dataframe\">\n",
       "  <thead>\n",
       "    <tr style=\"text-align: right;\">\n",
       "      <th></th>\n",
       "      <th>repo</th>\n",
       "      <th>language</th>\n",
       "      <th>text</th>\n",
       "      <th>clean_text</th>\n",
       "      <th>lemmas</th>\n",
       "    </tr>\n",
       "  </thead>\n",
       "  <tbody>\n",
       "    <tr>\n",
       "      <th>0</th>\n",
       "      <td>AtsushiSakai/PythonRobotics</td>\n",
       "      <td>Python</td>\n",
       "      <td>&lt;img src=\"https://github.com/AtsushiSakai/Pyth...</td>\n",
       "      <td>[img, srchttpsgithubcomatsushisakaipythonrobot...</td>\n",
       "      <td>&lt;img src=\"https://github.com/AtsushiSakai/Pyth...</td>\n",
       "    </tr>\n",
       "    <tr>\n",
       "      <th>1</th>\n",
       "      <td>NxRLab/ModernRobotics</td>\n",
       "      <td>Python</td>\n",
       "      <td># Modern Robotics:  Mechanics, Planning, and C...</td>\n",
       "      <td>[modern, robotics, mechanic, planning, control...</td>\n",
       "      <td># Modern Robotics: Mechanics, Planning, and Co...</td>\n",
       "    </tr>\n",
       "    <tr>\n",
       "      <th>2</th>\n",
       "      <td>onlytailei/CppRobotics</td>\n",
       "      <td>C++</td>\n",
       "      <td># CppRobotics\\n\\nThis is the cpp implementatio...</td>\n",
       "      <td>[cpprobotics, cpp, implementation, pythonrobot...</td>\n",
       "      <td># CppRobotics This is the cpp implementation o...</td>\n",
       "    </tr>\n",
       "    <tr>\n",
       "      <th>3</th>\n",
       "      <td>JdeRobot/RoboticsAcademy</td>\n",
       "      <td>Other</td>\n",
       "      <td>&lt;a href=\"https://jderobot.github.io/\"&gt;&lt;img src...</td>\n",
       "      <td>[hrefhttpsjderobotgithubioimg, srcimglogogif, ...</td>\n",
       "      <td>&lt;a href=\"https://jderobot.github.io/\"&gt;&lt;img src...</td>\n",
       "    </tr>\n",
       "    <tr>\n",
       "      <th>4</th>\n",
       "      <td>pptacher/probabilistic_robotics</td>\n",
       "      <td>C++</td>\n",
       "      <td># probabilistic_robotics\\nI am working on deta...</td>\n",
       "      <td>[probabilistic_robotics, working, detailed, so...</td>\n",
       "      <td># probabilistic_robotics I am working on detai...</td>\n",
       "    </tr>\n",
       "  </tbody>\n",
       "</table>\n",
       "</div>"
      ],
      "text/plain": [
       "                              repo language  \\\n",
       "0      AtsushiSakai/PythonRobotics   Python   \n",
       "1            NxRLab/ModernRobotics   Python   \n",
       "2           onlytailei/CppRobotics      C++   \n",
       "3         JdeRobot/RoboticsAcademy    Other   \n",
       "4  pptacher/probabilistic_robotics      C++   \n",
       "\n",
       "                                                text  \\\n",
       "0  <img src=\"https://github.com/AtsushiSakai/Pyth...   \n",
       "1  # Modern Robotics:  Mechanics, Planning, and C...   \n",
       "2  # CppRobotics\\n\\nThis is the cpp implementatio...   \n",
       "3  <a href=\"https://jderobot.github.io/\"><img src...   \n",
       "4  # probabilistic_robotics\\nI am working on deta...   \n",
       "\n",
       "                                          clean_text  \\\n",
       "0  [img, srchttpsgithubcomatsushisakaipythonrobot...   \n",
       "1  [modern, robotics, mechanic, planning, control...   \n",
       "2  [cpprobotics, cpp, implementation, pythonrobot...   \n",
       "3  [hrefhttpsjderobotgithubioimg, srcimglogogif, ...   \n",
       "4  [probabilistic_robotics, working, detailed, so...   \n",
       "\n",
       "                                              lemmas  \n",
       "0  <img src=\"https://github.com/AtsushiSakai/Pyth...  \n",
       "1  # Modern Robotics: Mechanics, Planning, and Co...  \n",
       "2  # CppRobotics This is the cpp implementation o...  \n",
       "3  <a href=\"https://jderobot.github.io/\"><img src...  \n",
       "4  # probabilistic_robotics I am working on detai...  "
      ]
     },
     "execution_count": 6,
     "metadata": {},
     "output_type": "execute_result"
    }
   ],
   "source": [
    "repos_df['lemmas'] = repos_df.text.apply(lemmatize)\n",
    "repos_df.head()"
   ]
  },
  {
   "cell_type": "code",
   "execution_count": 7,
   "id": "bb8eae18-3671-4184-bc38-2229ba7cc752",
   "metadata": {},
   "outputs": [],
   "source": [
    "# repos_df = repos_df[\n",
    "#     (repos_df['lemmas'].str.len() >= 2) &\n",
    "#     (repos_df['lemmas'].str.len() <= 12) &\n",
    "#     (repos_df['lemmas'] != 'ro')\n",
    "# ]"
   ]
  },
  {
   "cell_type": "code",
   "execution_count": 8,
   "id": "8456e0eb-ba6d-4522-a826-716dd48c070d",
   "metadata": {},
   "outputs": [
    {
     "data": {
      "text/html": [
       "<div>\n",
       "<style scoped>\n",
       "    .dataframe tbody tr th:only-of-type {\n",
       "        vertical-align: middle;\n",
       "    }\n",
       "\n",
       "    .dataframe tbody tr th {\n",
       "        vertical-align: top;\n",
       "    }\n",
       "\n",
       "    .dataframe thead th {\n",
       "        text-align: right;\n",
       "    }\n",
       "</style>\n",
       "<table border=\"1\" class=\"dataframe\">\n",
       "  <thead>\n",
       "    <tr style=\"text-align: right;\">\n",
       "      <th></th>\n",
       "      <th>repo</th>\n",
       "      <th>language</th>\n",
       "      <th>text</th>\n",
       "      <th>clean_text</th>\n",
       "      <th>lemmas</th>\n",
       "    </tr>\n",
       "  </thead>\n",
       "  <tbody>\n",
       "    <tr>\n",
       "      <th>0</th>\n",
       "      <td>AtsushiSakai/PythonRobotics</td>\n",
       "      <td>Python</td>\n",
       "      <td>&lt;img src=\"https://github.com/AtsushiSakai/Pyth...</td>\n",
       "      <td>[img, srchttpsgithubcomatsushisakaipythonrobot...</td>\n",
       "      <td>&lt;img src=\"https://github.com/AtsushiSakai/Pyth...</td>\n",
       "    </tr>\n",
       "    <tr>\n",
       "      <th>1</th>\n",
       "      <td>NxRLab/ModernRobotics</td>\n",
       "      <td>Python</td>\n",
       "      <td># Modern Robotics:  Mechanics, Planning, and C...</td>\n",
       "      <td>[modern, robotics, mechanic, planning, control...</td>\n",
       "      <td># Modern Robotics: Mechanics, Planning, and Co...</td>\n",
       "    </tr>\n",
       "    <tr>\n",
       "      <th>2</th>\n",
       "      <td>onlytailei/CppRobotics</td>\n",
       "      <td>C++</td>\n",
       "      <td># CppRobotics\\n\\nThis is the cpp implementatio...</td>\n",
       "      <td>[cpprobotics, cpp, implementation, pythonrobot...</td>\n",
       "      <td># CppRobotics This is the cpp implementation o...</td>\n",
       "    </tr>\n",
       "    <tr>\n",
       "      <th>3</th>\n",
       "      <td>JdeRobot/RoboticsAcademy</td>\n",
       "      <td>Other</td>\n",
       "      <td>&lt;a href=\"https://jderobot.github.io/\"&gt;&lt;img src...</td>\n",
       "      <td>[hrefhttpsjderobotgithubioimg, srcimglogogif, ...</td>\n",
       "      <td>&lt;a href=\"https://jderobot.github.io/\"&gt;&lt;img src...</td>\n",
       "    </tr>\n",
       "    <tr>\n",
       "      <th>4</th>\n",
       "      <td>pptacher/probabilistic_robotics</td>\n",
       "      <td>C++</td>\n",
       "      <td># probabilistic_robotics\\nI am working on deta...</td>\n",
       "      <td>[probabilistic_robotics, working, detailed, so...</td>\n",
       "      <td># probabilistic_robotics I am working on detai...</td>\n",
       "    </tr>\n",
       "    <tr>\n",
       "      <th>...</th>\n",
       "      <td>...</td>\n",
       "      <td>...</td>\n",
       "      <td>...</td>\n",
       "      <td>...</td>\n",
       "      <td>...</td>\n",
       "    </tr>\n",
       "    <tr>\n",
       "      <th>536</th>\n",
       "      <td>Skythinker616/foc-wheel-legged-robot</td>\n",
       "      <td>Other</td>\n",
       "      <td>&lt;div align=center&gt;\\n\\t&lt;img src=\"readme-img/cov...</td>\n",
       "      <td>[div, aligncenter, img, srcreadmeimgcoverjpg, ...</td>\n",
       "      <td>&lt;div align=center&gt; &lt;img src=\"readme-img/cover....</td>\n",
       "    </tr>\n",
       "    <tr>\n",
       "      <th>537</th>\n",
       "      <td>Sollimann/bonsai</td>\n",
       "      <td>Other</td>\n",
       "      <td>&lt;h1 align=\"center\" style=\"font-family:Papyrus;...</td>\n",
       "      <td>[h1, aligncenter, stylefontfamilypapyrus, font...</td>\n",
       "      <td>&lt;h1 align=\"center\" style=\"font-family:Papyrus;...</td>\n",
       "    </tr>\n",
       "    <tr>\n",
       "      <th>538</th>\n",
       "      <td>zjunlp/EasyInstruct</td>\n",
       "      <td>Python</td>\n",
       "      <td>&lt;div align=\"center\"&gt;\\n\\n&lt;img src=\"figs/logo.pn...</td>\n",
       "      <td>[div, aligncenter, img, srcfigslogopng, width3...</td>\n",
       "      <td>&lt;div align=\"center\"&gt; &lt;img src=\"figs/logo.png\" ...</td>\n",
       "    </tr>\n",
       "    <tr>\n",
       "      <th>539</th>\n",
       "      <td>RajashekarRaju/compose-actors</td>\n",
       "      <td>Other</td>\n",
       "      <td># Compose Actors :dancer:\\n\\n## Roadmap v0.3.0...</td>\n",
       "      <td>[compose, actor, dancer, roadmap, v030, x, let...</td>\n",
       "      <td># Compose Actors :dancer: ## Roadmap v0.3.0 - ...</td>\n",
       "    </tr>\n",
       "    <tr>\n",
       "      <th>540</th>\n",
       "      <td>landy22granatt/Kumpulan-Script-Termux</td>\n",
       "      <td>Python</td>\n",
       "      <td>pkg update &amp;&amp; pkg upgrade\\npkg install bash\\np...</td>\n",
       "      <td>[pkg, update, pkg, upgrade, pkg, install, bash...</td>\n",
       "      <td>pkg update &amp;&amp; pkg upgrade pkg install bash pkg...</td>\n",
       "    </tr>\n",
       "  </tbody>\n",
       "</table>\n",
       "<p>541 rows × 5 columns</p>\n",
       "</div>"
      ],
      "text/plain": [
       "                                      repo language  \\\n",
       "0              AtsushiSakai/PythonRobotics   Python   \n",
       "1                    NxRLab/ModernRobotics   Python   \n",
       "2                   onlytailei/CppRobotics      C++   \n",
       "3                 JdeRobot/RoboticsAcademy    Other   \n",
       "4          pptacher/probabilistic_robotics      C++   \n",
       "..                                     ...      ...   \n",
       "536   Skythinker616/foc-wheel-legged-robot    Other   \n",
       "537                       Sollimann/bonsai    Other   \n",
       "538                    zjunlp/EasyInstruct   Python   \n",
       "539          RajashekarRaju/compose-actors    Other   \n",
       "540  landy22granatt/Kumpulan-Script-Termux   Python   \n",
       "\n",
       "                                                  text  \\\n",
       "0    <img src=\"https://github.com/AtsushiSakai/Pyth...   \n",
       "1    # Modern Robotics:  Mechanics, Planning, and C...   \n",
       "2    # CppRobotics\\n\\nThis is the cpp implementatio...   \n",
       "3    <a href=\"https://jderobot.github.io/\"><img src...   \n",
       "4    # probabilistic_robotics\\nI am working on deta...   \n",
       "..                                                 ...   \n",
       "536  <div align=center>\\n\\t<img src=\"readme-img/cov...   \n",
       "537  <h1 align=\"center\" style=\"font-family:Papyrus;...   \n",
       "538  <div align=\"center\">\\n\\n<img src=\"figs/logo.pn...   \n",
       "539  # Compose Actors :dancer:\\n\\n## Roadmap v0.3.0...   \n",
       "540  pkg update && pkg upgrade\\npkg install bash\\np...   \n",
       "\n",
       "                                            clean_text  \\\n",
       "0    [img, srchttpsgithubcomatsushisakaipythonrobot...   \n",
       "1    [modern, robotics, mechanic, planning, control...   \n",
       "2    [cpprobotics, cpp, implementation, pythonrobot...   \n",
       "3    [hrefhttpsjderobotgithubioimg, srcimglogogif, ...   \n",
       "4    [probabilistic_robotics, working, detailed, so...   \n",
       "..                                                 ...   \n",
       "536  [div, aligncenter, img, srcreadmeimgcoverjpg, ...   \n",
       "537  [h1, aligncenter, stylefontfamilypapyrus, font...   \n",
       "538  [div, aligncenter, img, srcfigslogopng, width3...   \n",
       "539  [compose, actor, dancer, roadmap, v030, x, let...   \n",
       "540  [pkg, update, pkg, upgrade, pkg, install, bash...   \n",
       "\n",
       "                                                lemmas  \n",
       "0    <img src=\"https://github.com/AtsushiSakai/Pyth...  \n",
       "1    # Modern Robotics: Mechanics, Planning, and Co...  \n",
       "2    # CppRobotics This is the cpp implementation o...  \n",
       "3    <a href=\"https://jderobot.github.io/\"><img src...  \n",
       "4    # probabilistic_robotics I am working on detai...  \n",
       "..                                                 ...  \n",
       "536  <div align=center> <img src=\"readme-img/cover....  \n",
       "537  <h1 align=\"center\" style=\"font-family:Papyrus;...  \n",
       "538  <div align=\"center\"> <img src=\"figs/logo.png\" ...  \n",
       "539  # Compose Actors :dancer: ## Roadmap v0.3.0 - ...  \n",
       "540  pkg update && pkg upgrade pkg install bash pkg...  \n",
       "\n",
       "[541 rows x 5 columns]"
      ]
     },
     "execution_count": 8,
     "metadata": {},
     "output_type": "execute_result"
    }
   ],
   "source": [
    "repos_df"
   ]
  },
  {
   "cell_type": "code",
   "execution_count": 9,
   "id": "b456ac7b-0c6d-4536-97c7-1ade56bfb2cf",
   "metadata": {},
   "outputs": [],
   "source": [
    "X = repos_df.lemmas\n",
    "y = repos_df.language\n",
    "\n",
    "X_train, X_test, y_train, y_test = train_test_split(X, y, train_size=0.7,\n",
    "                                                    random_state=42)"
   ]
  },
  {
   "cell_type": "code",
   "execution_count": 10,
   "id": "0005bf85-2a1a-41b6-a4c2-9f4bb402d74b",
   "metadata": {},
   "outputs": [
    {
     "data": {
      "text/plain": [
       "0      <img src=\"https://github.com/AtsushiSakai/Pyth...\n",
       "1      # Modern Robotics: Mechanics, Planning, and Co...\n",
       "2      # CppRobotics This is the cpp implementation o...\n",
       "3      <a href=\"https://jderobot.github.io/\"><img src...\n",
       "4      # probabilistic_robotics I am working on detai...\n",
       "                             ...                        \n",
       "536    <div align=center> <img src=\"readme-img/cover....\n",
       "537    <h1 align=\"center\" style=\"font-family:Papyrus;...\n",
       "538    <div align=\"center\"> <img src=\"figs/logo.png\" ...\n",
       "539    # Compose Actors :dancer: ## Roadmap v0.3.0 - ...\n",
       "540    pkg update && pkg upgrade pkg install bash pkg...\n",
       "Name: lemmas, Length: 541, dtype: object"
      ]
     },
     "execution_count": 10,
     "metadata": {},
     "output_type": "execute_result"
    }
   ],
   "source": [
    "X"
   ]
  },
  {
   "cell_type": "code",
   "execution_count": 11,
   "id": "e2279e51-c645-4a49-88f5-4777fb810c15",
   "metadata": {},
   "outputs": [
    {
     "data": {
      "text/plain": [
       "<10x42504 sparse matrix of type '<class 'numpy.float64'>'\n",
       "\twith 10809 stored elements in Compressed Sparse Row format>"
      ]
     },
     "execution_count": 11,
     "metadata": {},
     "output_type": "execute_result"
    }
   ],
   "source": [
    "tfidf = TfidfVectorizer()\n",
    "\n",
    "X_train_tfidf = tfidf.fit_transform(X_train)\n",
    "X_test_tfidf = tfidf.transform(X_test)\n",
    "\n",
    "X_train_tfidf[:10]"
   ]
  },
  {
   "cell_type": "code",
   "execution_count": 12,
   "id": "c5f36f63-ecab-4fe4-b3be-e910bb66cde8",
   "metadata": {},
   "outputs": [
    {
     "name": "stdout",
     "output_type": "stream",
     "text": [
      "baseline: 37.3.\n"
     ]
    }
   ],
   "source": [
    "baseline_acc = y_train.value_counts().max() / y_train.shape[0] * 100\n",
    "\n",
    "print(f'baseline: {round(baseline_acc, 2)}.')"
   ]
  },
  {
   "cell_type": "code",
   "execution_count": 13,
   "id": "88070afb-1b97-4215-bd67-171163e3804d",
   "metadata": {},
   "outputs": [
    {
     "data": {
      "text/html": [
       "<div>\n",
       "<style scoped>\n",
       "    .dataframe tbody tr th:only-of-type {\n",
       "        vertical-align: middle;\n",
       "    }\n",
       "\n",
       "    .dataframe tbody tr th {\n",
       "        vertical-align: top;\n",
       "    }\n",
       "\n",
       "    .dataframe thead th {\n",
       "        text-align: right;\n",
       "    }\n",
       "</style>\n",
       "<table border=\"1\" class=\"dataframe\">\n",
       "  <thead>\n",
       "    <tr style=\"text-align: right;\">\n",
       "      <th></th>\n",
       "      <th>00</th>\n",
       "      <th>000</th>\n",
       "      <th>0000</th>\n",
       "      <th>00000</th>\n",
       "      <th>000000</th>\n",
       "      <th>00000006</th>\n",
       "      <th>0000000rgba</th>\n",
       "      <th>0000000rgbb</th>\n",
       "      <th>000000s</th>\n",
       "      <th>0000048rgb</th>\n",
       "      <th>...</th>\n",
       "      <th>ｓｏｆｔｗａｒｅ</th>\n",
       "      <th>ｔｈｅ</th>\n",
       "      <th>ｔｈｉｓ</th>\n",
       "      <th>ｔｏ</th>\n",
       "      <th>ｕｎｗｉｓｅ</th>\n",
       "      <th>ｕｓｅ</th>\n",
       "      <th>ｗｅｂｓｉｔｅ</th>\n",
       "      <th>ｽﾀｯｸﾁｬﾝ</th>\n",
       "      <th>𝑅𝑖𝑚</th>\n",
       "      <th>𝑅𝑟𝑒</th>\n",
       "    </tr>\n",
       "  </thead>\n",
       "  <tbody>\n",
       "    <tr>\n",
       "      <th>0</th>\n",
       "      <td>0.0</td>\n",
       "      <td>0.0</td>\n",
       "      <td>0.0</td>\n",
       "      <td>0.0</td>\n",
       "      <td>0.0</td>\n",
       "      <td>0.0</td>\n",
       "      <td>0.0</td>\n",
       "      <td>0.0</td>\n",
       "      <td>0.0</td>\n",
       "      <td>0.0</td>\n",
       "      <td>...</td>\n",
       "      <td>0.0</td>\n",
       "      <td>0.0</td>\n",
       "      <td>0.0</td>\n",
       "      <td>0.0</td>\n",
       "      <td>0.0</td>\n",
       "      <td>0.0</td>\n",
       "      <td>0.0</td>\n",
       "      <td>0.0</td>\n",
       "      <td>0.000000</td>\n",
       "      <td>0.000000</td>\n",
       "    </tr>\n",
       "    <tr>\n",
       "      <th>1</th>\n",
       "      <td>0.0</td>\n",
       "      <td>0.0</td>\n",
       "      <td>0.0</td>\n",
       "      <td>0.0</td>\n",
       "      <td>0.0</td>\n",
       "      <td>0.0</td>\n",
       "      <td>0.0</td>\n",
       "      <td>0.0</td>\n",
       "      <td>0.0</td>\n",
       "      <td>0.0</td>\n",
       "      <td>...</td>\n",
       "      <td>0.0</td>\n",
       "      <td>0.0</td>\n",
       "      <td>0.0</td>\n",
       "      <td>0.0</td>\n",
       "      <td>0.0</td>\n",
       "      <td>0.0</td>\n",
       "      <td>0.0</td>\n",
       "      <td>0.0</td>\n",
       "      <td>0.000000</td>\n",
       "      <td>0.000000</td>\n",
       "    </tr>\n",
       "    <tr>\n",
       "      <th>2</th>\n",
       "      <td>0.0</td>\n",
       "      <td>0.0</td>\n",
       "      <td>0.0</td>\n",
       "      <td>0.0</td>\n",
       "      <td>0.0</td>\n",
       "      <td>0.0</td>\n",
       "      <td>0.0</td>\n",
       "      <td>0.0</td>\n",
       "      <td>0.0</td>\n",
       "      <td>0.0</td>\n",
       "      <td>...</td>\n",
       "      <td>0.0</td>\n",
       "      <td>0.0</td>\n",
       "      <td>0.0</td>\n",
       "      <td>0.0</td>\n",
       "      <td>0.0</td>\n",
       "      <td>0.0</td>\n",
       "      <td>0.0</td>\n",
       "      <td>0.0</td>\n",
       "      <td>0.000000</td>\n",
       "      <td>0.000000</td>\n",
       "    </tr>\n",
       "    <tr>\n",
       "      <th>3</th>\n",
       "      <td>0.0</td>\n",
       "      <td>0.0</td>\n",
       "      <td>0.0</td>\n",
       "      <td>0.0</td>\n",
       "      <td>0.0</td>\n",
       "      <td>0.0</td>\n",
       "      <td>0.0</td>\n",
       "      <td>0.0</td>\n",
       "      <td>0.0</td>\n",
       "      <td>0.0</td>\n",
       "      <td>...</td>\n",
       "      <td>0.0</td>\n",
       "      <td>0.0</td>\n",
       "      <td>0.0</td>\n",
       "      <td>0.0</td>\n",
       "      <td>0.0</td>\n",
       "      <td>0.0</td>\n",
       "      <td>0.0</td>\n",
       "      <td>0.0</td>\n",
       "      <td>0.000000</td>\n",
       "      <td>0.000000</td>\n",
       "    </tr>\n",
       "    <tr>\n",
       "      <th>4</th>\n",
       "      <td>0.0</td>\n",
       "      <td>0.0</td>\n",
       "      <td>0.0</td>\n",
       "      <td>0.0</td>\n",
       "      <td>0.0</td>\n",
       "      <td>0.0</td>\n",
       "      <td>0.0</td>\n",
       "      <td>0.0</td>\n",
       "      <td>0.0</td>\n",
       "      <td>0.0</td>\n",
       "      <td>...</td>\n",
       "      <td>0.0</td>\n",
       "      <td>0.0</td>\n",
       "      <td>0.0</td>\n",
       "      <td>0.0</td>\n",
       "      <td>0.0</td>\n",
       "      <td>0.0</td>\n",
       "      <td>0.0</td>\n",
       "      <td>0.0</td>\n",
       "      <td>0.000000</td>\n",
       "      <td>0.000000</td>\n",
       "    </tr>\n",
       "    <tr>\n",
       "      <th>...</th>\n",
       "      <td>...</td>\n",
       "      <td>...</td>\n",
       "      <td>...</td>\n",
       "      <td>...</td>\n",
       "      <td>...</td>\n",
       "      <td>...</td>\n",
       "      <td>...</td>\n",
       "      <td>...</td>\n",
       "      <td>...</td>\n",
       "      <td>...</td>\n",
       "      <td>...</td>\n",
       "      <td>...</td>\n",
       "      <td>...</td>\n",
       "      <td>...</td>\n",
       "      <td>...</td>\n",
       "      <td>...</td>\n",
       "      <td>...</td>\n",
       "      <td>...</td>\n",
       "      <td>...</td>\n",
       "      <td>...</td>\n",
       "      <td>...</td>\n",
       "    </tr>\n",
       "    <tr>\n",
       "      <th>373</th>\n",
       "      <td>0.0</td>\n",
       "      <td>0.0</td>\n",
       "      <td>0.0</td>\n",
       "      <td>0.0</td>\n",
       "      <td>0.0</td>\n",
       "      <td>0.0</td>\n",
       "      <td>0.0</td>\n",
       "      <td>0.0</td>\n",
       "      <td>0.0</td>\n",
       "      <td>0.0</td>\n",
       "      <td>...</td>\n",
       "      <td>0.0</td>\n",
       "      <td>0.0</td>\n",
       "      <td>0.0</td>\n",
       "      <td>0.0</td>\n",
       "      <td>0.0</td>\n",
       "      <td>0.0</td>\n",
       "      <td>0.0</td>\n",
       "      <td>0.0</td>\n",
       "      <td>0.005612</td>\n",
       "      <td>0.005612</td>\n",
       "    </tr>\n",
       "    <tr>\n",
       "      <th>374</th>\n",
       "      <td>0.0</td>\n",
       "      <td>0.0</td>\n",
       "      <td>0.0</td>\n",
       "      <td>0.0</td>\n",
       "      <td>0.0</td>\n",
       "      <td>0.0</td>\n",
       "      <td>0.0</td>\n",
       "      <td>0.0</td>\n",
       "      <td>0.0</td>\n",
       "      <td>0.0</td>\n",
       "      <td>...</td>\n",
       "      <td>0.0</td>\n",
       "      <td>0.0</td>\n",
       "      <td>0.0</td>\n",
       "      <td>0.0</td>\n",
       "      <td>0.0</td>\n",
       "      <td>0.0</td>\n",
       "      <td>0.0</td>\n",
       "      <td>0.0</td>\n",
       "      <td>0.000000</td>\n",
       "      <td>0.000000</td>\n",
       "    </tr>\n",
       "    <tr>\n",
       "      <th>375</th>\n",
       "      <td>0.0</td>\n",
       "      <td>0.0</td>\n",
       "      <td>0.0</td>\n",
       "      <td>0.0</td>\n",
       "      <td>0.0</td>\n",
       "      <td>0.0</td>\n",
       "      <td>0.0</td>\n",
       "      <td>0.0</td>\n",
       "      <td>0.0</td>\n",
       "      <td>0.0</td>\n",
       "      <td>...</td>\n",
       "      <td>0.0</td>\n",
       "      <td>0.0</td>\n",
       "      <td>0.0</td>\n",
       "      <td>0.0</td>\n",
       "      <td>0.0</td>\n",
       "      <td>0.0</td>\n",
       "      <td>0.0</td>\n",
       "      <td>0.0</td>\n",
       "      <td>0.000000</td>\n",
       "      <td>0.000000</td>\n",
       "    </tr>\n",
       "    <tr>\n",
       "      <th>376</th>\n",
       "      <td>0.0</td>\n",
       "      <td>0.0</td>\n",
       "      <td>0.0</td>\n",
       "      <td>0.0</td>\n",
       "      <td>0.0</td>\n",
       "      <td>0.0</td>\n",
       "      <td>0.0</td>\n",
       "      <td>0.0</td>\n",
       "      <td>0.0</td>\n",
       "      <td>0.0</td>\n",
       "      <td>...</td>\n",
       "      <td>0.0</td>\n",
       "      <td>0.0</td>\n",
       "      <td>0.0</td>\n",
       "      <td>0.0</td>\n",
       "      <td>0.0</td>\n",
       "      <td>0.0</td>\n",
       "      <td>0.0</td>\n",
       "      <td>0.0</td>\n",
       "      <td>0.000000</td>\n",
       "      <td>0.000000</td>\n",
       "    </tr>\n",
       "    <tr>\n",
       "      <th>377</th>\n",
       "      <td>0.0</td>\n",
       "      <td>0.0</td>\n",
       "      <td>0.0</td>\n",
       "      <td>0.0</td>\n",
       "      <td>0.0</td>\n",
       "      <td>0.0</td>\n",
       "      <td>0.0</td>\n",
       "      <td>0.0</td>\n",
       "      <td>0.0</td>\n",
       "      <td>0.0</td>\n",
       "      <td>...</td>\n",
       "      <td>0.0</td>\n",
       "      <td>0.0</td>\n",
       "      <td>0.0</td>\n",
       "      <td>0.0</td>\n",
       "      <td>0.0</td>\n",
       "      <td>0.0</td>\n",
       "      <td>0.0</td>\n",
       "      <td>0.0</td>\n",
       "      <td>0.000000</td>\n",
       "      <td>0.000000</td>\n",
       "    </tr>\n",
       "  </tbody>\n",
       "</table>\n",
       "<p>378 rows × 42504 columns</p>\n",
       "</div>"
      ],
      "text/plain": [
       "      00  000  0000  00000  000000  00000006  0000000rgba  0000000rgbb  \\\n",
       "0    0.0  0.0   0.0    0.0     0.0       0.0          0.0          0.0   \n",
       "1    0.0  0.0   0.0    0.0     0.0       0.0          0.0          0.0   \n",
       "2    0.0  0.0   0.0    0.0     0.0       0.0          0.0          0.0   \n",
       "3    0.0  0.0   0.0    0.0     0.0       0.0          0.0          0.0   \n",
       "4    0.0  0.0   0.0    0.0     0.0       0.0          0.0          0.0   \n",
       "..   ...  ...   ...    ...     ...       ...          ...          ...   \n",
       "373  0.0  0.0   0.0    0.0     0.0       0.0          0.0          0.0   \n",
       "374  0.0  0.0   0.0    0.0     0.0       0.0          0.0          0.0   \n",
       "375  0.0  0.0   0.0    0.0     0.0       0.0          0.0          0.0   \n",
       "376  0.0  0.0   0.0    0.0     0.0       0.0          0.0          0.0   \n",
       "377  0.0  0.0   0.0    0.0     0.0       0.0          0.0          0.0   \n",
       "\n",
       "     000000s  0000048rgb  ...  ｓｏｆｔｗａｒｅ  ｔｈｅ  ｔｈｉｓ   ｔｏ  ｕｎｗｉｓｅ  ｕｓｅ  ｗｅｂｓｉｔｅ  \\\n",
       "0        0.0         0.0  ...       0.0  0.0   0.0  0.0     0.0  0.0      0.0   \n",
       "1        0.0         0.0  ...       0.0  0.0   0.0  0.0     0.0  0.0      0.0   \n",
       "2        0.0         0.0  ...       0.0  0.0   0.0  0.0     0.0  0.0      0.0   \n",
       "3        0.0         0.0  ...       0.0  0.0   0.0  0.0     0.0  0.0      0.0   \n",
       "4        0.0         0.0  ...       0.0  0.0   0.0  0.0     0.0  0.0      0.0   \n",
       "..       ...         ...  ...       ...  ...   ...  ...     ...  ...      ...   \n",
       "373      0.0         0.0  ...       0.0  0.0   0.0  0.0     0.0  0.0      0.0   \n",
       "374      0.0         0.0  ...       0.0  0.0   0.0  0.0     0.0  0.0      0.0   \n",
       "375      0.0         0.0  ...       0.0  0.0   0.0  0.0     0.0  0.0      0.0   \n",
       "376      0.0         0.0  ...       0.0  0.0   0.0  0.0     0.0  0.0      0.0   \n",
       "377      0.0         0.0  ...       0.0  0.0   0.0  0.0     0.0  0.0      0.0   \n",
       "\n",
       "     ｽﾀｯｸﾁｬﾝ       𝑅𝑖𝑚       𝑅𝑟𝑒  \n",
       "0        0.0  0.000000  0.000000  \n",
       "1        0.0  0.000000  0.000000  \n",
       "2        0.0  0.000000  0.000000  \n",
       "3        0.0  0.000000  0.000000  \n",
       "4        0.0  0.000000  0.000000  \n",
       "..       ...       ...       ...  \n",
       "373      0.0  0.005612  0.005612  \n",
       "374      0.0  0.000000  0.000000  \n",
       "375      0.0  0.000000  0.000000  \n",
       "376      0.0  0.000000  0.000000  \n",
       "377      0.0  0.000000  0.000000  \n",
       "\n",
       "[378 rows x 42504 columns]"
      ]
     },
     "execution_count": 13,
     "metadata": {},
     "output_type": "execute_result"
    }
   ],
   "source": [
    "pd.DataFrame(X_train_tfidf.todense(), columns=tfidf.get_feature_names_out())"
   ]
  },
  {
   "cell_type": "markdown",
   "id": "08a1b170-8773-4ed2-9289-af1ee72e6f13",
   "metadata": {},
   "source": [
    "# logistic regression model"
   ]
  },
  {
   "cell_type": "code",
   "execution_count": 14,
   "id": "474fe11c-3535-47c1-9abd-2b3ba4256d40",
   "metadata": {},
   "outputs": [
    {
     "data": {
      "text/html": [
       "<style>#sk-container-id-1 {color: black;}#sk-container-id-1 pre{padding: 0;}#sk-container-id-1 div.sk-toggleable {background-color: white;}#sk-container-id-1 label.sk-toggleable__label {cursor: pointer;display: block;width: 100%;margin-bottom: 0;padding: 0.3em;box-sizing: border-box;text-align: center;}#sk-container-id-1 label.sk-toggleable__label-arrow:before {content: \"▸\";float: left;margin-right: 0.25em;color: #696969;}#sk-container-id-1 label.sk-toggleable__label-arrow:hover:before {color: black;}#sk-container-id-1 div.sk-estimator:hover label.sk-toggleable__label-arrow:before {color: black;}#sk-container-id-1 div.sk-toggleable__content {max-height: 0;max-width: 0;overflow: hidden;text-align: left;background-color: #f0f8ff;}#sk-container-id-1 div.sk-toggleable__content pre {margin: 0.2em;color: black;border-radius: 0.25em;background-color: #f0f8ff;}#sk-container-id-1 input.sk-toggleable__control:checked~div.sk-toggleable__content {max-height: 200px;max-width: 100%;overflow: auto;}#sk-container-id-1 input.sk-toggleable__control:checked~label.sk-toggleable__label-arrow:before {content: \"▾\";}#sk-container-id-1 div.sk-estimator input.sk-toggleable__control:checked~label.sk-toggleable__label {background-color: #d4ebff;}#sk-container-id-1 div.sk-label input.sk-toggleable__control:checked~label.sk-toggleable__label {background-color: #d4ebff;}#sk-container-id-1 input.sk-hidden--visually {border: 0;clip: rect(1px 1px 1px 1px);clip: rect(1px, 1px, 1px, 1px);height: 1px;margin: -1px;overflow: hidden;padding: 0;position: absolute;width: 1px;}#sk-container-id-1 div.sk-estimator {font-family: monospace;background-color: #f0f8ff;border: 1px dotted black;border-radius: 0.25em;box-sizing: border-box;margin-bottom: 0.5em;}#sk-container-id-1 div.sk-estimator:hover {background-color: #d4ebff;}#sk-container-id-1 div.sk-parallel-item::after {content: \"\";width: 100%;border-bottom: 1px solid gray;flex-grow: 1;}#sk-container-id-1 div.sk-label:hover label.sk-toggleable__label {background-color: #d4ebff;}#sk-container-id-1 div.sk-serial::before {content: \"\";position: absolute;border-left: 1px solid gray;box-sizing: border-box;top: 0;bottom: 0;left: 50%;z-index: 0;}#sk-container-id-1 div.sk-serial {display: flex;flex-direction: column;align-items: center;background-color: white;padding-right: 0.2em;padding-left: 0.2em;position: relative;}#sk-container-id-1 div.sk-item {position: relative;z-index: 1;}#sk-container-id-1 div.sk-parallel {display: flex;align-items: stretch;justify-content: center;background-color: white;position: relative;}#sk-container-id-1 div.sk-item::before, #sk-container-id-1 div.sk-parallel-item::before {content: \"\";position: absolute;border-left: 1px solid gray;box-sizing: border-box;top: 0;bottom: 0;left: 50%;z-index: -1;}#sk-container-id-1 div.sk-parallel-item {display: flex;flex-direction: column;z-index: 1;position: relative;background-color: white;}#sk-container-id-1 div.sk-parallel-item:first-child::after {align-self: flex-end;width: 50%;}#sk-container-id-1 div.sk-parallel-item:last-child::after {align-self: flex-start;width: 50%;}#sk-container-id-1 div.sk-parallel-item:only-child::after {width: 0;}#sk-container-id-1 div.sk-dashed-wrapped {border: 1px dashed gray;margin: 0 0.4em 0.5em 0.4em;box-sizing: border-box;padding-bottom: 0.4em;background-color: white;}#sk-container-id-1 div.sk-label label {font-family: monospace;font-weight: bold;display: inline-block;line-height: 1.2em;}#sk-container-id-1 div.sk-label-container {text-align: center;}#sk-container-id-1 div.sk-container {/* jupyter's `normalize.less` sets `[hidden] { display: none; }` but bootstrap.min.css set `[hidden] { display: none !important; }` so we also need the `!important` here to be able to override the default hidden behavior on the sphinx rendered scikit-learn.org. See: https://github.com/scikit-learn/scikit-learn/issues/21755 */display: inline-block !important;position: relative;}#sk-container-id-1 div.sk-text-repr-fallback {display: none;}</style><div id=\"sk-container-id-1\" class=\"sk-top-container\"><div class=\"sk-text-repr-fallback\"><pre>LogisticRegression()</pre><b>In a Jupyter environment, please rerun this cell to show the HTML representation or trust the notebook. <br />On GitHub, the HTML representation is unable to render, please try loading this page with nbviewer.org.</b></div><div class=\"sk-container\" hidden><div class=\"sk-item\"><div class=\"sk-estimator sk-toggleable\"><input class=\"sk-toggleable__control sk-hidden--visually\" id=\"sk-estimator-id-1\" type=\"checkbox\" checked><label for=\"sk-estimator-id-1\" class=\"sk-toggleable__label sk-toggleable__label-arrow\">LogisticRegression</label><div class=\"sk-toggleable__content\"><pre>LogisticRegression()</pre></div></div></div></div></div>"
      ],
      "text/plain": [
       "LogisticRegression()"
      ]
     },
     "execution_count": 14,
     "metadata": {},
     "output_type": "execute_result"
    }
   ],
   "source": [
    "lm = LogisticRegression()\n",
    "\n",
    "lm.fit(X_train_tfidf, y_train)"
   ]
  },
  {
   "cell_type": "code",
   "execution_count": 15,
   "id": "bb92ad6f-beaa-473f-a1ea-bbf85220787d",
   "metadata": {},
   "outputs": [
    {
     "data": {
      "text/html": [
       "<div>\n",
       "<style scoped>\n",
       "    .dataframe tbody tr th:only-of-type {\n",
       "        vertical-align: middle;\n",
       "    }\n",
       "\n",
       "    .dataframe tbody tr th {\n",
       "        vertical-align: top;\n",
       "    }\n",
       "\n",
       "    .dataframe thead th {\n",
       "        text-align: right;\n",
       "    }\n",
       "</style>\n",
       "<table border=\"1\" class=\"dataframe\">\n",
       "  <thead>\n",
       "    <tr style=\"text-align: right;\">\n",
       "      <th></th>\n",
       "      <th>actual</th>\n",
       "      <th>preds</th>\n",
       "    </tr>\n",
       "  </thead>\n",
       "  <tbody>\n",
       "    <tr>\n",
       "      <th>428</th>\n",
       "      <td>Python</td>\n",
       "      <td>Python</td>\n",
       "    </tr>\n",
       "    <tr>\n",
       "      <th>370</th>\n",
       "      <td>C++</td>\n",
       "      <td>C++</td>\n",
       "    </tr>\n",
       "    <tr>\n",
       "      <th>57</th>\n",
       "      <td>Python</td>\n",
       "      <td>Python</td>\n",
       "    </tr>\n",
       "    <tr>\n",
       "      <th>332</th>\n",
       "      <td>C++</td>\n",
       "      <td>C++</td>\n",
       "    </tr>\n",
       "    <tr>\n",
       "      <th>24</th>\n",
       "      <td>C++</td>\n",
       "      <td>C++</td>\n",
       "    </tr>\n",
       "  </tbody>\n",
       "</table>\n",
       "</div>"
      ],
      "text/plain": [
       "     actual   preds\n",
       "428  Python  Python\n",
       "370     C++     C++\n",
       "57   Python  Python\n",
       "332     C++     C++\n",
       "24      C++     C++"
      ]
     },
     "execution_count": 15,
     "metadata": {},
     "output_type": "execute_result"
    }
   ],
   "source": [
    "y_train_res = pd.DataFrame({'actual': y_train,\n",
    "                            'preds': lm.predict(X_train_tfidf)})\n",
    "y_train_res.head()"
   ]
  },
  {
   "cell_type": "code",
   "execution_count": 16,
   "id": "fafd874e-4c30-49d7-b19a-acee272a5184",
   "metadata": {},
   "outputs": [
    {
     "name": "stdout",
     "output_type": "stream",
     "text": [
      "              precision    recall  f1-score   support\n",
      "\n",
      "         C++       0.94      0.99      0.97       141\n",
      "       Other       1.00      0.93      0.96        97\n",
      "      Python       0.98      0.97      0.97       140\n",
      "\n",
      "    accuracy                           0.97       378\n",
      "   macro avg       0.97      0.96      0.97       378\n",
      "weighted avg       0.97      0.97      0.97       378\n",
      "\n"
     ]
    }
   ],
   "source": [
    "print(class_rep(y_train_res.actual, y_train_res.preds))"
   ]
  },
  {
   "cell_type": "markdown",
   "id": "47e20d3c-cfdf-4ba1-9d50-a2f9dd055bf2",
   "metadata": {},
   "source": [
    "# Logistic Regression Test"
   ]
  },
  {
   "cell_type": "code",
   "execution_count": 17,
   "id": "3a667cc5-f877-4633-9f1c-7da0243d768d",
   "metadata": {},
   "outputs": [
    {
     "data": {
      "text/html": [
       "<div>\n",
       "<style scoped>\n",
       "    .dataframe tbody tr th:only-of-type {\n",
       "        vertical-align: middle;\n",
       "    }\n",
       "\n",
       "    .dataframe tbody tr th {\n",
       "        vertical-align: top;\n",
       "    }\n",
       "\n",
       "    .dataframe thead th {\n",
       "        text-align: right;\n",
       "    }\n",
       "</style>\n",
       "<table border=\"1\" class=\"dataframe\">\n",
       "  <thead>\n",
       "    <tr style=\"text-align: right;\">\n",
       "      <th></th>\n",
       "      <th>actual</th>\n",
       "      <th>preds</th>\n",
       "    </tr>\n",
       "  </thead>\n",
       "  <tbody>\n",
       "    <tr>\n",
       "      <th>229</th>\n",
       "      <td>Other</td>\n",
       "      <td>Other</td>\n",
       "    </tr>\n",
       "    <tr>\n",
       "      <th>73</th>\n",
       "      <td>C++</td>\n",
       "      <td>C++</td>\n",
       "    </tr>\n",
       "    <tr>\n",
       "      <th>352</th>\n",
       "      <td>Python</td>\n",
       "      <td>Python</td>\n",
       "    </tr>\n",
       "    <tr>\n",
       "      <th>86</th>\n",
       "      <td>C++</td>\n",
       "      <td>C++</td>\n",
       "    </tr>\n",
       "    <tr>\n",
       "      <th>470</th>\n",
       "      <td>Python</td>\n",
       "      <td>C++</td>\n",
       "    </tr>\n",
       "  </tbody>\n",
       "</table>\n",
       "</div>"
      ],
      "text/plain": [
       "     actual   preds\n",
       "229   Other   Other\n",
       "73      C++     C++\n",
       "352  Python  Python\n",
       "86      C++     C++\n",
       "470  Python     C++"
      ]
     },
     "execution_count": 17,
     "metadata": {},
     "output_type": "execute_result"
    }
   ],
   "source": [
    "y_test_res = pd.DataFrame({'actual': y_test,\n",
    "                           'preds': lm.predict(X_test_tfidf)})\n",
    "y_test_res.head()"
   ]
  },
  {
   "cell_type": "code",
   "execution_count": 18,
   "id": "8b098ee4-ab15-4e3a-9dd8-7883c510667c",
   "metadata": {},
   "outputs": [
    {
     "name": "stdout",
     "output_type": "stream",
     "text": [
      "              precision    recall  f1-score   support\n",
      "\n",
      "         C++       0.69      0.79      0.74        67\n",
      "       Other       0.76      0.44      0.56        36\n",
      "      Python       0.71      0.77      0.74        60\n",
      "\n",
      "    accuracy                           0.71       163\n",
      "   macro avg       0.72      0.67      0.68       163\n",
      "weighted avg       0.71      0.71      0.70       163\n",
      "\n"
     ]
    }
   ],
   "source": [
    "print(class_rep(y_test_res.actual, y_test_res.preds))"
   ]
  },
  {
   "cell_type": "markdown",
   "id": "5653692d-2932-415d-aeed-5653561d51b7",
   "metadata": {},
   "source": [
    "  "
   ]
  },
  {
   "cell_type": "markdown",
   "id": "fe0e7236-82dd-45e9-b4a0-43922706cbe6",
   "metadata": {},
   "source": [
    "  "
   ]
  },
  {
   "cell_type": "markdown",
   "id": "b8d85cef-e663-4f51-a754-2e416a6656ce",
   "metadata": {},
   "source": [
    "  "
   ]
  },
  {
   "cell_type": "markdown",
   "id": "0505eb53-df5f-4051-8220-78bd7d606626",
   "metadata": {},
   "source": [
    "  "
   ]
  },
  {
   "cell_type": "markdown",
   "id": "f524af9b-eb57-43b0-9769-e5b575688e77",
   "metadata": {},
   "source": [
    "  "
   ]
  },
  {
   "cell_type": "markdown",
   "id": "ac120a70-6ddd-4831-821d-acc280edce6c",
   "metadata": {},
   "source": [
    "  "
   ]
  },
  {
   "cell_type": "markdown",
   "id": "8d9b1adc-88c1-43a1-8b10-92154a736b7b",
   "metadata": {},
   "source": [
    "# KNN Classifier Model"
   ]
  },
  {
   "cell_type": "code",
   "execution_count": 19,
   "id": "116e9aad-37ee-43bd-885e-0ef6ac9ffef7",
   "metadata": {},
   "outputs": [
    {
     "data": {
      "text/html": [
       "<style>#sk-container-id-2 {color: black;}#sk-container-id-2 pre{padding: 0;}#sk-container-id-2 div.sk-toggleable {background-color: white;}#sk-container-id-2 label.sk-toggleable__label {cursor: pointer;display: block;width: 100%;margin-bottom: 0;padding: 0.3em;box-sizing: border-box;text-align: center;}#sk-container-id-2 label.sk-toggleable__label-arrow:before {content: \"▸\";float: left;margin-right: 0.25em;color: #696969;}#sk-container-id-2 label.sk-toggleable__label-arrow:hover:before {color: black;}#sk-container-id-2 div.sk-estimator:hover label.sk-toggleable__label-arrow:before {color: black;}#sk-container-id-2 div.sk-toggleable__content {max-height: 0;max-width: 0;overflow: hidden;text-align: left;background-color: #f0f8ff;}#sk-container-id-2 div.sk-toggleable__content pre {margin: 0.2em;color: black;border-radius: 0.25em;background-color: #f0f8ff;}#sk-container-id-2 input.sk-toggleable__control:checked~div.sk-toggleable__content {max-height: 200px;max-width: 100%;overflow: auto;}#sk-container-id-2 input.sk-toggleable__control:checked~label.sk-toggleable__label-arrow:before {content: \"▾\";}#sk-container-id-2 div.sk-estimator input.sk-toggleable__control:checked~label.sk-toggleable__label {background-color: #d4ebff;}#sk-container-id-2 div.sk-label input.sk-toggleable__control:checked~label.sk-toggleable__label {background-color: #d4ebff;}#sk-container-id-2 input.sk-hidden--visually {border: 0;clip: rect(1px 1px 1px 1px);clip: rect(1px, 1px, 1px, 1px);height: 1px;margin: -1px;overflow: hidden;padding: 0;position: absolute;width: 1px;}#sk-container-id-2 div.sk-estimator {font-family: monospace;background-color: #f0f8ff;border: 1px dotted black;border-radius: 0.25em;box-sizing: border-box;margin-bottom: 0.5em;}#sk-container-id-2 div.sk-estimator:hover {background-color: #d4ebff;}#sk-container-id-2 div.sk-parallel-item::after {content: \"\";width: 100%;border-bottom: 1px solid gray;flex-grow: 1;}#sk-container-id-2 div.sk-label:hover label.sk-toggleable__label {background-color: #d4ebff;}#sk-container-id-2 div.sk-serial::before {content: \"\";position: absolute;border-left: 1px solid gray;box-sizing: border-box;top: 0;bottom: 0;left: 50%;z-index: 0;}#sk-container-id-2 div.sk-serial {display: flex;flex-direction: column;align-items: center;background-color: white;padding-right: 0.2em;padding-left: 0.2em;position: relative;}#sk-container-id-2 div.sk-item {position: relative;z-index: 1;}#sk-container-id-2 div.sk-parallel {display: flex;align-items: stretch;justify-content: center;background-color: white;position: relative;}#sk-container-id-2 div.sk-item::before, #sk-container-id-2 div.sk-parallel-item::before {content: \"\";position: absolute;border-left: 1px solid gray;box-sizing: border-box;top: 0;bottom: 0;left: 50%;z-index: -1;}#sk-container-id-2 div.sk-parallel-item {display: flex;flex-direction: column;z-index: 1;position: relative;background-color: white;}#sk-container-id-2 div.sk-parallel-item:first-child::after {align-self: flex-end;width: 50%;}#sk-container-id-2 div.sk-parallel-item:last-child::after {align-self: flex-start;width: 50%;}#sk-container-id-2 div.sk-parallel-item:only-child::after {width: 0;}#sk-container-id-2 div.sk-dashed-wrapped {border: 1px dashed gray;margin: 0 0.4em 0.5em 0.4em;box-sizing: border-box;padding-bottom: 0.4em;background-color: white;}#sk-container-id-2 div.sk-label label {font-family: monospace;font-weight: bold;display: inline-block;line-height: 1.2em;}#sk-container-id-2 div.sk-label-container {text-align: center;}#sk-container-id-2 div.sk-container {/* jupyter's `normalize.less` sets `[hidden] { display: none; }` but bootstrap.min.css set `[hidden] { display: none !important; }` so we also need the `!important` here to be able to override the default hidden behavior on the sphinx rendered scikit-learn.org. See: https://github.com/scikit-learn/scikit-learn/issues/21755 */display: inline-block !important;position: relative;}#sk-container-id-2 div.sk-text-repr-fallback {display: none;}</style><div id=\"sk-container-id-2\" class=\"sk-top-container\"><div class=\"sk-text-repr-fallback\"><pre>KNeighborsClassifier()</pre><b>In a Jupyter environment, please rerun this cell to show the HTML representation or trust the notebook. <br />On GitHub, the HTML representation is unable to render, please try loading this page with nbviewer.org.</b></div><div class=\"sk-container\" hidden><div class=\"sk-item\"><div class=\"sk-estimator sk-toggleable\"><input class=\"sk-toggleable__control sk-hidden--visually\" id=\"sk-estimator-id-2\" type=\"checkbox\" checked><label for=\"sk-estimator-id-2\" class=\"sk-toggleable__label sk-toggleable__label-arrow\">KNeighborsClassifier</label><div class=\"sk-toggleable__content\"><pre>KNeighborsClassifier()</pre></div></div></div></div></div>"
      ],
      "text/plain": [
       "KNeighborsClassifier()"
      ]
     },
     "execution_count": 19,
     "metadata": {},
     "output_type": "execute_result"
    }
   ],
   "source": [
    "knn = KNeighborsClassifier()\n",
    "\n",
    "knn.fit(X_train_tfidf, y_train)"
   ]
  },
  {
   "cell_type": "code",
   "execution_count": 20,
   "id": "ef3066b6-7ea4-40b1-af47-12c4c31d4785",
   "metadata": {},
   "outputs": [
    {
     "data": {
      "text/html": [
       "<div>\n",
       "<style scoped>\n",
       "    .dataframe tbody tr th:only-of-type {\n",
       "        vertical-align: middle;\n",
       "    }\n",
       "\n",
       "    .dataframe tbody tr th {\n",
       "        vertical-align: top;\n",
       "    }\n",
       "\n",
       "    .dataframe thead th {\n",
       "        text-align: right;\n",
       "    }\n",
       "</style>\n",
       "<table border=\"1\" class=\"dataframe\">\n",
       "  <thead>\n",
       "    <tr style=\"text-align: right;\">\n",
       "      <th></th>\n",
       "      <th>actual</th>\n",
       "      <th>preds</th>\n",
       "    </tr>\n",
       "  </thead>\n",
       "  <tbody>\n",
       "    <tr>\n",
       "      <th>428</th>\n",
       "      <td>Python</td>\n",
       "      <td>C++</td>\n",
       "    </tr>\n",
       "    <tr>\n",
       "      <th>370</th>\n",
       "      <td>C++</td>\n",
       "      <td>C++</td>\n",
       "    </tr>\n",
       "    <tr>\n",
       "      <th>57</th>\n",
       "      <td>Python</td>\n",
       "      <td>Python</td>\n",
       "    </tr>\n",
       "    <tr>\n",
       "      <th>332</th>\n",
       "      <td>C++</td>\n",
       "      <td>C++</td>\n",
       "    </tr>\n",
       "    <tr>\n",
       "      <th>24</th>\n",
       "      <td>C++</td>\n",
       "      <td>C++</td>\n",
       "    </tr>\n",
       "  </tbody>\n",
       "</table>\n",
       "</div>"
      ],
      "text/plain": [
       "     actual   preds\n",
       "428  Python     C++\n",
       "370     C++     C++\n",
       "57   Python  Python\n",
       "332     C++     C++\n",
       "24      C++     C++"
      ]
     },
     "execution_count": 20,
     "metadata": {},
     "output_type": "execute_result"
    }
   ],
   "source": [
    "y_train_res = pd.DataFrame({'actual': y_train,\n",
    "                            'preds': knn.predict(X_train_tfidf)})\n",
    "y_train_res.head()"
   ]
  },
  {
   "cell_type": "code",
   "execution_count": 21,
   "id": "dc45a01b-f937-46b1-a0f6-8c7f34aefd63",
   "metadata": {},
   "outputs": [
    {
     "name": "stdout",
     "output_type": "stream",
     "text": [
      "              precision    recall  f1-score   support\n",
      "\n",
      "         C++       0.62      0.88      0.73       141\n",
      "       Other       0.78      0.41      0.54        97\n",
      "      Python       0.82      0.74      0.78       140\n",
      "\n",
      "    accuracy                           0.71       378\n",
      "   macro avg       0.74      0.68      0.68       378\n",
      "weighted avg       0.74      0.71      0.70       378\n",
      "\n"
     ]
    }
   ],
   "source": [
    "print(class_rep(y_train_res.actual, y_train_res.preds))"
   ]
  },
  {
   "cell_type": "markdown",
   "id": "9edbbc71-0af6-4f81-97a4-5099fd603086",
   "metadata": {},
   "source": [
    "# KNN test"
   ]
  },
  {
   "cell_type": "code",
   "execution_count": 22,
   "id": "d91b36c0-bbe5-4490-b5b5-ea77c9bc7689",
   "metadata": {},
   "outputs": [
    {
     "data": {
      "text/html": [
       "<div>\n",
       "<style scoped>\n",
       "    .dataframe tbody tr th:only-of-type {\n",
       "        vertical-align: middle;\n",
       "    }\n",
       "\n",
       "    .dataframe tbody tr th {\n",
       "        vertical-align: top;\n",
       "    }\n",
       "\n",
       "    .dataframe thead th {\n",
       "        text-align: right;\n",
       "    }\n",
       "</style>\n",
       "<table border=\"1\" class=\"dataframe\">\n",
       "  <thead>\n",
       "    <tr style=\"text-align: right;\">\n",
       "      <th></th>\n",
       "      <th>actual</th>\n",
       "      <th>preds</th>\n",
       "    </tr>\n",
       "  </thead>\n",
       "  <tbody>\n",
       "    <tr>\n",
       "      <th>229</th>\n",
       "      <td>Other</td>\n",
       "      <td>Other</td>\n",
       "    </tr>\n",
       "    <tr>\n",
       "      <th>73</th>\n",
       "      <td>C++</td>\n",
       "      <td>C++</td>\n",
       "    </tr>\n",
       "    <tr>\n",
       "      <th>352</th>\n",
       "      <td>Python</td>\n",
       "      <td>Python</td>\n",
       "    </tr>\n",
       "    <tr>\n",
       "      <th>86</th>\n",
       "      <td>C++</td>\n",
       "      <td>C++</td>\n",
       "    </tr>\n",
       "    <tr>\n",
       "      <th>470</th>\n",
       "      <td>Python</td>\n",
       "      <td>C++</td>\n",
       "    </tr>\n",
       "  </tbody>\n",
       "</table>\n",
       "</div>"
      ],
      "text/plain": [
       "     actual   preds\n",
       "229   Other   Other\n",
       "73      C++     C++\n",
       "352  Python  Python\n",
       "86      C++     C++\n",
       "470  Python     C++"
      ]
     },
     "execution_count": 22,
     "metadata": {},
     "output_type": "execute_result"
    }
   ],
   "source": [
    "y_test_res = pd.DataFrame({'actual': y_test,\n",
    "                           'preds': knn.predict(X_test_tfidf)})\n",
    "y_test_res.head()"
   ]
  },
  {
   "cell_type": "code",
   "execution_count": 23,
   "id": "69f16aa9-07d5-40cd-a2fc-65ba2fc7bfab",
   "metadata": {},
   "outputs": [
    {
     "name": "stdout",
     "output_type": "stream",
     "text": [
      "              precision    recall  f1-score   support\n",
      "\n",
      "         C++       0.63      0.76      0.69        67\n",
      "       Other       0.56      0.28      0.37        36\n",
      "      Python       0.61      0.65      0.63        60\n",
      "\n",
      "    accuracy                           0.61       163\n",
      "   macro avg       0.60      0.56      0.56       163\n",
      "weighted avg       0.61      0.61      0.60       163\n",
      "\n"
     ]
    }
   ],
   "source": [
    "print(class_rep(y_test_res.actual, y_test_res.preds))"
   ]
  },
  {
   "cell_type": "markdown",
   "id": "19ea220c-464f-414d-8aeb-82a440ea8a72",
   "metadata": {},
   "source": [
    "  "
   ]
  },
  {
   "cell_type": "markdown",
   "id": "95b2cb24-ce90-4943-9501-3e4d93fe49d5",
   "metadata": {},
   "source": [
    "  "
   ]
  },
  {
   "cell_type": "markdown",
   "id": "ed4279e0-7eff-4a3e-b77f-3c6be433af22",
   "metadata": {},
   "source": [
    "  "
   ]
  },
  {
   "cell_type": "markdown",
   "id": "c54fb307-96ec-41b8-916b-93c080dcebe7",
   "metadata": {},
   "source": [
    "  "
   ]
  },
  {
   "cell_type": "markdown",
   "id": "e129dc5c-4d29-4580-a763-5e931b66608c",
   "metadata": {},
   "source": [
    "  "
   ]
  },
  {
   "cell_type": "markdown",
   "id": "702aa898-53eb-41c6-8a2c-2303078c0910",
   "metadata": {},
   "source": [
    "  "
   ]
  },
  {
   "cell_type": "markdown",
   "id": "e9fde3d7-583f-4fba-9f29-dcb7cf858025",
   "metadata": {},
   "source": [
    "  "
   ]
  },
  {
   "cell_type": "markdown",
   "id": "676ebace-ce7b-43f6-a8b2-9aee92260f7a",
   "metadata": {},
   "source": [
    "  "
   ]
  },
  {
   "cell_type": "markdown",
   "id": "f9087a08-c490-4ad5-8324-ca47db673471",
   "metadata": {},
   "source": [
    "# Random Forest Classier Model"
   ]
  },
  {
   "cell_type": "code",
   "execution_count": 24,
   "id": "7755781b-30da-46af-881f-fbc18dae4fcf",
   "metadata": {},
   "outputs": [
    {
     "data": {
      "text/html": [
       "<style>#sk-container-id-3 {color: black;}#sk-container-id-3 pre{padding: 0;}#sk-container-id-3 div.sk-toggleable {background-color: white;}#sk-container-id-3 label.sk-toggleable__label {cursor: pointer;display: block;width: 100%;margin-bottom: 0;padding: 0.3em;box-sizing: border-box;text-align: center;}#sk-container-id-3 label.sk-toggleable__label-arrow:before {content: \"▸\";float: left;margin-right: 0.25em;color: #696969;}#sk-container-id-3 label.sk-toggleable__label-arrow:hover:before {color: black;}#sk-container-id-3 div.sk-estimator:hover label.sk-toggleable__label-arrow:before {color: black;}#sk-container-id-3 div.sk-toggleable__content {max-height: 0;max-width: 0;overflow: hidden;text-align: left;background-color: #f0f8ff;}#sk-container-id-3 div.sk-toggleable__content pre {margin: 0.2em;color: black;border-radius: 0.25em;background-color: #f0f8ff;}#sk-container-id-3 input.sk-toggleable__control:checked~div.sk-toggleable__content {max-height: 200px;max-width: 100%;overflow: auto;}#sk-container-id-3 input.sk-toggleable__control:checked~label.sk-toggleable__label-arrow:before {content: \"▾\";}#sk-container-id-3 div.sk-estimator input.sk-toggleable__control:checked~label.sk-toggleable__label {background-color: #d4ebff;}#sk-container-id-3 div.sk-label input.sk-toggleable__control:checked~label.sk-toggleable__label {background-color: #d4ebff;}#sk-container-id-3 input.sk-hidden--visually {border: 0;clip: rect(1px 1px 1px 1px);clip: rect(1px, 1px, 1px, 1px);height: 1px;margin: -1px;overflow: hidden;padding: 0;position: absolute;width: 1px;}#sk-container-id-3 div.sk-estimator {font-family: monospace;background-color: #f0f8ff;border: 1px dotted black;border-radius: 0.25em;box-sizing: border-box;margin-bottom: 0.5em;}#sk-container-id-3 div.sk-estimator:hover {background-color: #d4ebff;}#sk-container-id-3 div.sk-parallel-item::after {content: \"\";width: 100%;border-bottom: 1px solid gray;flex-grow: 1;}#sk-container-id-3 div.sk-label:hover label.sk-toggleable__label {background-color: #d4ebff;}#sk-container-id-3 div.sk-serial::before {content: \"\";position: absolute;border-left: 1px solid gray;box-sizing: border-box;top: 0;bottom: 0;left: 50%;z-index: 0;}#sk-container-id-3 div.sk-serial {display: flex;flex-direction: column;align-items: center;background-color: white;padding-right: 0.2em;padding-left: 0.2em;position: relative;}#sk-container-id-3 div.sk-item {position: relative;z-index: 1;}#sk-container-id-3 div.sk-parallel {display: flex;align-items: stretch;justify-content: center;background-color: white;position: relative;}#sk-container-id-3 div.sk-item::before, #sk-container-id-3 div.sk-parallel-item::before {content: \"\";position: absolute;border-left: 1px solid gray;box-sizing: border-box;top: 0;bottom: 0;left: 50%;z-index: -1;}#sk-container-id-3 div.sk-parallel-item {display: flex;flex-direction: column;z-index: 1;position: relative;background-color: white;}#sk-container-id-3 div.sk-parallel-item:first-child::after {align-self: flex-end;width: 50%;}#sk-container-id-3 div.sk-parallel-item:last-child::after {align-self: flex-start;width: 50%;}#sk-container-id-3 div.sk-parallel-item:only-child::after {width: 0;}#sk-container-id-3 div.sk-dashed-wrapped {border: 1px dashed gray;margin: 0 0.4em 0.5em 0.4em;box-sizing: border-box;padding-bottom: 0.4em;background-color: white;}#sk-container-id-3 div.sk-label label {font-family: monospace;font-weight: bold;display: inline-block;line-height: 1.2em;}#sk-container-id-3 div.sk-label-container {text-align: center;}#sk-container-id-3 div.sk-container {/* jupyter's `normalize.less` sets `[hidden] { display: none; }` but bootstrap.min.css set `[hidden] { display: none !important; }` so we also need the `!important` here to be able to override the default hidden behavior on the sphinx rendered scikit-learn.org. See: https://github.com/scikit-learn/scikit-learn/issues/21755 */display: inline-block !important;position: relative;}#sk-container-id-3 div.sk-text-repr-fallback {display: none;}</style><div id=\"sk-container-id-3\" class=\"sk-top-container\"><div class=\"sk-text-repr-fallback\"><pre>RandomForestClassifier()</pre><b>In a Jupyter environment, please rerun this cell to show the HTML representation or trust the notebook. <br />On GitHub, the HTML representation is unable to render, please try loading this page with nbviewer.org.</b></div><div class=\"sk-container\" hidden><div class=\"sk-item\"><div class=\"sk-estimator sk-toggleable\"><input class=\"sk-toggleable__control sk-hidden--visually\" id=\"sk-estimator-id-3\" type=\"checkbox\" checked><label for=\"sk-estimator-id-3\" class=\"sk-toggleable__label sk-toggleable__label-arrow\">RandomForestClassifier</label><div class=\"sk-toggleable__content\"><pre>RandomForestClassifier()</pre></div></div></div></div></div>"
      ],
      "text/plain": [
       "RandomForestClassifier()"
      ]
     },
     "execution_count": 24,
     "metadata": {},
     "output_type": "execute_result"
    }
   ],
   "source": [
    "from sklearn.ensemble import RandomForestClassifier\n",
    "\n",
    "rf = RandomForestClassifier()\n",
    "\n",
    "rf.fit(X_train_tfidf, y_train)"
   ]
  },
  {
   "cell_type": "code",
   "execution_count": 25,
   "id": "45bfa97b-cd6d-46ad-ac36-053e62f49b71",
   "metadata": {},
   "outputs": [
    {
     "data": {
      "text/html": [
       "<div>\n",
       "<style scoped>\n",
       "    .dataframe tbody tr th:only-of-type {\n",
       "        vertical-align: middle;\n",
       "    }\n",
       "\n",
       "    .dataframe tbody tr th {\n",
       "        vertical-align: top;\n",
       "    }\n",
       "\n",
       "    .dataframe thead th {\n",
       "        text-align: right;\n",
       "    }\n",
       "</style>\n",
       "<table border=\"1\" class=\"dataframe\">\n",
       "  <thead>\n",
       "    <tr style=\"text-align: right;\">\n",
       "      <th></th>\n",
       "      <th>actual</th>\n",
       "      <th>preds</th>\n",
       "    </tr>\n",
       "  </thead>\n",
       "  <tbody>\n",
       "    <tr>\n",
       "      <th>428</th>\n",
       "      <td>Python</td>\n",
       "      <td>Python</td>\n",
       "    </tr>\n",
       "    <tr>\n",
       "      <th>370</th>\n",
       "      <td>C++</td>\n",
       "      <td>C++</td>\n",
       "    </tr>\n",
       "    <tr>\n",
       "      <th>57</th>\n",
       "      <td>Python</td>\n",
       "      <td>Python</td>\n",
       "    </tr>\n",
       "    <tr>\n",
       "      <th>332</th>\n",
       "      <td>C++</td>\n",
       "      <td>C++</td>\n",
       "    </tr>\n",
       "    <tr>\n",
       "      <th>24</th>\n",
       "      <td>C++</td>\n",
       "      <td>C++</td>\n",
       "    </tr>\n",
       "  </tbody>\n",
       "</table>\n",
       "</div>"
      ],
      "text/plain": [
       "     actual   preds\n",
       "428  Python  Python\n",
       "370     C++     C++\n",
       "57   Python  Python\n",
       "332     C++     C++\n",
       "24      C++     C++"
      ]
     },
     "execution_count": 25,
     "metadata": {},
     "output_type": "execute_result"
    }
   ],
   "source": [
    "y_train_res = pd.DataFrame({'actual': y_train,\n",
    "                            'preds': rf.predict(X_train_tfidf)})\n",
    "y_train_res.head()"
   ]
  },
  {
   "cell_type": "code",
   "execution_count": 26,
   "id": "f007fa70-dcdd-4719-97da-92075d903ead",
   "metadata": {},
   "outputs": [
    {
     "name": "stdout",
     "output_type": "stream",
     "text": [
      "              precision    recall  f1-score   support\n",
      "\n",
      "         C++       1.00      1.00      1.00       141\n",
      "       Other       1.00      1.00      1.00        97\n",
      "      Python       1.00      1.00      1.00       140\n",
      "\n",
      "    accuracy                           1.00       378\n",
      "   macro avg       1.00      1.00      1.00       378\n",
      "weighted avg       1.00      1.00      1.00       378\n",
      "\n"
     ]
    }
   ],
   "source": [
    "print(class_rep(y_train_res.actual, y_train_res.preds))"
   ]
  },
  {
   "cell_type": "code",
   "execution_count": 27,
   "id": "f4eda57a-7864-4fee-9397-538db0948a2c",
   "metadata": {},
   "outputs": [
    {
     "data": {
      "text/html": [
       "<div>\n",
       "<style scoped>\n",
       "    .dataframe tbody tr th:only-of-type {\n",
       "        vertical-align: middle;\n",
       "    }\n",
       "\n",
       "    .dataframe tbody tr th {\n",
       "        vertical-align: top;\n",
       "    }\n",
       "\n",
       "    .dataframe thead th {\n",
       "        text-align: right;\n",
       "    }\n",
       "</style>\n",
       "<table border=\"1\" class=\"dataframe\">\n",
       "  <thead>\n",
       "    <tr style=\"text-align: right;\">\n",
       "      <th></th>\n",
       "      <th>actual</th>\n",
       "      <th>preds</th>\n",
       "    </tr>\n",
       "  </thead>\n",
       "  <tbody>\n",
       "    <tr>\n",
       "      <th>229</th>\n",
       "      <td>Other</td>\n",
       "      <td>Other</td>\n",
       "    </tr>\n",
       "    <tr>\n",
       "      <th>73</th>\n",
       "      <td>C++</td>\n",
       "      <td>C++</td>\n",
       "    </tr>\n",
       "    <tr>\n",
       "      <th>352</th>\n",
       "      <td>Python</td>\n",
       "      <td>Python</td>\n",
       "    </tr>\n",
       "    <tr>\n",
       "      <th>86</th>\n",
       "      <td>C++</td>\n",
       "      <td>C++</td>\n",
       "    </tr>\n",
       "    <tr>\n",
       "      <th>470</th>\n",
       "      <td>Python</td>\n",
       "      <td>C++</td>\n",
       "    </tr>\n",
       "  </tbody>\n",
       "</table>\n",
       "</div>"
      ],
      "text/plain": [
       "     actual   preds\n",
       "229   Other   Other\n",
       "73      C++     C++\n",
       "352  Python  Python\n",
       "86      C++     C++\n",
       "470  Python     C++"
      ]
     },
     "execution_count": 27,
     "metadata": {},
     "output_type": "execute_result"
    }
   ],
   "source": [
    "y_test_res = pd.DataFrame({'actual': y_test,\n",
    "                           'preds': rf.predict(X_test_tfidf)})\n",
    "y_test_res.head()"
   ]
  },
  {
   "cell_type": "code",
   "execution_count": 28,
   "id": "52981e6d-d61f-4c76-bbb3-02e1c061f597",
   "metadata": {},
   "outputs": [
    {
     "name": "stdout",
     "output_type": "stream",
     "text": [
      "              precision    recall  f1-score   support\n",
      "\n",
      "         C++       0.72      0.87      0.78        67\n",
      "       Other       0.83      0.53      0.64        36\n",
      "      Python       0.75      0.73      0.74        60\n",
      "\n",
      "    accuracy                           0.74       163\n",
      "   macro avg       0.76      0.71      0.72       163\n",
      "weighted avg       0.75      0.74      0.74       163\n",
      "\n"
     ]
    }
   ],
   "source": [
    "print(class_rep(y_test_res.actual, y_test_res.preds))"
   ]
  },
  {
   "cell_type": "markdown",
   "id": "fd5edb26-53bb-4523-8ed7-0688aa97288c",
   "metadata": {},
   "source": [
    "  "
   ]
  },
  {
   "cell_type": "markdown",
   "id": "df652e1d-d25c-429a-9ae3-9f26d1ba73f8",
   "metadata": {},
   "source": [
    "  "
   ]
  },
  {
   "cell_type": "markdown",
   "id": "5a415212-9d79-45e9-970e-0d9b7601df7d",
   "metadata": {},
   "source": [
    "  "
   ]
  },
  {
   "cell_type": "markdown",
   "id": "094f18e1-e8a8-476d-af37-bcbed8ce35c2",
   "metadata": {},
   "source": [
    "  "
   ]
  },
  {
   "cell_type": "markdown",
   "id": "f47c11dd-ff3c-45ba-97da-8271b4485fa3",
   "metadata": {},
   "source": [
    "  "
   ]
  },
  {
   "cell_type": "markdown",
   "id": "7b33857d-4766-4b18-97a6-0b284bbaadfe",
   "metadata": {},
   "source": [
    "  "
   ]
  },
  {
   "cell_type": "markdown",
   "id": "01cfb9c0-52ca-411b-81f6-b36f42c53d75",
   "metadata": {},
   "source": [
    "  "
   ]
  },
  {
   "cell_type": "markdown",
   "id": "f5ec6903-f5e0-49e9-8937-30cfce67f8f6",
   "metadata": {},
   "source": [
    "  "
   ]
  },
  {
   "cell_type": "markdown",
   "id": "f4154bd3-efee-431a-a4d5-1f70425aa962",
   "metadata": {},
   "source": [
    "  "
   ]
  },
  {
   "cell_type": "markdown",
   "id": "d984fea3-5e40-44df-af3d-0f05258babf5",
   "metadata": {},
   "source": [
    "# XGBClassifier Model"
   ]
  },
  {
   "cell_type": "code",
   "execution_count": 37,
   "id": "488c9bb1-6dd5-42e7-9b1c-4a319c5cffa1",
   "metadata": {},
   "outputs": [],
   "source": [
    "from sklearn.preprocessing import LabelEncoder\n",
    "\n",
    "# Initialize the label encoder\n",
    "label_encoder = LabelEncoder()\n",
    "\n",
    "X = repos_df.lemmas\n",
    "y = repos_df.language\n",
    "\n",
    "# Fit the label encoder to your class labels and transform them\n",
    "y_encoded = label_encoder.fit_transform(y)\n",
    "\n",
    "X_train, X_test, y_train, y_test = train_test_split(X, y_encoded, train_size=0.7, random_state=42)\n",
    "\n",
    "tfidf = TfidfVectorizer()\n",
    "\n",
    "X_train_tfidf = tfidf.fit_transform(X_train)\n",
    "X_test_tfidf = tfidf.transform(X_test)\n",
    "\n",
    "# Create the XGBoost classifier instance\n",
    "bst = XGBClassifier(n_estimators=2, max_depth=2, learning_rate=1, objective='multi:softprob', num_class=len(label_encoder.classes_))\n",
    "\n",
    "# Fit the XGBoost model on the training data\n",
    "bst.fit(X_train_tfidf, y_train)\n",
    "\n",
    "# Predict the classes on the test data\n",
    "preds = bst.predict(X_test_tfidf)\n",
    "\n",
    "# If you want to decode the predicted labels back to their original class names:\n",
    "preds_decoded = label_encoder.inverse_transform(preds)\n"
   ]
  },
  {
   "cell_type": "code",
   "execution_count": 38,
   "id": "d2c3d775-c6fd-453d-adb4-09372c02b072",
   "metadata": {},
   "outputs": [
    {
     "data": {
      "text/html": [
       "<div>\n",
       "<style scoped>\n",
       "    .dataframe tbody tr th:only-of-type {\n",
       "        vertical-align: middle;\n",
       "    }\n",
       "\n",
       "    .dataframe tbody tr th {\n",
       "        vertical-align: top;\n",
       "    }\n",
       "\n",
       "    .dataframe thead th {\n",
       "        text-align: right;\n",
       "    }\n",
       "</style>\n",
       "<table border=\"1\" class=\"dataframe\">\n",
       "  <thead>\n",
       "    <tr style=\"text-align: right;\">\n",
       "      <th></th>\n",
       "      <th>actual</th>\n",
       "      <th>preds</th>\n",
       "    </tr>\n",
       "  </thead>\n",
       "  <tbody>\n",
       "    <tr>\n",
       "      <th>0</th>\n",
       "      <td>2</td>\n",
       "      <td>2</td>\n",
       "    </tr>\n",
       "    <tr>\n",
       "      <th>1</th>\n",
       "      <td>0</td>\n",
       "      <td>1</td>\n",
       "    </tr>\n",
       "    <tr>\n",
       "      <th>2</th>\n",
       "      <td>2</td>\n",
       "      <td>2</td>\n",
       "    </tr>\n",
       "    <tr>\n",
       "      <th>3</th>\n",
       "      <td>0</td>\n",
       "      <td>0</td>\n",
       "    </tr>\n",
       "    <tr>\n",
       "      <th>4</th>\n",
       "      <td>0</td>\n",
       "      <td>0</td>\n",
       "    </tr>\n",
       "  </tbody>\n",
       "</table>\n",
       "</div>"
      ],
      "text/plain": [
       "   actual  preds\n",
       "0       2      2\n",
       "1       0      1\n",
       "2       2      2\n",
       "3       0      0\n",
       "4       0      0"
      ]
     },
     "execution_count": 38,
     "metadata": {},
     "output_type": "execute_result"
    }
   ],
   "source": [
    "y_train_res = pd.DataFrame({'actual': y_train,\n",
    "                            'preds': bst.predict(X_train_tfidf)})\n",
    "y_train_res.head()"
   ]
  },
  {
   "cell_type": "code",
   "execution_count": 39,
   "id": "0d3a913b-5de4-4c2e-8037-0292f3fb1d20",
   "metadata": {},
   "outputs": [
    {
     "name": "stdout",
     "output_type": "stream",
     "text": [
      "              precision    recall  f1-score   support\n",
      "\n",
      "           0       0.75      0.81      0.78       141\n",
      "           1       0.70      0.70      0.70        97\n",
      "           2       0.86      0.80      0.83       140\n",
      "\n",
      "    accuracy                           0.78       378\n",
      "   macro avg       0.77      0.77      0.77       378\n",
      "weighted avg       0.78      0.78      0.78       378\n",
      "\n"
     ]
    }
   ],
   "source": [
    "print(class_rep(y_train_res.actual, y_train_res.preds))"
   ]
  },
  {
   "cell_type": "code",
   "execution_count": 40,
   "id": "aeec6c2e-d296-44b8-845e-6fe1bb9c3a75",
   "metadata": {},
   "outputs": [
    {
     "data": {
      "text/html": [
       "<div>\n",
       "<style scoped>\n",
       "    .dataframe tbody tr th:only-of-type {\n",
       "        vertical-align: middle;\n",
       "    }\n",
       "\n",
       "    .dataframe tbody tr th {\n",
       "        vertical-align: top;\n",
       "    }\n",
       "\n",
       "    .dataframe thead th {\n",
       "        text-align: right;\n",
       "    }\n",
       "</style>\n",
       "<table border=\"1\" class=\"dataframe\">\n",
       "  <thead>\n",
       "    <tr style=\"text-align: right;\">\n",
       "      <th></th>\n",
       "      <th>actual</th>\n",
       "      <th>preds</th>\n",
       "    </tr>\n",
       "  </thead>\n",
       "  <tbody>\n",
       "    <tr>\n",
       "      <th>0</th>\n",
       "      <td>1</td>\n",
       "      <td>1</td>\n",
       "    </tr>\n",
       "    <tr>\n",
       "      <th>1</th>\n",
       "      <td>0</td>\n",
       "      <td>0</td>\n",
       "    </tr>\n",
       "    <tr>\n",
       "      <th>2</th>\n",
       "      <td>2</td>\n",
       "      <td>2</td>\n",
       "    </tr>\n",
       "    <tr>\n",
       "      <th>3</th>\n",
       "      <td>0</td>\n",
       "      <td>1</td>\n",
       "    </tr>\n",
       "    <tr>\n",
       "      <th>4</th>\n",
       "      <td>2</td>\n",
       "      <td>0</td>\n",
       "    </tr>\n",
       "  </tbody>\n",
       "</table>\n",
       "</div>"
      ],
      "text/plain": [
       "   actual  preds\n",
       "0       1      1\n",
       "1       0      0\n",
       "2       2      2\n",
       "3       0      1\n",
       "4       2      0"
      ]
     },
     "execution_count": 40,
     "metadata": {},
     "output_type": "execute_result"
    }
   ],
   "source": [
    "y_test_res = pd.DataFrame({'actual': y_test,\n",
    "                           'preds': bst.predict(X_test_tfidf)})\n",
    "y_test_res.head()"
   ]
  },
  {
   "cell_type": "code",
   "execution_count": 41,
   "id": "32269014-7d9b-4bd5-aae4-ffd92276167a",
   "metadata": {},
   "outputs": [
    {
     "name": "stdout",
     "output_type": "stream",
     "text": [
      "              precision    recall  f1-score   support\n",
      "\n",
      "           0       0.77      0.73      0.75        67\n",
      "           1       0.68      0.75      0.71        36\n",
      "           2       0.80      0.78      0.79        60\n",
      "\n",
      "    accuracy                           0.75       163\n",
      "   macro avg       0.75      0.75      0.75       163\n",
      "weighted avg       0.76      0.75      0.76       163\n",
      "\n"
     ]
    }
   ],
   "source": [
    "print(class_rep(y_test_res.actual, y_test_res.preds))"
   ]
  }
 ],
 "metadata": {
  "kernelspec": {
   "display_name": "Python 3 (ipykernel)",
   "language": "python",
   "name": "python3"
  },
  "language_info": {
   "codemirror_mode": {
    "name": "ipython",
    "version": 3
   },
   "file_extension": ".py",
   "mimetype": "text/x-python",
   "name": "python",
   "nbconvert_exporter": "python",
   "pygments_lexer": "ipython3",
   "version": "3.10.9"
  }
 },
 "nbformat": 4,
 "nbformat_minor": 5
}
