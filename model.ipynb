{
 "cells": [
  {
   "cell_type": "markdown",
   "id": "8ac4c873-60d2-4cd6-8f5b-a614afe64e96",
   "metadata": {},
   "source": [
    "# Modeling"
   ]
  },
  {
   "cell_type": "code",
   "execution_count": 2,
   "id": "398c4789-5a28-4d63-8e30-0d0db7e5d626",
   "metadata": {},
   "outputs": [],
   "source": [
    "import pandas as pd\n",
    "import numpy as np\n",
    "import json\n",
    "\n",
    "from sklearn.feature_extraction.text import TfidfVectorizer\n",
    "from sklearn.model_selection import train_test_split\n",
    "from sklearn.linear_model import LogisticRegression\n",
    "from sklearn.neighbors import KNeighborsClassifier\n",
    "from sklearn.ensemble import RandomForestClassifier\n",
    "from xgboost import XGBClassifier\n",
    "from sklearn.preprocessing import LabelEncoder\n",
    "from scipy.sparse import hstack\n",
    "\n",
    "\n",
    "\n",
    "\n",
    "from sklearn.metrics import classification_report as class_rep"
   ]
  },
  {
   "cell_type": "code",
   "execution_count": 3,
   "id": "60dfc201-d5bf-423b-a247-d4cd2908fb81",
   "metadata": {},
   "outputs": [
    {
     "data": {
      "text/html": [
       "<div>\n",
       "<style scoped>\n",
       "    .dataframe tbody tr th:only-of-type {\n",
       "        vertical-align: middle;\n",
       "    }\n",
       "\n",
       "    .dataframe tbody tr th {\n",
       "        vertical-align: top;\n",
       "    }\n",
       "\n",
       "    .dataframe thead th {\n",
       "        text-align: right;\n",
       "    }\n",
       "</style>\n",
       "<table border=\"1\" class=\"dataframe\">\n",
       "  <thead>\n",
       "    <tr style=\"text-align: right;\">\n",
       "      <th></th>\n",
       "      <th>language</th>\n",
       "      <th>text</th>\n",
       "      <th>bigrams</th>\n",
       "      <th>trigrams</th>\n",
       "    </tr>\n",
       "  </thead>\n",
       "  <tbody>\n",
       "    <tr>\n",
       "      <th>0</th>\n",
       "      <td>Python</td>\n",
       "      <td>pythonrobotics githubactionlinuxci githubactio...</td>\n",
       "      <td>path_planning grid_based path_tracking steerin...</td>\n",
       "      <td>pythonroboticsfigure1png_master_atsushisakaipy...</td>\n",
       "    </tr>\n",
       "    <tr>\n",
       "      <th>2</th>\n",
       "      <td>Python</td>\n",
       "      <td>modern robotics mechanic planning control code...</td>\n",
       "      <td>modern_robotics robotics_mechanic mechanic_pla...</td>\n",
       "      <td>modern_robotics_mechanic robotics_mechanic_pla...</td>\n",
       "    </tr>\n",
       "    <tr>\n",
       "      <th>4</th>\n",
       "      <td>C++</td>\n",
       "      <td>cpprobotics cpp implementation pythonrobotics ...</td>\n",
       "      <td>red_circle black_line steering_control point_r...</td>\n",
       "      <td>speed_steering_control black_line_planned line...</td>\n",
       "    </tr>\n",
       "    <tr>\n",
       "      <th>5</th>\n",
       "      <td>Other</td>\n",
       "      <td>roboticsacademy learn robotics artificial inte...</td>\n",
       "      <td>learn_robotics mini_radi roboticsacademy_learn...</td>\n",
       "      <td>roboticsacademy_learn_robotics learn_robotics_...</td>\n",
       "    </tr>\n",
       "    <tr>\n",
       "      <th>6</th>\n",
       "      <td>C++</td>\n",
       "      <td>probabilisticrobotics working detailed solutio...</td>\n",
       "      <td>probabilistic_robotics victoria_park park_data...</td>\n",
       "      <td>victoria_park_dataset probabilisticrobotics_wo...</td>\n",
       "    </tr>\n",
       "    <tr>\n",
       "      <th>...</th>\n",
       "      <td>...</td>\n",
       "      <td>...</td>\n",
       "      <td>...</td>\n",
       "      <td>...</td>\n",
       "    </tr>\n",
       "    <tr>\n",
       "      <th>665</th>\n",
       "      <td>Other</td>\n",
       "      <td>foc english solidworks matlab simulink simscap...</td>\n",
       "      <td>2000_2000 solidworks_matlab 15000_2000 foc_eng...</td>\n",
       "      <td>15000_2000_2000 foc_english_solidworks english...</td>\n",
       "    </tr>\n",
       "    <tr>\n",
       "      <th>667</th>\n",
       "      <td>Other</td>\n",
       "      <td>bonsai rust implementation behavior tree build...</td>\n",
       "      <td>behavior_tree mut_bt bonsaibtsuccess_dt dt_els...</td>\n",
       "      <td>bonsaibtsuccess_dt_else b_run_b run_b_parallel...</td>\n",
       "    </tr>\n",
       "    <tr>\n",
       "      <th>669</th>\n",
       "      <td>Python</td>\n",
       "      <td>easytouse instruction generation framework lar...</td>\n",
       "      <td>easyinstruct_import example_python python_easy...</td>\n",
       "      <td>example_python_easyinstruct python_easyinstruc...</td>\n",
       "    </tr>\n",
       "    <tr>\n",
       "      <th>670</th>\n",
       "      <td>Other</td>\n",
       "      <td>compose actor dancer roadmap v030 x let user s...</td>\n",
       "      <td>x_add detail_screen tmdb_api ui_state screen_x...</td>\n",
       "      <td>ha_viewmodel_manage viewmodel_manage_ui manage...</td>\n",
       "    </tr>\n",
       "    <tr>\n",
       "      <th>674</th>\n",
       "      <td>Python</td>\n",
       "      <td>pkg update pkg upgrade pkg install bash pkg in...</td>\n",
       "      <td>pkg_install onex_chmod chmod_x pkg_update upda...</td>\n",
       "      <td>onex_chmod_x pkg_update_pkg update_pkg_upgrade...</td>\n",
       "    </tr>\n",
       "  </tbody>\n",
       "</table>\n",
       "<p>541 rows × 4 columns</p>\n",
       "</div>"
      ],
      "text/plain": [
       "    language                                               text  \\\n",
       "0     Python  pythonrobotics githubactionlinuxci githubactio...   \n",
       "2     Python  modern robotics mechanic planning control code...   \n",
       "4        C++  cpprobotics cpp implementation pythonrobotics ...   \n",
       "5      Other  roboticsacademy learn robotics artificial inte...   \n",
       "6        C++  probabilisticrobotics working detailed solutio...   \n",
       "..       ...                                                ...   \n",
       "665    Other  foc english solidworks matlab simulink simscap...   \n",
       "667    Other  bonsai rust implementation behavior tree build...   \n",
       "669   Python  easytouse instruction generation framework lar...   \n",
       "670    Other  compose actor dancer roadmap v030 x let user s...   \n",
       "674   Python  pkg update pkg upgrade pkg install bash pkg in...   \n",
       "\n",
       "                                               bigrams  \\\n",
       "0    path_planning grid_based path_tracking steerin...   \n",
       "2    modern_robotics robotics_mechanic mechanic_pla...   \n",
       "4    red_circle black_line steering_control point_r...   \n",
       "5    learn_robotics mini_radi roboticsacademy_learn...   \n",
       "6    probabilistic_robotics victoria_park park_data...   \n",
       "..                                                 ...   \n",
       "665  2000_2000 solidworks_matlab 15000_2000 foc_eng...   \n",
       "667  behavior_tree mut_bt bonsaibtsuccess_dt dt_els...   \n",
       "669  easyinstruct_import example_python python_easy...   \n",
       "670  x_add detail_screen tmdb_api ui_state screen_x...   \n",
       "674  pkg_install onex_chmod chmod_x pkg_update upda...   \n",
       "\n",
       "                                              trigrams  \n",
       "0    pythonroboticsfigure1png_master_atsushisakaipy...  \n",
       "2    modern_robotics_mechanic robotics_mechanic_pla...  \n",
       "4    speed_steering_control black_line_planned line...  \n",
       "5    roboticsacademy_learn_robotics learn_robotics_...  \n",
       "6    victoria_park_dataset probabilisticrobotics_wo...  \n",
       "..                                                 ...  \n",
       "665  15000_2000_2000 foc_english_solidworks english...  \n",
       "667  bonsaibtsuccess_dt_else b_run_b run_b_parallel...  \n",
       "669  example_python_easyinstruct python_easyinstruc...  \n",
       "670  ha_viewmodel_manage viewmodel_manage_ui manage...  \n",
       "674  onex_chmod_x pkg_update_pkg update_pkg_upgrade...  \n",
       "\n",
       "[541 rows x 4 columns]"
      ]
     },
     "execution_count": 3,
     "metadata": {},
     "output_type": "execute_result"
    }
   ],
   "source": [
    "repos_df = pd.read_csv('processed_repos.csv', index_col=0)\n",
    "repos_df.drop(columns=('repo'))"
   ]
  },
  {
   "cell_type": "code",
   "execution_count": 4,
   "id": "dc52fae6-23f7-4e0e-bf0e-8570c188d89c",
   "metadata": {},
   "outputs": [
    {
     "name": "stdout",
     "output_type": "stream",
     "text": [
      "<class 'pandas.core.frame.DataFrame'>\n",
      "Index: 541 entries, 0 to 674\n",
      "Data columns (total 4 columns):\n",
      " #   Column    Non-Null Count  Dtype \n",
      "---  ------    --------------  ----- \n",
      " 0   language  541 non-null    object\n",
      " 1   text      541 non-null    object\n",
      " 2   bigrams   541 non-null    object\n",
      " 3   trigrams  541 non-null    object\n",
      "dtypes: object(4)\n",
      "memory usage: 21.1+ KB\n"
     ]
    }
   ],
   "source": [
    "repos_df = pd.DataFrame(repos_df)\n",
    "repos_df = repos_df.drop(columns='repo')\n",
    "repos_df = repos_df.dropna()\n",
    "repos_df.info()"
   ]
  },
  {
   "cell_type": "code",
   "execution_count": 5,
   "id": "8456e0eb-ba6d-4522-a826-716dd48c070d",
   "metadata": {},
   "outputs": [
    {
     "data": {
      "text/html": [
       "<div>\n",
       "<style scoped>\n",
       "    .dataframe tbody tr th:only-of-type {\n",
       "        vertical-align: middle;\n",
       "    }\n",
       "\n",
       "    .dataframe tbody tr th {\n",
       "        vertical-align: top;\n",
       "    }\n",
       "\n",
       "    .dataframe thead th {\n",
       "        text-align: right;\n",
       "    }\n",
       "</style>\n",
       "<table border=\"1\" class=\"dataframe\">\n",
       "  <thead>\n",
       "    <tr style=\"text-align: right;\">\n",
       "      <th></th>\n",
       "      <th>language</th>\n",
       "      <th>text</th>\n",
       "      <th>bigrams</th>\n",
       "      <th>trigrams</th>\n",
       "    </tr>\n",
       "  </thead>\n",
       "  <tbody>\n",
       "    <tr>\n",
       "      <th>0</th>\n",
       "      <td>Python</td>\n",
       "      <td>pythonrobotics githubactionlinuxci githubactio...</td>\n",
       "      <td>path_planning grid_based path_tracking steerin...</td>\n",
       "      <td>pythonroboticsfigure1png_master_atsushisakaipy...</td>\n",
       "    </tr>\n",
       "    <tr>\n",
       "      <th>2</th>\n",
       "      <td>Python</td>\n",
       "      <td>modern robotics mechanic planning control code...</td>\n",
       "      <td>modern_robotics robotics_mechanic mechanic_pla...</td>\n",
       "      <td>modern_robotics_mechanic robotics_mechanic_pla...</td>\n",
       "    </tr>\n",
       "    <tr>\n",
       "      <th>4</th>\n",
       "      <td>C++</td>\n",
       "      <td>cpprobotics cpp implementation pythonrobotics ...</td>\n",
       "      <td>red_circle black_line steering_control point_r...</td>\n",
       "      <td>speed_steering_control black_line_planned line...</td>\n",
       "    </tr>\n",
       "    <tr>\n",
       "      <th>5</th>\n",
       "      <td>Other</td>\n",
       "      <td>roboticsacademy learn robotics artificial inte...</td>\n",
       "      <td>learn_robotics mini_radi roboticsacademy_learn...</td>\n",
       "      <td>roboticsacademy_learn_robotics learn_robotics_...</td>\n",
       "    </tr>\n",
       "    <tr>\n",
       "      <th>6</th>\n",
       "      <td>C++</td>\n",
       "      <td>probabilisticrobotics working detailed solutio...</td>\n",
       "      <td>probabilistic_robotics victoria_park park_data...</td>\n",
       "      <td>victoria_park_dataset probabilisticrobotics_wo...</td>\n",
       "    </tr>\n",
       "    <tr>\n",
       "      <th>...</th>\n",
       "      <td>...</td>\n",
       "      <td>...</td>\n",
       "      <td>...</td>\n",
       "      <td>...</td>\n",
       "    </tr>\n",
       "    <tr>\n",
       "      <th>665</th>\n",
       "      <td>Other</td>\n",
       "      <td>foc english solidworks matlab simulink simscap...</td>\n",
       "      <td>2000_2000 solidworks_matlab 15000_2000 foc_eng...</td>\n",
       "      <td>15000_2000_2000 foc_english_solidworks english...</td>\n",
       "    </tr>\n",
       "    <tr>\n",
       "      <th>667</th>\n",
       "      <td>Other</td>\n",
       "      <td>bonsai rust implementation behavior tree build...</td>\n",
       "      <td>behavior_tree mut_bt bonsaibtsuccess_dt dt_els...</td>\n",
       "      <td>bonsaibtsuccess_dt_else b_run_b run_b_parallel...</td>\n",
       "    </tr>\n",
       "    <tr>\n",
       "      <th>669</th>\n",
       "      <td>Python</td>\n",
       "      <td>easytouse instruction generation framework lar...</td>\n",
       "      <td>easyinstruct_import example_python python_easy...</td>\n",
       "      <td>example_python_easyinstruct python_easyinstruc...</td>\n",
       "    </tr>\n",
       "    <tr>\n",
       "      <th>670</th>\n",
       "      <td>Other</td>\n",
       "      <td>compose actor dancer roadmap v030 x let user s...</td>\n",
       "      <td>x_add detail_screen tmdb_api ui_state screen_x...</td>\n",
       "      <td>ha_viewmodel_manage viewmodel_manage_ui manage...</td>\n",
       "    </tr>\n",
       "    <tr>\n",
       "      <th>674</th>\n",
       "      <td>Python</td>\n",
       "      <td>pkg update pkg upgrade pkg install bash pkg in...</td>\n",
       "      <td>pkg_install onex_chmod chmod_x pkg_update upda...</td>\n",
       "      <td>onex_chmod_x pkg_update_pkg update_pkg_upgrade...</td>\n",
       "    </tr>\n",
       "  </tbody>\n",
       "</table>\n",
       "<p>541 rows × 4 columns</p>\n",
       "</div>"
      ],
      "text/plain": [
       "    language                                               text  \\\n",
       "0     Python  pythonrobotics githubactionlinuxci githubactio...   \n",
       "2     Python  modern robotics mechanic planning control code...   \n",
       "4        C++  cpprobotics cpp implementation pythonrobotics ...   \n",
       "5      Other  roboticsacademy learn robotics artificial inte...   \n",
       "6        C++  probabilisticrobotics working detailed solutio...   \n",
       "..       ...                                                ...   \n",
       "665    Other  foc english solidworks matlab simulink simscap...   \n",
       "667    Other  bonsai rust implementation behavior tree build...   \n",
       "669   Python  easytouse instruction generation framework lar...   \n",
       "670    Other  compose actor dancer roadmap v030 x let user s...   \n",
       "674   Python  pkg update pkg upgrade pkg install bash pkg in...   \n",
       "\n",
       "                                               bigrams  \\\n",
       "0    path_planning grid_based path_tracking steerin...   \n",
       "2    modern_robotics robotics_mechanic mechanic_pla...   \n",
       "4    red_circle black_line steering_control point_r...   \n",
       "5    learn_robotics mini_radi roboticsacademy_learn...   \n",
       "6    probabilistic_robotics victoria_park park_data...   \n",
       "..                                                 ...   \n",
       "665  2000_2000 solidworks_matlab 15000_2000 foc_eng...   \n",
       "667  behavior_tree mut_bt bonsaibtsuccess_dt dt_els...   \n",
       "669  easyinstruct_import example_python python_easy...   \n",
       "670  x_add detail_screen tmdb_api ui_state screen_x...   \n",
       "674  pkg_install onex_chmod chmod_x pkg_update upda...   \n",
       "\n",
       "                                              trigrams  \n",
       "0    pythonroboticsfigure1png_master_atsushisakaipy...  \n",
       "2    modern_robotics_mechanic robotics_mechanic_pla...  \n",
       "4    speed_steering_control black_line_planned line...  \n",
       "5    roboticsacademy_learn_robotics learn_robotics_...  \n",
       "6    victoria_park_dataset probabilisticrobotics_wo...  \n",
       "..                                                 ...  \n",
       "665  15000_2000_2000 foc_english_solidworks english...  \n",
       "667  bonsaibtsuccess_dt_else b_run_b run_b_parallel...  \n",
       "669  example_python_easyinstruct python_easyinstruc...  \n",
       "670  ha_viewmodel_manage viewmodel_manage_ui manage...  \n",
       "674  onex_chmod_x pkg_update_pkg update_pkg_upgrade...  \n",
       "\n",
       "[541 rows x 4 columns]"
      ]
     },
     "execution_count": 5,
     "metadata": {},
     "output_type": "execute_result"
    }
   ],
   "source": [
    "repos_df"
   ]
  },
  {
   "cell_type": "code",
   "execution_count": 9,
   "id": "6f1b023c-55a4-4058-94cf-7bec9a6017c2",
   "metadata": {},
   "outputs": [
    {
     "name": "stdout",
     "output_type": "stream",
     "text": [
      "  (0, 7164)\t0.022659303985166024\n",
      "  (0, 21728)\t0.022659303985166024\n",
      "  (0, 7172)\t0.022659303985166024\n",
      "  (0, 7163)\t0.022659303985166024\n",
      "  (0, 10397)\t0.008184292619263874\n",
      "  (0, 10699)\t0.008117708248989086\n",
      "  (0, 17665)\t0.022659303985166024\n",
      "  (0, 12400)\t0.030227076091948184\n",
      "  (0, 21702)\t0.019334317321012044\n",
      "  (0, 6897)\t0.011281390741219541\n",
      "  (0, 6101)\t0.022659303985166024\n",
      "  (0, 20163)\t0.01468613328327391\n",
      "  (0, 9566)\t0.04531860797033205\n",
      "  (0, 16120)\t0.009863036043695546\n",
      "  (0, 9565)\t0.04531860797033205\n",
      "  (0, 21727)\t0.04531860797033205\n",
      "  (0, 21729)\t0.04531860797033205\n",
      "  (0, 5846)\t0.010978820030730106\n",
      "  (0, 2572)\t0.010836498010374696\n",
      "  (0, 11964)\t0.014303806694884088\n",
      "  (0, 9559)\t0.060841045277857136\n",
      "  (0, 20866)\t0.022659303985166024\n",
      "  (0, 21612)\t0.022659303985166024\n",
      "  (0, 15537)\t0.006474571148011304\n",
      "  (0, 21609)\t0.022659303985166024\n",
      "  :\t:\n",
      "  (9, 10441)\t0.011077005264371872\n",
      "  (9, 6986)\t0.010992941419332396\n",
      "  (9, 15054)\t0.014401105071371496\n",
      "  (9, 4199)\t0.04930426447828915\n",
      "  (9, 28359)\t0.03133059764926138\n",
      "  (9, 13353)\t0.011249313367314212\n",
      "  (9, 11354)\t0.021030372408700673\n",
      "  (9, 5501)\t0.0416091593278514\n",
      "  (9, 5955)\t0.010365194690301735\n",
      "  (9, 9442)\t0.010219399298173712\n",
      "  (9, 23928)\t0.013064634010129859\n",
      "  (9, 27037)\t0.030431568763173537\n",
      "  (9, 22063)\t0.0223298577023798\n",
      "  (9, 15537)\t0.00929920706873545\n",
      "  (9, 10918)\t0.013254176549163358\n",
      "  (9, 17464)\t0.03076640272916758\n",
      "  (9, 10584)\t0.02563006549675124\n",
      "  (9, 13291)\t0.015450151798679743\n",
      "  (9, 25118)\t0.009483173651955777\n",
      "  (9, 23895)\t0.013655285597499406\n",
      "  (9, 27192)\t0.015229769577014479\n",
      "  (9, 9760)\t0.05064088160144129\n",
      "  (9, 13293)\t0.009421127140573525\n",
      "  (9, 10235)\t0.010042709651970832\n",
      "  (9, 24581)\t0.018259955747513573\n"
     ]
    }
   ],
   "source": [
    "# First set of data using the 'text' column\n",
    "X = repos_df.text\n",
    "y = repos_df.language\n",
    "\n",
    "X_train, X_test, y_train, y_test = train_test_split(X, y, train_size=0.7, random_state=42)\n",
    "\n",
    "tfidf = TfidfVectorizer()\n",
    "\n",
    "X_train_tfidf = tfidf.fit_transform(X_train)\n",
    "X_test_tfidf = tfidf.transform(X_test)\n",
    "\n",
    "# Display the first 10 samples\n",
    "print(X_train_tfidf[:10])"
   ]
  },
  {
   "cell_type": "code",
   "execution_count": 10,
   "id": "4448b3fc-a422-481c-b11c-55dba445cf8e",
   "metadata": {},
   "outputs": [
    {
     "name": "stdout",
     "output_type": "stream",
     "text": [
      "  (0, 4601)\t0.2236067977499789\n",
      "  (0, 1266)\t0.2236067977499789\n",
      "  (0, 2092)\t0.2236067977499789\n",
      "  (0, 1040)\t0.2236067977499789\n",
      "  (0, 5109)\t0.2236067977499789\n",
      "  (0, 4002)\t0.2236067977499789\n",
      "  (0, 958)\t0.2236067977499789\n",
      "  (0, 1304)\t0.2236067977499789\n",
      "  (0, 4440)\t0.2236067977499789\n",
      "  (0, 1311)\t0.2236067977499789\n",
      "  (0, 4175)\t0.2236067977499789\n",
      "  (0, 5793)\t0.2236067977499789\n",
      "  (0, 5108)\t0.2236067977499789\n",
      "  (0, 4571)\t0.2236067977499789\n",
      "  (0, 1835)\t0.2236067977499789\n",
      "  (0, 3572)\t0.2236067977499789\n",
      "  (0, 4570)\t0.2236067977499789\n",
      "  (0, 1926)\t0.2236067977499789\n",
      "  (0, 1267)\t0.2236067977499789\n",
      "  (0, 554)\t0.2236067977499789\n",
      "  (1, 4890)\t0.2236067977499789\n",
      "  (1, 2228)\t0.2236067977499789\n",
      "  (1, 4905)\t0.2236067977499789\n",
      "  (1, 3327)\t0.2236067977499789\n",
      "  (1, 3056)\t0.2236067977499789\n",
      "  :\t:\n",
      "  (8, 4021)\t0.18223577135737892\n",
      "  (8, 4898)\t0.2279720150842213\n",
      "  (8, 1660)\t0.2279720150842213\n",
      "  (8, 584)\t0.2131691741051027\n",
      "  (8, 1092)\t0.2279720150842213\n",
      "  (9, 4048)\t0.22628997366453707\n",
      "  (9, 3210)\t0.22628997366453707\n",
      "  (9, 4043)\t0.22628997366453707\n",
      "  (9, 4764)\t0.22628997366453707\n",
      "  (9, 2095)\t0.22628997366453707\n",
      "  (9, 6000)\t0.22628997366453707\n",
      "  (9, 4295)\t0.22628997366453707\n",
      "  (9, 4561)\t0.22628997366453707\n",
      "  (9, 5329)\t0.22628997366453707\n",
      "  (9, 4173)\t0.22628997366453707\n",
      "  (9, 4297)\t0.22628997366453707\n",
      "  (9, 2276)\t0.22628997366453707\n",
      "  (9, 6311)\t0.22628997366453707\n",
      "  (9, 2067)\t0.22628997366453707\n",
      "  (9, 2479)\t0.22628997366453707\n",
      "  (9, 4349)\t0.22628997366453707\n",
      "  (9, 4296)\t0.22628997366453707\n",
      "  (9, 4045)\t0.22628997366453707\n",
      "  (9, 3434)\t0.1645117277252871\n",
      "  (9, 4298)\t0.22628997366453707\n"
     ]
    }
   ],
   "source": [
    "# Second set of data using the 'bigrams' column\n",
    "X2 = repos_df.bigrams\n",
    "y2 = repos_df.language\n",
    "\n",
    "X2_train, X2_test, y2_train, y2_test = train_test_split(X2, y2, train_size=0.7, random_state=42)\n",
    "\n",
    "tfidf2 = TfidfVectorizer()\n",
    "\n",
    "X2_train_tfidf = tfidf2.fit_transform(X2_train)\n",
    "X2_test_tfidf = tfidf2.transform(X2_test)\n",
    "\n",
    "# Display the first 10 samples from the second set\n",
    "print(X2_train_tfidf[:10])"
   ]
  },
  {
   "cell_type": "code",
   "execution_count": 11,
   "id": "9177e5b1-80aa-454e-9a86-1d72b5034b6e",
   "metadata": {},
   "outputs": [
    {
     "name": "stdout",
     "output_type": "stream",
     "text": [
      "  (0, 4872)\t0.2236067977499789\n",
      "  (0, 1992)\t0.2236067977499789\n",
      "  (0, 1427)\t0.2236067977499789\n",
      "  (0, 4216)\t0.2236067977499789\n",
      "  (0, 2015)\t0.2236067977499789\n",
      "  (0, 1858)\t0.2236067977499789\n",
      "  (0, 6481)\t0.2236067977499789\n",
      "  (0, 4870)\t0.2236067977499789\n",
      "  (0, 2310)\t0.2236067977499789\n",
      "  (0, 1179)\t0.2236067977499789\n",
      "  (0, 5693)\t0.2236067977499789\n",
      "  (0, 1461)\t0.2236067977499789\n",
      "  (0, 2111)\t0.2236067977499789\n",
      "  (0, 4905)\t0.2236067977499789\n",
      "  (0, 1475)\t0.2236067977499789\n",
      "  (0, 2112)\t0.2236067977499789\n",
      "  (0, 4590)\t0.2236067977499789\n",
      "  (0, 617)\t0.2236067977499789\n",
      "  (0, 5075)\t0.2236067977499789\n",
      "  (0, 1428)\t0.2236067977499789\n",
      "  (1, 2349)\t0.2243125249588985\n",
      "  (1, 5484)\t0.2243125249588985\n",
      "  (1, 914)\t0.2243125249588985\n",
      "  (1, 5245)\t0.2243125249588985\n",
      "  (1, 965)\t0.2243125249588985\n",
      "  :\t:\n",
      "  (8, 5383)\t0.2236067977499789\n",
      "  (8, 4572)\t0.2236067977499789\n",
      "  (8, 1816)\t0.2236067977499789\n",
      "  (8, 5931)\t0.2236067977499789\n",
      "  (8, 646)\t0.2236067977499789\n",
      "  (9, 6215)\t0.2243125249588985\n",
      "  (9, 4431)\t0.2243125249588985\n",
      "  (9, 3747)\t0.2243125249588985\n",
      "  (9, 6237)\t0.2097473045946163\n",
      "  (9, 4432)\t0.2243125249588985\n",
      "  (9, 3498)\t0.2243125249588985\n",
      "  (9, 4425)\t0.2243125249588985\n",
      "  (9, 3742)\t0.2243125249588985\n",
      "  (9, 5312)\t0.2243125249588985\n",
      "  (9, 2312)\t0.2243125249588985\n",
      "  (9, 6736)\t0.2243125249588985\n",
      "  (9, 4734)\t0.2243125249588985\n",
      "  (9, 5068)\t0.2243125249588985\n",
      "  (9, 5948)\t0.2243125249588985\n",
      "  (9, 4588)\t0.2243125249588985\n",
      "  (9, 4735)\t0.2243125249588985\n",
      "  (9, 2503)\t0.2243125249588985\n",
      "  (9, 7075)\t0.2243125249588985\n",
      "  (9, 3745)\t0.2243125249588985\n",
      "  (9, 4428)\t0.2243125249588985\n"
     ]
    }
   ],
   "source": [
    "# third set of data using the 'trigrams' column\n",
    "X3 = repos_df.trigrams\n",
    "y3 = repos_df.language\n",
    "\n",
    "X3_train, X3_test, y3_train, y3_test = train_test_split(X3, y3, train_size=0.7, random_state=42)\n",
    "\n",
    "tfidf3 = TfidfVectorizer()\n",
    "\n",
    "X3_train_tfidf = tfidf3.fit_transform(X3_train)\n",
    "X3_test_tfidf = tfidf3.transform(X3_test)\n",
    "\n",
    "# Display the first 10 samples from the second set\n",
    "print(X3_train_tfidf[:10])"
   ]
  },
  {
   "cell_type": "code",
   "execution_count": 12,
   "id": "65d0d070-c559-48a2-876f-181faefcfe76",
   "metadata": {},
   "outputs": [],
   "source": [
    "import pandas as pd\n",
    "from sklearn.model_selection import train_test_split\n",
    "from sklearn.feature_extraction.text import TfidfVectorizer\n",
    "from scipy.sparse import hstack\n",
    "\n",
    "# Original features\n",
    "X = repos_df[['text', 'bigrams', 'trigrams']]  # Include both 'text' and 'bigrams' and 'trigrams'\n",
    "\n",
    "# Target variable\n",
    "y = repos_df.language\n",
    "\n",
    "# Split the data\n",
    "X_train, X_test, y_train, y_test = train_test_split(X, y, train_size=0.7, random_state=42)\n",
    "\n",
    "# Create separate TF-IDF vectorizers for 'text' and 'bigrams'\n",
    "tfidf_text = TfidfVectorizer()\n",
    "tfidf_bigrams = TfidfVectorizer()\n",
    "tfidf_trigrams = TfidfVectorizer()\n",
    "\n",
    "# Transform the 'text' and 'bigrams' columns separately\n",
    "X_train_text_tfidf = tfidf_text.fit_transform(X_train['text'])\n",
    "X_test_text_tfidf = tfidf_text.transform(X_test['text'])\n",
    "X_train_bigrams_tfidf = tfidf_bigrams.fit_transform(X_train['bigrams'])\n",
    "X_test_bigrams_tfidf = tfidf_bigrams.transform(X_test['bigrams'])\n",
    "X_train_trigrams_tfidf = tfidf_trigrams.fit_transform(X_train['trigrams'])\n",
    "X_test_trigrams_tfidf = tfidf_trigrams.transform(X_test['trigrams'])\n",
    "\n",
    "# Concatenate the TF-IDF transformed features with the original features\n",
    "X_train_combined = hstack((X_train_text_tfidf, X_train_bigrams_tfidf, X_train_trigrams_tfidf, X_train.drop(['text', 'bigrams', 'trigrams'], axis=1)))\n",
    "X_test_combined = hstack((X_test_text_tfidf, X_test_bigrams_tfidf, X_test_trigrams_tfidf, X_test.drop(['text', 'bigrams', 'trigrams'], axis=1)))"
   ]
  },
  {
   "cell_type": "code",
   "execution_count": 13,
   "id": "b456ac7b-0c6d-4536-97c7-1ade56bfb2cf",
   "metadata": {},
   "outputs": [],
   "source": [
    "# X = repos_df.text\n",
    "# y = repos_df.language\n",
    "\n",
    "# X_train, X_test, y_train, y_test = train_test_split(X, y, train_size=0.7,\n",
    "#                                                     random_state=42)"
   ]
  },
  {
   "cell_type": "code",
   "execution_count": 14,
   "id": "e2279e51-c645-4a49-88f5-4777fb810c15",
   "metadata": {},
   "outputs": [],
   "source": [
    "# tfidf = TfidfVectorizer()\n",
    "\n",
    "# X_train_tfidf = tfidf.fit_transform(X_train)\n",
    "# X_test_tfidf = tfidf.transform(X_test)\n",
    "\n",
    "# X_train_tfidf[:10]"
   ]
  },
  {
   "cell_type": "code",
   "execution_count": 15,
   "id": "c5f36f63-ecab-4fe4-b3be-e910bb66cde8",
   "metadata": {},
   "outputs": [
    {
     "name": "stdout",
     "output_type": "stream",
     "text": [
      "baseline: 38.89.\n"
     ]
    }
   ],
   "source": [
    "baseline_acc = y_train.value_counts().max() / y_train.shape[0] * 100\n",
    "\n",
    "print(f'baseline: {round(baseline_acc, 2)}.')"
   ]
  },
  {
   "cell_type": "code",
   "execution_count": 16,
   "id": "88070afb-1b97-4215-bd67-171163e3804d",
   "metadata": {},
   "outputs": [
    {
     "data": {
      "text/html": [
       "<div>\n",
       "<style scoped>\n",
       "    .dataframe tbody tr th:only-of-type {\n",
       "        vertical-align: middle;\n",
       "    }\n",
       "\n",
       "    .dataframe tbody tr th {\n",
       "        vertical-align: top;\n",
       "    }\n",
       "\n",
       "    .dataframe thead th {\n",
       "        text-align: right;\n",
       "    }\n",
       "</style>\n",
       "<table border=\"1\" class=\"dataframe\">\n",
       "  <thead>\n",
       "    <tr style=\"text-align: right;\">\n",
       "      <th></th>\n",
       "      <th>00</th>\n",
       "      <th>000</th>\n",
       "      <th>0000</th>\n",
       "      <th>000000</th>\n",
       "      <th>000000006</th>\n",
       "      <th>0000000s</th>\n",
       "      <th>00001</th>\n",
       "      <th>00008</th>\n",
       "      <th>00009</th>\n",
       "      <th>0001</th>\n",
       "      <th>...</th>\n",
       "      <th>ztranslation</th>\n",
       "      <th>zuhlke</th>\n",
       "      <th>zup</th>\n",
       "      <th>zurich</th>\n",
       "      <th>zv</th>\n",
       "      <th>zxvf</th>\n",
       "      <th>zxy</th>\n",
       "      <th>zypper</th>\n",
       "      <th>zyx</th>\n",
       "      <th>zyxconvention</th>\n",
       "    </tr>\n",
       "  </thead>\n",
       "  <tbody>\n",
       "    <tr>\n",
       "      <th>0</th>\n",
       "      <td>0.0</td>\n",
       "      <td>0.0</td>\n",
       "      <td>0.0</td>\n",
       "      <td>0.0</td>\n",
       "      <td>0.0</td>\n",
       "      <td>0.0</td>\n",
       "      <td>0.0</td>\n",
       "      <td>0.0</td>\n",
       "      <td>0.0</td>\n",
       "      <td>0.0</td>\n",
       "      <td>...</td>\n",
       "      <td>0.0</td>\n",
       "      <td>0.0</td>\n",
       "      <td>0.0</td>\n",
       "      <td>0.0</td>\n",
       "      <td>0.0</td>\n",
       "      <td>0.0</td>\n",
       "      <td>0.0</td>\n",
       "      <td>0.0</td>\n",
       "      <td>0.0</td>\n",
       "      <td>0.0</td>\n",
       "    </tr>\n",
       "    <tr>\n",
       "      <th>1</th>\n",
       "      <td>0.0</td>\n",
       "      <td>0.0</td>\n",
       "      <td>0.0</td>\n",
       "      <td>0.0</td>\n",
       "      <td>0.0</td>\n",
       "      <td>0.0</td>\n",
       "      <td>0.0</td>\n",
       "      <td>0.0</td>\n",
       "      <td>0.0</td>\n",
       "      <td>0.0</td>\n",
       "      <td>...</td>\n",
       "      <td>0.0</td>\n",
       "      <td>0.0</td>\n",
       "      <td>0.0</td>\n",
       "      <td>0.0</td>\n",
       "      <td>0.0</td>\n",
       "      <td>0.0</td>\n",
       "      <td>0.0</td>\n",
       "      <td>0.0</td>\n",
       "      <td>0.0</td>\n",
       "      <td>0.0</td>\n",
       "    </tr>\n",
       "    <tr>\n",
       "      <th>2</th>\n",
       "      <td>0.0</td>\n",
       "      <td>0.0</td>\n",
       "      <td>0.0</td>\n",
       "      <td>0.0</td>\n",
       "      <td>0.0</td>\n",
       "      <td>0.0</td>\n",
       "      <td>0.0</td>\n",
       "      <td>0.0</td>\n",
       "      <td>0.0</td>\n",
       "      <td>0.0</td>\n",
       "      <td>...</td>\n",
       "      <td>0.0</td>\n",
       "      <td>0.0</td>\n",
       "      <td>0.0</td>\n",
       "      <td>0.0</td>\n",
       "      <td>0.0</td>\n",
       "      <td>0.0</td>\n",
       "      <td>0.0</td>\n",
       "      <td>0.0</td>\n",
       "      <td>0.0</td>\n",
       "      <td>0.0</td>\n",
       "    </tr>\n",
       "    <tr>\n",
       "      <th>3</th>\n",
       "      <td>0.0</td>\n",
       "      <td>0.0</td>\n",
       "      <td>0.0</td>\n",
       "      <td>0.0</td>\n",
       "      <td>0.0</td>\n",
       "      <td>0.0</td>\n",
       "      <td>0.0</td>\n",
       "      <td>0.0</td>\n",
       "      <td>0.0</td>\n",
       "      <td>0.0</td>\n",
       "      <td>...</td>\n",
       "      <td>0.0</td>\n",
       "      <td>0.0</td>\n",
       "      <td>0.0</td>\n",
       "      <td>0.0</td>\n",
       "      <td>0.0</td>\n",
       "      <td>0.0</td>\n",
       "      <td>0.0</td>\n",
       "      <td>0.0</td>\n",
       "      <td>0.0</td>\n",
       "      <td>0.0</td>\n",
       "    </tr>\n",
       "    <tr>\n",
       "      <th>4</th>\n",
       "      <td>0.0</td>\n",
       "      <td>0.0</td>\n",
       "      <td>0.0</td>\n",
       "      <td>0.0</td>\n",
       "      <td>0.0</td>\n",
       "      <td>0.0</td>\n",
       "      <td>0.0</td>\n",
       "      <td>0.0</td>\n",
       "      <td>0.0</td>\n",
       "      <td>0.0</td>\n",
       "      <td>...</td>\n",
       "      <td>0.0</td>\n",
       "      <td>0.0</td>\n",
       "      <td>0.0</td>\n",
       "      <td>0.0</td>\n",
       "      <td>0.0</td>\n",
       "      <td>0.0</td>\n",
       "      <td>0.0</td>\n",
       "      <td>0.0</td>\n",
       "      <td>0.0</td>\n",
       "      <td>0.0</td>\n",
       "    </tr>\n",
       "    <tr>\n",
       "      <th>...</th>\n",
       "      <td>...</td>\n",
       "      <td>...</td>\n",
       "      <td>...</td>\n",
       "      <td>...</td>\n",
       "      <td>...</td>\n",
       "      <td>...</td>\n",
       "      <td>...</td>\n",
       "      <td>...</td>\n",
       "      <td>...</td>\n",
       "      <td>...</td>\n",
       "      <td>...</td>\n",
       "      <td>...</td>\n",
       "      <td>...</td>\n",
       "      <td>...</td>\n",
       "      <td>...</td>\n",
       "      <td>...</td>\n",
       "      <td>...</td>\n",
       "      <td>...</td>\n",
       "      <td>...</td>\n",
       "      <td>...</td>\n",
       "      <td>...</td>\n",
       "    </tr>\n",
       "    <tr>\n",
       "      <th>373</th>\n",
       "      <td>0.0</td>\n",
       "      <td>0.0</td>\n",
       "      <td>0.0</td>\n",
       "      <td>0.0</td>\n",
       "      <td>0.0</td>\n",
       "      <td>0.0</td>\n",
       "      <td>0.0</td>\n",
       "      <td>0.0</td>\n",
       "      <td>0.0</td>\n",
       "      <td>0.0</td>\n",
       "      <td>...</td>\n",
       "      <td>0.0</td>\n",
       "      <td>0.0</td>\n",
       "      <td>0.0</td>\n",
       "      <td>0.0</td>\n",
       "      <td>0.0</td>\n",
       "      <td>0.0</td>\n",
       "      <td>0.0</td>\n",
       "      <td>0.0</td>\n",
       "      <td>0.0</td>\n",
       "      <td>0.0</td>\n",
       "    </tr>\n",
       "    <tr>\n",
       "      <th>374</th>\n",
       "      <td>0.0</td>\n",
       "      <td>0.0</td>\n",
       "      <td>0.0</td>\n",
       "      <td>0.0</td>\n",
       "      <td>0.0</td>\n",
       "      <td>0.0</td>\n",
       "      <td>0.0</td>\n",
       "      <td>0.0</td>\n",
       "      <td>0.0</td>\n",
       "      <td>0.0</td>\n",
       "      <td>...</td>\n",
       "      <td>0.0</td>\n",
       "      <td>0.0</td>\n",
       "      <td>0.0</td>\n",
       "      <td>0.0</td>\n",
       "      <td>0.0</td>\n",
       "      <td>0.0</td>\n",
       "      <td>0.0</td>\n",
       "      <td>0.0</td>\n",
       "      <td>0.0</td>\n",
       "      <td>0.0</td>\n",
       "    </tr>\n",
       "    <tr>\n",
       "      <th>375</th>\n",
       "      <td>0.0</td>\n",
       "      <td>0.0</td>\n",
       "      <td>0.0</td>\n",
       "      <td>0.0</td>\n",
       "      <td>0.0</td>\n",
       "      <td>0.0</td>\n",
       "      <td>0.0</td>\n",
       "      <td>0.0</td>\n",
       "      <td>0.0</td>\n",
       "      <td>0.0</td>\n",
       "      <td>...</td>\n",
       "      <td>0.0</td>\n",
       "      <td>0.0</td>\n",
       "      <td>0.0</td>\n",
       "      <td>0.0</td>\n",
       "      <td>0.0</td>\n",
       "      <td>0.0</td>\n",
       "      <td>0.0</td>\n",
       "      <td>0.0</td>\n",
       "      <td>0.0</td>\n",
       "      <td>0.0</td>\n",
       "    </tr>\n",
       "    <tr>\n",
       "      <th>376</th>\n",
       "      <td>0.0</td>\n",
       "      <td>0.0</td>\n",
       "      <td>0.0</td>\n",
       "      <td>0.0</td>\n",
       "      <td>0.0</td>\n",
       "      <td>0.0</td>\n",
       "      <td>0.0</td>\n",
       "      <td>0.0</td>\n",
       "      <td>0.0</td>\n",
       "      <td>0.0</td>\n",
       "      <td>...</td>\n",
       "      <td>0.0</td>\n",
       "      <td>0.0</td>\n",
       "      <td>0.0</td>\n",
       "      <td>0.0</td>\n",
       "      <td>0.0</td>\n",
       "      <td>0.0</td>\n",
       "      <td>0.0</td>\n",
       "      <td>0.0</td>\n",
       "      <td>0.0</td>\n",
       "      <td>0.0</td>\n",
       "    </tr>\n",
       "    <tr>\n",
       "      <th>377</th>\n",
       "      <td>0.0</td>\n",
       "      <td>0.0</td>\n",
       "      <td>0.0</td>\n",
       "      <td>0.0</td>\n",
       "      <td>0.0</td>\n",
       "      <td>0.0</td>\n",
       "      <td>0.0</td>\n",
       "      <td>0.0</td>\n",
       "      <td>0.0</td>\n",
       "      <td>0.0</td>\n",
       "      <td>...</td>\n",
       "      <td>0.0</td>\n",
       "      <td>0.0</td>\n",
       "      <td>0.0</td>\n",
       "      <td>0.0</td>\n",
       "      <td>0.0</td>\n",
       "      <td>0.0</td>\n",
       "      <td>0.0</td>\n",
       "      <td>0.0</td>\n",
       "      <td>0.0</td>\n",
       "      <td>0.0</td>\n",
       "    </tr>\n",
       "  </tbody>\n",
       "</table>\n",
       "<p>378 rows × 28955 columns</p>\n",
       "</div>"
      ],
      "text/plain": [
       "      00  000  0000  000000  000000006  0000000s  00001  00008  00009  0001  \\\n",
       "0    0.0  0.0   0.0     0.0        0.0       0.0    0.0    0.0    0.0   0.0   \n",
       "1    0.0  0.0   0.0     0.0        0.0       0.0    0.0    0.0    0.0   0.0   \n",
       "2    0.0  0.0   0.0     0.0        0.0       0.0    0.0    0.0    0.0   0.0   \n",
       "3    0.0  0.0   0.0     0.0        0.0       0.0    0.0    0.0    0.0   0.0   \n",
       "4    0.0  0.0   0.0     0.0        0.0       0.0    0.0    0.0    0.0   0.0   \n",
       "..   ...  ...   ...     ...        ...       ...    ...    ...    ...   ...   \n",
       "373  0.0  0.0   0.0     0.0        0.0       0.0    0.0    0.0    0.0   0.0   \n",
       "374  0.0  0.0   0.0     0.0        0.0       0.0    0.0    0.0    0.0   0.0   \n",
       "375  0.0  0.0   0.0     0.0        0.0       0.0    0.0    0.0    0.0   0.0   \n",
       "376  0.0  0.0   0.0     0.0        0.0       0.0    0.0    0.0    0.0   0.0   \n",
       "377  0.0  0.0   0.0     0.0        0.0       0.0    0.0    0.0    0.0   0.0   \n",
       "\n",
       "     ...  ztranslation  zuhlke  zup  zurich   zv  zxvf  zxy  zypper  zyx  \\\n",
       "0    ...           0.0     0.0  0.0     0.0  0.0   0.0  0.0     0.0  0.0   \n",
       "1    ...           0.0     0.0  0.0     0.0  0.0   0.0  0.0     0.0  0.0   \n",
       "2    ...           0.0     0.0  0.0     0.0  0.0   0.0  0.0     0.0  0.0   \n",
       "3    ...           0.0     0.0  0.0     0.0  0.0   0.0  0.0     0.0  0.0   \n",
       "4    ...           0.0     0.0  0.0     0.0  0.0   0.0  0.0     0.0  0.0   \n",
       "..   ...           ...     ...  ...     ...  ...   ...  ...     ...  ...   \n",
       "373  ...           0.0     0.0  0.0     0.0  0.0   0.0  0.0     0.0  0.0   \n",
       "374  ...           0.0     0.0  0.0     0.0  0.0   0.0  0.0     0.0  0.0   \n",
       "375  ...           0.0     0.0  0.0     0.0  0.0   0.0  0.0     0.0  0.0   \n",
       "376  ...           0.0     0.0  0.0     0.0  0.0   0.0  0.0     0.0  0.0   \n",
       "377  ...           0.0     0.0  0.0     0.0  0.0   0.0  0.0     0.0  0.0   \n",
       "\n",
       "     zyxconvention  \n",
       "0              0.0  \n",
       "1              0.0  \n",
       "2              0.0  \n",
       "3              0.0  \n",
       "4              0.0  \n",
       "..             ...  \n",
       "373            0.0  \n",
       "374            0.0  \n",
       "375            0.0  \n",
       "376            0.0  \n",
       "377            0.0  \n",
       "\n",
       "[378 rows x 28955 columns]"
      ]
     },
     "execution_count": 16,
     "metadata": {},
     "output_type": "execute_result"
    }
   ],
   "source": [
    "pd.DataFrame(X_train_tfidf.todense(), columns=tfidf.get_feature_names_out())"
   ]
  },
  {
   "cell_type": "markdown",
   "id": "08a1b170-8773-4ed2-9289-af1ee72e6f13",
   "metadata": {},
   "source": [
    "# logistic regression model"
   ]
  },
  {
   "cell_type": "code",
   "execution_count": 17,
   "id": "474fe11c-3535-47c1-9abd-2b3ba4256d40",
   "metadata": {},
   "outputs": [
    {
     "data": {
      "text/html": [
       "<style>#sk-container-id-1 {color: black;}#sk-container-id-1 pre{padding: 0;}#sk-container-id-1 div.sk-toggleable {background-color: white;}#sk-container-id-1 label.sk-toggleable__label {cursor: pointer;display: block;width: 100%;margin-bottom: 0;padding: 0.3em;box-sizing: border-box;text-align: center;}#sk-container-id-1 label.sk-toggleable__label-arrow:before {content: \"▸\";float: left;margin-right: 0.25em;color: #696969;}#sk-container-id-1 label.sk-toggleable__label-arrow:hover:before {color: black;}#sk-container-id-1 div.sk-estimator:hover label.sk-toggleable__label-arrow:before {color: black;}#sk-container-id-1 div.sk-toggleable__content {max-height: 0;max-width: 0;overflow: hidden;text-align: left;background-color: #f0f8ff;}#sk-container-id-1 div.sk-toggleable__content pre {margin: 0.2em;color: black;border-radius: 0.25em;background-color: #f0f8ff;}#sk-container-id-1 input.sk-toggleable__control:checked~div.sk-toggleable__content {max-height: 200px;max-width: 100%;overflow: auto;}#sk-container-id-1 input.sk-toggleable__control:checked~label.sk-toggleable__label-arrow:before {content: \"▾\";}#sk-container-id-1 div.sk-estimator input.sk-toggleable__control:checked~label.sk-toggleable__label {background-color: #d4ebff;}#sk-container-id-1 div.sk-label input.sk-toggleable__control:checked~label.sk-toggleable__label {background-color: #d4ebff;}#sk-container-id-1 input.sk-hidden--visually {border: 0;clip: rect(1px 1px 1px 1px);clip: rect(1px, 1px, 1px, 1px);height: 1px;margin: -1px;overflow: hidden;padding: 0;position: absolute;width: 1px;}#sk-container-id-1 div.sk-estimator {font-family: monospace;background-color: #f0f8ff;border: 1px dotted black;border-radius: 0.25em;box-sizing: border-box;margin-bottom: 0.5em;}#sk-container-id-1 div.sk-estimator:hover {background-color: #d4ebff;}#sk-container-id-1 div.sk-parallel-item::after {content: \"\";width: 100%;border-bottom: 1px solid gray;flex-grow: 1;}#sk-container-id-1 div.sk-label:hover label.sk-toggleable__label {background-color: #d4ebff;}#sk-container-id-1 div.sk-serial::before {content: \"\";position: absolute;border-left: 1px solid gray;box-sizing: border-box;top: 0;bottom: 0;left: 50%;z-index: 0;}#sk-container-id-1 div.sk-serial {display: flex;flex-direction: column;align-items: center;background-color: white;padding-right: 0.2em;padding-left: 0.2em;position: relative;}#sk-container-id-1 div.sk-item {position: relative;z-index: 1;}#sk-container-id-1 div.sk-parallel {display: flex;align-items: stretch;justify-content: center;background-color: white;position: relative;}#sk-container-id-1 div.sk-item::before, #sk-container-id-1 div.sk-parallel-item::before {content: \"\";position: absolute;border-left: 1px solid gray;box-sizing: border-box;top: 0;bottom: 0;left: 50%;z-index: -1;}#sk-container-id-1 div.sk-parallel-item {display: flex;flex-direction: column;z-index: 1;position: relative;background-color: white;}#sk-container-id-1 div.sk-parallel-item:first-child::after {align-self: flex-end;width: 50%;}#sk-container-id-1 div.sk-parallel-item:last-child::after {align-self: flex-start;width: 50%;}#sk-container-id-1 div.sk-parallel-item:only-child::after {width: 0;}#sk-container-id-1 div.sk-dashed-wrapped {border: 1px dashed gray;margin: 0 0.4em 0.5em 0.4em;box-sizing: border-box;padding-bottom: 0.4em;background-color: white;}#sk-container-id-1 div.sk-label label {font-family: monospace;font-weight: bold;display: inline-block;line-height: 1.2em;}#sk-container-id-1 div.sk-label-container {text-align: center;}#sk-container-id-1 div.sk-container {/* jupyter's `normalize.less` sets `[hidden] { display: none; }` but bootstrap.min.css set `[hidden] { display: none !important; }` so we also need the `!important` here to be able to override the default hidden behavior on the sphinx rendered scikit-learn.org. See: https://github.com/scikit-learn/scikit-learn/issues/21755 */display: inline-block !important;position: relative;}#sk-container-id-1 div.sk-text-repr-fallback {display: none;}</style><div id=\"sk-container-id-1\" class=\"sk-top-container\"><div class=\"sk-text-repr-fallback\"><pre>LogisticRegression()</pre><b>In a Jupyter environment, please rerun this cell to show the HTML representation or trust the notebook. <br />On GitHub, the HTML representation is unable to render, please try loading this page with nbviewer.org.</b></div><div class=\"sk-container\" hidden><div class=\"sk-item\"><div class=\"sk-estimator sk-toggleable\"><input class=\"sk-toggleable__control sk-hidden--visually\" id=\"sk-estimator-id-1\" type=\"checkbox\" checked><label for=\"sk-estimator-id-1\" class=\"sk-toggleable__label sk-toggleable__label-arrow\">LogisticRegression</label><div class=\"sk-toggleable__content\"><pre>LogisticRegression()</pre></div></div></div></div></div>"
      ],
      "text/plain": [
       "LogisticRegression()"
      ]
     },
     "execution_count": 17,
     "metadata": {},
     "output_type": "execute_result"
    }
   ],
   "source": [
    "lm = LogisticRegression()\n",
    "\n",
    "lm.fit(X_train_tfidf, y_train)"
   ]
  },
  {
   "cell_type": "code",
   "execution_count": 18,
   "id": "bb92ad6f-beaa-473f-a1ea-bbf85220787d",
   "metadata": {},
   "outputs": [
    {
     "data": {
      "text/html": [
       "<div>\n",
       "<style scoped>\n",
       "    .dataframe tbody tr th:only-of-type {\n",
       "        vertical-align: middle;\n",
       "    }\n",
       "\n",
       "    .dataframe tbody tr th {\n",
       "        vertical-align: top;\n",
       "    }\n",
       "\n",
       "    .dataframe thead th {\n",
       "        text-align: right;\n",
       "    }\n",
       "</style>\n",
       "<table border=\"1\" class=\"dataframe\">\n",
       "  <thead>\n",
       "    <tr style=\"text-align: right;\">\n",
       "      <th></th>\n",
       "      <th>actual</th>\n",
       "      <th>preds</th>\n",
       "    </tr>\n",
       "  </thead>\n",
       "  <tbody>\n",
       "    <tr>\n",
       "      <th>537</th>\n",
       "      <td>Other</td>\n",
       "      <td>Other</td>\n",
       "    </tr>\n",
       "    <tr>\n",
       "      <th>466</th>\n",
       "      <td>C++</td>\n",
       "      <td>C++</td>\n",
       "    </tr>\n",
       "    <tr>\n",
       "      <th>79</th>\n",
       "      <td>Python</td>\n",
       "      <td>Python</td>\n",
       "    </tr>\n",
       "    <tr>\n",
       "      <th>426</th>\n",
       "      <td>Python</td>\n",
       "      <td>Python</td>\n",
       "    </tr>\n",
       "    <tr>\n",
       "      <th>36</th>\n",
       "      <td>C++</td>\n",
       "      <td>C++</td>\n",
       "    </tr>\n",
       "  </tbody>\n",
       "</table>\n",
       "</div>"
      ],
      "text/plain": [
       "     actual   preds\n",
       "537   Other   Other\n",
       "466     C++     C++\n",
       "79   Python  Python\n",
       "426  Python  Python\n",
       "36      C++     C++"
      ]
     },
     "execution_count": 18,
     "metadata": {},
     "output_type": "execute_result"
    }
   ],
   "source": [
    "y_train_res = pd.DataFrame({'actual': y_train,\n",
    "                            'preds': lm.predict(X_train_tfidf)})\n",
    "y_train_res.head()"
   ]
  },
  {
   "cell_type": "code",
   "execution_count": 19,
   "id": "fafd874e-4c30-49d7-b19a-acee272a5184",
   "metadata": {},
   "outputs": [
    {
     "name": "stdout",
     "output_type": "stream",
     "text": [
      "              precision    recall  f1-score   support\n",
      "\n",
      "         C++       0.98      0.99      0.99       147\n",
      "       Other       1.00      0.95      0.97        91\n",
      "      Python       0.98      1.00      0.99       140\n",
      "\n",
      "    accuracy                           0.98       378\n",
      "   macro avg       0.99      0.98      0.98       378\n",
      "weighted avg       0.98      0.98      0.98       378\n",
      "\n"
     ]
    }
   ],
   "source": [
    "print(class_rep(y_train_res.actual, y_train_res.preds))"
   ]
  },
  {
   "cell_type": "markdown",
   "id": "47e20d3c-cfdf-4ba1-9d50-a2f9dd055bf2",
   "metadata": {},
   "source": [
    "# Logistic Regression Test"
   ]
  },
  {
   "cell_type": "code",
   "execution_count": 20,
   "id": "3a667cc5-f877-4633-9f1c-7da0243d768d",
   "metadata": {},
   "outputs": [
    {
     "data": {
      "text/html": [
       "<div>\n",
       "<style scoped>\n",
       "    .dataframe tbody tr th:only-of-type {\n",
       "        vertical-align: middle;\n",
       "    }\n",
       "\n",
       "    .dataframe tbody tr th {\n",
       "        vertical-align: top;\n",
       "    }\n",
       "\n",
       "    .dataframe thead th {\n",
       "        text-align: right;\n",
       "    }\n",
       "</style>\n",
       "<table border=\"1\" class=\"dataframe\">\n",
       "  <thead>\n",
       "    <tr style=\"text-align: right;\">\n",
       "      <th></th>\n",
       "      <th>actual</th>\n",
       "      <th>preds</th>\n",
       "    </tr>\n",
       "  </thead>\n",
       "  <tbody>\n",
       "    <tr>\n",
       "      <th>296</th>\n",
       "      <td>Other</td>\n",
       "      <td>C++</td>\n",
       "    </tr>\n",
       "    <tr>\n",
       "      <th>101</th>\n",
       "      <td>C++</td>\n",
       "      <td>C++</td>\n",
       "    </tr>\n",
       "    <tr>\n",
       "      <th>447</th>\n",
       "      <td>Python</td>\n",
       "      <td>Python</td>\n",
       "    </tr>\n",
       "    <tr>\n",
       "      <th>117</th>\n",
       "      <td>C++</td>\n",
       "      <td>C++</td>\n",
       "    </tr>\n",
       "    <tr>\n",
       "      <th>590</th>\n",
       "      <td>C++</td>\n",
       "      <td>C++</td>\n",
       "    </tr>\n",
       "  </tbody>\n",
       "</table>\n",
       "</div>"
      ],
      "text/plain": [
       "     actual   preds\n",
       "296   Other     C++\n",
       "101     C++     C++\n",
       "447  Python  Python\n",
       "117     C++     C++\n",
       "590     C++     C++"
      ]
     },
     "execution_count": 20,
     "metadata": {},
     "output_type": "execute_result"
    }
   ],
   "source": [
    "y_test_res = pd.DataFrame({'actual': y_test,\n",
    "                           'preds': lm.predict(X_test_tfidf)})\n",
    "y_test_res.head()"
   ]
  },
  {
   "cell_type": "code",
   "execution_count": 21,
   "id": "8b098ee4-ab15-4e3a-9dd8-7883c510667c",
   "metadata": {},
   "outputs": [
    {
     "name": "stdout",
     "output_type": "stream",
     "text": [
      "              precision    recall  f1-score   support\n",
      "\n",
      "         C++       0.64      0.87      0.74        60\n",
      "       Other       0.75      0.35      0.48        43\n",
      "      Python       0.79      0.82      0.80        60\n",
      "\n",
      "    accuracy                           0.71       163\n",
      "   macro avg       0.73      0.68      0.67       163\n",
      "weighted avg       0.73      0.71      0.69       163\n",
      "\n"
     ]
    }
   ],
   "source": [
    "print(class_rep(y_test_res.actual, y_test_res.preds))"
   ]
  },
  {
   "cell_type": "markdown",
   "id": "5653692d-2932-415d-aeed-5653561d51b7",
   "metadata": {},
   "source": [
    "  "
   ]
  },
  {
   "cell_type": "markdown",
   "id": "fe0e7236-82dd-45e9-b4a0-43922706cbe6",
   "metadata": {},
   "source": [
    "  "
   ]
  },
  {
   "cell_type": "markdown",
   "id": "b8d85cef-e663-4f51-a754-2e416a6656ce",
   "metadata": {},
   "source": [
    "  "
   ]
  },
  {
   "cell_type": "markdown",
   "id": "0505eb53-df5f-4051-8220-78bd7d606626",
   "metadata": {},
   "source": [
    "  "
   ]
  },
  {
   "cell_type": "markdown",
   "id": "f524af9b-eb57-43b0-9769-e5b575688e77",
   "metadata": {},
   "source": [
    "  "
   ]
  },
  {
   "cell_type": "markdown",
   "id": "ac120a70-6ddd-4831-821d-acc280edce6c",
   "metadata": {},
   "source": [
    "  "
   ]
  },
  {
   "cell_type": "markdown",
   "id": "8d9b1adc-88c1-43a1-8b10-92154a736b7b",
   "metadata": {},
   "source": [
    "# KNN Classifier Model"
   ]
  },
  {
   "cell_type": "code",
   "execution_count": 22,
   "id": "116e9aad-37ee-43bd-885e-0ef6ac9ffef7",
   "metadata": {},
   "outputs": [
    {
     "data": {
      "text/html": [
       "<style>#sk-container-id-2 {color: black;}#sk-container-id-2 pre{padding: 0;}#sk-container-id-2 div.sk-toggleable {background-color: white;}#sk-container-id-2 label.sk-toggleable__label {cursor: pointer;display: block;width: 100%;margin-bottom: 0;padding: 0.3em;box-sizing: border-box;text-align: center;}#sk-container-id-2 label.sk-toggleable__label-arrow:before {content: \"▸\";float: left;margin-right: 0.25em;color: #696969;}#sk-container-id-2 label.sk-toggleable__label-arrow:hover:before {color: black;}#sk-container-id-2 div.sk-estimator:hover label.sk-toggleable__label-arrow:before {color: black;}#sk-container-id-2 div.sk-toggleable__content {max-height: 0;max-width: 0;overflow: hidden;text-align: left;background-color: #f0f8ff;}#sk-container-id-2 div.sk-toggleable__content pre {margin: 0.2em;color: black;border-radius: 0.25em;background-color: #f0f8ff;}#sk-container-id-2 input.sk-toggleable__control:checked~div.sk-toggleable__content {max-height: 200px;max-width: 100%;overflow: auto;}#sk-container-id-2 input.sk-toggleable__control:checked~label.sk-toggleable__label-arrow:before {content: \"▾\";}#sk-container-id-2 div.sk-estimator input.sk-toggleable__control:checked~label.sk-toggleable__label {background-color: #d4ebff;}#sk-container-id-2 div.sk-label input.sk-toggleable__control:checked~label.sk-toggleable__label {background-color: #d4ebff;}#sk-container-id-2 input.sk-hidden--visually {border: 0;clip: rect(1px 1px 1px 1px);clip: rect(1px, 1px, 1px, 1px);height: 1px;margin: -1px;overflow: hidden;padding: 0;position: absolute;width: 1px;}#sk-container-id-2 div.sk-estimator {font-family: monospace;background-color: #f0f8ff;border: 1px dotted black;border-radius: 0.25em;box-sizing: border-box;margin-bottom: 0.5em;}#sk-container-id-2 div.sk-estimator:hover {background-color: #d4ebff;}#sk-container-id-2 div.sk-parallel-item::after {content: \"\";width: 100%;border-bottom: 1px solid gray;flex-grow: 1;}#sk-container-id-2 div.sk-label:hover label.sk-toggleable__label {background-color: #d4ebff;}#sk-container-id-2 div.sk-serial::before {content: \"\";position: absolute;border-left: 1px solid gray;box-sizing: border-box;top: 0;bottom: 0;left: 50%;z-index: 0;}#sk-container-id-2 div.sk-serial {display: flex;flex-direction: column;align-items: center;background-color: white;padding-right: 0.2em;padding-left: 0.2em;position: relative;}#sk-container-id-2 div.sk-item {position: relative;z-index: 1;}#sk-container-id-2 div.sk-parallel {display: flex;align-items: stretch;justify-content: center;background-color: white;position: relative;}#sk-container-id-2 div.sk-item::before, #sk-container-id-2 div.sk-parallel-item::before {content: \"\";position: absolute;border-left: 1px solid gray;box-sizing: border-box;top: 0;bottom: 0;left: 50%;z-index: -1;}#sk-container-id-2 div.sk-parallel-item {display: flex;flex-direction: column;z-index: 1;position: relative;background-color: white;}#sk-container-id-2 div.sk-parallel-item:first-child::after {align-self: flex-end;width: 50%;}#sk-container-id-2 div.sk-parallel-item:last-child::after {align-self: flex-start;width: 50%;}#sk-container-id-2 div.sk-parallel-item:only-child::after {width: 0;}#sk-container-id-2 div.sk-dashed-wrapped {border: 1px dashed gray;margin: 0 0.4em 0.5em 0.4em;box-sizing: border-box;padding-bottom: 0.4em;background-color: white;}#sk-container-id-2 div.sk-label label {font-family: monospace;font-weight: bold;display: inline-block;line-height: 1.2em;}#sk-container-id-2 div.sk-label-container {text-align: center;}#sk-container-id-2 div.sk-container {/* jupyter's `normalize.less` sets `[hidden] { display: none; }` but bootstrap.min.css set `[hidden] { display: none !important; }` so we also need the `!important` here to be able to override the default hidden behavior on the sphinx rendered scikit-learn.org. See: https://github.com/scikit-learn/scikit-learn/issues/21755 */display: inline-block !important;position: relative;}#sk-container-id-2 div.sk-text-repr-fallback {display: none;}</style><div id=\"sk-container-id-2\" class=\"sk-top-container\"><div class=\"sk-text-repr-fallback\"><pre>KNeighborsClassifier()</pre><b>In a Jupyter environment, please rerun this cell to show the HTML representation or trust the notebook. <br />On GitHub, the HTML representation is unable to render, please try loading this page with nbviewer.org.</b></div><div class=\"sk-container\" hidden><div class=\"sk-item\"><div class=\"sk-estimator sk-toggleable\"><input class=\"sk-toggleable__control sk-hidden--visually\" id=\"sk-estimator-id-2\" type=\"checkbox\" checked><label for=\"sk-estimator-id-2\" class=\"sk-toggleable__label sk-toggleable__label-arrow\">KNeighborsClassifier</label><div class=\"sk-toggleable__content\"><pre>KNeighborsClassifier()</pre></div></div></div></div></div>"
      ],
      "text/plain": [
       "KNeighborsClassifier()"
      ]
     },
     "execution_count": 22,
     "metadata": {},
     "output_type": "execute_result"
    }
   ],
   "source": [
    "knn = KNeighborsClassifier()\n",
    "\n",
    "knn.fit(X_train_tfidf, y_train)"
   ]
  },
  {
   "cell_type": "code",
   "execution_count": 23,
   "id": "ef3066b6-7ea4-40b1-af47-12c4c31d4785",
   "metadata": {},
   "outputs": [
    {
     "data": {
      "text/html": [
       "<div>\n",
       "<style scoped>\n",
       "    .dataframe tbody tr th:only-of-type {\n",
       "        vertical-align: middle;\n",
       "    }\n",
       "\n",
       "    .dataframe tbody tr th {\n",
       "        vertical-align: top;\n",
       "    }\n",
       "\n",
       "    .dataframe thead th {\n",
       "        text-align: right;\n",
       "    }\n",
       "</style>\n",
       "<table border=\"1\" class=\"dataframe\">\n",
       "  <thead>\n",
       "    <tr style=\"text-align: right;\">\n",
       "      <th></th>\n",
       "      <th>actual</th>\n",
       "      <th>preds</th>\n",
       "    </tr>\n",
       "  </thead>\n",
       "  <tbody>\n",
       "    <tr>\n",
       "      <th>537</th>\n",
       "      <td>Other</td>\n",
       "      <td>Python</td>\n",
       "    </tr>\n",
       "    <tr>\n",
       "      <th>466</th>\n",
       "      <td>C++</td>\n",
       "      <td>C++</td>\n",
       "    </tr>\n",
       "    <tr>\n",
       "      <th>79</th>\n",
       "      <td>Python</td>\n",
       "      <td>Python</td>\n",
       "    </tr>\n",
       "    <tr>\n",
       "      <th>426</th>\n",
       "      <td>Python</td>\n",
       "      <td>Python</td>\n",
       "    </tr>\n",
       "    <tr>\n",
       "      <th>36</th>\n",
       "      <td>C++</td>\n",
       "      <td>C++</td>\n",
       "    </tr>\n",
       "  </tbody>\n",
       "</table>\n",
       "</div>"
      ],
      "text/plain": [
       "     actual   preds\n",
       "537   Other  Python\n",
       "466     C++     C++\n",
       "79   Python  Python\n",
       "426  Python  Python\n",
       "36      C++     C++"
      ]
     },
     "execution_count": 23,
     "metadata": {},
     "output_type": "execute_result"
    }
   ],
   "source": [
    "y_train_res = pd.DataFrame({'actual': y_train,\n",
    "                            'preds': knn.predict(X_train_tfidf)})\n",
    "y_train_res.head()"
   ]
  },
  {
   "cell_type": "code",
   "execution_count": 24,
   "id": "dc45a01b-f937-46b1-a0f6-8c7f34aefd63",
   "metadata": {},
   "outputs": [
    {
     "name": "stdout",
     "output_type": "stream",
     "text": [
      "              precision    recall  f1-score   support\n",
      "\n",
      "         C++       0.70      0.91      0.79       147\n",
      "       Other       0.77      0.60      0.68        91\n",
      "      Python       0.87      0.72      0.79       140\n",
      "\n",
      "    accuracy                           0.77       378\n",
      "   macro avg       0.78      0.75      0.75       378\n",
      "weighted avg       0.78      0.77      0.76       378\n",
      "\n"
     ]
    }
   ],
   "source": [
    "print(class_rep(y_train_res.actual, y_train_res.preds))"
   ]
  },
  {
   "cell_type": "markdown",
   "id": "9edbbc71-0af6-4f81-97a4-5099fd603086",
   "metadata": {},
   "source": [
    "# KNN test"
   ]
  },
  {
   "cell_type": "code",
   "execution_count": 25,
   "id": "d91b36c0-bbe5-4490-b5b5-ea77c9bc7689",
   "metadata": {},
   "outputs": [
    {
     "data": {
      "text/html": [
       "<div>\n",
       "<style scoped>\n",
       "    .dataframe tbody tr th:only-of-type {\n",
       "        vertical-align: middle;\n",
       "    }\n",
       "\n",
       "    .dataframe tbody tr th {\n",
       "        vertical-align: top;\n",
       "    }\n",
       "\n",
       "    .dataframe thead th {\n",
       "        text-align: right;\n",
       "    }\n",
       "</style>\n",
       "<table border=\"1\" class=\"dataframe\">\n",
       "  <thead>\n",
       "    <tr style=\"text-align: right;\">\n",
       "      <th></th>\n",
       "      <th>actual</th>\n",
       "      <th>preds</th>\n",
       "    </tr>\n",
       "  </thead>\n",
       "  <tbody>\n",
       "    <tr>\n",
       "      <th>296</th>\n",
       "      <td>Other</td>\n",
       "      <td>C++</td>\n",
       "    </tr>\n",
       "    <tr>\n",
       "      <th>101</th>\n",
       "      <td>C++</td>\n",
       "      <td>C++</td>\n",
       "    </tr>\n",
       "    <tr>\n",
       "      <th>447</th>\n",
       "      <td>Python</td>\n",
       "      <td>Python</td>\n",
       "    </tr>\n",
       "    <tr>\n",
       "      <th>117</th>\n",
       "      <td>C++</td>\n",
       "      <td>C++</td>\n",
       "    </tr>\n",
       "    <tr>\n",
       "      <th>590</th>\n",
       "      <td>C++</td>\n",
       "      <td>C++</td>\n",
       "    </tr>\n",
       "  </tbody>\n",
       "</table>\n",
       "</div>"
      ],
      "text/plain": [
       "     actual   preds\n",
       "296   Other     C++\n",
       "101     C++     C++\n",
       "447  Python  Python\n",
       "117     C++     C++\n",
       "590     C++     C++"
      ]
     },
     "execution_count": 25,
     "metadata": {},
     "output_type": "execute_result"
    }
   ],
   "source": [
    "y_test_res = pd.DataFrame({'actual': y_test,\n",
    "                           'preds': knn.predict(X_test_tfidf)})\n",
    "y_test_res.head()"
   ]
  },
  {
   "cell_type": "code",
   "execution_count": 26,
   "id": "69f16aa9-07d5-40cd-a2fc-65ba2fc7bfab",
   "metadata": {},
   "outputs": [
    {
     "name": "stdout",
     "output_type": "stream",
     "text": [
      "              precision    recall  f1-score   support\n",
      "\n",
      "         C++       0.56      0.85      0.68        60\n",
      "       Other       0.67      0.37      0.48        43\n",
      "      Python       0.75      0.60      0.67        60\n",
      "\n",
      "    accuracy                           0.63       163\n",
      "   macro avg       0.66      0.61      0.61       163\n",
      "weighted avg       0.66      0.63      0.62       163\n",
      "\n"
     ]
    }
   ],
   "source": [
    "print(class_rep(y_test_res.actual, y_test_res.preds))"
   ]
  },
  {
   "cell_type": "markdown",
   "id": "19ea220c-464f-414d-8aeb-82a440ea8a72",
   "metadata": {},
   "source": [
    "  "
   ]
  },
  {
   "cell_type": "markdown",
   "id": "95b2cb24-ce90-4943-9501-3e4d93fe49d5",
   "metadata": {},
   "source": [
    "  "
   ]
  },
  {
   "cell_type": "markdown",
   "id": "ed4279e0-7eff-4a3e-b77f-3c6be433af22",
   "metadata": {},
   "source": [
    "  "
   ]
  },
  {
   "cell_type": "markdown",
   "id": "c54fb307-96ec-41b8-916b-93c080dcebe7",
   "metadata": {},
   "source": [
    "  "
   ]
  },
  {
   "cell_type": "markdown",
   "id": "e129dc5c-4d29-4580-a763-5e931b66608c",
   "metadata": {},
   "source": [
    "  "
   ]
  },
  {
   "cell_type": "markdown",
   "id": "702aa898-53eb-41c6-8a2c-2303078c0910",
   "metadata": {},
   "source": [
    "  "
   ]
  },
  {
   "cell_type": "markdown",
   "id": "e9fde3d7-583f-4fba-9f29-dcb7cf858025",
   "metadata": {},
   "source": [
    "  "
   ]
  },
  {
   "cell_type": "markdown",
   "id": "676ebace-ce7b-43f6-a8b2-9aee92260f7a",
   "metadata": {},
   "source": [
    "  "
   ]
  },
  {
   "cell_type": "markdown",
   "id": "f9087a08-c490-4ad5-8324-ca47db673471",
   "metadata": {},
   "source": [
    "# Random Forest Classier Model"
   ]
  },
  {
   "cell_type": "code",
   "execution_count": 27,
   "id": "7755781b-30da-46af-881f-fbc18dae4fcf",
   "metadata": {},
   "outputs": [
    {
     "data": {
      "text/html": [
       "<style>#sk-container-id-3 {color: black;}#sk-container-id-3 pre{padding: 0;}#sk-container-id-3 div.sk-toggleable {background-color: white;}#sk-container-id-3 label.sk-toggleable__label {cursor: pointer;display: block;width: 100%;margin-bottom: 0;padding: 0.3em;box-sizing: border-box;text-align: center;}#sk-container-id-3 label.sk-toggleable__label-arrow:before {content: \"▸\";float: left;margin-right: 0.25em;color: #696969;}#sk-container-id-3 label.sk-toggleable__label-arrow:hover:before {color: black;}#sk-container-id-3 div.sk-estimator:hover label.sk-toggleable__label-arrow:before {color: black;}#sk-container-id-3 div.sk-toggleable__content {max-height: 0;max-width: 0;overflow: hidden;text-align: left;background-color: #f0f8ff;}#sk-container-id-3 div.sk-toggleable__content pre {margin: 0.2em;color: black;border-radius: 0.25em;background-color: #f0f8ff;}#sk-container-id-3 input.sk-toggleable__control:checked~div.sk-toggleable__content {max-height: 200px;max-width: 100%;overflow: auto;}#sk-container-id-3 input.sk-toggleable__control:checked~label.sk-toggleable__label-arrow:before {content: \"▾\";}#sk-container-id-3 div.sk-estimator input.sk-toggleable__control:checked~label.sk-toggleable__label {background-color: #d4ebff;}#sk-container-id-3 div.sk-label input.sk-toggleable__control:checked~label.sk-toggleable__label {background-color: #d4ebff;}#sk-container-id-3 input.sk-hidden--visually {border: 0;clip: rect(1px 1px 1px 1px);clip: rect(1px, 1px, 1px, 1px);height: 1px;margin: -1px;overflow: hidden;padding: 0;position: absolute;width: 1px;}#sk-container-id-3 div.sk-estimator {font-family: monospace;background-color: #f0f8ff;border: 1px dotted black;border-radius: 0.25em;box-sizing: border-box;margin-bottom: 0.5em;}#sk-container-id-3 div.sk-estimator:hover {background-color: #d4ebff;}#sk-container-id-3 div.sk-parallel-item::after {content: \"\";width: 100%;border-bottom: 1px solid gray;flex-grow: 1;}#sk-container-id-3 div.sk-label:hover label.sk-toggleable__label {background-color: #d4ebff;}#sk-container-id-3 div.sk-serial::before {content: \"\";position: absolute;border-left: 1px solid gray;box-sizing: border-box;top: 0;bottom: 0;left: 50%;z-index: 0;}#sk-container-id-3 div.sk-serial {display: flex;flex-direction: column;align-items: center;background-color: white;padding-right: 0.2em;padding-left: 0.2em;position: relative;}#sk-container-id-3 div.sk-item {position: relative;z-index: 1;}#sk-container-id-3 div.sk-parallel {display: flex;align-items: stretch;justify-content: center;background-color: white;position: relative;}#sk-container-id-3 div.sk-item::before, #sk-container-id-3 div.sk-parallel-item::before {content: \"\";position: absolute;border-left: 1px solid gray;box-sizing: border-box;top: 0;bottom: 0;left: 50%;z-index: -1;}#sk-container-id-3 div.sk-parallel-item {display: flex;flex-direction: column;z-index: 1;position: relative;background-color: white;}#sk-container-id-3 div.sk-parallel-item:first-child::after {align-self: flex-end;width: 50%;}#sk-container-id-3 div.sk-parallel-item:last-child::after {align-self: flex-start;width: 50%;}#sk-container-id-3 div.sk-parallel-item:only-child::after {width: 0;}#sk-container-id-3 div.sk-dashed-wrapped {border: 1px dashed gray;margin: 0 0.4em 0.5em 0.4em;box-sizing: border-box;padding-bottom: 0.4em;background-color: white;}#sk-container-id-3 div.sk-label label {font-family: monospace;font-weight: bold;display: inline-block;line-height: 1.2em;}#sk-container-id-3 div.sk-label-container {text-align: center;}#sk-container-id-3 div.sk-container {/* jupyter's `normalize.less` sets `[hidden] { display: none; }` but bootstrap.min.css set `[hidden] { display: none !important; }` so we also need the `!important` here to be able to override the default hidden behavior on the sphinx rendered scikit-learn.org. See: https://github.com/scikit-learn/scikit-learn/issues/21755 */display: inline-block !important;position: relative;}#sk-container-id-3 div.sk-text-repr-fallback {display: none;}</style><div id=\"sk-container-id-3\" class=\"sk-top-container\"><div class=\"sk-text-repr-fallback\"><pre>RandomForestClassifier()</pre><b>In a Jupyter environment, please rerun this cell to show the HTML representation or trust the notebook. <br />On GitHub, the HTML representation is unable to render, please try loading this page with nbviewer.org.</b></div><div class=\"sk-container\" hidden><div class=\"sk-item\"><div class=\"sk-estimator sk-toggleable\"><input class=\"sk-toggleable__control sk-hidden--visually\" id=\"sk-estimator-id-3\" type=\"checkbox\" checked><label for=\"sk-estimator-id-3\" class=\"sk-toggleable__label sk-toggleable__label-arrow\">RandomForestClassifier</label><div class=\"sk-toggleable__content\"><pre>RandomForestClassifier()</pre></div></div></div></div></div>"
      ],
      "text/plain": [
       "RandomForestClassifier()"
      ]
     },
     "execution_count": 27,
     "metadata": {},
     "output_type": "execute_result"
    }
   ],
   "source": [
    "from sklearn.ensemble import RandomForestClassifier\n",
    "\n",
    "rf = RandomForestClassifier()\n",
    "\n",
    "rf.fit(X_train_tfidf, y_train)"
   ]
  },
  {
   "cell_type": "code",
   "execution_count": 28,
   "id": "45bfa97b-cd6d-46ad-ac36-053e62f49b71",
   "metadata": {},
   "outputs": [
    {
     "data": {
      "text/html": [
       "<div>\n",
       "<style scoped>\n",
       "    .dataframe tbody tr th:only-of-type {\n",
       "        vertical-align: middle;\n",
       "    }\n",
       "\n",
       "    .dataframe tbody tr th {\n",
       "        vertical-align: top;\n",
       "    }\n",
       "\n",
       "    .dataframe thead th {\n",
       "        text-align: right;\n",
       "    }\n",
       "</style>\n",
       "<table border=\"1\" class=\"dataframe\">\n",
       "  <thead>\n",
       "    <tr style=\"text-align: right;\">\n",
       "      <th></th>\n",
       "      <th>actual</th>\n",
       "      <th>preds</th>\n",
       "    </tr>\n",
       "  </thead>\n",
       "  <tbody>\n",
       "    <tr>\n",
       "      <th>537</th>\n",
       "      <td>Other</td>\n",
       "      <td>Other</td>\n",
       "    </tr>\n",
       "    <tr>\n",
       "      <th>466</th>\n",
       "      <td>C++</td>\n",
       "      <td>C++</td>\n",
       "    </tr>\n",
       "    <tr>\n",
       "      <th>79</th>\n",
       "      <td>Python</td>\n",
       "      <td>Python</td>\n",
       "    </tr>\n",
       "    <tr>\n",
       "      <th>426</th>\n",
       "      <td>Python</td>\n",
       "      <td>Python</td>\n",
       "    </tr>\n",
       "    <tr>\n",
       "      <th>36</th>\n",
       "      <td>C++</td>\n",
       "      <td>C++</td>\n",
       "    </tr>\n",
       "  </tbody>\n",
       "</table>\n",
       "</div>"
      ],
      "text/plain": [
       "     actual   preds\n",
       "537   Other   Other\n",
       "466     C++     C++\n",
       "79   Python  Python\n",
       "426  Python  Python\n",
       "36      C++     C++"
      ]
     },
     "execution_count": 28,
     "metadata": {},
     "output_type": "execute_result"
    }
   ],
   "source": [
    "y_train_res = pd.DataFrame({'actual': y_train,\n",
    "                            'preds': rf.predict(X_train_tfidf)})\n",
    "y_train_res.head()"
   ]
  },
  {
   "cell_type": "code",
   "execution_count": 29,
   "id": "f007fa70-dcdd-4719-97da-92075d903ead",
   "metadata": {},
   "outputs": [
    {
     "name": "stdout",
     "output_type": "stream",
     "text": [
      "              precision    recall  f1-score   support\n",
      "\n",
      "         C++       1.00      1.00      1.00       147\n",
      "       Other       1.00      1.00      1.00        91\n",
      "      Python       1.00      1.00      1.00       140\n",
      "\n",
      "    accuracy                           1.00       378\n",
      "   macro avg       1.00      1.00      1.00       378\n",
      "weighted avg       1.00      1.00      1.00       378\n",
      "\n"
     ]
    }
   ],
   "source": [
    "print(class_rep(y_train_res.actual, y_train_res.preds))"
   ]
  },
  {
   "cell_type": "code",
   "execution_count": 30,
   "id": "f4eda57a-7864-4fee-9397-538db0948a2c",
   "metadata": {},
   "outputs": [
    {
     "data": {
      "text/html": [
       "<div>\n",
       "<style scoped>\n",
       "    .dataframe tbody tr th:only-of-type {\n",
       "        vertical-align: middle;\n",
       "    }\n",
       "\n",
       "    .dataframe tbody tr th {\n",
       "        vertical-align: top;\n",
       "    }\n",
       "\n",
       "    .dataframe thead th {\n",
       "        text-align: right;\n",
       "    }\n",
       "</style>\n",
       "<table border=\"1\" class=\"dataframe\">\n",
       "  <thead>\n",
       "    <tr style=\"text-align: right;\">\n",
       "      <th></th>\n",
       "      <th>actual</th>\n",
       "      <th>preds</th>\n",
       "    </tr>\n",
       "  </thead>\n",
       "  <tbody>\n",
       "    <tr>\n",
       "      <th>296</th>\n",
       "      <td>Other</td>\n",
       "      <td>C++</td>\n",
       "    </tr>\n",
       "    <tr>\n",
       "      <th>101</th>\n",
       "      <td>C++</td>\n",
       "      <td>C++</td>\n",
       "    </tr>\n",
       "    <tr>\n",
       "      <th>447</th>\n",
       "      <td>Python</td>\n",
       "      <td>Python</td>\n",
       "    </tr>\n",
       "    <tr>\n",
       "      <th>117</th>\n",
       "      <td>C++</td>\n",
       "      <td>C++</td>\n",
       "    </tr>\n",
       "    <tr>\n",
       "      <th>590</th>\n",
       "      <td>C++</td>\n",
       "      <td>C++</td>\n",
       "    </tr>\n",
       "  </tbody>\n",
       "</table>\n",
       "</div>"
      ],
      "text/plain": [
       "     actual   preds\n",
       "296   Other     C++\n",
       "101     C++     C++\n",
       "447  Python  Python\n",
       "117     C++     C++\n",
       "590     C++     C++"
      ]
     },
     "execution_count": 30,
     "metadata": {},
     "output_type": "execute_result"
    }
   ],
   "source": [
    "y_test_res = pd.DataFrame({'actual': y_test,\n",
    "                           'preds': rf.predict(X_test_tfidf)})\n",
    "y_test_res.head()"
   ]
  },
  {
   "cell_type": "code",
   "execution_count": 31,
   "id": "52981e6d-d61f-4c76-bbb3-02e1c061f597",
   "metadata": {},
   "outputs": [
    {
     "name": "stdout",
     "output_type": "stream",
     "text": [
      "              precision    recall  f1-score   support\n",
      "\n",
      "         C++       0.57      0.88      0.69        60\n",
      "       Other       0.82      0.33      0.47        43\n",
      "      Python       0.81      0.72      0.76        60\n",
      "\n",
      "    accuracy                           0.67       163\n",
      "   macro avg       0.73      0.64      0.64       163\n",
      "weighted avg       0.73      0.67      0.66       163\n",
      "\n"
     ]
    }
   ],
   "source": [
    "print(class_rep(y_test_res.actual, y_test_res.preds))"
   ]
  },
  {
   "cell_type": "markdown",
   "id": "fd5edb26-53bb-4523-8ed7-0688aa97288c",
   "metadata": {},
   "source": [
    "  "
   ]
  },
  {
   "cell_type": "markdown",
   "id": "df652e1d-d25c-429a-9ae3-9f26d1ba73f8",
   "metadata": {},
   "source": [
    "  "
   ]
  },
  {
   "cell_type": "markdown",
   "id": "5a415212-9d79-45e9-970e-0d9b7601df7d",
   "metadata": {},
   "source": [
    "  "
   ]
  },
  {
   "cell_type": "markdown",
   "id": "094f18e1-e8a8-476d-af37-bcbed8ce35c2",
   "metadata": {},
   "source": [
    "  "
   ]
  },
  {
   "cell_type": "markdown",
   "id": "f47c11dd-ff3c-45ba-97da-8271b4485fa3",
   "metadata": {},
   "source": [
    "  "
   ]
  },
  {
   "cell_type": "markdown",
   "id": "7b33857d-4766-4b18-97a6-0b284bbaadfe",
   "metadata": {},
   "source": [
    "  "
   ]
  },
  {
   "cell_type": "markdown",
   "id": "01cfb9c0-52ca-411b-81f6-b36f42c53d75",
   "metadata": {},
   "source": [
    "  "
   ]
  },
  {
   "cell_type": "markdown",
   "id": "f5ec6903-f5e0-49e9-8937-30cfce67f8f6",
   "metadata": {},
   "source": [
    "  "
   ]
  },
  {
   "cell_type": "markdown",
   "id": "f4154bd3-efee-431a-a4d5-1f70425aa962",
   "metadata": {},
   "source": [
    "  "
   ]
  },
  {
   "cell_type": "markdown",
   "id": "d984fea3-5e40-44df-af3d-0f05258babf5",
   "metadata": {},
   "source": [
    "# XGBClassifier Model"
   ]
  },
  {
   "cell_type": "code",
   "execution_count": 32,
   "id": "488c9bb1-6dd5-42e7-9b1c-4a319c5cffa1",
   "metadata": {},
   "outputs": [],
   "source": [
    "from sklearn.preprocessing import LabelEncoder\n",
    "\n",
    "# Initialize the label encoder\n",
    "label_encoder = LabelEncoder()\n",
    "\n",
    "X = repos_df.text\n",
    "y = repos_df.language\n",
    "\n",
    "# Fit the label encoder to your class labels and transform them\n",
    "y_encoded = label_encoder.fit_transform(y)\n",
    "\n",
    "X_train, X_test, y_train, y_test = train_test_split(X, y_encoded, train_size=0.7, random_state=42)\n",
    "\n",
    "tfidf = TfidfVectorizer()\n",
    "\n",
    "X_train_tfidf = tfidf.fit_transform(X_train)\n",
    "X_test_tfidf = tfidf.transform(X_test)\n",
    "\n",
    "# Create the XGBoost classifier instance\n",
    "bst = XGBClassifier(n_estimators=2, max_depth=3, learning_rate=1, objective='multi:softprob', num_class=len(label_encoder.classes_))\n",
    "\n",
    "# Fit the XGBoost model on the training data\n",
    "bst.fit(X_train_tfidf, y_train)\n",
    "\n",
    "# Predict the classes on the test data\n",
    "preds = bst.predict(X_test_tfidf)\n",
    "\n",
    "# If you want to decode the predicted labels back to their original class names:\n",
    "preds_decoded = label_encoder.inverse_transform(preds)\n"
   ]
  },
  {
   "cell_type": "code",
   "execution_count": 33,
   "id": "d2c3d775-c6fd-453d-adb4-09372c02b072",
   "metadata": {},
   "outputs": [
    {
     "data": {
      "text/html": [
       "<div>\n",
       "<style scoped>\n",
       "    .dataframe tbody tr th:only-of-type {\n",
       "        vertical-align: middle;\n",
       "    }\n",
       "\n",
       "    .dataframe tbody tr th {\n",
       "        vertical-align: top;\n",
       "    }\n",
       "\n",
       "    .dataframe thead th {\n",
       "        text-align: right;\n",
       "    }\n",
       "</style>\n",
       "<table border=\"1\" class=\"dataframe\">\n",
       "  <thead>\n",
       "    <tr style=\"text-align: right;\">\n",
       "      <th></th>\n",
       "      <th>actual</th>\n",
       "      <th>preds</th>\n",
       "    </tr>\n",
       "  </thead>\n",
       "  <tbody>\n",
       "    <tr>\n",
       "      <th>0</th>\n",
       "      <td>1</td>\n",
       "      <td>0</td>\n",
       "    </tr>\n",
       "    <tr>\n",
       "      <th>1</th>\n",
       "      <td>0</td>\n",
       "      <td>0</td>\n",
       "    </tr>\n",
       "    <tr>\n",
       "      <th>2</th>\n",
       "      <td>2</td>\n",
       "      <td>2</td>\n",
       "    </tr>\n",
       "    <tr>\n",
       "      <th>3</th>\n",
       "      <td>2</td>\n",
       "      <td>2</td>\n",
       "    </tr>\n",
       "    <tr>\n",
       "      <th>4</th>\n",
       "      <td>0</td>\n",
       "      <td>0</td>\n",
       "    </tr>\n",
       "  </tbody>\n",
       "</table>\n",
       "</div>"
      ],
      "text/plain": [
       "   actual  preds\n",
       "0       1      0\n",
       "1       0      0\n",
       "2       2      2\n",
       "3       2      2\n",
       "4       0      0"
      ]
     },
     "execution_count": 33,
     "metadata": {},
     "output_type": "execute_result"
    }
   ],
   "source": [
    "y_train_res = pd.DataFrame({'actual': y_train,\n",
    "                            'preds': bst.predict(X_train_tfidf)})\n",
    "y_train_res.head()"
   ]
  },
  {
   "cell_type": "code",
   "execution_count": 34,
   "id": "0d3a913b-5de4-4c2e-8037-0292f3fb1d20",
   "metadata": {},
   "outputs": [
    {
     "name": "stdout",
     "output_type": "stream",
     "text": [
      "              precision    recall  f1-score   support\n",
      "\n",
      "           0       0.78      0.95      0.86       147\n",
      "           1       0.95      0.66      0.78        91\n",
      "           2       0.93      0.90      0.91       140\n",
      "\n",
      "    accuracy                           0.86       378\n",
      "   macro avg       0.89      0.84      0.85       378\n",
      "weighted avg       0.88      0.86      0.86       378\n",
      "\n"
     ]
    }
   ],
   "source": [
    "print(class_rep(y_train_res.actual, y_train_res.preds))"
   ]
  },
  {
   "cell_type": "code",
   "execution_count": 35,
   "id": "aeec6c2e-d296-44b8-845e-6fe1bb9c3a75",
   "metadata": {},
   "outputs": [
    {
     "data": {
      "text/html": [
       "<div>\n",
       "<style scoped>\n",
       "    .dataframe tbody tr th:only-of-type {\n",
       "        vertical-align: middle;\n",
       "    }\n",
       "\n",
       "    .dataframe tbody tr th {\n",
       "        vertical-align: top;\n",
       "    }\n",
       "\n",
       "    .dataframe thead th {\n",
       "        text-align: right;\n",
       "    }\n",
       "</style>\n",
       "<table border=\"1\" class=\"dataframe\">\n",
       "  <thead>\n",
       "    <tr style=\"text-align: right;\">\n",
       "      <th></th>\n",
       "      <th>actual</th>\n",
       "      <th>preds</th>\n",
       "    </tr>\n",
       "  </thead>\n",
       "  <tbody>\n",
       "    <tr>\n",
       "      <th>0</th>\n",
       "      <td>1</td>\n",
       "      <td>1</td>\n",
       "    </tr>\n",
       "    <tr>\n",
       "      <th>1</th>\n",
       "      <td>0</td>\n",
       "      <td>0</td>\n",
       "    </tr>\n",
       "    <tr>\n",
       "      <th>2</th>\n",
       "      <td>2</td>\n",
       "      <td>2</td>\n",
       "    </tr>\n",
       "    <tr>\n",
       "      <th>3</th>\n",
       "      <td>0</td>\n",
       "      <td>0</td>\n",
       "    </tr>\n",
       "    <tr>\n",
       "      <th>4</th>\n",
       "      <td>0</td>\n",
       "      <td>0</td>\n",
       "    </tr>\n",
       "  </tbody>\n",
       "</table>\n",
       "</div>"
      ],
      "text/plain": [
       "   actual  preds\n",
       "0       1      1\n",
       "1       0      0\n",
       "2       2      2\n",
       "3       0      0\n",
       "4       0      0"
      ]
     },
     "execution_count": 35,
     "metadata": {},
     "output_type": "execute_result"
    }
   ],
   "source": [
    "y_test_res = pd.DataFrame({'actual': y_test,\n",
    "                           'preds': bst.predict(X_test_tfidf)})\n",
    "y_test_res.head()"
   ]
  },
  {
   "cell_type": "code",
   "execution_count": 36,
   "id": "32269014-7d9b-4bd5-aae4-ffd92276167a",
   "metadata": {},
   "outputs": [
    {
     "name": "stdout",
     "output_type": "stream",
     "text": [
      "              precision    recall  f1-score   support\n",
      "\n",
      "           0       0.62      0.83      0.71        60\n",
      "           1       0.80      0.37      0.51        43\n",
      "           2       0.76      0.80      0.78        60\n",
      "\n",
      "    accuracy                           0.70       163\n",
      "   macro avg       0.73      0.67      0.67       163\n",
      "weighted avg       0.72      0.70      0.68       163\n",
      "\n"
     ]
    }
   ],
   "source": [
    "print(class_rep(y_test_res.actual, y_test_res.preds))"
   ]
  }
 ],
 "metadata": {
  "kernelspec": {
   "display_name": "Python 3 (ipykernel)",
   "language": "python",
   "name": "python3"
  },
  "language_info": {
   "codemirror_mode": {
    "name": "ipython",
    "version": 3
   },
   "file_extension": ".py",
   "mimetype": "text/x-python",
   "name": "python",
   "nbconvert_exporter": "python",
   "pygments_lexer": "ipython3",
   "version": "3.10.12"
  }
 },
 "nbformat": 4,
 "nbformat_minor": 5
}
