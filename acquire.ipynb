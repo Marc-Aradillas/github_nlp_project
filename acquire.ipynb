{
 "cells": [
  {
   "cell_type": "markdown",
   "id": "f9b502f3-7a01-43d9-8145-92d3b276a4a3",
   "metadata": {},
   "source": [
    "# acquire.py"
   ]
  },
  {
   "cell_type": "code",
   "execution_count": 16,
   "id": "998a4f6c",
   "metadata": {},
   "outputs": [],
   "source": [
    "import requests\n",
    "import os\n",
    "import pandas as pd\n",
    "from bs4 import BeautifulSoup\n",
    "\n",
    "# Initialize headers to be used for the requests\n",
    "\n",
    "\n",
    "def get_soup(url, headers):\n",
    "    \"\"\"\n",
    "    Fetches and parses HTML content of a webpage.\n",
    "    \n",
    "    Parameters:\n",
    "        url (str): The URL of the webpage to scrape.\n",
    "        \n",
    "    Returns:\n",
    "        BeautifulSoup: Parsed HTML content of the webpage.\n",
    "    \"\"\"\n",
    "    response = requests.get(url, headers=headers)\n",
    "    return BeautifulSoup(response.content, 'html.parser')\n",
    "\n",
    "#-----------------------------------------------------------------------------------------\n",
    "#-----------------------------------------------------------------------------------------\n",
    "#                                       CODEUP SCRAPER\n",
    "#-----------------------------------------------------------------------------------------\n",
    "#-----------------------------------------------------------------------------------------\n",
    "\n",
    "def get_blog_from_page(soup, headers): #page_number\n",
    "    \"\"\"\n",
    "    Extracts articles from a single page of a blog site.\n",
    "    \n",
    "    Parameters:\n",
    "        soup (BeautifulSoup): Parsed HTML content of the blog page.\n",
    "        page_number (int): The current page number for logging purposes.\n",
    "        \n",
    "    Returns:\n",
    "        list: List of dictionaries, each containing the title and content of a blog article.\n",
    "    \"\"\"\n",
    "    links = soup.find_all(\"h3\")\n",
    "    articles = []\n",
    "    for i, article in enumerate(links):\n",
    "        # print(f\"Getting article #{i+1} of page #{page_number}...\")\n",
    "        article_dict = {}\n",
    "        \n",
    "        if article.find(\"a\"):\n",
    "            article_dict['title'] = article.get_text()\n",
    "            article_url = article.find(\"a\").get(\"href\")\n",
    "            article_dict['content'] = get_blog_content(article_url, headers)\n",
    "            articles.append(article_dict)\n",
    "    return articles\n",
    "\n",
    "#-----------------------------------------------------------------------------------------\n",
    "#-----------------------------------------------------------------------------------------\n",
    "\n",
    "def get_blog_content(article_url, headers):\n",
    "    \"\"\"\n",
    "    Fetches and extracts the content of a single blog article.\n",
    "    \n",
    "    Parameters:\n",
    "        article_url (str): The URL of the blog article to scrape.\n",
    "        \n",
    "    Returns:\n",
    "        str: The cleaned text content of the article.\n",
    "    \"\"\"\n",
    "    article_response = requests.get(article_url, headers=headers)\n",
    "    article_soup = BeautifulSoup(article_response.content, 'html.parser')\n",
    "    article_content = article_soup.select(\".entry-content\")[0].find_all(\"p\")\n",
    "    clean_content = ' '.join(p.get_text() for p in article_content)\n",
    "    return clean_content\n",
    "\n",
    "#-----------------------------------------------------------------------------------------\n",
    "#-----------------------------------------------------------------------------------------\n",
    "\n",
    "def get_blog_next_page_url(soup):\n",
    "    \"\"\"\n",
    "    Identifies the URL for the next page of articles, if available.\n",
    "    \n",
    "    Parameters:\n",
    "        soup (BeautifulSoup): Parsed HTML content of the current blog page.\n",
    "        \n",
    "    Returns:\n",
    "        str or None: The URL for the next page of articles, or None if not present.\n",
    "    \"\"\"\n",
    "    next_page = soup.find(\"div\", class_=\"alignleft\").find(\"a\")\n",
    "    return next_page.get(\"href\") if next_page else None\n",
    "\n",
    "#-----------------------------------------------------------------------------------------\n",
    "#-----------------------------------------------------------------------------------------\n",
    "\n",
    "def get_blog_articles(url):\n",
    "    \"\"\"\n",
    "    Scrapes and aggregates articles from multiple pages of a blog site.\n",
    "    \n",
    "    Parameters:\n",
    "        url (str): The initial URL to start scraping from.\n",
    "        \n",
    "    Returns:\n",
    "        list: List of dictionaries, each containing the title and content of a blog article.\n",
    "    \"\"\"\n",
    "    headers = {'User-Agent': 'Codeup Data Science'}\n",
    "    blog_articles = []\n",
    "    page_number = 1\n",
    "    while True:\n",
    "        print(f\"Getting page #{page_number}...\")\n",
    "        soup = get_soup(url, headers)\n",
    "        articles = get_blog_from_page(soup, page_number, headers)\n",
    "        blog_articles.extend(articles)\n",
    "        print(f\"Completed page #{page_number}.\")\n",
    "        next_page_url = get_blog_next_page_url(soup)\n",
    "        if next_page_url is not None:\n",
    "            url = next_page_url\n",
    "            page_number += 1\n",
    "        else:\n",
    "            print(\"Complete\")\n",
    "            break\n",
    "    return blog_articles\n",
    "\n"
   ]
  },
  {
   "cell_type": "code",
   "execution_count": 3,
   "id": "4e801830",
   "metadata": {},
   "outputs": [],
   "source": [
    "import requests\n",
    "import os\n",
    "import pandas as pd\n",
    "from bs4 import BeautifulSoup\n",
    "from env import github_token, github_username"
   ]
  },
  {
   "cell_type": "code",
   "execution_count": 8,
   "id": "d6c779f2",
   "metadata": {},
   "outputs": [],
   "source": [
    "url = 'https://github.com/search?q=robotics+stars%3A%3E200&type=repositories'\n",
    "# headers = {\"Authorization\": f\"token {github_token}\", \"User-Agent\": github_username}\n"
   ]
  },
  {
   "cell_type": "code",
   "execution_count": 9,
   "id": "66bdc2b1",
   "metadata": {},
   "outputs": [],
   "source": [
    "url = 'https://github.com/search?q=robotics+stars%3A%3E200&type=repositories'\n",
    "headers = {\n",
    "    \"User-Agent\": \"Mozilla/5.0 (Windows NT 10.0; Win64; x64) AppleWebKit/537.36 (KHTML, like Gecko) Chrome/58.0.3029.110 Safari/537.36\",\n",
    "    \"Accept-Language\": \"en-US,en;q=0.5\",\n",
    "    \"Accept-Encoding\": \"gzip, deflate, br\",\n",
    "    \"Connection\": \"keep-alive\",\n",
    "    \"Upgrade-Insecure-Requests\": \"1\",\n",
    "    \"Pragma\": \"no-cache\",\n",
    "    \"Cache-Control\": \"no-cache\",\n",
    "}\n"
   ]
  },
  {
   "cell_type": "code",
   "execution_count": 10,
   "id": "53cdca42",
   "metadata": {},
   "outputs": [],
   "source": [
    "response = requests.get(url, headers=headers)\n",
    "soup = BeautifulSoup(response.content, 'html.parser')"
   ]
  },
  {
   "cell_type": "code",
   "execution_count": 11,
   "id": "6402a7f6",
   "metadata": {},
   "outputs": [
    {
     "data": {
      "text/plain": [
       "{\"payload\":{\"header_redesign_enabled\":false,\"results\":[{\"id\":\"54376220\",\"archived\":false,\"color\":\"#3572A5\",\"followers\":19990,\"has_funding_file\":true,\"hl_name\":\"AtsushiSakai/Python<em>Robotics</em>\",\"hl_trunc_description\":\"Python sample codes for <em>robotics</em> algorithms.\",\"language\":\"Python\",\"mirror\":false,\"owned_by_organization\":false,\"public\":true,\"repo\":{\"repository\":{\"id\":54376220,\"name\":\"PythonRobotics\",\"owner_id\":3813847,\"owner_login\":\"AtsushiSakai\",\"updated_at\":\"2023-10-18T13:02:18.783Z\",\"has_issues\":true}},\"sponsorable\":true,\"topics\":[\"slam\",\"robotics\",\"localization\",\"python\",\"mapping\",\"control\",\"algorithm\",\"robot\",\"animation\",\"path-planning\",\"autonomous-driving\",\"autonomous-vehicles\",\"ekf\",\"hacktoberfest\",\"cvxpy\",\"autonomous-navigation\"],\"type\":\"Public\",\"help_wanted_issues_count\":4,\"good_first_issue_issues_count\":0,\"starred_by_current_user\":false},{\"id\":\"46938122\",\"archived\":false,\"color\":null,\"followers\":3543,\"has_funding_file\":false,\"hl_name\":\"kiloreux/awesome-<em>robotics</em>\",\"hl_trunc_description\":\"A list of awesome <em>Robotics</em> resources\",\"language\":null,\"mirror\":false,\"owned_by_organization\":false,\"public\":true,\"repo\":{\"repository\":{\"id\":46938122,\"name\":\"awesome-robotics\",\"owner_id\":6282557,\"owner_login\":\"kiloreux\",\"updated_at\":\"2023-08-29T16:43:56.673Z\",\"has_issues\":true}},\"sponsorable\":false,\"topics\":[\"robotics\"],\"type\":\"Public\",\"help_wanted_issues_count\":0,\"good_first_issue_issues_count\":0,\"starred_by_current_user\":false},{\"id\":\"69972442\",\"archived\":false,\"color\":\"#3572A5\",\"followers\":1580,\"has_funding_file\":false,\"hl_name\":\"NxRLab/Modern<em>Robotics</em>\",\"hl_trunc_description\":\"Modern <em>Robotics</em>: Mechanics, Planning, and Control Code Library --- The primary purpose of the provided software is to be easy to read andâ€¦\",\"language\":\"Python\",\"mirror\":false,\"owned_by_organization\":true,\"public\":true,\"repo\":{\"repository\":{\"id\":69972442,\"name\":\"ModernRobotics\",\"owner_id\":3316069,\"owner_login\":\"NxRLab\",\"updated_at\":\"2023-02-03T02:06:40.795Z\",\"has_issues\":true}},\"sponsorable\":false,\"topics\":[],\"type\":\"Public\",\"help_wanted_issues_count\":0,\"good_first_issue_issues_count\":0,\"starred_by_current_user\":false},{\"id\":\"95303580\",\"archived\":false,\"color\":null,\"followers\":2318,\"has_funding_file\":false,\"hl_name\":\"mithi/<em>robotics</em>-coursework\",\"hl_trunc_description\":\"ðŸ¤– Places where you can learn <em>robotics</em> (and stuff like that) online ðŸ¤–\",\"language\":null,\"mirror\":false,\"owned_by_organization\":false,\"public\":true,\"repo\":{\"repository\":{\"id\":95303580,\"name\":\"robotics-coursework\",\"owner_id\":1670421,\"owner_login\":\"mithi\",\"updated_at\":\"2021-11-20T19:46:35.713Z\",\"has_issues\":true}},\"sponsorable\":false,\"topics\":[\"learning\",\"computer-science\",\"udacity\",\"algorithm\",\"university\",\"algorithms\",\"robotics\",\"coursera\",\"ros\",\"edx\",\"self-learning\",\"moocs\"],\"type\":\"Public\",\"help_wanted_issues_count\":0,\"good_first_issue_issues_count\":0,\"starred_by_current_user\":false},{\"id\":\"178146605\",\"archived\":false,\"color\":\"#f34b7d\",\"followers\":1503,\"has_funding_file\":false,\"hl_name\":\"onlytailei/Cpp<em>Robotics</em>\",\"hl_trunc_description\":\"cpp implementation of <em>robotics</em> algorithms including localization, mapping, SLAM, path planning and control\",\"language\":\"C++\",\"mirror\":false,\"owned_by_organization\":false,\"public\":true,\"repo\":{\"repository\":{\"id\":178146605,\"name\":\"CppRobotics\",\"owner_id\":7247925,\"owner_login\":\"onlytailei\",\"updated_at\":\"2023-07-15T13:38:33.921Z\",\"has_issues\":true}},\"sponsorable\":false,\"topics\":[\"localization\",\"algorithms\",\"cpp\",\"robotics\",\"planning\"],\"type\":\"Public\",\"help_wanted_issues_count\":0,\"good_first_issue_issues_count\":0,\"starred_by_current_user\":false},{\"id\":\"39567107\",\"archived\":false,\"color\":\"#f1e05a\",\"followers\":249,\"has_funding_file\":false,\"hl_name\":\"JdeRobot/<em>Robotics</em>Academy\",\"hl_trunc_description\":\"Learn <em>Robotics</em> with JdeRobot\",\"language\":\"JavaScript\",\"mirror\":false,\"owned_by_organization\":true,\"public\":true,\"repo\":{\"repository\":{\"id\":39567107,\"name\":\"RoboticsAcademy\",\"owner_id\":10959337,\"owner_login\":\"JdeRobot\",\"updated_at\":\"2023-10-19T13:27:13.084Z\",\"has_issues\":true}},\"sponsorable\":false,\"topics\":[\"computer-vision\",\"robotics\",\"ros\",\"gazebo\",\"robotics-programming\"],\"type\":\"Public\",\"help_wanted_issues_count\":0,\"good_first_issue_issues_count\":0,\"starred_by_current_user\":false},{\"id\":\"132924793\",\"archived\":false,\"color\":\"#f34b7d\",\"followers\":1120,\"has_funding_file\":true,\"hl_name\":\"pptacher/probabilistic_<em>robotics</em>\",\"hl_trunc_description\":\"solution of exercises of the book \\\"probabilistic <em>robotics</em>\\\"\",\"language\":\"C++\",\"mirror\":false,\"owned_by_organization\":false,\"public\":true,\"repo\":{\"repository\":{\"id\":132924793,\"name\":\"probabilistic_robotics\",\"owner_id\":37937922,\"owner_login\":\"pptacher\",\"updated_at\":\"2023-05-18T06:43:16.038Z\",\"has_issues\":true}},\"sponsorable\":true,\"topics\":[\"c-plus-plus\",\"cpp\",\"robotics\",\"navigation\",\"julia\",\"numpy\",\"matlab\",\"particle-filter\",\"bayesian-inference\",\"lapack\",\"slam\",\"google-cloud-platform\",\"autonomous-vehicles\",\"seif\",\"kalman-filter\",\"probabilistic-robotics\",\"armadillo-library\",\"fastslam\",\"intel-mkl-library\",\"victoria-park-dataset\"],\"type\":\"Public\",\"help_wanted_issues_count\":0,\"good_first_issue_issues_count\":0,\"starred_by_current_user\":false},{\"id\":\"56404753\",\"archived\":false,\"color\":null,\"followers\":1951,\"has_funding_file\":false,\"hl_name\":\"jslee02/awesome-<em>robotics</em>-libraries\",\"hl_trunc_description\":\"ðŸ˜Ž A curated list of <em>robotics</em> libraries and software\",\"language\":null,\"mirror\":false,\"owned_by_organization\":false,\"public\":true,\"repo\":{\"repository\":{\"id\":56404753,\"name\":\"awesome-robotics-libraries\",\"owner_id\":4038467,\"owner_login\":\"jslee02\",\"updated_at\":\"2023-10-18T08:50:53.992Z\",\"has_issues\":true}},\"sponsorable\":false,\"topics\":[\"machine-learning\",\"robotics\",\"simulation\",\"optimization\",\"motion-planning\",\"awesome-list\",\"slam\",\"robotics-libraries\",\"multibody-dynamics\"],\"type\":\"Public\",\"help_wanted_issues_count\":0,\"good_first_issue_issues_count\":0,\"starred_by_current_user\":false},{\"id\":\"33467565\",\"archived\":false,\"color\":\"#3572A5\",\"followers\":1579,\"has_funding_file\":false,\"hl_name\":\"petercorke/<em>robotics</em>-toolbox-python\",\"hl_trunc_description\":\"<em>Robotics</em> Toolbox for Python\",\"language\":\"Python\",\"mirror\":false,\"owned_by_organization\":false,\"public\":true,\"repo\":{\"repository\":{\"id\":33467565,\"name\":\"robotics-toolbox-python\",\"owner_id\":11801682,\"owner_login\":\"petercorke\",\"updated_at\":\"2023-10-16T10:16:08.554Z\",\"has_issues\":true}},\"sponsorable\":false,\"topics\":[\"robotics\",\"python\",\"kinematics\",\"dynamics\",\"motion-planning\",\"trajectory-generation\",\"jacobian\",\"hessian\",\"robotics-control\",\"robotics-simulation\",\"robotics-toolbox\",\"robot-manipulator\"],\"type\":\"Public\",\"help_wanted_issues_count\":0,\"good_first_issue_issues_count\":0,\"starred_by_current_user\":false},{\"id\":\"298347380\",\"archived\":false,\"color\":\"#178600\",\"followers\":1694,\"has_funding_file\":false,\"hl_name\":\"Unity-Technologies/Unity-<em>Robotics</em>-Hub\",\"hl_trunc_description\":\"Central repository for tools, tutorials, resources, and documentation for <em>robotics</em> simulation in Unity.\",\"language\":\"C#\",\"mirror\":false,\"owned_by_organization\":true,\"public\":true,\"repo\":{\"repository\":{\"id\":298347380,\"name\":\"Unity-Robotics-Hub\",\"owner_id\":426196,\"owner_login\":\"Unity-Technologies\",\"updated_at\":\"2023-10-03T16:35:40.307Z\",\"has_issues\":true}},\"sponsorable\":false,\"topics\":[\"ros\",\"simulation\",\"physics-simulation\",\"robot\",\"unity\",\"tutorials\",\"motion-planning\",\"planning\",\"trajectory-generation\",\"manipulation\",\"urdf\",\"robotics-control\",\"physics-3d\",\"autonomy\",\"robotics-simulation\",\"autonomous-robots\",\"robot-simulation\",\"robot-manipulator\",\"unity-robotics\",\"robotics-development\"],\"type\":\"Public\",\"help_wanted_issues_count\":0,\"good_first_issue_issues_count\":0,\"starred_by_current_user\":false}],\"type\":\"repositories\",\"page\":1,\"page_count\":68,\"elapsed_millis\":191,\"errors\":[],\"result_count\":677,\"facets\":[{\"kind\":\"FACET_KIND_LANGUAGE\",\"entries\":[{\"name\":\"C++\",\"language_color\":\"#f34b7d\",\"query\":\"language:C++\"},{\"name\":\"Python\",\"language_color\":\"#3572A5\",\"query\":\"language:Python\"},{\"name\":\"JavaScript\",\"language_color\":\"#f1e05a\",\"query\":\"language:JavaScript\"},{\"name\":\"C\",\"language_color\":\"#555555\",\"query\":\"language:C\"},{\"name\":\"Jupyter Notebook\",\"language_color\":\"#DA5B0B\",\"query\":\"language:Jupyter Notebook\"},{\"name\":\"Java\",\"language_color\":\"#b07219\",\"query\":\"language:Java\"},{\"name\":\"TypeScript\",\"language_color\":\"#3178c6\",\"query\":\"language:TypeScript\"},{\"name\":\"C#\",\"language_color\":\"#178600\",\"query\":\"language:C#\"},{\"name\":\"Go\",\"language_color\":\"#00ADD8\",\"query\":\"language:Go\"},{\"name\":\"HTML\",\"language_color\":\"#e34c26\",\"query\":\"language:HTML\"}]}],\"protected_org_logins\":[],\"topics\":null,\"query_id\":\"\",\"logged_in\":false,\"sign_up_path\":\"/signup?source=code_search_results\",\"sign_in_path\":\"/login?return_to=https%3A%2F%2Fgithub.com%2Fsearch%3Fq%3Drobotics%2Bstars%253A%253E200%26type%3Drepositories\",\"metadata\":null,\"csrf_tokens\":{\"/AtsushiSakai/PythonRobotics/star\":{\"post\":\"hqHU0N0eT0I6y7Ob5u5DjtcGJW_jDfFv0ro-MnuAs0WL8UTARHSylVrMOUlLR-NAN8yXcItuOg_e7tpna4ODkg\"},\"/AtsushiSakai/PythonRobotics/unstar\":{\"post\":\"i1vu7EhbVgDEvstLGonV2J863C9B2vzPmvfhOldercTha9tcvYDqNNzL0hecAE6YoBrllaEaPZfJzvzp5Qf8BQ\"},\"/kiloreux/awesome-robotics/star\":{\"post\":\"eZDZeP4WRLOZaIivk_tL8huNZgrJo9SSMmJVF8FSjciKmkAdlMmYrSTkQpPmt5kEpLgbfm7k2MNELxOfgZ_2gg\"},\"/kiloreux/awesome-robotics/unstar\":{\"post\":\"hW1uXytkBFf18VYkOpbP0D_AcIcGjEI7O9hWTjwlrGrzGawKPJfdJ97Xl6LbyNpxY9vOSf-DsSwN9SZbfFRF1A\"},\"/NxRLab/ModernRobotics/star\":{\"post\":\"w49eQuFqwtLYmbOI_SJ6IHS-51HskvUndAYwrn5s3yFcDHQ5nAlpUr1-Ypmbm6btkWd_W1SAfNGkPVWpszWXbQ\"},\"/NxRLab/ModernRobotics/unstar\":{\"post\":\"i2whCVkZZKzKateGo2EbeeoDjNTJZwfK_ICK0EpWvHNLcHGisW0Lu0wDYDqhV_MP0aVJDVVDo52fjuRuEvFiMg\"},\"/mithi/robotics-coursework/star\":{\"post\":\"dF5h3OYhgH-Jfe0ztf7JKLWmFI8rTLKdil4nIJuXmJEgxBWF9taiPxasdayO9dueMQnHf01sWMx5JQXKdHc0LA\"},\"/mithi/robotics-coursework/unstar\":{\"post\":\"rijo1g3NiDXZa6jv_RZkNr5DUYekwRoP9N4TuH17cqZjaovBVyWAXFdY1ZhP7datphKoKJJSqW7wTk7JazgvNA\"},\"/onlytailei/CppRobotics/star\":{\"post\":\"RI28aBHPWQIo6cfCOp61GogKWVcUJJ-FwVVwISVufBSmdAvkUcNliOLBtMnW8OfHR3nUq-QIpXCpGlOZTl4MeA\"},\"/onlytailei/CppRobotics/unstar\":{\"post\":\"AFTR8utViOrvKckVm8KpBFpecjywidTu911-YWb32GgFxecuwx1Wvax2CUBXeSYT1e3ndhGE3S3EkZ0jogel0w\"},\"/JdeRobot/RoboticsAcademy/star\":{\"post\":\"jkWDqJP20CV7RdrgLOWS2Gf050XJ8k9w7BUSTITuTUYzm1jl1-gP2E0dgMjNy6SXUg7ao61RRcuQ4JwV75T0_Q\"},\"/JdeRobot/RoboticsAcademy/unstar\":{\"post\":\"IJhFBtZuIxXTPhXrGa3obs2du7c9LtMMQW3gacBmuMDjKgrqyU1FX-6N0grsVBUlTE-3T1uA93s0peD4ix-LAg\"},\"/pptacher/probabilistic_robotics/star\":{\"post\":\"AOFORGZKsIP9XOveftG8mC-MVrCKfWT77sGgTsIcjOdveKP8YriLEGZGd_I7QCb5wqjp8j0VlWzGyLZ15oa7sw\"},\"/pptacher/probabilistic_robotics/unstar\":{\"post\":\"rnj2u5BEILGyDd_HMyO71WkZtHDJZ9ZsVK-rfcPIngK1GctylGsD_fW2Vhxco_56X1HSk4hA47oxHoFEtI3tHg\"},\"/jslee02/awesome-robotics-libraries/star\":{\"post\":\"3x8LTjgwKMxKvZJzWaHA7oIZZEcInYL-bdvNZxPuPGwXOLufb-hTcfLTjl9DAh1CT0zoXVFWCwZl7m1DiNUPsw\"},\"/jslee02/awesome-robotics-libraries/unstar\":{\"post\":\"LsSbnl6mgKQTvraE6myVkykkRPSA1Kbo3zv5S7oRrInP2h-AkiWdXalZJolPg_Nr0X1anYEiob9Idcnb5aFxOw\"},\"/petercorke/robotics-toolbox-python/star\":{\"post\":\"P2zumIFL9Cnn4Y6ZmmDNGjLV9R9YdWfTbXpfdHTtXo3eL1XKqIOQ15A7amhpxVL_eluTkrZYbkmZ7ec5hQBjQA\"},\"/petercorke/robotics-toolbox-python/unstar\":{\"post\":\"adauCK8Tq2_GuOCWyUiSmaKygMgpF9A4Gn4nI1LAWOkc70rsG6AFeKyM6ezWEycgmH2xtMruD5pP1bpcZ0vJIw\"},\"/Unity-Technologies/Unity-Robotics-Hub/star\":{\"post\":\"g1fYPTjutsYWRda2Y1lFfW5hIFddK4V3QI5rgr6420vKpJ10W0wfvcojRKk0Hj-FSrEXd904aRaxuNwaoE77Jg\"},\"/Unity-Technologies/Unity-Robotics-Hub/unstar\":{\"post\":\"zlBTtaWaqbF-PKWgAQWLUuFavTH24EQDxokrS2VdhuiuuG7nF1TENcdgCte8zdG9OEdV0Hj1SI43vBgV0P7SDQ\"},\"/sponsors/batch_deferred_sponsor_buttons\":{\"post\":\"V4G3QONrE_X6TzPupjcEeOvZqH23QIv5z-cPjJDHjswd5EIz4mQRNGSzn6711LfLtXSTIZkJkKq63JE-OXMjwg\"}}},\"title\":\"Repository search results\"}"
      ]
     },
     "execution_count": 11,
     "metadata": {},
     "output_type": "execute_result"
    }
   ],
   "source": [
    "soup"
   ]
  },
  {
   "cell_type": "code",
   "execution_count": 27,
   "id": "6d16a6ce",
   "metadata": {},
   "outputs": [
    {
     "data": {
      "text/plain": [
       "{\"payload\":{\"header_redesign_enabled\":false,\"results\":[{\"id\":\"54376220\",\"archived\":false,\"color\":\"#3572A5\",\"followers\":19990,\"has_funding_file\":true,\"hl_name\":\"AtsushiSakai/Python<em>Robotics</em>\",\"hl_trunc_description\":\"Python sample codes for <em>robotics</em> algorithms.\",\"language\":\"Python\",\"mirror\":false,\"owned_by_organization\":false,\"public\":true,\"repo\":{\"repository\":{\"id\":54376220,\"name\":\"PythonRobotics\",\"owner_id\":3813847,\"owner_login\":\"AtsushiSakai\",\"updated_at\":\"2023-10-18T13:02:18.783Z\",\"has_issues\":true}},\"sponsorable\":true,\"topics\":[\"slam\",\"robotics\",\"localization\",\"python\",\"mapping\",\"control\",\"algorithm\",\"robot\",\"animation\",\"path-planning\",\"autonomous-driving\",\"autonomous-vehicles\",\"ekf\",\"hacktoberfest\",\"cvxpy\",\"autonomous-navigation\"],\"type\":\"Public\",\"help_wanted_issues_count\":4,\"good_first_issue_issues_count\":0,\"starred_by_current_user\":false},{\"id\":\"46938122\",\"archived\":false,\"color\":null,\"followers\":3543,\"has_funding_file\":false,\"hl_name\":\"kiloreux/awesome-<em>robotics</em>\",\"hl_trunc_description\":\"A list of awesome <em>Robotics</em> resources\",\"language\":null,\"mirror\":false,\"owned_by_organization\":false,\"public\":true,\"repo\":{\"repository\":{\"id\":46938122,\"name\":\"awesome-robotics\",\"owner_id\":6282557,\"owner_login\":\"kiloreux\",\"updated_at\":\"2023-08-29T16:43:56.673Z\",\"has_issues\":true}},\"sponsorable\":false,\"topics\":[\"robotics\"],\"type\":\"Public\",\"help_wanted_issues_count\":0,\"good_first_issue_issues_count\":0,\"starred_by_current_user\":false},{\"id\":\"69972442\",\"archived\":false,\"color\":\"#3572A5\",\"followers\":1580,\"has_funding_file\":false,\"hl_name\":\"NxRLab/Modern<em>Robotics</em>\",\"hl_trunc_description\":\"Modern <em>Robotics</em>: Mechanics, Planning, and Control Code Library --- The primary purpose of the provided software is to be easy to read andâ€¦\",\"language\":\"Python\",\"mirror\":false,\"owned_by_organization\":true,\"public\":true,\"repo\":{\"repository\":{\"id\":69972442,\"name\":\"ModernRobotics\",\"owner_id\":3316069,\"owner_login\":\"NxRLab\",\"updated_at\":\"2023-02-03T02:06:40.795Z\",\"has_issues\":true}},\"sponsorable\":false,\"topics\":[],\"type\":\"Public\",\"help_wanted_issues_count\":0,\"good_first_issue_issues_count\":0,\"starred_by_current_user\":false},{\"id\":\"95303580\",\"archived\":false,\"color\":null,\"followers\":2318,\"has_funding_file\":false,\"hl_name\":\"mithi/<em>robotics</em>-coursework\",\"hl_trunc_description\":\"ðŸ¤– Places where you can learn <em>robotics</em> (and stuff like that) online ðŸ¤–\",\"language\":null,\"mirror\":false,\"owned_by_organization\":false,\"public\":true,\"repo\":{\"repository\":{\"id\":95303580,\"name\":\"robotics-coursework\",\"owner_id\":1670421,\"owner_login\":\"mithi\",\"updated_at\":\"2021-11-20T19:46:35.713Z\",\"has_issues\":true}},\"sponsorable\":false,\"topics\":[\"learning\",\"computer-science\",\"udacity\",\"algorithm\",\"university\",\"algorithms\",\"robotics\",\"coursera\",\"ros\",\"edx\",\"self-learning\",\"moocs\"],\"type\":\"Public\",\"help_wanted_issues_count\":0,\"good_first_issue_issues_count\":0,\"starred_by_current_user\":false},{\"id\":\"178146605\",\"archived\":false,\"color\":\"#f34b7d\",\"followers\":1503,\"has_funding_file\":false,\"hl_name\":\"onlytailei/Cpp<em>Robotics</em>\",\"hl_trunc_description\":\"cpp implementation of <em>robotics</em> algorithms including localization, mapping, SLAM, path planning and control\",\"language\":\"C++\",\"mirror\":false,\"owned_by_organization\":false,\"public\":true,\"repo\":{\"repository\":{\"id\":178146605,\"name\":\"CppRobotics\",\"owner_id\":7247925,\"owner_login\":\"onlytailei\",\"updated_at\":\"2023-07-15T13:38:33.921Z\",\"has_issues\":true}},\"sponsorable\":false,\"topics\":[\"localization\",\"algorithms\",\"cpp\",\"robotics\",\"planning\"],\"type\":\"Public\",\"help_wanted_issues_count\":0,\"good_first_issue_issues_count\":0,\"starred_by_current_user\":false},{\"id\":\"39567107\",\"archived\":false,\"color\":\"#f1e05a\",\"followers\":249,\"has_funding_file\":false,\"hl_name\":\"JdeRobot/<em>Robotics</em>Academy\",\"hl_trunc_description\":\"Learn <em>Robotics</em> with JdeRobot\",\"language\":\"JavaScript\",\"mirror\":false,\"owned_by_organization\":true,\"public\":true,\"repo\":{\"repository\":{\"id\":39567107,\"name\":\"RoboticsAcademy\",\"owner_id\":10959337,\"owner_login\":\"JdeRobot\",\"updated_at\":\"2023-10-19T13:27:13.084Z\",\"has_issues\":true}},\"sponsorable\":false,\"topics\":[\"computer-vision\",\"robotics\",\"ros\",\"gazebo\",\"robotics-programming\"],\"type\":\"Public\",\"help_wanted_issues_count\":0,\"good_first_issue_issues_count\":0,\"starred_by_current_user\":false},{\"id\":\"132924793\",\"archived\":false,\"color\":\"#f34b7d\",\"followers\":1120,\"has_funding_file\":true,\"hl_name\":\"pptacher/probabilistic_<em>robotics</em>\",\"hl_trunc_description\":\"solution of exercises of the book \\\"probabilistic <em>robotics</em>\\\"\",\"language\":\"C++\",\"mirror\":false,\"owned_by_organization\":false,\"public\":true,\"repo\":{\"repository\":{\"id\":132924793,\"name\":\"probabilistic_robotics\",\"owner_id\":37937922,\"owner_login\":\"pptacher\",\"updated_at\":\"2023-05-18T06:43:16.038Z\",\"has_issues\":true}},\"sponsorable\":true,\"topics\":[\"c-plus-plus\",\"cpp\",\"robotics\",\"navigation\",\"julia\",\"numpy\",\"matlab\",\"particle-filter\",\"bayesian-inference\",\"lapack\",\"slam\",\"google-cloud-platform\",\"autonomous-vehicles\",\"seif\",\"kalman-filter\",\"probabilistic-robotics\",\"armadillo-library\",\"fastslam\",\"intel-mkl-library\",\"victoria-park-dataset\"],\"type\":\"Public\",\"help_wanted_issues_count\":0,\"good_first_issue_issues_count\":0,\"starred_by_current_user\":false},{\"id\":\"56404753\",\"archived\":false,\"color\":null,\"followers\":1951,\"has_funding_file\":false,\"hl_name\":\"jslee02/awesome-<em>robotics</em>-libraries\",\"hl_trunc_description\":\"ðŸ˜Ž A curated list of <em>robotics</em> libraries and software\",\"language\":null,\"mirror\":false,\"owned_by_organization\":false,\"public\":true,\"repo\":{\"repository\":{\"id\":56404753,\"name\":\"awesome-robotics-libraries\",\"owner_id\":4038467,\"owner_login\":\"jslee02\",\"updated_at\":\"2023-10-18T08:50:53.992Z\",\"has_issues\":true}},\"sponsorable\":false,\"topics\":[\"machine-learning\",\"robotics\",\"simulation\",\"optimization\",\"motion-planning\",\"awesome-list\",\"slam\",\"robotics-libraries\",\"multibody-dynamics\"],\"type\":\"Public\",\"help_wanted_issues_count\":0,\"good_first_issue_issues_count\":0,\"starred_by_current_user\":false},{\"id\":\"33467565\",\"archived\":false,\"color\":\"#3572A5\",\"followers\":1579,\"has_funding_file\":false,\"hl_name\":\"petercorke/<em>robotics</em>-toolbox-python\",\"hl_trunc_description\":\"<em>Robotics</em> Toolbox for Python\",\"language\":\"Python\",\"mirror\":false,\"owned_by_organization\":false,\"public\":true,\"repo\":{\"repository\":{\"id\":33467565,\"name\":\"robotics-toolbox-python\",\"owner_id\":11801682,\"owner_login\":\"petercorke\",\"updated_at\":\"2023-10-16T10:16:08.554Z\",\"has_issues\":true}},\"sponsorable\":false,\"topics\":[\"robotics\",\"python\",\"kinematics\",\"dynamics\",\"motion-planning\",\"trajectory-generation\",\"jacobian\",\"hessian\",\"robotics-control\",\"robotics-simulation\",\"robotics-toolbox\",\"robot-manipulator\"],\"type\":\"Public\",\"help_wanted_issues_count\":0,\"good_first_issue_issues_count\":0,\"starred_by_current_user\":false},{\"id\":\"298347380\",\"archived\":false,\"color\":\"#178600\",\"followers\":1694,\"has_funding_file\":false,\"hl_name\":\"Unity-Technologies/Unity-<em>Robotics</em>-Hub\",\"hl_trunc_description\":\"Central repository for tools, tutorials, resources, and documentation for <em>robotics</em> simulation in Unity.\",\"language\":\"C#\",\"mirror\":false,\"owned_by_organization\":true,\"public\":true,\"repo\":{\"repository\":{\"id\":298347380,\"name\":\"Unity-Robotics-Hub\",\"owner_id\":426196,\"owner_login\":\"Unity-Technologies\",\"updated_at\":\"2023-10-03T16:35:40.307Z\",\"has_issues\":true}},\"sponsorable\":false,\"topics\":[\"ros\",\"simulation\",\"physics-simulation\",\"robot\",\"unity\",\"tutorials\",\"motion-planning\",\"planning\",\"trajectory-generation\",\"manipulation\",\"urdf\",\"robotics-control\",\"physics-3d\",\"autonomy\",\"robotics-simulation\",\"autonomous-robots\",\"robot-simulation\",\"robot-manipulator\",\"unity-robotics\",\"robotics-development\"],\"type\":\"Public\",\"help_wanted_issues_count\":0,\"good_first_issue_issues_count\":0,\"starred_by_current_user\":false}],\"type\":\"repositories\",\"page\":1,\"page_count\":68,\"elapsed_millis\":229,\"errors\":[],\"result_count\":677,\"facets\":[{\"kind\":\"FACET_KIND_LANGUAGE\",\"entries\":[{\"name\":\"C++\",\"language_color\":\"#f34b7d\",\"query\":\"language:C++\"},{\"name\":\"Python\",\"language_color\":\"#3572A5\",\"query\":\"language:Python\"},{\"name\":\"JavaScript\",\"language_color\":\"#f1e05a\",\"query\":\"language:JavaScript\"},{\"name\":\"C\",\"language_color\":\"#555555\",\"query\":\"language:C\"},{\"name\":\"Jupyter Notebook\",\"language_color\":\"#DA5B0B\",\"query\":\"language:Jupyter Notebook\"},{\"name\":\"Java\",\"language_color\":\"#b07219\",\"query\":\"language:Java\"},{\"name\":\"TypeScript\",\"language_color\":\"#3178c6\",\"query\":\"language:TypeScript\"},{\"name\":\"C#\",\"language_color\":\"#178600\",\"query\":\"language:C#\"},{\"name\":\"Go\",\"language_color\":\"#00ADD8\",\"query\":\"language:Go\"},{\"name\":\"HTML\",\"language_color\":\"#e34c26\",\"query\":\"language:HTML\"}]}],\"protected_org_logins\":[],\"topics\":null,\"query_id\":\"\",\"logged_in\":false,\"sign_up_path\":\"/signup?source=code_search_results\",\"sign_in_path\":\"/login?return_to=https%3A%2F%2Fgithub.com%2Fsearch%3Fq%3Drobotics%2Bstars%253A%253E200%26type%3Drepositories\",\"metadata\":null,\"csrf_tokens\":{\"/AtsushiSakai/PythonRobotics/star\":{\"post\":\"qBUrqhGMaeYCoXjL6Prp06kcLnAfABgdGcsHwk80SlfEKNNxVvYVb3CcQUkY9WQ4CfafPJ7GAecqOkICkROtWQ\"},\"/AtsushiSakai/PythonRobotics/unstar\":{\"post\":\"hbmBHyn2HZm7EzGR3PIq6i9fLWX_v0MIi3GhMi-Tpk1oindXYTsAONqpLnFYjhyeEA3c18eeigokArsDUVYs4Q\"},\"/kiloreux/awesome-robotics/star\":{\"post\":\"swZTWLgjdpK-2uHteDO04CUWeagtRklZEcBry_EAMAZ10ekolw3lvHmgR7_BPw0hc0BHViRqCwVCWb_k1S7t7A\"},\"/kiloreux/awesome-robotics/unstar\":{\"post\":\"ey9xPaxTGzgFMSk583wVwh6gr4jbG9sZTW8QjBrG6YXyid3BtNskoLDjvrIFzPIOxIRQNZiiLC7esi7tJ2zFnw\"},\"/NxRLab/ModernRobotics/star\":{\"post\":\"hUpiLgX1ze7Apcm_yOOevXimd4cc71H_ufgu48Nr1cAsi_pmJnEn0eqn_0oyz1fOJSMzaVzRMALgwab1rSBhOA\"},\"/NxRLab/ModernRobotics/unstar\":{\"post\":\"UAlxmzHeO8SDO6Wq2xeniX9cmPJ6VPd1sjkD7cve1m3q8IcGu22zmyC8iyUqLoiJARWQv-A2fIoulYYHXckIbA\"},\"/mithi/robotics-coursework/star\":{\"post\":\"0Pe6kS3LlEpfeG_8BVnmevg5QOZhwR1D0ovmoXUJVXaeJfksRUZp5psVMMaYgsvwTb2DReErmAuSy73h28WSRA\"},\"/mithi/robotics-coursework/unstar\":{\"post\":\"b1ZUaU305NiL3aeikvOwZqxBmCYtjahgeQAmqb9Avvc48yMCezVCRliKzUoh0rqHeDBsYOFthCcR9d2AMFG0wQ\"},\"/onlytailei/CppRobotics/star\":{\"post\":\"EvTAT3TJb7mcCmn5izC5U6HT4v-TnS0gRowg0oeMPNegFe8XuLgPHudaZG2fsp-QZkXCjGEWr2KqpKFimfGnoQ\"},\"/onlytailei/CppRobotics/unstar\":{\"post\":\"x1jKAg-Z2X1hRQz4AyxP8wJ_0sxVDiomw__v-IkDcVpDZ4Qa2JDst_5chYy31pTjEQoHfjzmBLl0TZA5oq4V0g\"},\"/JdeRobot/RoboticsAcademy/star\":{\"post\":\"2xCzIyR07rGWLhWtttdNLzrKMg7lX-xZZRGpomoz5ON4rn7ncvs3hx3e7djF-UmURuI8kJ2ymIdroFVzl_5B0g\"},\"/JdeRobot/RoboticsAcademy/unstar\":{\"post\":\"AD3rsjzH55FaEFSUm_CuAFXlX768Z3R4RQBsY0WbiFcErdzTvsdUpZti6UwL0VK7mrGfUaHtkgeyHxC43YxDag\"},\"/pptacher/probabilistic_robotics/star\":{\"post\":\"jzL6wWaaO8SWxfqEi24LjKTYjLeAgjfkEPOtKEBlQ_UAwrTtL_wmxQ0zB3I8oZHecjh_Q6YDKRHsNL9Wizt-CQ\"},\"/pptacher/probabilistic_robotics/unstar\":{\"post\":\"7S0Io4B6edZ95wwcySFl5cLNquPT64RWtLvbm5r3gTatzuGHNTeBYDlHQSfkA4p4bwMpTndn2LroWmPkHgyHvQ\"},\"/jslee02/awesome-robotics-libraries/star\":{\"post\":\"1LIz9onohNEGT7g3HDJ1v8J6Usn9fybpK3ZSZ8al1cX-dLsthAFWT_jnR_DMbjcpN_InH-G-gJd4iC2JA3Xyjg\"},\"/jslee02/awesome-robotics-libraries/unstar\":{\"post\":\"FRCoSQAtxHR37d6b-wTMXHcXGaPJ-v6XtOMnFejJMlmVDZ-XzT15SsnsrAR_rYB9F6BXAn20a-DyEQs0TQRlVw\"},\"/petercorke/robotics-toolbox-python/star\":{\"post\":\"MQ8R3ZsBiJnZ6WDGXhHqb8I1d7jvMZKYh7xANuMVGyWHMv2uYq-fKtpRhl8JHIIse1f1s4fM3PFTzfCD06f9tQ\"},\"/petercorke/robotics-toolbox-python/unstar\":{\"post\":\"dKV-8QSV_Ua62oTVF2X7DYEWY_cVwegcc2sUcrAo49yGANdvRNaokTutQ5Bm9Hw-T65f3n-3zmHcP8OFvIsI0Q\"},\"/Unity-Technologies/Unity-Robotics-Hub/star\":{\"post\":\"UFmCC1qOoDgNpovXZ6ue3VaLIo2cpC5ayT0xgXwecLQ4QEkZcH5z9catUB11c3UsdC49Fm9T2Ywvlr2ci2xssQ\"},\"/Unity-Technologies/Unity-Robotics-Hub/unstar\":{\"post\":\"AYO2k_Hx0-czy-YY_HUp5CCL41QjPaFZ48ZzyGExJQWiZDASBn8x9doQRDjzxzXwDbZvW2O-7tVPovXIiU-wCw\"},\"/sponsors/batch_deferred_sponsor_buttons\":{\"post\":\"y7P05PPYMZ4NJ0Qef7t0mssC5axgGm3LI0UElX4lFhZKBEwdsmDMVcvHVTveVTu5Ghn12CgmpByRsbpr-B9tmg\"}}},\"title\":\"Repository search results\"}"
      ]
     },
     "execution_count": 27,
     "metadata": {},
     "output_type": "execute_result"
    }
   ],
   "source": [
    "soup"
   ]
  },
  {
   "cell_type": "code",
   "execution_count": 21,
   "id": "c3c7865e",
   "metadata": {},
   "outputs": [
    {
     "data": {
      "text/plain": [
       "[]"
      ]
     },
     "execution_count": 21,
     "metadata": {},
     "output_type": "execute_result"
    }
   ],
   "source": [
    "links = soup.find_all(\"h3\")\n",
    "links"
   ]
  },
  {
   "cell_type": "code",
   "execution_count": null,
   "metadata": {},
   "outputs": [],
   "source": [
    "articles = []\n",
    "for i, article in enumerate(links):\n",
    "    # print(f\"Getting article #{i+1} of page #{page_number}...\")\n",
    "    article_dict = {}\n",
    "    \n",
    "    if article.find(\"a\"):\n",
    "        article_dict['title'] = article.get_text()\n",
    "        article_url = article.find(\"a\").get(\"href\")\n",
    "        article_dict['content'] = get_blog_content(article_url, headers)\n",
    "        articles.append(article_dict)\n",
    "return articles"
   ]
  }
 ],
 "metadata": {
  "kernelspec": {
   "display_name": "Python 3 (ipykernel)",
   "language": "python",
   "name": "python3"
  },
  "language_info": {
   "codemirror_mode": {
    "name": "ipython",
    "version": 3
   },
   "file_extension": ".py",
   "mimetype": "text/x-python",
   "name": "python",
   "nbconvert_exporter": "python",
   "pygments_lexer": "ipython3",
   "version": "3.10.12"
  }
 },
 "nbformat": 4,
 "nbformat_minor": 5
}
