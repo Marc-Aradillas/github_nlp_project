{
 "cells": [
  {
   "cell_type": "markdown",
   "id": "8ac4c873-60d2-4cd6-8f5b-a614afe64e96",
   "metadata": {},
   "source": [
    "# Modeling"
   ]
  },
  {
   "cell_type": "code",
   "execution_count": 1,
   "id": "398c4789-5a28-4d63-8e30-0d0db7e5d626",
   "metadata": {},
   "outputs": [],
   "source": [
    "import pandas as pd\n",
    "import numpy as np\n",
    "import json\n",
    "\n",
    "from sklearn.feature_extraction.text import TfidfVectorizer\n",
    "from sklearn.model_selection import train_test_split\n",
    "from sklearn.linear_model import LogisticRegression\n",
    "from sklearn.neighbors import KNeighborsClassifier\n",
    "from sklearn.ensemble import RandomForestClassifier\n",
    "from xgboost import XGBClassifier\n",
    "from sklearn.preprocessing import LabelEncoder\n",
    "from scipy.sparse import hstack\n",
    "\n",
    "\n",
    "\n",
    "\n",
    "from sklearn.metrics import classification_report as class_rep\n",
    "from prepare import clean, lemmatize"
   ]
  },
  {
   "cell_type": "code",
   "execution_count": 2,
   "id": "d288b266-ec1e-4889-8a4b-eb5eacbea584",
   "metadata": {},
   "outputs": [],
   "source": [
    "# reading in file to generate dataframe"
   ]
  },
  {
   "cell_type": "code",
   "execution_count": 3,
   "id": "60dfc201-d5bf-423b-a247-d4cd2908fb81",
   "metadata": {},
   "outputs": [
    {
     "data": {
      "text/html": [
       "<div>\n",
       "<style scoped>\n",
       "    .dataframe tbody tr th:only-of-type {\n",
       "        vertical-align: middle;\n",
       "    }\n",
       "\n",
       "    .dataframe tbody tr th {\n",
       "        vertical-align: top;\n",
       "    }\n",
       "\n",
       "    .dataframe thead th {\n",
       "        text-align: right;\n",
       "    }\n",
       "</style>\n",
       "<table border=\"1\" class=\"dataframe\">\n",
       "  <thead>\n",
       "    <tr style=\"text-align: right;\">\n",
       "      <th></th>\n",
       "      <th>language</th>\n",
       "      <th>readme</th>\n",
       "      <th>bigrams</th>\n",
       "      <th>trigrams</th>\n",
       "    </tr>\n",
       "  </thead>\n",
       "  <tbody>\n",
       "    <tr>\n",
       "      <th>0</th>\n",
       "      <td>Python</td>\n",
       "      <td>pythonrobotics githubactionlinuxci githubactio...</td>\n",
       "      <td>path_planning grid_based path_tracking steerin...</td>\n",
       "      <td>pythonroboticsfigure1png_master_atsushisakaipy...</td>\n",
       "    </tr>\n",
       "    <tr>\n",
       "      <th>2</th>\n",
       "      <td>Python</td>\n",
       "      <td>modern robotics mechanic planning control code...</td>\n",
       "      <td>modern_robotics robotics_mechanic mechanic_pla...</td>\n",
       "      <td>modern_robotics_mechanic robotics_mechanic_pla...</td>\n",
       "    </tr>\n",
       "    <tr>\n",
       "      <th>4</th>\n",
       "      <td>C++</td>\n",
       "      <td>cpprobotics cpp implementation pythonrobotics ...</td>\n",
       "      <td>red_circle black_line steering_control point_r...</td>\n",
       "      <td>speed_steering_control black_line_planned line...</td>\n",
       "    </tr>\n",
       "    <tr>\n",
       "      <th>5</th>\n",
       "      <td>Other</td>\n",
       "      <td>roboticsacademy learn robotics artificial inte...</td>\n",
       "      <td>learn_robotics mini_radi roboticsacademy_learn...</td>\n",
       "      <td>roboticsacademy_learn_robotics learn_robotics_...</td>\n",
       "    </tr>\n",
       "    <tr>\n",
       "      <th>6</th>\n",
       "      <td>C++</td>\n",
       "      <td>probabilisticrobotics working detailed solutio...</td>\n",
       "      <td>probabilistic_robotics victoria_park park_data...</td>\n",
       "      <td>victoria_park_dataset probabilisticrobotics_wo...</td>\n",
       "    </tr>\n",
       "    <tr>\n",
       "      <th>...</th>\n",
       "      <td>...</td>\n",
       "      <td>...</td>\n",
       "      <td>...</td>\n",
       "      <td>...</td>\n",
       "    </tr>\n",
       "    <tr>\n",
       "      <th>665</th>\n",
       "      <td>Other</td>\n",
       "      <td>foc english solidworks matlab simulink simscap...</td>\n",
       "      <td>2000_2000 solidworks_matlab 15000_2000 foc_eng...</td>\n",
       "      <td>15000_2000_2000 foc_english_solidworks english...</td>\n",
       "    </tr>\n",
       "    <tr>\n",
       "      <th>667</th>\n",
       "      <td>Other</td>\n",
       "      <td>bonsai rust implementation behavior tree build...</td>\n",
       "      <td>behavior_tree mut_bt bonsaibtsuccess_dt dt_els...</td>\n",
       "      <td>bonsaibtsuccess_dt_else b_run_b run_b_parallel...</td>\n",
       "    </tr>\n",
       "    <tr>\n",
       "      <th>669</th>\n",
       "      <td>Python</td>\n",
       "      <td>easytouse instruction generation framework lar...</td>\n",
       "      <td>easyinstruct_import example_python python_easy...</td>\n",
       "      <td>example_python_easyinstruct python_easyinstruc...</td>\n",
       "    </tr>\n",
       "    <tr>\n",
       "      <th>670</th>\n",
       "      <td>Other</td>\n",
       "      <td>compose actor dancer roadmap v030 x let user s...</td>\n",
       "      <td>x_add detail_screen tmdb_api ui_state screen_x...</td>\n",
       "      <td>ha_viewmodel_manage viewmodel_manage_ui manage...</td>\n",
       "    </tr>\n",
       "    <tr>\n",
       "      <th>674</th>\n",
       "      <td>Python</td>\n",
       "      <td>pkg update pkg upgrade pkg install bash pkg in...</td>\n",
       "      <td>pkg_install onex_chmod chmod_x pkg_update upda...</td>\n",
       "      <td>onex_chmod_x pkg_update_pkg update_pkg_upgrade...</td>\n",
       "    </tr>\n",
       "  </tbody>\n",
       "</table>\n",
       "<p>541 rows × 4 columns</p>\n",
       "</div>"
      ],
      "text/plain": [
       "    language                                             readme  \\\n",
       "0     Python  pythonrobotics githubactionlinuxci githubactio...   \n",
       "2     Python  modern robotics mechanic planning control code...   \n",
       "4        C++  cpprobotics cpp implementation pythonrobotics ...   \n",
       "5      Other  roboticsacademy learn robotics artificial inte...   \n",
       "6        C++  probabilisticrobotics working detailed solutio...   \n",
       "..       ...                                                ...   \n",
       "665    Other  foc english solidworks matlab simulink simscap...   \n",
       "667    Other  bonsai rust implementation behavior tree build...   \n",
       "669   Python  easytouse instruction generation framework lar...   \n",
       "670    Other  compose actor dancer roadmap v030 x let user s...   \n",
       "674   Python  pkg update pkg upgrade pkg install bash pkg in...   \n",
       "\n",
       "                                               bigrams  \\\n",
       "0    path_planning grid_based path_tracking steerin...   \n",
       "2    modern_robotics robotics_mechanic mechanic_pla...   \n",
       "4    red_circle black_line steering_control point_r...   \n",
       "5    learn_robotics mini_radi roboticsacademy_learn...   \n",
       "6    probabilistic_robotics victoria_park park_data...   \n",
       "..                                                 ...   \n",
       "665  2000_2000 solidworks_matlab 15000_2000 foc_eng...   \n",
       "667  behavior_tree mut_bt bonsaibtsuccess_dt dt_els...   \n",
       "669  easyinstruct_import example_python python_easy...   \n",
       "670  x_add detail_screen tmdb_api ui_state screen_x...   \n",
       "674  pkg_install onex_chmod chmod_x pkg_update upda...   \n",
       "\n",
       "                                              trigrams  \n",
       "0    pythonroboticsfigure1png_master_atsushisakaipy...  \n",
       "2    modern_robotics_mechanic robotics_mechanic_pla...  \n",
       "4    speed_steering_control black_line_planned line...  \n",
       "5    roboticsacademy_learn_robotics learn_robotics_...  \n",
       "6    victoria_park_dataset probabilisticrobotics_wo...  \n",
       "..                                                 ...  \n",
       "665  15000_2000_2000 foc_english_solidworks english...  \n",
       "667  bonsaibtsuccess_dt_else b_run_b run_b_parallel...  \n",
       "669  example_python_easyinstruct python_easyinstruc...  \n",
       "670  ha_viewmodel_manage viewmodel_manage_ui manage...  \n",
       "674  onex_chmod_x pkg_update_pkg update_pkg_upgrade...  \n",
       "\n",
       "[541 rows x 4 columns]"
      ]
     },
     "execution_count": 3,
     "metadata": {},
     "output_type": "execute_result"
    }
   ],
   "source": [
    "repos_df = pd.read_csv('processed_repos.csv', index_col=0)\n",
    "repos_df.drop(columns=('repo'))"
   ]
  },
  {
   "cell_type": "code",
   "execution_count": 5,
   "id": "dc52fae6-23f7-4e0e-bf0e-8570c188d89c",
   "metadata": {},
   "outputs": [
    {
     "name": "stdout",
     "output_type": "stream",
     "text": [
      "<class 'pandas.core.frame.DataFrame'>\n",
      "Index: 541 entries, 0 to 674\n",
      "Data columns (total 4 columns):\n",
      " #   Column    Non-Null Count  Dtype \n",
      "---  ------    --------------  ----- \n",
      " 0   language  541 non-null    object\n",
      " 1   readme    541 non-null    object\n",
      " 2   bigrams   541 non-null    object\n",
      " 3   trigrams  541 non-null    object\n",
      "dtypes: object(4)\n",
      "memory usage: 21.1+ KB\n"
     ]
    }
   ],
   "source": [
    "repos_df = pd.DataFrame(repos_df)\n",
    "repos_df = repos_df.drop(columns='repo')\n",
    "repos_df = repos_df.dropna()\n",
    "repos_df.info()"
   ]
  },
  {
   "cell_type": "code",
   "execution_count": 6,
   "id": "73068592-7dcd-4aca-ada2-69924e628c9a",
   "metadata": {},
   "outputs": [],
   "source": [
    "# repos_df['clean_text'] = repos_df.text.apply(clean)\n",
    "# repos_df.head()"
   ]
  },
  {
   "cell_type": "code",
   "execution_count": null,
   "id": "6583c158-2e6a-4413-9b89-0efa8be3ad87",
   "metadata": {},
   "outputs": [],
   "source": [
    "# repos_df['lemmas'] = repos_df.text.apply(lemmatize)\n",
    "# repos_df.head()"
   ]
  },
  {
   "cell_type": "code",
   "execution_count": null,
   "id": "bb8eae18-3671-4184-bc38-2229ba7cc752",
   "metadata": {},
   "outputs": [],
   "source": [
    "# repos_df = repos_df[\n",
    "#     (repos_df['lemmas'].str.len() >= 2) &\n",
    "#     (repos_df['lemmas'].str.len() <= 12) &\n",
    "#     (repos_df['lemmas'] != 'ro')\n",
    "# ]"
   ]
  },
  {
   "cell_type": "code",
   "execution_count": 7,
   "id": "8456e0eb-ba6d-4522-a826-716dd48c070d",
   "metadata": {},
   "outputs": [
    {
     "data": {
      "text/html": [
       "<div>\n",
       "<style scoped>\n",
       "    .dataframe tbody tr th:only-of-type {\n",
       "        vertical-align: middle;\n",
       "    }\n",
       "\n",
       "    .dataframe tbody tr th {\n",
       "        vertical-align: top;\n",
       "    }\n",
       "\n",
       "    .dataframe thead th {\n",
       "        text-align: right;\n",
       "    }\n",
       "</style>\n",
       "<table border=\"1\" class=\"dataframe\">\n",
       "  <thead>\n",
       "    <tr style=\"text-align: right;\">\n",
       "      <th></th>\n",
       "      <th>language</th>\n",
       "      <th>readme</th>\n",
       "      <th>bigrams</th>\n",
       "      <th>trigrams</th>\n",
       "    </tr>\n",
       "  </thead>\n",
       "  <tbody>\n",
       "    <tr>\n",
       "      <th>0</th>\n",
       "      <td>Python</td>\n",
       "      <td>pythonrobotics githubactionlinuxci githubactio...</td>\n",
       "      <td>path_planning grid_based path_tracking steerin...</td>\n",
       "      <td>pythonroboticsfigure1png_master_atsushisakaipy...</td>\n",
       "    </tr>\n",
       "    <tr>\n",
       "      <th>2</th>\n",
       "      <td>Python</td>\n",
       "      <td>modern robotics mechanic planning control code...</td>\n",
       "      <td>modern_robotics robotics_mechanic mechanic_pla...</td>\n",
       "      <td>modern_robotics_mechanic robotics_mechanic_pla...</td>\n",
       "    </tr>\n",
       "    <tr>\n",
       "      <th>4</th>\n",
       "      <td>C++</td>\n",
       "      <td>cpprobotics cpp implementation pythonrobotics ...</td>\n",
       "      <td>red_circle black_line steering_control point_r...</td>\n",
       "      <td>speed_steering_control black_line_planned line...</td>\n",
       "    </tr>\n",
       "    <tr>\n",
       "      <th>5</th>\n",
       "      <td>Other</td>\n",
       "      <td>roboticsacademy learn robotics artificial inte...</td>\n",
       "      <td>learn_robotics mini_radi roboticsacademy_learn...</td>\n",
       "      <td>roboticsacademy_learn_robotics learn_robotics_...</td>\n",
       "    </tr>\n",
       "    <tr>\n",
       "      <th>6</th>\n",
       "      <td>C++</td>\n",
       "      <td>probabilisticrobotics working detailed solutio...</td>\n",
       "      <td>probabilistic_robotics victoria_park park_data...</td>\n",
       "      <td>victoria_park_dataset probabilisticrobotics_wo...</td>\n",
       "    </tr>\n",
       "    <tr>\n",
       "      <th>...</th>\n",
       "      <td>...</td>\n",
       "      <td>...</td>\n",
       "      <td>...</td>\n",
       "      <td>...</td>\n",
       "    </tr>\n",
       "    <tr>\n",
       "      <th>665</th>\n",
       "      <td>Other</td>\n",
       "      <td>foc english solidworks matlab simulink simscap...</td>\n",
       "      <td>2000_2000 solidworks_matlab 15000_2000 foc_eng...</td>\n",
       "      <td>15000_2000_2000 foc_english_solidworks english...</td>\n",
       "    </tr>\n",
       "    <tr>\n",
       "      <th>667</th>\n",
       "      <td>Other</td>\n",
       "      <td>bonsai rust implementation behavior tree build...</td>\n",
       "      <td>behavior_tree mut_bt bonsaibtsuccess_dt dt_els...</td>\n",
       "      <td>bonsaibtsuccess_dt_else b_run_b run_b_parallel...</td>\n",
       "    </tr>\n",
       "    <tr>\n",
       "      <th>669</th>\n",
       "      <td>Python</td>\n",
       "      <td>easytouse instruction generation framework lar...</td>\n",
       "      <td>easyinstruct_import example_python python_easy...</td>\n",
       "      <td>example_python_easyinstruct python_easyinstruc...</td>\n",
       "    </tr>\n",
       "    <tr>\n",
       "      <th>670</th>\n",
       "      <td>Other</td>\n",
       "      <td>compose actor dancer roadmap v030 x let user s...</td>\n",
       "      <td>x_add detail_screen tmdb_api ui_state screen_x...</td>\n",
       "      <td>ha_viewmodel_manage viewmodel_manage_ui manage...</td>\n",
       "    </tr>\n",
       "    <tr>\n",
       "      <th>674</th>\n",
       "      <td>Python</td>\n",
       "      <td>pkg update pkg upgrade pkg install bash pkg in...</td>\n",
       "      <td>pkg_install onex_chmod chmod_x pkg_update upda...</td>\n",
       "      <td>onex_chmod_x pkg_update_pkg update_pkg_upgrade...</td>\n",
       "    </tr>\n",
       "  </tbody>\n",
       "</table>\n",
       "<p>541 rows × 4 columns</p>\n",
       "</div>"
      ],
      "text/plain": [
       "    language                                             readme  \\\n",
       "0     Python  pythonrobotics githubactionlinuxci githubactio...   \n",
       "2     Python  modern robotics mechanic planning control code...   \n",
       "4        C++  cpprobotics cpp implementation pythonrobotics ...   \n",
       "5      Other  roboticsacademy learn robotics artificial inte...   \n",
       "6        C++  probabilisticrobotics working detailed solutio...   \n",
       "..       ...                                                ...   \n",
       "665    Other  foc english solidworks matlab simulink simscap...   \n",
       "667    Other  bonsai rust implementation behavior tree build...   \n",
       "669   Python  easytouse instruction generation framework lar...   \n",
       "670    Other  compose actor dancer roadmap v030 x let user s...   \n",
       "674   Python  pkg update pkg upgrade pkg install bash pkg in...   \n",
       "\n",
       "                                               bigrams  \\\n",
       "0    path_planning grid_based path_tracking steerin...   \n",
       "2    modern_robotics robotics_mechanic mechanic_pla...   \n",
       "4    red_circle black_line steering_control point_r...   \n",
       "5    learn_robotics mini_radi roboticsacademy_learn...   \n",
       "6    probabilistic_robotics victoria_park park_data...   \n",
       "..                                                 ...   \n",
       "665  2000_2000 solidworks_matlab 15000_2000 foc_eng...   \n",
       "667  behavior_tree mut_bt bonsaibtsuccess_dt dt_els...   \n",
       "669  easyinstruct_import example_python python_easy...   \n",
       "670  x_add detail_screen tmdb_api ui_state screen_x...   \n",
       "674  pkg_install onex_chmod chmod_x pkg_update upda...   \n",
       "\n",
       "                                              trigrams  \n",
       "0    pythonroboticsfigure1png_master_atsushisakaipy...  \n",
       "2    modern_robotics_mechanic robotics_mechanic_pla...  \n",
       "4    speed_steering_control black_line_planned line...  \n",
       "5    roboticsacademy_learn_robotics learn_robotics_...  \n",
       "6    victoria_park_dataset probabilisticrobotics_wo...  \n",
       "..                                                 ...  \n",
       "665  15000_2000_2000 foc_english_solidworks english...  \n",
       "667  bonsaibtsuccess_dt_else b_run_b run_b_parallel...  \n",
       "669  example_python_easyinstruct python_easyinstruc...  \n",
       "670  ha_viewmodel_manage viewmodel_manage_ui manage...  \n",
       "674  onex_chmod_x pkg_update_pkg update_pkg_upgrade...  \n",
       "\n",
       "[541 rows x 4 columns]"
      ]
     },
     "execution_count": 7,
     "metadata": {},
     "output_type": "execute_result"
    }
   ],
   "source": [
    "repos_df"
   ]
  },
  {
   "cell_type": "code",
   "execution_count": null,
   "id": "6f1b023c-55a4-4058-94cf-7bec9a6017c2",
   "metadata": {},
   "outputs": [],
   "source": [
    "# First set of data using the 'text' column\n",
    "X = repos_df.text\n",
    "y = repos_df.language\n",
    "\n",
    "X_train, X_test, y_train, y_test = train_test_split(X, y, train_size=0.7, random_state=42)\n",
    "\n",
    "tfidf = TfidfVectorizer()\n",
    "\n",
    "X_train_tfidf = tfidf.fit_transform(X_train)\n",
    "X_test_tfidf = tfidf.transform(X_test)\n",
    "\n",
    "# Display the first 10 samples\n",
    "print(X_train_tfidf[:10])"
   ]
  },
  {
   "cell_type": "code",
   "execution_count": 8,
   "id": "4448b3fc-a422-481c-b11c-55dba445cf8e",
   "metadata": {},
   "outputs": [],
   "source": [
    "# Second set of data using the 'bigrams' column\n",
    "X2 = repos_df.bigrams\n",
    "y2 = repos_df.language\n",
    "\n",
    "X2_train, X2_test, y2_train, y2_test = train_test_split(X2, y2, train_size=0.7, random_state=42)\n",
    "\n",
    "tfidf2 = TfidfVectorizer()\n",
    "\n",
    "X2_train_tfidf = tfidf2.fit_transform(X2_train)\n",
    "X2_test_tfidf = tfidf2.transform(X2_test)\n",
    "\n",
    "# Display the first 10 samples from the second set\n",
    "print(X2_train_tfidf[:10])"
   ]
  },
  {
   "cell_type": "code",
   "execution_count": null,
   "id": "9177e5b1-80aa-454e-9a86-1d72b5034b6e",
   "metadata": {},
   "outputs": [],
   "source": [
    "# third set of data using the 'trigrams' column\n",
    "X3 = repos_df.trigrams\n",
    "y3 = repos_df.language\n",
    "\n",
    "X3_train, X3_test, y3_train, y3_test = train_test_split(X3, y3, train_size=0.7, random_state=42)\n",
    "\n",
    "tfidf3 = TfidfVectorizer()\n",
    "\n",
    "X3_train_tfidf = tfidf3.fit_transform(X3_train)\n",
    "X3_test_tfidf = tfidf3.transform(X3_test)\n",
    "\n",
    "# Display the first 10 samples from the second set\n",
    "print(X3_train_tfidf[:10])"
   ]
  },
  {
   "cell_type": "code",
   "execution_count": null,
   "id": "65d0d070-c559-48a2-876f-181faefcfe76",
   "metadata": {},
   "outputs": [],
   "source": [
    "import pandas as pd\n",
    "from sklearn.model_selection import train_test_split\n",
    "from sklearn.feature_extraction.text import TfidfVectorizer\n",
    "from scipy.sparse import hstack\n",
    "\n",
    "# Original features\n",
    "X = repos_df[['text', 'bigrams', 'trigrams']]  # Include both 'text' and 'bigrams' and 'trigrams'\n",
    "\n",
    "# Target variable\n",
    "y = repos_df.language\n",
    "\n",
    "# Split the data\n",
    "X_train, X_test, y_train, y_test = train_test_split(X, y, train_size=0.7, random_state=42)\n",
    "\n",
    "# Create separate TF-IDF vectorizers for 'text' and 'bigrams'\n",
    "tfidf_text = TfidfVectorizer()\n",
    "tfidf_bigrams = TfidfVectorizer()\n",
    "\n",
    "# Transform the 'text' and 'bigrams' columns separately\n",
    "X_train_text_tfidf = tfidf_text.fit_transform(X_train['text'])\n",
    "X_test_text_tfidf = tfidf_text.transform(X_test['text'])\n",
    "X_train_bigrams_tfidf = tfidf_bigrams.fit_transform(X_train['bigrams'])\n",
    "X_test_bigrams_tfidf = tfidf_bigrams.transform(X_test['bigrams'])\n",
    "\n",
    "# Concatenate the TF-IDF transformed features with the original features\n",
    "X_train_combined = hstack((X_train_text_tfidf, X_train_bigrams_tfidf, X_train.drop(['text', 'bigrams'], axis=1)))\n",
    "X_test_combined = hstack((X_test_text_tfidf, X_test_bigrams_tfidf, X_test.drop(['text', 'bigrams'], axis=1)))"
   ]
  },
  {
   "cell_type": "code",
   "execution_count": null,
   "id": "b456ac7b-0c6d-4536-97c7-1ade56bfb2cf",
   "metadata": {},
   "outputs": [],
   "source": [
    "X = repos_df.text\n",
    "y = repos_df.language\n",
    "\n",
    "X_train, X_test, y_train, y_test = train_test_split(X, y, train_size=0.7,\n",
    "                                                    random_state=42)"
   ]
  },
  {
   "cell_type": "code",
   "execution_count": null,
   "id": "e2279e51-c645-4a49-88f5-4777fb810c15",
   "metadata": {},
   "outputs": [],
   "source": [
    "tfidf = TfidfVectorizer()\n",
    "\n",
    "X_train_tfidf = tfidf.fit_transform(X_train)\n",
    "X_test_tfidf = tfidf.transform(X_test)\n",
    "\n",
    "X_train_tfidf[:10]"
   ]
  },
  {
   "cell_type": "code",
   "execution_count": null,
   "id": "c5f36f63-ecab-4fe4-b3be-e910bb66cde8",
   "metadata": {},
   "outputs": [],
   "source": [
    "baseline_acc = y_train.value_counts().max() / y_train.shape[0] * 100\n",
    "\n",
    "print(f'baseline: {round(baseline_acc, 2)}.')"
   ]
  },
  {
   "cell_type": "code",
   "execution_count": null,
   "id": "88070afb-1b97-4215-bd67-171163e3804d",
   "metadata": {},
   "outputs": [],
   "source": [
    "pd.DataFrame(X_train_tfidf.todense(), columns=tfidf.get_feature_names_out())"
   ]
  },
  {
   "cell_type": "markdown",
   "id": "08a1b170-8773-4ed2-9289-af1ee72e6f13",
   "metadata": {},
   "source": [
    "# logistic regression model"
   ]
  },
  {
   "cell_type": "code",
   "execution_count": null,
   "id": "474fe11c-3535-47c1-9abd-2b3ba4256d40",
   "metadata": {},
   "outputs": [],
   "source": [
    "lm = LogisticRegression()\n",
    "\n",
    "lm.fit(X_train_tfidf, y_train)"
   ]
  },
  {
   "cell_type": "code",
   "execution_count": null,
   "id": "bb92ad6f-beaa-473f-a1ea-bbf85220787d",
   "metadata": {},
   "outputs": [],
   "source": [
    "y_train_res = pd.DataFrame({'actual': y_train,\n",
    "                            'preds': lm.predict(X_train_tfidf)})\n",
    "y_train_res.head()"
   ]
  },
  {
   "cell_type": "code",
   "execution_count": null,
   "id": "fafd874e-4c30-49d7-b19a-acee272a5184",
   "metadata": {},
   "outputs": [],
   "source": [
    "print(class_rep(y_train_res.actual, y_train_res.preds))"
   ]
  },
  {
   "cell_type": "markdown",
   "id": "47e20d3c-cfdf-4ba1-9d50-a2f9dd055bf2",
   "metadata": {},
   "source": [
    "# Logistic Regression Test"
   ]
  },
  {
   "cell_type": "code",
   "execution_count": null,
   "id": "3a667cc5-f877-4633-9f1c-7da0243d768d",
   "metadata": {},
   "outputs": [],
   "source": [
    "y_test_res = pd.DataFrame({'actual': y_test,\n",
    "                           'preds': lm.predict(X_test_tfidf)})\n",
    "y_test_res.head()"
   ]
  },
  {
   "cell_type": "code",
   "execution_count": null,
   "id": "8b098ee4-ab15-4e3a-9dd8-7883c510667c",
   "metadata": {},
   "outputs": [],
   "source": [
    "print(class_rep(y_test_res.actual, y_test_res.preds))"
   ]
  },
  {
   "cell_type": "markdown",
   "id": "5653692d-2932-415d-aeed-5653561d51b7",
   "metadata": {},
   "source": [
    "  "
   ]
  },
  {
   "cell_type": "markdown",
   "id": "fe0e7236-82dd-45e9-b4a0-43922706cbe6",
   "metadata": {},
   "source": [
    "  "
   ]
  },
  {
   "cell_type": "markdown",
   "id": "b8d85cef-e663-4f51-a754-2e416a6656ce",
   "metadata": {},
   "source": [
    "  "
   ]
  },
  {
   "cell_type": "markdown",
   "id": "0505eb53-df5f-4051-8220-78bd7d606626",
   "metadata": {},
   "source": [
    "  "
   ]
  },
  {
   "cell_type": "markdown",
   "id": "f524af9b-eb57-43b0-9769-e5b575688e77",
   "metadata": {},
   "source": [
    "  "
   ]
  },
  {
   "cell_type": "markdown",
   "id": "ac120a70-6ddd-4831-821d-acc280edce6c",
   "metadata": {},
   "source": [
    "  "
   ]
  },
  {
   "cell_type": "markdown",
   "id": "8d9b1adc-88c1-43a1-8b10-92154a736b7b",
   "metadata": {},
   "source": [
    "# KNN Classifier Model"
   ]
  },
  {
   "cell_type": "code",
   "execution_count": null,
   "id": "116e9aad-37ee-43bd-885e-0ef6ac9ffef7",
   "metadata": {},
   "outputs": [],
   "source": [
    "knn = KNeighborsClassifier()\n",
    "\n",
    "knn.fit(X_train_tfidf, y_train)"
   ]
  },
  {
   "cell_type": "code",
   "execution_count": null,
   "id": "ef3066b6-7ea4-40b1-af47-12c4c31d4785",
   "metadata": {},
   "outputs": [],
   "source": [
    "y_train_res = pd.DataFrame({'actual': y_train,\n",
    "                            'preds': knn.predict(X_train_tfidf)})\n",
    "y_train_res.head()"
   ]
  },
  {
   "cell_type": "code",
   "execution_count": null,
   "id": "dc45a01b-f937-46b1-a0f6-8c7f34aefd63",
   "metadata": {},
   "outputs": [],
   "source": [
    "print(class_rep(y_train_res.actual, y_train_res.preds))"
   ]
  },
  {
   "cell_type": "markdown",
   "id": "9edbbc71-0af6-4f81-97a4-5099fd603086",
   "metadata": {},
   "source": [
    "# KNN test"
   ]
  },
  {
   "cell_type": "code",
   "execution_count": null,
   "id": "d91b36c0-bbe5-4490-b5b5-ea77c9bc7689",
   "metadata": {},
   "outputs": [],
   "source": [
    "y_test_res = pd.DataFrame({'actual': y_test,\n",
    "                           'preds': knn.predict(X_test_tfidf)})\n",
    "y_test_res.head()"
   ]
  },
  {
   "cell_type": "code",
   "execution_count": null,
   "id": "69f16aa9-07d5-40cd-a2fc-65ba2fc7bfab",
   "metadata": {},
   "outputs": [],
   "source": [
    "print(class_rep(y_test_res.actual, y_test_res.preds))"
   ]
  },
  {
   "cell_type": "markdown",
   "id": "19ea220c-464f-414d-8aeb-82a440ea8a72",
   "metadata": {},
   "source": [
    "  "
   ]
  },
  {
   "cell_type": "markdown",
   "id": "95b2cb24-ce90-4943-9501-3e4d93fe49d5",
   "metadata": {},
   "source": [
    "  "
   ]
  },
  {
   "cell_type": "markdown",
   "id": "ed4279e0-7eff-4a3e-b77f-3c6be433af22",
   "metadata": {},
   "source": [
    "  "
   ]
  },
  {
   "cell_type": "markdown",
   "id": "c54fb307-96ec-41b8-916b-93c080dcebe7",
   "metadata": {},
   "source": [
    "  "
   ]
  },
  {
   "cell_type": "markdown",
   "id": "e129dc5c-4d29-4580-a763-5e931b66608c",
   "metadata": {},
   "source": [
    "  "
   ]
  },
  {
   "cell_type": "markdown",
   "id": "702aa898-53eb-41c6-8a2c-2303078c0910",
   "metadata": {},
   "source": [
    "  "
   ]
  },
  {
   "cell_type": "markdown",
   "id": "e9fde3d7-583f-4fba-9f29-dcb7cf858025",
   "metadata": {},
   "source": [
    "  "
   ]
  },
  {
   "cell_type": "markdown",
   "id": "676ebace-ce7b-43f6-a8b2-9aee92260f7a",
   "metadata": {},
   "source": [
    "  "
   ]
  },
  {
   "cell_type": "markdown",
   "id": "f9087a08-c490-4ad5-8324-ca47db673471",
   "metadata": {},
   "source": [
    "# Random Forest Classier Model"
   ]
  },
  {
   "cell_type": "code",
   "execution_count": null,
   "id": "7755781b-30da-46af-881f-fbc18dae4fcf",
   "metadata": {},
   "outputs": [],
   "source": [
    "from sklearn.ensemble import RandomForestClassifier\n",
    "\n",
    "rf = RandomForestClassifier()\n",
    "\n",
    "rf.fit(X_train_tfidf, y_train)"
   ]
  },
  {
   "cell_type": "code",
   "execution_count": null,
   "id": "45bfa97b-cd6d-46ad-ac36-053e62f49b71",
   "metadata": {},
   "outputs": [],
   "source": [
    "y_train_res = pd.DataFrame({'actual': y_train,\n",
    "                            'preds': rf.predict(X_train_tfidf)})\n",
    "y_train_res.head()"
   ]
  },
  {
   "cell_type": "code",
   "execution_count": null,
   "id": "f007fa70-dcdd-4719-97da-92075d903ead",
   "metadata": {},
   "outputs": [],
   "source": [
    "print(class_rep(y_train_res.actual, y_train_res.preds))"
   ]
  },
  {
   "cell_type": "code",
   "execution_count": null,
   "id": "f4eda57a-7864-4fee-9397-538db0948a2c",
   "metadata": {},
   "outputs": [],
   "source": [
    "y_test_res = pd.DataFrame({'actual': y_test,\n",
    "                           'preds': rf.predict(X_test_tfidf)})\n",
    "y_test_res.head()"
   ]
  },
  {
   "cell_type": "code",
   "execution_count": null,
   "id": "52981e6d-d61f-4c76-bbb3-02e1c061f597",
   "metadata": {},
   "outputs": [],
   "source": [
    "print(class_rep(y_test_res.actual, y_test_res.preds))"
   ]
  },
  {
   "cell_type": "markdown",
   "id": "fd5edb26-53bb-4523-8ed7-0688aa97288c",
   "metadata": {},
   "source": [
    "  "
   ]
  },
  {
   "cell_type": "markdown",
   "id": "df652e1d-d25c-429a-9ae3-9f26d1ba73f8",
   "metadata": {},
   "source": [
    "  "
   ]
  },
  {
   "cell_type": "markdown",
   "id": "5a415212-9d79-45e9-970e-0d9b7601df7d",
   "metadata": {},
   "source": [
    "  "
   ]
  },
  {
   "cell_type": "markdown",
   "id": "094f18e1-e8a8-476d-af37-bcbed8ce35c2",
   "metadata": {},
   "source": [
    "  "
   ]
  },
  {
   "cell_type": "markdown",
   "id": "f47c11dd-ff3c-45ba-97da-8271b4485fa3",
   "metadata": {},
   "source": [
    "  "
   ]
  },
  {
   "cell_type": "markdown",
   "id": "7b33857d-4766-4b18-97a6-0b284bbaadfe",
   "metadata": {},
   "source": [
    "  "
   ]
  },
  {
   "cell_type": "markdown",
   "id": "01cfb9c0-52ca-411b-81f6-b36f42c53d75",
   "metadata": {},
   "source": [
    "  "
   ]
  },
  {
   "cell_type": "markdown",
   "id": "f5ec6903-f5e0-49e9-8937-30cfce67f8f6",
   "metadata": {},
   "source": [
    "  "
   ]
  },
  {
   "cell_type": "markdown",
   "id": "f4154bd3-efee-431a-a4d5-1f70425aa962",
   "metadata": {},
   "source": [
    "  "
   ]
  },
  {
   "cell_type": "markdown",
   "id": "d984fea3-5e40-44df-af3d-0f05258babf5",
   "metadata": {},
   "source": [
    "# XGBClassifier Model"
   ]
  },
  {
   "cell_type": "code",
   "execution_count": null,
   "id": "488c9bb1-6dd5-42e7-9b1c-4a319c5cffa1",
   "metadata": {},
   "outputs": [],
   "source": [
    "from sklearn.preprocessing import LabelEncoder\n",
    "\n",
    "# Initialize the label encoder\n",
    "label_encoder = LabelEncoder()\n",
    "\n",
    "X = repos_df.text\n",
    "y = repos_df.language\n",
    "\n",
    "# Fit the label encoder to your class labels and transform them\n",
    "y_encoded = label_encoder.fit_transform(y)\n",
    "\n",
    "X_train, X_test, y_train, y_test = train_test_split(X, y_encoded, train_size=0.7, random_state=42)\n",
    "\n",
    "tfidf = TfidfVectorizer()\n",
    "\n",
    "X_train_tfidf = tfidf.fit_transform(X_train)\n",
    "X_test_tfidf = tfidf.transform(X_test)\n",
    "\n",
    "# Create the XGBoost classifier instance\n",
    "bst = XGBClassifier(n_estimators=2, max_depth=3, learning_rate=1, objective='multi:softprob', num_class=len(label_encoder.classes_))\n",
    "\n",
    "# Fit the XGBoost model on the training data\n",
    "bst.fit(X_train_tfidf, y_train)\n",
    "\n",
    "# Predict the classes on the test data\n",
    "preds = bst.predict(X_test_tfidf)\n",
    "\n",
    "# If you want to decode the predicted labels back to their original class names:\n",
    "preds_decoded = label_encoder.inverse_transform(preds)\n"
   ]
  },
  {
   "cell_type": "code",
   "execution_count": null,
   "id": "d2c3d775-c6fd-453d-adb4-09372c02b072",
   "metadata": {},
   "outputs": [],
   "source": [
    "y_train_res = pd.DataFrame({'actual': y_train,\n",
    "                            'preds': bst.predict(X_train_tfidf)})\n",
    "y_train_res.head()"
   ]
  },
  {
   "cell_type": "code",
   "execution_count": null,
   "id": "0d3a913b-5de4-4c2e-8037-0292f3fb1d20",
   "metadata": {},
   "outputs": [],
   "source": [
    "print(class_rep(y_train_res.actual, y_train_res.preds))"
   ]
  },
  {
   "cell_type": "code",
   "execution_count": null,
   "id": "aeec6c2e-d296-44b8-845e-6fe1bb9c3a75",
   "metadata": {},
   "outputs": [],
   "source": [
    "y_test_res = pd.DataFrame({'actual': y_test,\n",
    "                           'preds': bst.predict(X_test_tfidf)})\n",
    "y_test_res.head()"
   ]
  },
  {
   "cell_type": "code",
   "execution_count": null,
   "id": "32269014-7d9b-4bd5-aae4-ffd92276167a",
   "metadata": {},
   "outputs": [],
   "source": [
    "print(class_rep(y_test_res.actual, y_test_res.preds))"
   ]
  }
 ],
 "metadata": {
  "kernelspec": {
   "display_name": "Python 3 (ipykernel)",
   "language": "python",
   "name": "python3"
  },
  "language_info": {
   "codemirror_mode": {
    "name": "ipython",
    "version": 3
   },
   "file_extension": ".py",
   "mimetype": "text/x-python",
   "name": "python",
   "nbconvert_exporter": "python",
   "pygments_lexer": "ipython3",
   "version": "3.10.9"
  }
 },
 "nbformat": 4,
 "nbformat_minor": 5
}
